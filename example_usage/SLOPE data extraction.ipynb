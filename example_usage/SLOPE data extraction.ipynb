{
 "cells": [
  {
   "cell_type": "code",
   "execution_count": 45,
   "metadata": {},
   "outputs": [],
   "source": [
    "from buildstock_query import BuildStockQuery, ExeId, MappedColumn\n",
    "import pandas as pd\n",
    "import sqlalchemy as sa"
   ]
  },
  {
   "cell_type": "code",
   "execution_count": 46,
   "metadata": {},
   "outputs": [
    {
     "name": "stderr",
     "output_type": "stream",
     "text": [
      "INFO:buildstock_query.query_core:Loading annual_impacts ...\n",
      "INFO:botocore.credentials:Found credentials in shared credentials file: ~/.aws/credentials\n",
      "INFO:botocore.credentials:Found credentials in shared credentials file: ~/.aws/credentials\n",
      "INFO:botocore.credentials:Found credentials in shared credentials file: ~/.aws/credentials\n",
      "WARNING:buildstock_query.query_core:No annual_impacts_by_state table is present.\n"
     ]
    }
   ],
   "source": [
    "my_run = BuildStockQuery(workgroup = 'largeee',\n",
    "                         db_name = 'resstock_2024-1_oedi',\n",
    "                         table_name = \"annual_impacts\",\n",
    "                         db_schema=\"resstock_oedi\",\n",
    "                         skip_reports=True)"
   ]
  },
  {
   "cell_type": "code",
   "execution_count": 17,
   "metadata": {},
   "outputs": [
    {
     "data": {
      "text/plain": [
       "<buildstock_query.main.BuildStockQuery at 0x1b29c489f60>"
      ]
     },
     "execution_count": 17,
     "metadata": {},
     "output_type": "execute_result"
    }
   ],
   "source": [
    "my_run"
   ]
  },
  {
   "cell_type": "code",
   "execution_count": 47,
   "metadata": {},
   "outputs": [
    {
     "name": "stderr",
     "output_type": "stream",
     "text": [
      "WARNING:buildstock_query.query_core:Column in.geometry_building_type_recs found in multiple tables ['baseline', 'upgrade'].Using baseline\n"
     ]
    }
   ],
   "source": [
    "building_type_map = {\"Mobile Home\": \"MH\", \"Single-Family Detached\": \"SF\",\n",
    "                     \"Single-Family Attached\": \"SF\", \"Multi-Family with 2 - 4 Units\": \"MF\",\n",
    "                     \"Multi-Family with 5+ Units\": \"MF\",}\n",
    "bldg_col = my_run._get_column('in.geometry_building_type_recs')\n",
    "simple_bldg_col = MappedColumn(bsq=my_run, name='simple_bldg_type', mapping_dict=building_type_map,\n",
    "                               key=bldg_col)"
   ]
  },
  {
   "cell_type": "code",
   "execution_count": 42,
   "metadata": {},
   "outputs": [],
   "source": [
    "upgrade_id_list = ['3.07', '3.01', '4.04', '2.03', '2.04', '2.05', #individual non-HVAC measures\n",
    "                   '4.05', '4.06', '4.07', '4.08', '4.09', '4.10', #furnace/boiler alone\n",
    "                   '5.01', '5.13', '6.01', '6.10', '6.02', '6.11', '6.03', '6.12', #dual-fuel heat pump for existing fuel heating, same HP with electric backup for existing electric heating\n",
    "                   '5.05', '5.06', '5.07', '5.08', '5.17', '5.18', '5.19', '5.20', #cold climate heat pump alone\n",
    "                   '5.09', '5.10', '5.11', '5.12', '5.21', '5.22', '5.23', '5.24', #higher efficiency cold climate heat pump alone\n",
    "                   '14.01', '14.02', '14.03', '14.04', '14.05', '14.06', #furnace/boiler + light touch envelope\n",
    "                   '7.01', '7.13', '10.01', '10.10', '10.02', '10.11', '10.03', '10.12', #dual-fuel heat pump group + light touch envelope\n",
    "                   '7.05', '7.06', '7.07', '7.08', '7.17', '7.18', '7.19', '7.20', #cold climate heat pump + light touch envelope\n",
    "                   '7.09', '7.10', '7.11', '7.12', '7.21', '7.22', '7.23', '7.24', #higher efficiency cold climate heat pump + light touch envelope\n",
    "                   '14.07', '14.08', '14.09', '14.10', '14.11', '14.12', #furnace/boiler + intermediate envelope\n",
    "                   '8.01', '8.13', '11.01', '11.10', '11.02', '11.11', '11.03', '11.12',#dual-fuel heat pump group + intermeidate envelope\n",
    "                   '8.05', '8.06', '8.07', '8.08', '8.17', '8.18', '8.19', '8.20', #cold climate heat pump + intermediate envelope\n",
    "                   '8.09', '8.10', '8.11', '8.12', '8.21', '8.22', '8.23', '8.24', #higher efficiency cold climate heat pump + intermediate envelope\n",
    "                   '14.13', '14.14', '14.15', '14.16', '14.17', '14.18', #furnace/boiler + advanced envelope\n",
    "                   '9.01', '9.13', '12.01', '12.10', '12.11', '12.03', '12.12', #dual-fuel heat pump group + advanced envelope\n",
    "                   '9.05', '9.06', '9.07', '9.08', '9.17', '9.18', '9.19', '9.20', #cold climate heat pump + advanced envelope\n",
    "                   '9.09', '9.10', '9.11', '9.12', '9.21', '9.22', '9.23', '9.24', #higher efficiency cold climate heat pump + advanced envelope\n",
    "                   '13.18', '13.19', #furnace/boiler + HPWH\n",
    "                   '13.01', '13.02', '13.03', '13.04', '13.05', '13.06', '13.07', '13.08', #cold climate heat pump + HPWH\n",
    "                   '15.01', '15.05', '15.17', '15.20', '15.18', '15.21', '15.19', '15.22', #dual-fuel heat pump + light touch + HPWH\n",
    "                   '15.09', '15.10', '15.11', '15.12', '15.13', '15.14', '15.15', '15.16', #cold climate heat pump + light touch envelope + HPWH\n",
    "                   '13.15', '13.16', '13.17' #HPWH and envelope\n",
    "                   ]"
   ]
  },
  {
   "cell_type": "code",
   "execution_count": 25,
   "metadata": {},
   "outputs": [],
   "source": [
    "ugrade_id_test_list = ['3.07', '3.01', '4.04']"
   ]
  },
  {
   "cell_type": "code",
   "execution_count": 65,
   "metadata": {},
   "outputs": [
    {
     "name": "stderr",
     "output_type": "stream",
     "text": [
      "WARNING:buildstock_query.query_core:Column in.state found in multiple tables ['baseline', 'upgrade'].Using baseline\n",
      "WARNING:buildstock_query.query_core:Column in.heating_fuel found in multiple tables ['baseline', 'upgrade'].Using baseline\n",
      "WARNING:buildstock_query.query_core:Column in.geometry_building_type_recs found in multiple tables ['baseline', 'upgrade'].Using baseline\n"
     ]
    },
    {
     "name": "stdout",
     "output_type": "stream",
     "text": [
      "3.07-electricity\n"
     ]
    },
    {
     "name": "stderr",
     "output_type": "stream",
     "text": [
      "WARNING:buildstock_query.query_core:Column in.state found in multiple tables ['baseline', 'upgrade'].Using baseline\n",
      "WARNING:buildstock_query.query_core:Column in.heating_fuel found in multiple tables ['baseline', 'upgrade'].Using baseline\n",
      "WARNING:buildstock_query.query_core:Column in.geometry_building_type_recs found in multiple tables ['baseline', 'upgrade'].Using baseline\n"
     ]
    },
    {
     "name": "stdout",
     "output_type": "stream",
     "text": [
      "3.01-electricity\n"
     ]
    },
    {
     "name": "stderr",
     "output_type": "stream",
     "text": [
      "WARNING:buildstock_query.query_core:Column in.state found in multiple tables ['baseline', 'upgrade'].Using baseline\n",
      "WARNING:buildstock_query.query_core:Column in.heating_fuel found in multiple tables ['baseline', 'upgrade'].Using baseline\n",
      "WARNING:buildstock_query.query_core:Column in.geometry_building_type_recs found in multiple tables ['baseline', 'upgrade'].Using baseline\n"
     ]
    },
    {
     "name": "stdout",
     "output_type": "stream",
     "text": [
      "4.04-electricity\n"
     ]
    },
    {
     "name": "stderr",
     "output_type": "stream",
     "text": [
      "WARNING:buildstock_query.query_core:Column in.state found in multiple tables ['baseline', 'upgrade'].Using baseline\n",
      "WARNING:buildstock_query.query_core:Column in.heating_fuel found in multiple tables ['baseline', 'upgrade'].Using baseline\n",
      "WARNING:buildstock_query.query_core:Column in.geometry_building_type_recs found in multiple tables ['baseline', 'upgrade'].Using baseline\n"
     ]
    },
    {
     "name": "stdout",
     "output_type": "stream",
     "text": [
      "2.03-electricity\n"
     ]
    },
    {
     "name": "stderr",
     "output_type": "stream",
     "text": [
      "WARNING:buildstock_query.query_core:Column in.state found in multiple tables ['baseline', 'upgrade'].Using baseline\n",
      "WARNING:buildstock_query.query_core:Column in.heating_fuel found in multiple tables ['baseline', 'upgrade'].Using baseline\n",
      "WARNING:buildstock_query.query_core:Column in.geometry_building_type_recs found in multiple tables ['baseline', 'upgrade'].Using baseline\n"
     ]
    },
    {
     "name": "stdout",
     "output_type": "stream",
     "text": [
      "2.04-electricity\n"
     ]
    },
    {
     "name": "stderr",
     "output_type": "stream",
     "text": [
      "WARNING:buildstock_query.query_core:Column in.state found in multiple tables ['baseline', 'upgrade'].Using baseline\n",
      "WARNING:buildstock_query.query_core:Column in.heating_fuel found in multiple tables ['baseline', 'upgrade'].Using baseline\n",
      "WARNING:buildstock_query.query_core:Column in.geometry_building_type_recs found in multiple tables ['baseline', 'upgrade'].Using baseline\n"
     ]
    },
    {
     "name": "stdout",
     "output_type": "stream",
     "text": [
      "2.05-electricity\n"
     ]
    },
    {
     "name": "stderr",
     "output_type": "stream",
     "text": [
      "WARNING:buildstock_query.query_core:Column in.state found in multiple tables ['baseline', 'upgrade'].Using baseline\n",
      "WARNING:buildstock_query.query_core:Column in.heating_fuel found in multiple tables ['baseline', 'upgrade'].Using baseline\n",
      "WARNING:buildstock_query.query_core:Column in.geometry_building_type_recs found in multiple tables ['baseline', 'upgrade'].Using baseline\n"
     ]
    },
    {
     "name": "stdout",
     "output_type": "stream",
     "text": [
      "4.05-electricity\n"
     ]
    },
    {
     "name": "stderr",
     "output_type": "stream",
     "text": [
      "WARNING:buildstock_query.query_core:Column in.state found in multiple tables ['baseline', 'upgrade'].Using baseline\n",
      "WARNING:buildstock_query.query_core:Column in.heating_fuel found in multiple tables ['baseline', 'upgrade'].Using baseline\n",
      "WARNING:buildstock_query.query_core:Column in.geometry_building_type_recs found in multiple tables ['baseline', 'upgrade'].Using baseline\n"
     ]
    },
    {
     "name": "stdout",
     "output_type": "stream",
     "text": [
      "4.06-electricity\n"
     ]
    },
    {
     "name": "stderr",
     "output_type": "stream",
     "text": [
      "WARNING:buildstock_query.query_core:Column in.state found in multiple tables ['baseline', 'upgrade'].Using baseline\n",
      "WARNING:buildstock_query.query_core:Column in.heating_fuel found in multiple tables ['baseline', 'upgrade'].Using baseline\n",
      "WARNING:buildstock_query.query_core:Column in.geometry_building_type_recs found in multiple tables ['baseline', 'upgrade'].Using baseline\n"
     ]
    },
    {
     "name": "stdout",
     "output_type": "stream",
     "text": [
      "4.07-electricity\n"
     ]
    },
    {
     "name": "stderr",
     "output_type": "stream",
     "text": [
      "WARNING:buildstock_query.query_core:Column in.state found in multiple tables ['baseline', 'upgrade'].Using baseline\n",
      "WARNING:buildstock_query.query_core:Column in.heating_fuel found in multiple tables ['baseline', 'upgrade'].Using baseline\n",
      "WARNING:buildstock_query.query_core:Column in.geometry_building_type_recs found in multiple tables ['baseline', 'upgrade'].Using baseline\n"
     ]
    },
    {
     "name": "stdout",
     "output_type": "stream",
     "text": [
      "4.08-electricity\n"
     ]
    },
    {
     "name": "stderr",
     "output_type": "stream",
     "text": [
      "WARNING:buildstock_query.query_core:Column in.state found in multiple tables ['baseline', 'upgrade'].Using baseline\n",
      "WARNING:buildstock_query.query_core:Column in.heating_fuel found in multiple tables ['baseline', 'upgrade'].Using baseline\n",
      "WARNING:buildstock_query.query_core:Column in.geometry_building_type_recs found in multiple tables ['baseline', 'upgrade'].Using baseline\n"
     ]
    },
    {
     "name": "stdout",
     "output_type": "stream",
     "text": [
      "4.09-electricity\n"
     ]
    },
    {
     "name": "stderr",
     "output_type": "stream",
     "text": [
      "WARNING:buildstock_query.query_core:Column in.state found in multiple tables ['baseline', 'upgrade'].Using baseline\n",
      "WARNING:buildstock_query.query_core:Column in.heating_fuel found in multiple tables ['baseline', 'upgrade'].Using baseline\n",
      "WARNING:buildstock_query.query_core:Column in.geometry_building_type_recs found in multiple tables ['baseline', 'upgrade'].Using baseline\n"
     ]
    },
    {
     "name": "stdout",
     "output_type": "stream",
     "text": [
      "4.10-electricity\n"
     ]
    },
    {
     "name": "stderr",
     "output_type": "stream",
     "text": [
      "WARNING:buildstock_query.query_core:Column in.state found in multiple tables ['baseline', 'upgrade'].Using baseline\n",
      "WARNING:buildstock_query.query_core:Column in.heating_fuel found in multiple tables ['baseline', 'upgrade'].Using baseline\n",
      "WARNING:buildstock_query.query_core:Column in.geometry_building_type_recs found in multiple tables ['baseline', 'upgrade'].Using baseline\n"
     ]
    },
    {
     "name": "stdout",
     "output_type": "stream",
     "text": [
      "5.01-electricity\n"
     ]
    },
    {
     "name": "stderr",
     "output_type": "stream",
     "text": [
      "WARNING:buildstock_query.query_core:Column in.state found in multiple tables ['baseline', 'upgrade'].Using baseline\n",
      "WARNING:buildstock_query.query_core:Column in.heating_fuel found in multiple tables ['baseline', 'upgrade'].Using baseline\n",
      "WARNING:buildstock_query.query_core:Column in.geometry_building_type_recs found in multiple tables ['baseline', 'upgrade'].Using baseline\n"
     ]
    },
    {
     "name": "stdout",
     "output_type": "stream",
     "text": [
      "5.13-electricity\n"
     ]
    },
    {
     "name": "stderr",
     "output_type": "stream",
     "text": [
      "WARNING:buildstock_query.query_core:Column in.state found in multiple tables ['baseline', 'upgrade'].Using baseline\n",
      "WARNING:buildstock_query.query_core:Column in.heating_fuel found in multiple tables ['baseline', 'upgrade'].Using baseline\n",
      "WARNING:buildstock_query.query_core:Column in.geometry_building_type_recs found in multiple tables ['baseline', 'upgrade'].Using baseline\n"
     ]
    },
    {
     "name": "stdout",
     "output_type": "stream",
     "text": [
      "6.01-electricity\n"
     ]
    },
    {
     "name": "stderr",
     "output_type": "stream",
     "text": [
      "WARNING:buildstock_query.query_core:Column in.state found in multiple tables ['baseline', 'upgrade'].Using baseline\n",
      "WARNING:buildstock_query.query_core:Column in.heating_fuel found in multiple tables ['baseline', 'upgrade'].Using baseline\n",
      "WARNING:buildstock_query.query_core:Column in.geometry_building_type_recs found in multiple tables ['baseline', 'upgrade'].Using baseline\n"
     ]
    },
    {
     "name": "stdout",
     "output_type": "stream",
     "text": [
      "6.10-electricity\n"
     ]
    },
    {
     "name": "stderr",
     "output_type": "stream",
     "text": [
      "WARNING:buildstock_query.query_core:Column in.state found in multiple tables ['baseline', 'upgrade'].Using baseline\n",
      "WARNING:buildstock_query.query_core:Column in.heating_fuel found in multiple tables ['baseline', 'upgrade'].Using baseline\n",
      "WARNING:buildstock_query.query_core:Column in.geometry_building_type_recs found in multiple tables ['baseline', 'upgrade'].Using baseline\n"
     ]
    },
    {
     "name": "stdout",
     "output_type": "stream",
     "text": [
      "6.02-electricity\n"
     ]
    },
    {
     "name": "stderr",
     "output_type": "stream",
     "text": [
      "WARNING:buildstock_query.query_core:Column in.state found in multiple tables ['baseline', 'upgrade'].Using baseline\n",
      "WARNING:buildstock_query.query_core:Column in.heating_fuel found in multiple tables ['baseline', 'upgrade'].Using baseline\n",
      "WARNING:buildstock_query.query_core:Column in.geometry_building_type_recs found in multiple tables ['baseline', 'upgrade'].Using baseline\n"
     ]
    },
    {
     "name": "stdout",
     "output_type": "stream",
     "text": [
      "6.11-electricity\n"
     ]
    },
    {
     "name": "stderr",
     "output_type": "stream",
     "text": [
      "WARNING:buildstock_query.query_core:Column in.state found in multiple tables ['baseline', 'upgrade'].Using baseline\n",
      "WARNING:buildstock_query.query_core:Column in.heating_fuel found in multiple tables ['baseline', 'upgrade'].Using baseline\n",
      "WARNING:buildstock_query.query_core:Column in.geometry_building_type_recs found in multiple tables ['baseline', 'upgrade'].Using baseline\n"
     ]
    },
    {
     "name": "stdout",
     "output_type": "stream",
     "text": [
      "6.03-electricity\n"
     ]
    },
    {
     "name": "stderr",
     "output_type": "stream",
     "text": [
      "WARNING:buildstock_query.query_core:Column in.state found in multiple tables ['baseline', 'upgrade'].Using baseline\n",
      "WARNING:buildstock_query.query_core:Column in.heating_fuel found in multiple tables ['baseline', 'upgrade'].Using baseline\n",
      "WARNING:buildstock_query.query_core:Column in.geometry_building_type_recs found in multiple tables ['baseline', 'upgrade'].Using baseline\n"
     ]
    },
    {
     "name": "stdout",
     "output_type": "stream",
     "text": [
      "6.12-electricity\n"
     ]
    },
    {
     "name": "stderr",
     "output_type": "stream",
     "text": [
      "WARNING:buildstock_query.query_core:Column in.state found in multiple tables ['baseline', 'upgrade'].Using baseline\n",
      "WARNING:buildstock_query.query_core:Column in.heating_fuel found in multiple tables ['baseline', 'upgrade'].Using baseline\n",
      "WARNING:buildstock_query.query_core:Column in.geometry_building_type_recs found in multiple tables ['baseline', 'upgrade'].Using baseline\n"
     ]
    },
    {
     "name": "stdout",
     "output_type": "stream",
     "text": [
      "5.05-electricity\n"
     ]
    },
    {
     "name": "stderr",
     "output_type": "stream",
     "text": [
      "WARNING:buildstock_query.query_core:Column in.state found in multiple tables ['baseline', 'upgrade'].Using baseline\n",
      "WARNING:buildstock_query.query_core:Column in.heating_fuel found in multiple tables ['baseline', 'upgrade'].Using baseline\n",
      "WARNING:buildstock_query.query_core:Column in.geometry_building_type_recs found in multiple tables ['baseline', 'upgrade'].Using baseline\n"
     ]
    },
    {
     "name": "stdout",
     "output_type": "stream",
     "text": [
      "5.06-electricity\n"
     ]
    },
    {
     "name": "stderr",
     "output_type": "stream",
     "text": [
      "WARNING:buildstock_query.query_core:Column in.state found in multiple tables ['baseline', 'upgrade'].Using baseline\n",
      "WARNING:buildstock_query.query_core:Column in.heating_fuel found in multiple tables ['baseline', 'upgrade'].Using baseline\n",
      "WARNING:buildstock_query.query_core:Column in.geometry_building_type_recs found in multiple tables ['baseline', 'upgrade'].Using baseline\n"
     ]
    },
    {
     "name": "stdout",
     "output_type": "stream",
     "text": [
      "5.07-electricity\n",
      "5.08-electricity\n"
     ]
    },
    {
     "name": "stderr",
     "output_type": "stream",
     "text": [
      "WARNING:buildstock_query.query_core:Column in.state found in multiple tables ['baseline', 'upgrade'].Using baseline\n",
      "WARNING:buildstock_query.query_core:Column in.heating_fuel found in multiple tables ['baseline', 'upgrade'].Using baseline\n",
      "WARNING:buildstock_query.query_core:Column in.geometry_building_type_recs found in multiple tables ['baseline', 'upgrade'].Using baseline\n",
      "WARNING:buildstock_query.query_core:Column in.state found in multiple tables ['baseline', 'upgrade'].Using baseline\n",
      "WARNING:buildstock_query.query_core:Column in.heating_fuel found in multiple tables ['baseline', 'upgrade'].Using baseline\n",
      "WARNING:buildstock_query.query_core:Column in.geometry_building_type_recs found in multiple tables ['baseline', 'upgrade'].Using baseline\n"
     ]
    },
    {
     "name": "stdout",
     "output_type": "stream",
     "text": [
      "5.17-electricity\n"
     ]
    },
    {
     "name": "stderr",
     "output_type": "stream",
     "text": [
      "WARNING:buildstock_query.query_core:Column in.state found in multiple tables ['baseline', 'upgrade'].Using baseline\n",
      "WARNING:buildstock_query.query_core:Column in.heating_fuel found in multiple tables ['baseline', 'upgrade'].Using baseline\n",
      "WARNING:buildstock_query.query_core:Column in.geometry_building_type_recs found in multiple tables ['baseline', 'upgrade'].Using baseline\n"
     ]
    },
    {
     "name": "stdout",
     "output_type": "stream",
     "text": [
      "5.18-electricity\n"
     ]
    },
    {
     "name": "stderr",
     "output_type": "stream",
     "text": [
      "WARNING:buildstock_query.query_core:Column in.state found in multiple tables ['baseline', 'upgrade'].Using baseline\n",
      "WARNING:buildstock_query.query_core:Column in.heating_fuel found in multiple tables ['baseline', 'upgrade'].Using baseline\n",
      "WARNING:buildstock_query.query_core:Column in.geometry_building_type_recs found in multiple tables ['baseline', 'upgrade'].Using baseline\n"
     ]
    },
    {
     "name": "stdout",
     "output_type": "stream",
     "text": [
      "5.19-electricity\n"
     ]
    },
    {
     "name": "stderr",
     "output_type": "stream",
     "text": [
      "WARNING:buildstock_query.query_core:Column in.state found in multiple tables ['baseline', 'upgrade'].Using baseline\n",
      "WARNING:buildstock_query.query_core:Column in.heating_fuel found in multiple tables ['baseline', 'upgrade'].Using baseline\n",
      "WARNING:buildstock_query.query_core:Column in.geometry_building_type_recs found in multiple tables ['baseline', 'upgrade'].Using baseline\n"
     ]
    },
    {
     "name": "stdout",
     "output_type": "stream",
     "text": [
      "5.20-electricity\n"
     ]
    },
    {
     "name": "stderr",
     "output_type": "stream",
     "text": [
      "WARNING:buildstock_query.query_core:Column in.state found in multiple tables ['baseline', 'upgrade'].Using baseline\n",
      "WARNING:buildstock_query.query_core:Column in.heating_fuel found in multiple tables ['baseline', 'upgrade'].Using baseline\n",
      "WARNING:buildstock_query.query_core:Column in.geometry_building_type_recs found in multiple tables ['baseline', 'upgrade'].Using baseline\n"
     ]
    },
    {
     "name": "stdout",
     "output_type": "stream",
     "text": [
      "5.09-electricity\n"
     ]
    },
    {
     "name": "stderr",
     "output_type": "stream",
     "text": [
      "WARNING:buildstock_query.query_core:Column in.state found in multiple tables ['baseline', 'upgrade'].Using baseline\n",
      "WARNING:buildstock_query.query_core:Column in.heating_fuel found in multiple tables ['baseline', 'upgrade'].Using baseline\n",
      "WARNING:buildstock_query.query_core:Column in.geometry_building_type_recs found in multiple tables ['baseline', 'upgrade'].Using baseline\n"
     ]
    },
    {
     "name": "stdout",
     "output_type": "stream",
     "text": [
      "5.10-electricity\n"
     ]
    },
    {
     "name": "stderr",
     "output_type": "stream",
     "text": [
      "WARNING:buildstock_query.query_core:Column in.state found in multiple tables ['baseline', 'upgrade'].Using baseline\n",
      "WARNING:buildstock_query.query_core:Column in.heating_fuel found in multiple tables ['baseline', 'upgrade'].Using baseline\n",
      "WARNING:buildstock_query.query_core:Column in.geometry_building_type_recs found in multiple tables ['baseline', 'upgrade'].Using baseline\n"
     ]
    },
    {
     "name": "stdout",
     "output_type": "stream",
     "text": [
      "5.11-electricity\n"
     ]
    },
    {
     "name": "stderr",
     "output_type": "stream",
     "text": [
      "WARNING:buildstock_query.query_core:Column in.state found in multiple tables ['baseline', 'upgrade'].Using baseline\n",
      "WARNING:buildstock_query.query_core:Column in.heating_fuel found in multiple tables ['baseline', 'upgrade'].Using baseline\n",
      "WARNING:buildstock_query.query_core:Column in.geometry_building_type_recs found in multiple tables ['baseline', 'upgrade'].Using baseline\n"
     ]
    },
    {
     "name": "stdout",
     "output_type": "stream",
     "text": [
      "5.12-electricity\n"
     ]
    },
    {
     "name": "stderr",
     "output_type": "stream",
     "text": [
      "WARNING:buildstock_query.query_core:Column in.state found in multiple tables ['baseline', 'upgrade'].Using baseline\n",
      "WARNING:buildstock_query.query_core:Column in.heating_fuel found in multiple tables ['baseline', 'upgrade'].Using baseline\n",
      "WARNING:buildstock_query.query_core:Column in.geometry_building_type_recs found in multiple tables ['baseline', 'upgrade'].Using baseline\n"
     ]
    },
    {
     "name": "stdout",
     "output_type": "stream",
     "text": [
      "5.21-electricity\n"
     ]
    },
    {
     "name": "stderr",
     "output_type": "stream",
     "text": [
      "WARNING:buildstock_query.query_core:Column in.state found in multiple tables ['baseline', 'upgrade'].Using baseline\n",
      "WARNING:buildstock_query.query_core:Column in.heating_fuel found in multiple tables ['baseline', 'upgrade'].Using baseline\n",
      "WARNING:buildstock_query.query_core:Column in.geometry_building_type_recs found in multiple tables ['baseline', 'upgrade'].Using baseline\n"
     ]
    },
    {
     "name": "stdout",
     "output_type": "stream",
     "text": [
      "5.22-electricity\n"
     ]
    },
    {
     "name": "stderr",
     "output_type": "stream",
     "text": [
      "WARNING:buildstock_query.query_core:Column in.state found in multiple tables ['baseline', 'upgrade'].Using baseline\n",
      "WARNING:buildstock_query.query_core:Column in.heating_fuel found in multiple tables ['baseline', 'upgrade'].Using baseline\n",
      "WARNING:buildstock_query.query_core:Column in.geometry_building_type_recs found in multiple tables ['baseline', 'upgrade'].Using baseline\n"
     ]
    },
    {
     "name": "stdout",
     "output_type": "stream",
     "text": [
      "5.23-electricity\n"
     ]
    },
    {
     "name": "stderr",
     "output_type": "stream",
     "text": [
      "WARNING:buildstock_query.query_core:Column in.state found in multiple tables ['baseline', 'upgrade'].Using baseline\n",
      "WARNING:buildstock_query.query_core:Column in.heating_fuel found in multiple tables ['baseline', 'upgrade'].Using baseline\n",
      "WARNING:buildstock_query.query_core:Column in.geometry_building_type_recs found in multiple tables ['baseline', 'upgrade'].Using baseline\n"
     ]
    },
    {
     "name": "stdout",
     "output_type": "stream",
     "text": [
      "5.24-electricity\n"
     ]
    },
    {
     "name": "stderr",
     "output_type": "stream",
     "text": [
      "WARNING:buildstock_query.query_core:Column in.state found in multiple tables ['baseline', 'upgrade'].Using baseline\n",
      "WARNING:buildstock_query.query_core:Column in.heating_fuel found in multiple tables ['baseline', 'upgrade'].Using baseline\n",
      "WARNING:buildstock_query.query_core:Column in.geometry_building_type_recs found in multiple tables ['baseline', 'upgrade'].Using baseline\n"
     ]
    },
    {
     "name": "stdout",
     "output_type": "stream",
     "text": [
      "14.01-electricity\n"
     ]
    },
    {
     "name": "stderr",
     "output_type": "stream",
     "text": [
      "WARNING:buildstock_query.query_core:Column in.state found in multiple tables ['baseline', 'upgrade'].Using baseline\n",
      "WARNING:buildstock_query.query_core:Column in.heating_fuel found in multiple tables ['baseline', 'upgrade'].Using baseline\n",
      "WARNING:buildstock_query.query_core:Column in.geometry_building_type_recs found in multiple tables ['baseline', 'upgrade'].Using baseline\n"
     ]
    },
    {
     "name": "stdout",
     "output_type": "stream",
     "text": [
      "14.02-electricity\n"
     ]
    },
    {
     "name": "stderr",
     "output_type": "stream",
     "text": [
      "WARNING:buildstock_query.query_core:Column in.state found in multiple tables ['baseline', 'upgrade'].Using baseline\n",
      "WARNING:buildstock_query.query_core:Column in.heating_fuel found in multiple tables ['baseline', 'upgrade'].Using baseline\n",
      "WARNING:buildstock_query.query_core:Column in.geometry_building_type_recs found in multiple tables ['baseline', 'upgrade'].Using baseline\n"
     ]
    },
    {
     "name": "stdout",
     "output_type": "stream",
     "text": [
      "14.03-electricity\n"
     ]
    },
    {
     "name": "stderr",
     "output_type": "stream",
     "text": [
      "WARNING:buildstock_query.query_core:Column in.state found in multiple tables ['baseline', 'upgrade'].Using baseline\n",
      "WARNING:buildstock_query.query_core:Column in.heating_fuel found in multiple tables ['baseline', 'upgrade'].Using baseline\n",
      "WARNING:buildstock_query.query_core:Column in.geometry_building_type_recs found in multiple tables ['baseline', 'upgrade'].Using baseline\n"
     ]
    },
    {
     "name": "stdout",
     "output_type": "stream",
     "text": [
      "14.04-electricity\n"
     ]
    },
    {
     "name": "stderr",
     "output_type": "stream",
     "text": [
      "WARNING:buildstock_query.query_core:Column in.state found in multiple tables ['baseline', 'upgrade'].Using baseline\n",
      "WARNING:buildstock_query.query_core:Column in.heating_fuel found in multiple tables ['baseline', 'upgrade'].Using baseline\n",
      "WARNING:buildstock_query.query_core:Column in.geometry_building_type_recs found in multiple tables ['baseline', 'upgrade'].Using baseline\n"
     ]
    },
    {
     "name": "stdout",
     "output_type": "stream",
     "text": [
      "14.05-electricity\n"
     ]
    },
    {
     "name": "stderr",
     "output_type": "stream",
     "text": [
      "WARNING:buildstock_query.query_core:Column in.state found in multiple tables ['baseline', 'upgrade'].Using baseline\n",
      "WARNING:buildstock_query.query_core:Column in.heating_fuel found in multiple tables ['baseline', 'upgrade'].Using baseline\n",
      "WARNING:buildstock_query.query_core:Column in.geometry_building_type_recs found in multiple tables ['baseline', 'upgrade'].Using baseline\n"
     ]
    },
    {
     "name": "stdout",
     "output_type": "stream",
     "text": [
      "14.06-electricity\n"
     ]
    },
    {
     "name": "stderr",
     "output_type": "stream",
     "text": [
      "WARNING:buildstock_query.query_core:Column in.state found in multiple tables ['baseline', 'upgrade'].Using baseline\n",
      "WARNING:buildstock_query.query_core:Column in.heating_fuel found in multiple tables ['baseline', 'upgrade'].Using baseline\n",
      "WARNING:buildstock_query.query_core:Column in.geometry_building_type_recs found in multiple tables ['baseline', 'upgrade'].Using baseline\n"
     ]
    },
    {
     "name": "stdout",
     "output_type": "stream",
     "text": [
      "7.01-electricity\n"
     ]
    },
    {
     "name": "stderr",
     "output_type": "stream",
     "text": [
      "WARNING:buildstock_query.query_core:Column in.state found in multiple tables ['baseline', 'upgrade'].Using baseline\n",
      "WARNING:buildstock_query.query_core:Column in.heating_fuel found in multiple tables ['baseline', 'upgrade'].Using baseline\n",
      "WARNING:buildstock_query.query_core:Column in.geometry_building_type_recs found in multiple tables ['baseline', 'upgrade'].Using baseline\n"
     ]
    },
    {
     "name": "stdout",
     "output_type": "stream",
     "text": [
      "7.13-electricity\n"
     ]
    },
    {
     "name": "stderr",
     "output_type": "stream",
     "text": [
      "WARNING:buildstock_query.query_core:Column in.state found in multiple tables ['baseline', 'upgrade'].Using baseline\n",
      "WARNING:buildstock_query.query_core:Column in.heating_fuel found in multiple tables ['baseline', 'upgrade'].Using baseline\n",
      "WARNING:buildstock_query.query_core:Column in.geometry_building_type_recs found in multiple tables ['baseline', 'upgrade'].Using baseline\n"
     ]
    },
    {
     "name": "stdout",
     "output_type": "stream",
     "text": [
      "10.01-electricity\n"
     ]
    },
    {
     "name": "stderr",
     "output_type": "stream",
     "text": [
      "WARNING:buildstock_query.query_core:Column in.state found in multiple tables ['baseline', 'upgrade'].Using baseline\n",
      "WARNING:buildstock_query.query_core:Column in.heating_fuel found in multiple tables ['baseline', 'upgrade'].Using baseline\n",
      "WARNING:buildstock_query.query_core:Column in.geometry_building_type_recs found in multiple tables ['baseline', 'upgrade'].Using baseline\n"
     ]
    },
    {
     "name": "stdout",
     "output_type": "stream",
     "text": [
      "10.10-electricity\n"
     ]
    },
    {
     "name": "stderr",
     "output_type": "stream",
     "text": [
      "WARNING:buildstock_query.query_core:Column in.state found in multiple tables ['baseline', 'upgrade'].Using baseline\n",
      "WARNING:buildstock_query.query_core:Column in.heating_fuel found in multiple tables ['baseline', 'upgrade'].Using baseline\n",
      "WARNING:buildstock_query.query_core:Column in.geometry_building_type_recs found in multiple tables ['baseline', 'upgrade'].Using baseline\n"
     ]
    },
    {
     "name": "stdout",
     "output_type": "stream",
     "text": [
      "10.02-electricity\n"
     ]
    },
    {
     "name": "stderr",
     "output_type": "stream",
     "text": [
      "WARNING:buildstock_query.query_core:Column in.state found in multiple tables ['baseline', 'upgrade'].Using baseline\n",
      "WARNING:buildstock_query.query_core:Column in.heating_fuel found in multiple tables ['baseline', 'upgrade'].Using baseline\n",
      "WARNING:buildstock_query.query_core:Column in.geometry_building_type_recs found in multiple tables ['baseline', 'upgrade'].Using baseline\n"
     ]
    },
    {
     "name": "stdout",
     "output_type": "stream",
     "text": [
      "10.11-electricity\n"
     ]
    },
    {
     "name": "stderr",
     "output_type": "stream",
     "text": [
      "WARNING:buildstock_query.query_core:Column in.state found in multiple tables ['baseline', 'upgrade'].Using baseline\n",
      "WARNING:buildstock_query.query_core:Column in.heating_fuel found in multiple tables ['baseline', 'upgrade'].Using baseline\n",
      "WARNING:buildstock_query.query_core:Column in.geometry_building_type_recs found in multiple tables ['baseline', 'upgrade'].Using baseline\n"
     ]
    },
    {
     "name": "stdout",
     "output_type": "stream",
     "text": [
      "10.03-electricity\n"
     ]
    },
    {
     "name": "stderr",
     "output_type": "stream",
     "text": [
      "WARNING:buildstock_query.query_core:Column in.state found in multiple tables ['baseline', 'upgrade'].Using baseline\n",
      "WARNING:buildstock_query.query_core:Column in.heating_fuel found in multiple tables ['baseline', 'upgrade'].Using baseline\n",
      "WARNING:buildstock_query.query_core:Column in.geometry_building_type_recs found in multiple tables ['baseline', 'upgrade'].Using baseline\n"
     ]
    },
    {
     "name": "stdout",
     "output_type": "stream",
     "text": [
      "10.12-electricity\n"
     ]
    },
    {
     "name": "stderr",
     "output_type": "stream",
     "text": [
      "WARNING:buildstock_query.query_core:Column in.state found in multiple tables ['baseline', 'upgrade'].Using baseline\n",
      "WARNING:buildstock_query.query_core:Column in.heating_fuel found in multiple tables ['baseline', 'upgrade'].Using baseline\n",
      "WARNING:buildstock_query.query_core:Column in.geometry_building_type_recs found in multiple tables ['baseline', 'upgrade'].Using baseline\n"
     ]
    },
    {
     "name": "stdout",
     "output_type": "stream",
     "text": [
      "7.05-electricity\n"
     ]
    },
    {
     "name": "stderr",
     "output_type": "stream",
     "text": [
      "WARNING:buildstock_query.query_core:Column in.state found in multiple tables ['baseline', 'upgrade'].Using baseline\n",
      "WARNING:buildstock_query.query_core:Column in.heating_fuel found in multiple tables ['baseline', 'upgrade'].Using baseline\n",
      "WARNING:buildstock_query.query_core:Column in.geometry_building_type_recs found in multiple tables ['baseline', 'upgrade'].Using baseline\n"
     ]
    },
    {
     "name": "stdout",
     "output_type": "stream",
     "text": [
      "7.06-electricity\n",
      "7.07-electricity\n"
     ]
    },
    {
     "name": "stderr",
     "output_type": "stream",
     "text": [
      "WARNING:buildstock_query.query_core:Column in.state found in multiple tables ['baseline', 'upgrade'].Using baseline\n",
      "WARNING:buildstock_query.query_core:Column in.heating_fuel found in multiple tables ['baseline', 'upgrade'].Using baseline\n",
      "WARNING:buildstock_query.query_core:Column in.geometry_building_type_recs found in multiple tables ['baseline', 'upgrade'].Using baseline\n",
      "WARNING:buildstock_query.query_core:Column in.state found in multiple tables ['baseline', 'upgrade'].Using baseline\n",
      "WARNING:buildstock_query.query_core:Column in.heating_fuel found in multiple tables ['baseline', 'upgrade'].Using baseline\n",
      "WARNING:buildstock_query.query_core:Column in.geometry_building_type_recs found in multiple tables ['baseline', 'upgrade'].Using baseline\n"
     ]
    },
    {
     "name": "stdout",
     "output_type": "stream",
     "text": [
      "7.08-electricity\n"
     ]
    },
    {
     "name": "stderr",
     "output_type": "stream",
     "text": [
      "WARNING:buildstock_query.query_core:Column in.state found in multiple tables ['baseline', 'upgrade'].Using baseline\n",
      "WARNING:buildstock_query.query_core:Column in.heating_fuel found in multiple tables ['baseline', 'upgrade'].Using baseline\n",
      "WARNING:buildstock_query.query_core:Column in.geometry_building_type_recs found in multiple tables ['baseline', 'upgrade'].Using baseline\n"
     ]
    },
    {
     "name": "stdout",
     "output_type": "stream",
     "text": [
      "7.17-electricity\n"
     ]
    },
    {
     "name": "stderr",
     "output_type": "stream",
     "text": [
      "WARNING:buildstock_query.query_core:Column in.state found in multiple tables ['baseline', 'upgrade'].Using baseline\n",
      "WARNING:buildstock_query.query_core:Column in.heating_fuel found in multiple tables ['baseline', 'upgrade'].Using baseline\n",
      "WARNING:buildstock_query.query_core:Column in.geometry_building_type_recs found in multiple tables ['baseline', 'upgrade'].Using baseline\n"
     ]
    },
    {
     "name": "stdout",
     "output_type": "stream",
     "text": [
      "7.18-electricity\n"
     ]
    },
    {
     "name": "stderr",
     "output_type": "stream",
     "text": [
      "WARNING:buildstock_query.query_core:Column in.state found in multiple tables ['baseline', 'upgrade'].Using baseline\n",
      "WARNING:buildstock_query.query_core:Column in.heating_fuel found in multiple tables ['baseline', 'upgrade'].Using baseline\n",
      "WARNING:buildstock_query.query_core:Column in.geometry_building_type_recs found in multiple tables ['baseline', 'upgrade'].Using baseline\n"
     ]
    },
    {
     "name": "stdout",
     "output_type": "stream",
     "text": [
      "7.19-electricity\n"
     ]
    },
    {
     "name": "stderr",
     "output_type": "stream",
     "text": [
      "WARNING:buildstock_query.query_core:Column in.state found in multiple tables ['baseline', 'upgrade'].Using baseline\n",
      "WARNING:buildstock_query.query_core:Column in.heating_fuel found in multiple tables ['baseline', 'upgrade'].Using baseline\n",
      "WARNING:buildstock_query.query_core:Column in.geometry_building_type_recs found in multiple tables ['baseline', 'upgrade'].Using baseline\n"
     ]
    },
    {
     "name": "stdout",
     "output_type": "stream",
     "text": [
      "7.20-electricity\n"
     ]
    },
    {
     "name": "stderr",
     "output_type": "stream",
     "text": [
      "WARNING:buildstock_query.query_core:Column in.state found in multiple tables ['baseline', 'upgrade'].Using baseline\n",
      "WARNING:buildstock_query.query_core:Column in.heating_fuel found in multiple tables ['baseline', 'upgrade'].Using baseline\n",
      "WARNING:buildstock_query.query_core:Column in.geometry_building_type_recs found in multiple tables ['baseline', 'upgrade'].Using baseline\n"
     ]
    },
    {
     "name": "stdout",
     "output_type": "stream",
     "text": [
      "7.09-electricity\n"
     ]
    },
    {
     "name": "stderr",
     "output_type": "stream",
     "text": [
      "WARNING:buildstock_query.query_core:Column in.state found in multiple tables ['baseline', 'upgrade'].Using baseline\n",
      "WARNING:buildstock_query.query_core:Column in.heating_fuel found in multiple tables ['baseline', 'upgrade'].Using baseline\n",
      "WARNING:buildstock_query.query_core:Column in.geometry_building_type_recs found in multiple tables ['baseline', 'upgrade'].Using baseline\n"
     ]
    },
    {
     "name": "stdout",
     "output_type": "stream",
     "text": [
      "7.10-electricity\n"
     ]
    },
    {
     "name": "stderr",
     "output_type": "stream",
     "text": [
      "WARNING:buildstock_query.query_core:Column in.state found in multiple tables ['baseline', 'upgrade'].Using baseline\n",
      "WARNING:buildstock_query.query_core:Column in.heating_fuel found in multiple tables ['baseline', 'upgrade'].Using baseline\n",
      "WARNING:buildstock_query.query_core:Column in.geometry_building_type_recs found in multiple tables ['baseline', 'upgrade'].Using baseline\n"
     ]
    },
    {
     "name": "stdout",
     "output_type": "stream",
     "text": [
      "7.11-electricity\n"
     ]
    },
    {
     "name": "stderr",
     "output_type": "stream",
     "text": [
      "WARNING:buildstock_query.query_core:Column in.state found in multiple tables ['baseline', 'upgrade'].Using baseline\n",
      "WARNING:buildstock_query.query_core:Column in.heating_fuel found in multiple tables ['baseline', 'upgrade'].Using baseline\n",
      "WARNING:buildstock_query.query_core:Column in.geometry_building_type_recs found in multiple tables ['baseline', 'upgrade'].Using baseline\n"
     ]
    },
    {
     "name": "stdout",
     "output_type": "stream",
     "text": [
      "7.12-electricity\n"
     ]
    },
    {
     "name": "stderr",
     "output_type": "stream",
     "text": [
      "WARNING:buildstock_query.query_core:Column in.state found in multiple tables ['baseline', 'upgrade'].Using baseline\n",
      "WARNING:buildstock_query.query_core:Column in.heating_fuel found in multiple tables ['baseline', 'upgrade'].Using baseline\n",
      "WARNING:buildstock_query.query_core:Column in.geometry_building_type_recs found in multiple tables ['baseline', 'upgrade'].Using baseline\n"
     ]
    },
    {
     "name": "stdout",
     "output_type": "stream",
     "text": [
      "7.21-electricity\n"
     ]
    },
    {
     "name": "stderr",
     "output_type": "stream",
     "text": [
      "WARNING:buildstock_query.query_core:Column in.state found in multiple tables ['baseline', 'upgrade'].Using baseline\n",
      "WARNING:buildstock_query.query_core:Column in.heating_fuel found in multiple tables ['baseline', 'upgrade'].Using baseline\n",
      "WARNING:buildstock_query.query_core:Column in.geometry_building_type_recs found in multiple tables ['baseline', 'upgrade'].Using baseline\n"
     ]
    },
    {
     "name": "stdout",
     "output_type": "stream",
     "text": [
      "7.22-electricity\n"
     ]
    },
    {
     "name": "stderr",
     "output_type": "stream",
     "text": [
      "WARNING:buildstock_query.query_core:Column in.state found in multiple tables ['baseline', 'upgrade'].Using baseline\n",
      "WARNING:buildstock_query.query_core:Column in.heating_fuel found in multiple tables ['baseline', 'upgrade'].Using baseline\n",
      "WARNING:buildstock_query.query_core:Column in.geometry_building_type_recs found in multiple tables ['baseline', 'upgrade'].Using baseline\n"
     ]
    },
    {
     "name": "stdout",
     "output_type": "stream",
     "text": [
      "7.23-electricity\n"
     ]
    },
    {
     "name": "stderr",
     "output_type": "stream",
     "text": [
      "WARNING:buildstock_query.query_core:Column in.state found in multiple tables ['baseline', 'upgrade'].Using baseline\n",
      "WARNING:buildstock_query.query_core:Column in.heating_fuel found in multiple tables ['baseline', 'upgrade'].Using baseline\n",
      "WARNING:buildstock_query.query_core:Column in.geometry_building_type_recs found in multiple tables ['baseline', 'upgrade'].Using baseline\n"
     ]
    },
    {
     "name": "stdout",
     "output_type": "stream",
     "text": [
      "7.24-electricity\n"
     ]
    },
    {
     "name": "stderr",
     "output_type": "stream",
     "text": [
      "WARNING:buildstock_query.query_core:Column in.state found in multiple tables ['baseline', 'upgrade'].Using baseline\n",
      "WARNING:buildstock_query.query_core:Column in.heating_fuel found in multiple tables ['baseline', 'upgrade'].Using baseline\n",
      "WARNING:buildstock_query.query_core:Column in.geometry_building_type_recs found in multiple tables ['baseline', 'upgrade'].Using baseline\n"
     ]
    },
    {
     "name": "stdout",
     "output_type": "stream",
     "text": [
      "14.07-electricity\n"
     ]
    },
    {
     "name": "stderr",
     "output_type": "stream",
     "text": [
      "WARNING:buildstock_query.query_core:Column in.state found in multiple tables ['baseline', 'upgrade'].Using baseline\n",
      "WARNING:buildstock_query.query_core:Column in.heating_fuel found in multiple tables ['baseline', 'upgrade'].Using baseline\n",
      "WARNING:buildstock_query.query_core:Column in.geometry_building_type_recs found in multiple tables ['baseline', 'upgrade'].Using baseline\n"
     ]
    },
    {
     "name": "stdout",
     "output_type": "stream",
     "text": [
      "14.08-electricity\n"
     ]
    },
    {
     "name": "stderr",
     "output_type": "stream",
     "text": [
      "WARNING:buildstock_query.query_core:Column in.state found in multiple tables ['baseline', 'upgrade'].Using baseline\n",
      "WARNING:buildstock_query.query_core:Column in.heating_fuel found in multiple tables ['baseline', 'upgrade'].Using baseline\n",
      "WARNING:buildstock_query.query_core:Column in.geometry_building_type_recs found in multiple tables ['baseline', 'upgrade'].Using baseline\n"
     ]
    },
    {
     "name": "stdout",
     "output_type": "stream",
     "text": [
      "14.09-electricity\n"
     ]
    },
    {
     "name": "stderr",
     "output_type": "stream",
     "text": [
      "WARNING:buildstock_query.query_core:Column in.state found in multiple tables ['baseline', 'upgrade'].Using baseline\n",
      "WARNING:buildstock_query.query_core:Column in.heating_fuel found in multiple tables ['baseline', 'upgrade'].Using baseline\n",
      "WARNING:buildstock_query.query_core:Column in.geometry_building_type_recs found in multiple tables ['baseline', 'upgrade'].Using baseline\n"
     ]
    },
    {
     "name": "stdout",
     "output_type": "stream",
     "text": [
      "14.10-electricity\n"
     ]
    },
    {
     "name": "stderr",
     "output_type": "stream",
     "text": [
      "WARNING:buildstock_query.query_core:Column in.state found in multiple tables ['baseline', 'upgrade'].Using baseline\n",
      "WARNING:buildstock_query.query_core:Column in.heating_fuel found in multiple tables ['baseline', 'upgrade'].Using baseline\n",
      "WARNING:buildstock_query.query_core:Column in.geometry_building_type_recs found in multiple tables ['baseline', 'upgrade'].Using baseline\n"
     ]
    },
    {
     "name": "stdout",
     "output_type": "stream",
     "text": [
      "14.11-electricity\n"
     ]
    },
    {
     "name": "stderr",
     "output_type": "stream",
     "text": [
      "WARNING:buildstock_query.query_core:Column in.state found in multiple tables ['baseline', 'upgrade'].Using baseline\n",
      "WARNING:buildstock_query.query_core:Column in.heating_fuel found in multiple tables ['baseline', 'upgrade'].Using baseline\n",
      "WARNING:buildstock_query.query_core:Column in.geometry_building_type_recs found in multiple tables ['baseline', 'upgrade'].Using baseline\n"
     ]
    },
    {
     "name": "stdout",
     "output_type": "stream",
     "text": [
      "14.12-electricity\n"
     ]
    },
    {
     "name": "stderr",
     "output_type": "stream",
     "text": [
      "WARNING:buildstock_query.query_core:Column in.state found in multiple tables ['baseline', 'upgrade'].Using baseline\n",
      "WARNING:buildstock_query.query_core:Column in.heating_fuel found in multiple tables ['baseline', 'upgrade'].Using baseline\n",
      "WARNING:buildstock_query.query_core:Column in.geometry_building_type_recs found in multiple tables ['baseline', 'upgrade'].Using baseline\n"
     ]
    },
    {
     "name": "stdout",
     "output_type": "stream",
     "text": [
      "8.01-electricity\n"
     ]
    },
    {
     "name": "stderr",
     "output_type": "stream",
     "text": [
      "WARNING:buildstock_query.query_core:Column in.state found in multiple tables ['baseline', 'upgrade'].Using baseline\n",
      "WARNING:buildstock_query.query_core:Column in.heating_fuel found in multiple tables ['baseline', 'upgrade'].Using baseline\n",
      "WARNING:buildstock_query.query_core:Column in.geometry_building_type_recs found in multiple tables ['baseline', 'upgrade'].Using baseline\n"
     ]
    },
    {
     "name": "stdout",
     "output_type": "stream",
     "text": [
      "8.13-electricity\n"
     ]
    },
    {
     "name": "stderr",
     "output_type": "stream",
     "text": [
      "WARNING:buildstock_query.query_core:Column in.state found in multiple tables ['baseline', 'upgrade'].Using baseline\n",
      "WARNING:buildstock_query.query_core:Column in.heating_fuel found in multiple tables ['baseline', 'upgrade'].Using baseline\n",
      "WARNING:buildstock_query.query_core:Column in.geometry_building_type_recs found in multiple tables ['baseline', 'upgrade'].Using baseline\n"
     ]
    },
    {
     "name": "stdout",
     "output_type": "stream",
     "text": [
      "11.01-electricity\n"
     ]
    },
    {
     "name": "stderr",
     "output_type": "stream",
     "text": [
      "WARNING:buildstock_query.query_core:Column in.state found in multiple tables ['baseline', 'upgrade'].Using baseline\n",
      "WARNING:buildstock_query.query_core:Column in.heating_fuel found in multiple tables ['baseline', 'upgrade'].Using baseline\n",
      "WARNING:buildstock_query.query_core:Column in.geometry_building_type_recs found in multiple tables ['baseline', 'upgrade'].Using baseline\n"
     ]
    },
    {
     "name": "stdout",
     "output_type": "stream",
     "text": [
      "11.10-electricity\n"
     ]
    },
    {
     "name": "stderr",
     "output_type": "stream",
     "text": [
      "WARNING:buildstock_query.query_core:Column in.state found in multiple tables ['baseline', 'upgrade'].Using baseline\n",
      "WARNING:buildstock_query.query_core:Column in.heating_fuel found in multiple tables ['baseline', 'upgrade'].Using baseline\n",
      "WARNING:buildstock_query.query_core:Column in.geometry_building_type_recs found in multiple tables ['baseline', 'upgrade'].Using baseline\n"
     ]
    },
    {
     "name": "stdout",
     "output_type": "stream",
     "text": [
      "11.02-electricity\n"
     ]
    },
    {
     "name": "stderr",
     "output_type": "stream",
     "text": [
      "WARNING:buildstock_query.query_core:Column in.state found in multiple tables ['baseline', 'upgrade'].Using baseline\n",
      "WARNING:buildstock_query.query_core:Column in.heating_fuel found in multiple tables ['baseline', 'upgrade'].Using baseline\n",
      "WARNING:buildstock_query.query_core:Column in.geometry_building_type_recs found in multiple tables ['baseline', 'upgrade'].Using baseline\n"
     ]
    },
    {
     "name": "stdout",
     "output_type": "stream",
     "text": [
      "11.11-electricity\n"
     ]
    },
    {
     "name": "stderr",
     "output_type": "stream",
     "text": [
      "WARNING:buildstock_query.query_core:Column in.state found in multiple tables ['baseline', 'upgrade'].Using baseline\n",
      "WARNING:buildstock_query.query_core:Column in.heating_fuel found in multiple tables ['baseline', 'upgrade'].Using baseline\n",
      "WARNING:buildstock_query.query_core:Column in.geometry_building_type_recs found in multiple tables ['baseline', 'upgrade'].Using baseline\n"
     ]
    },
    {
     "name": "stdout",
     "output_type": "stream",
     "text": [
      "11.03-electricity\n"
     ]
    },
    {
     "name": "stderr",
     "output_type": "stream",
     "text": [
      "WARNING:buildstock_query.query_core:Column in.state found in multiple tables ['baseline', 'upgrade'].Using baseline\n",
      "WARNING:buildstock_query.query_core:Column in.heating_fuel found in multiple tables ['baseline', 'upgrade'].Using baseline\n",
      "WARNING:buildstock_query.query_core:Column in.geometry_building_type_recs found in multiple tables ['baseline', 'upgrade'].Using baseline\n"
     ]
    },
    {
     "name": "stdout",
     "output_type": "stream",
     "text": [
      "11.12-electricity\n"
     ]
    },
    {
     "name": "stderr",
     "output_type": "stream",
     "text": [
      "WARNING:buildstock_query.query_core:Column in.state found in multiple tables ['baseline', 'upgrade'].Using baseline\n",
      "WARNING:buildstock_query.query_core:Column in.heating_fuel found in multiple tables ['baseline', 'upgrade'].Using baseline\n",
      "WARNING:buildstock_query.query_core:Column in.geometry_building_type_recs found in multiple tables ['baseline', 'upgrade'].Using baseline\n"
     ]
    },
    {
     "name": "stdout",
     "output_type": "stream",
     "text": [
      "8.05-electricity\n",
      "8.06-electricity\n"
     ]
    },
    {
     "name": "stderr",
     "output_type": "stream",
     "text": [
      "WARNING:buildstock_query.query_core:Column in.state found in multiple tables ['baseline', 'upgrade'].Using baseline\n",
      "WARNING:buildstock_query.query_core:Column in.heating_fuel found in multiple tables ['baseline', 'upgrade'].Using baseline\n",
      "WARNING:buildstock_query.query_core:Column in.geometry_building_type_recs found in multiple tables ['baseline', 'upgrade'].Using baseline\n",
      "WARNING:buildstock_query.query_core:Column in.state found in multiple tables ['baseline', 'upgrade'].Using baseline\n",
      "WARNING:buildstock_query.query_core:Column in.heating_fuel found in multiple tables ['baseline', 'upgrade'].Using baseline\n",
      "WARNING:buildstock_query.query_core:Column in.geometry_building_type_recs found in multiple tables ['baseline', 'upgrade'].Using baseline\n"
     ]
    },
    {
     "name": "stdout",
     "output_type": "stream",
     "text": [
      "8.07-electricity\n"
     ]
    },
    {
     "name": "stderr",
     "output_type": "stream",
     "text": [
      "WARNING:buildstock_query.query_core:Column in.state found in multiple tables ['baseline', 'upgrade'].Using baseline\n",
      "WARNING:buildstock_query.query_core:Column in.heating_fuel found in multiple tables ['baseline', 'upgrade'].Using baseline\n",
      "WARNING:buildstock_query.query_core:Column in.geometry_building_type_recs found in multiple tables ['baseline', 'upgrade'].Using baseline\n"
     ]
    },
    {
     "name": "stdout",
     "output_type": "stream",
     "text": [
      "8.08-electricity\n"
     ]
    },
    {
     "name": "stderr",
     "output_type": "stream",
     "text": [
      "WARNING:buildstock_query.query_core:Column in.state found in multiple tables ['baseline', 'upgrade'].Using baseline\n",
      "WARNING:buildstock_query.query_core:Column in.heating_fuel found in multiple tables ['baseline', 'upgrade'].Using baseline\n",
      "WARNING:buildstock_query.query_core:Column in.geometry_building_type_recs found in multiple tables ['baseline', 'upgrade'].Using baseline\n"
     ]
    },
    {
     "name": "stdout",
     "output_type": "stream",
     "text": [
      "8.17-electricity\n"
     ]
    },
    {
     "name": "stderr",
     "output_type": "stream",
     "text": [
      "WARNING:buildstock_query.query_core:Column in.state found in multiple tables ['baseline', 'upgrade'].Using baseline\n",
      "WARNING:buildstock_query.query_core:Column in.heating_fuel found in multiple tables ['baseline', 'upgrade'].Using baseline\n",
      "WARNING:buildstock_query.query_core:Column in.geometry_building_type_recs found in multiple tables ['baseline', 'upgrade'].Using baseline\n"
     ]
    },
    {
     "name": "stdout",
     "output_type": "stream",
     "text": [
      "8.18-electricity\n"
     ]
    },
    {
     "name": "stderr",
     "output_type": "stream",
     "text": [
      "WARNING:buildstock_query.query_core:Column in.state found in multiple tables ['baseline', 'upgrade'].Using baseline\n",
      "WARNING:buildstock_query.query_core:Column in.heating_fuel found in multiple tables ['baseline', 'upgrade'].Using baseline\n",
      "WARNING:buildstock_query.query_core:Column in.geometry_building_type_recs found in multiple tables ['baseline', 'upgrade'].Using baseline\n"
     ]
    },
    {
     "name": "stdout",
     "output_type": "stream",
     "text": [
      "8.19-electricity\n"
     ]
    },
    {
     "name": "stderr",
     "output_type": "stream",
     "text": [
      "WARNING:buildstock_query.query_core:Column in.state found in multiple tables ['baseline', 'upgrade'].Using baseline\n",
      "WARNING:buildstock_query.query_core:Column in.heating_fuel found in multiple tables ['baseline', 'upgrade'].Using baseline\n",
      "WARNING:buildstock_query.query_core:Column in.geometry_building_type_recs found in multiple tables ['baseline', 'upgrade'].Using baseline\n"
     ]
    },
    {
     "name": "stdout",
     "output_type": "stream",
     "text": [
      "8.20-electricity\n"
     ]
    },
    {
     "name": "stderr",
     "output_type": "stream",
     "text": [
      "WARNING:buildstock_query.query_core:Column in.state found in multiple tables ['baseline', 'upgrade'].Using baseline\n",
      "WARNING:buildstock_query.query_core:Column in.heating_fuel found in multiple tables ['baseline', 'upgrade'].Using baseline\n",
      "WARNING:buildstock_query.query_core:Column in.geometry_building_type_recs found in multiple tables ['baseline', 'upgrade'].Using baseline\n"
     ]
    },
    {
     "name": "stdout",
     "output_type": "stream",
     "text": [
      "8.09-electricity\n"
     ]
    },
    {
     "name": "stderr",
     "output_type": "stream",
     "text": [
      "WARNING:buildstock_query.query_core:Column in.state found in multiple tables ['baseline', 'upgrade'].Using baseline\n",
      "WARNING:buildstock_query.query_core:Column in.heating_fuel found in multiple tables ['baseline', 'upgrade'].Using baseline\n",
      "WARNING:buildstock_query.query_core:Column in.geometry_building_type_recs found in multiple tables ['baseline', 'upgrade'].Using baseline\n"
     ]
    },
    {
     "name": "stdout",
     "output_type": "stream",
     "text": [
      "8.10-electricity\n"
     ]
    },
    {
     "name": "stderr",
     "output_type": "stream",
     "text": [
      "WARNING:buildstock_query.query_core:Column in.state found in multiple tables ['baseline', 'upgrade'].Using baseline\n",
      "WARNING:buildstock_query.query_core:Column in.heating_fuel found in multiple tables ['baseline', 'upgrade'].Using baseline\n",
      "WARNING:buildstock_query.query_core:Column in.geometry_building_type_recs found in multiple tables ['baseline', 'upgrade'].Using baseline\n"
     ]
    },
    {
     "name": "stdout",
     "output_type": "stream",
     "text": [
      "8.11-electricity\n"
     ]
    },
    {
     "name": "stderr",
     "output_type": "stream",
     "text": [
      "WARNING:buildstock_query.query_core:Column in.state found in multiple tables ['baseline', 'upgrade'].Using baseline\n",
      "WARNING:buildstock_query.query_core:Column in.heating_fuel found in multiple tables ['baseline', 'upgrade'].Using baseline\n",
      "WARNING:buildstock_query.query_core:Column in.geometry_building_type_recs found in multiple tables ['baseline', 'upgrade'].Using baseline\n"
     ]
    },
    {
     "name": "stdout",
     "output_type": "stream",
     "text": [
      "8.12-electricity\n"
     ]
    },
    {
     "name": "stderr",
     "output_type": "stream",
     "text": [
      "WARNING:buildstock_query.query_core:Column in.state found in multiple tables ['baseline', 'upgrade'].Using baseline\n",
      "WARNING:buildstock_query.query_core:Column in.heating_fuel found in multiple tables ['baseline', 'upgrade'].Using baseline\n",
      "WARNING:buildstock_query.query_core:Column in.geometry_building_type_recs found in multiple tables ['baseline', 'upgrade'].Using baseline\n"
     ]
    },
    {
     "name": "stdout",
     "output_type": "stream",
     "text": [
      "8.21-electricity\n"
     ]
    },
    {
     "name": "stderr",
     "output_type": "stream",
     "text": [
      "WARNING:buildstock_query.query_core:Column in.state found in multiple tables ['baseline', 'upgrade'].Using baseline\n",
      "WARNING:buildstock_query.query_core:Column in.heating_fuel found in multiple tables ['baseline', 'upgrade'].Using baseline\n",
      "WARNING:buildstock_query.query_core:Column in.geometry_building_type_recs found in multiple tables ['baseline', 'upgrade'].Using baseline\n"
     ]
    },
    {
     "name": "stdout",
     "output_type": "stream",
     "text": [
      "8.22-electricity\n"
     ]
    },
    {
     "name": "stderr",
     "output_type": "stream",
     "text": [
      "WARNING:buildstock_query.query_core:Column in.state found in multiple tables ['baseline', 'upgrade'].Using baseline\n",
      "WARNING:buildstock_query.query_core:Column in.heating_fuel found in multiple tables ['baseline', 'upgrade'].Using baseline\n",
      "WARNING:buildstock_query.query_core:Column in.geometry_building_type_recs found in multiple tables ['baseline', 'upgrade'].Using baseline\n"
     ]
    },
    {
     "name": "stdout",
     "output_type": "stream",
     "text": [
      "8.23-electricity\n"
     ]
    },
    {
     "name": "stderr",
     "output_type": "stream",
     "text": [
      "WARNING:buildstock_query.query_core:Column in.state found in multiple tables ['baseline', 'upgrade'].Using baseline\n",
      "WARNING:buildstock_query.query_core:Column in.heating_fuel found in multiple tables ['baseline', 'upgrade'].Using baseline\n",
      "WARNING:buildstock_query.query_core:Column in.geometry_building_type_recs found in multiple tables ['baseline', 'upgrade'].Using baseline\n"
     ]
    },
    {
     "name": "stdout",
     "output_type": "stream",
     "text": [
      "8.24-electricity\n"
     ]
    },
    {
     "name": "stderr",
     "output_type": "stream",
     "text": [
      "WARNING:buildstock_query.query_core:Column in.state found in multiple tables ['baseline', 'upgrade'].Using baseline\n",
      "WARNING:buildstock_query.query_core:Column in.heating_fuel found in multiple tables ['baseline', 'upgrade'].Using baseline\n",
      "WARNING:buildstock_query.query_core:Column in.geometry_building_type_recs found in multiple tables ['baseline', 'upgrade'].Using baseline\n"
     ]
    },
    {
     "name": "stdout",
     "output_type": "stream",
     "text": [
      "14.13-electricity\n"
     ]
    },
    {
     "name": "stderr",
     "output_type": "stream",
     "text": [
      "WARNING:buildstock_query.query_core:Column in.state found in multiple tables ['baseline', 'upgrade'].Using baseline\n",
      "WARNING:buildstock_query.query_core:Column in.heating_fuel found in multiple tables ['baseline', 'upgrade'].Using baseline\n",
      "WARNING:buildstock_query.query_core:Column in.geometry_building_type_recs found in multiple tables ['baseline', 'upgrade'].Using baseline\n"
     ]
    },
    {
     "name": "stdout",
     "output_type": "stream",
     "text": [
      "14.14-electricity\n"
     ]
    },
    {
     "name": "stderr",
     "output_type": "stream",
     "text": [
      "WARNING:buildstock_query.query_core:Column in.state found in multiple tables ['baseline', 'upgrade'].Using baseline\n",
      "WARNING:buildstock_query.query_core:Column in.heating_fuel found in multiple tables ['baseline', 'upgrade'].Using baseline\n",
      "WARNING:buildstock_query.query_core:Column in.geometry_building_type_recs found in multiple tables ['baseline', 'upgrade'].Using baseline\n"
     ]
    },
    {
     "name": "stdout",
     "output_type": "stream",
     "text": [
      "14.15-electricity\n"
     ]
    },
    {
     "name": "stderr",
     "output_type": "stream",
     "text": [
      "WARNING:buildstock_query.query_core:Column in.state found in multiple tables ['baseline', 'upgrade'].Using baseline\n",
      "WARNING:buildstock_query.query_core:Column in.heating_fuel found in multiple tables ['baseline', 'upgrade'].Using baseline\n",
      "WARNING:buildstock_query.query_core:Column in.geometry_building_type_recs found in multiple tables ['baseline', 'upgrade'].Using baseline\n"
     ]
    },
    {
     "name": "stdout",
     "output_type": "stream",
     "text": [
      "14.16-electricity\n"
     ]
    },
    {
     "name": "stderr",
     "output_type": "stream",
     "text": [
      "WARNING:buildstock_query.query_core:Column in.state found in multiple tables ['baseline', 'upgrade'].Using baseline\n",
      "WARNING:buildstock_query.query_core:Column in.heating_fuel found in multiple tables ['baseline', 'upgrade'].Using baseline\n",
      "WARNING:buildstock_query.query_core:Column in.geometry_building_type_recs found in multiple tables ['baseline', 'upgrade'].Using baseline\n"
     ]
    },
    {
     "name": "stdout",
     "output_type": "stream",
     "text": [
      "14.17-electricity\n"
     ]
    },
    {
     "name": "stderr",
     "output_type": "stream",
     "text": [
      "WARNING:buildstock_query.query_core:Column in.state found in multiple tables ['baseline', 'upgrade'].Using baseline\n",
      "WARNING:buildstock_query.query_core:Column in.heating_fuel found in multiple tables ['baseline', 'upgrade'].Using baseline\n",
      "WARNING:buildstock_query.query_core:Column in.geometry_building_type_recs found in multiple tables ['baseline', 'upgrade'].Using baseline\n"
     ]
    },
    {
     "name": "stdout",
     "output_type": "stream",
     "text": [
      "14.18-electricity\n"
     ]
    },
    {
     "name": "stderr",
     "output_type": "stream",
     "text": [
      "WARNING:buildstock_query.query_core:Column in.state found in multiple tables ['baseline', 'upgrade'].Using baseline\n",
      "WARNING:buildstock_query.query_core:Column in.heating_fuel found in multiple tables ['baseline', 'upgrade'].Using baseline\n",
      "WARNING:buildstock_query.query_core:Column in.geometry_building_type_recs found in multiple tables ['baseline', 'upgrade'].Using baseline\n"
     ]
    },
    {
     "name": "stdout",
     "output_type": "stream",
     "text": [
      "9.01-electricity\n"
     ]
    },
    {
     "name": "stderr",
     "output_type": "stream",
     "text": [
      "WARNING:buildstock_query.query_core:Column in.state found in multiple tables ['baseline', 'upgrade'].Using baseline\n",
      "WARNING:buildstock_query.query_core:Column in.heating_fuel found in multiple tables ['baseline', 'upgrade'].Using baseline\n",
      "WARNING:buildstock_query.query_core:Column in.geometry_building_type_recs found in multiple tables ['baseline', 'upgrade'].Using baseline\n"
     ]
    },
    {
     "name": "stdout",
     "output_type": "stream",
     "text": [
      "9.13-electricity\n"
     ]
    },
    {
     "name": "stderr",
     "output_type": "stream",
     "text": [
      "WARNING:buildstock_query.query_core:Column in.state found in multiple tables ['baseline', 'upgrade'].Using baseline\n",
      "WARNING:buildstock_query.query_core:Column in.heating_fuel found in multiple tables ['baseline', 'upgrade'].Using baseline\n",
      "WARNING:buildstock_query.query_core:Column in.geometry_building_type_recs found in multiple tables ['baseline', 'upgrade'].Using baseline\n"
     ]
    },
    {
     "name": "stdout",
     "output_type": "stream",
     "text": [
      "12.01-electricity\n"
     ]
    },
    {
     "name": "stderr",
     "output_type": "stream",
     "text": [
      "WARNING:buildstock_query.query_core:Column in.state found in multiple tables ['baseline', 'upgrade'].Using baseline\n",
      "WARNING:buildstock_query.query_core:Column in.heating_fuel found in multiple tables ['baseline', 'upgrade'].Using baseline\n",
      "WARNING:buildstock_query.query_core:Column in.geometry_building_type_recs found in multiple tables ['baseline', 'upgrade'].Using baseline\n"
     ]
    },
    {
     "name": "stdout",
     "output_type": "stream",
     "text": [
      "12.10-electricity\n"
     ]
    },
    {
     "name": "stderr",
     "output_type": "stream",
     "text": [
      "WARNING:buildstock_query.query_core:Column in.state found in multiple tables ['baseline', 'upgrade'].Using baseline\n",
      "WARNING:buildstock_query.query_core:Column in.heating_fuel found in multiple tables ['baseline', 'upgrade'].Using baseline\n",
      "WARNING:buildstock_query.query_core:Column in.geometry_building_type_recs found in multiple tables ['baseline', 'upgrade'].Using baseline\n"
     ]
    },
    {
     "name": "stdout",
     "output_type": "stream",
     "text": [
      "12.11-electricity\n"
     ]
    },
    {
     "name": "stderr",
     "output_type": "stream",
     "text": [
      "WARNING:buildstock_query.query_core:Column in.state found in multiple tables ['baseline', 'upgrade'].Using baseline\n",
      "WARNING:buildstock_query.query_core:Column in.heating_fuel found in multiple tables ['baseline', 'upgrade'].Using baseline\n",
      "WARNING:buildstock_query.query_core:Column in.geometry_building_type_recs found in multiple tables ['baseline', 'upgrade'].Using baseline\n"
     ]
    },
    {
     "name": "stdout",
     "output_type": "stream",
     "text": [
      "12.03-electricity\n"
     ]
    },
    {
     "name": "stderr",
     "output_type": "stream",
     "text": [
      "WARNING:buildstock_query.query_core:Column in.state found in multiple tables ['baseline', 'upgrade'].Using baseline\n",
      "WARNING:buildstock_query.query_core:Column in.heating_fuel found in multiple tables ['baseline', 'upgrade'].Using baseline\n",
      "WARNING:buildstock_query.query_core:Column in.geometry_building_type_recs found in multiple tables ['baseline', 'upgrade'].Using baseline\n"
     ]
    },
    {
     "name": "stdout",
     "output_type": "stream",
     "text": [
      "12.12-electricity\n"
     ]
    },
    {
     "name": "stderr",
     "output_type": "stream",
     "text": [
      "WARNING:buildstock_query.query_core:Column in.state found in multiple tables ['baseline', 'upgrade'].Using baseline\n",
      "WARNING:buildstock_query.query_core:Column in.heating_fuel found in multiple tables ['baseline', 'upgrade'].Using baseline\n",
      "WARNING:buildstock_query.query_core:Column in.geometry_building_type_recs found in multiple tables ['baseline', 'upgrade'].Using baseline\n"
     ]
    },
    {
     "name": "stdout",
     "output_type": "stream",
     "text": [
      "9.05-electricity\n",
      "9.06-electricity\n"
     ]
    },
    {
     "name": "stderr",
     "output_type": "stream",
     "text": [
      "WARNING:buildstock_query.query_core:Column in.state found in multiple tables ['baseline', 'upgrade'].Using baseline\n",
      "WARNING:buildstock_query.query_core:Column in.heating_fuel found in multiple tables ['baseline', 'upgrade'].Using baseline\n",
      "WARNING:buildstock_query.query_core:Column in.geometry_building_type_recs found in multiple tables ['baseline', 'upgrade'].Using baseline\n",
      "WARNING:buildstock_query.query_core:Column in.state found in multiple tables ['baseline', 'upgrade'].Using baseline\n",
      "WARNING:buildstock_query.query_core:Column in.heating_fuel found in multiple tables ['baseline', 'upgrade'].Using baseline\n",
      "WARNING:buildstock_query.query_core:Column in.geometry_building_type_recs found in multiple tables ['baseline', 'upgrade'].Using baseline\n"
     ]
    },
    {
     "name": "stdout",
     "output_type": "stream",
     "text": [
      "9.07-electricity\n"
     ]
    },
    {
     "name": "stderr",
     "output_type": "stream",
     "text": [
      "WARNING:buildstock_query.query_core:Column in.state found in multiple tables ['baseline', 'upgrade'].Using baseline\n",
      "WARNING:buildstock_query.query_core:Column in.heating_fuel found in multiple tables ['baseline', 'upgrade'].Using baseline\n",
      "WARNING:buildstock_query.query_core:Column in.geometry_building_type_recs found in multiple tables ['baseline', 'upgrade'].Using baseline\n"
     ]
    },
    {
     "name": "stdout",
     "output_type": "stream",
     "text": [
      "9.08-electricity\n"
     ]
    },
    {
     "name": "stderr",
     "output_type": "stream",
     "text": [
      "WARNING:buildstock_query.query_core:Column in.state found in multiple tables ['baseline', 'upgrade'].Using baseline\n",
      "WARNING:buildstock_query.query_core:Column in.heating_fuel found in multiple tables ['baseline', 'upgrade'].Using baseline\n",
      "WARNING:buildstock_query.query_core:Column in.geometry_building_type_recs found in multiple tables ['baseline', 'upgrade'].Using baseline\n"
     ]
    },
    {
     "name": "stdout",
     "output_type": "stream",
     "text": [
      "9.17-electricity\n"
     ]
    },
    {
     "name": "stderr",
     "output_type": "stream",
     "text": [
      "WARNING:buildstock_query.query_core:Column in.state found in multiple tables ['baseline', 'upgrade'].Using baseline\n",
      "WARNING:buildstock_query.query_core:Column in.heating_fuel found in multiple tables ['baseline', 'upgrade'].Using baseline\n",
      "WARNING:buildstock_query.query_core:Column in.geometry_building_type_recs found in multiple tables ['baseline', 'upgrade'].Using baseline\n"
     ]
    },
    {
     "name": "stdout",
     "output_type": "stream",
     "text": [
      "9.18-electricity\n"
     ]
    },
    {
     "name": "stderr",
     "output_type": "stream",
     "text": [
      "WARNING:buildstock_query.query_core:Column in.state found in multiple tables ['baseline', 'upgrade'].Using baseline\n",
      "WARNING:buildstock_query.query_core:Column in.heating_fuel found in multiple tables ['baseline', 'upgrade'].Using baseline\n",
      "WARNING:buildstock_query.query_core:Column in.geometry_building_type_recs found in multiple tables ['baseline', 'upgrade'].Using baseline\n"
     ]
    },
    {
     "name": "stdout",
     "output_type": "stream",
     "text": [
      "9.19-electricity\n"
     ]
    },
    {
     "name": "stderr",
     "output_type": "stream",
     "text": [
      "WARNING:buildstock_query.query_core:Column in.state found in multiple tables ['baseline', 'upgrade'].Using baseline\n",
      "WARNING:buildstock_query.query_core:Column in.heating_fuel found in multiple tables ['baseline', 'upgrade'].Using baseline\n",
      "WARNING:buildstock_query.query_core:Column in.geometry_building_type_recs found in multiple tables ['baseline', 'upgrade'].Using baseline\n"
     ]
    },
    {
     "name": "stdout",
     "output_type": "stream",
     "text": [
      "9.20-electricity\n"
     ]
    },
    {
     "name": "stderr",
     "output_type": "stream",
     "text": [
      "WARNING:buildstock_query.query_core:Column in.state found in multiple tables ['baseline', 'upgrade'].Using baseline\n",
      "WARNING:buildstock_query.query_core:Column in.heating_fuel found in multiple tables ['baseline', 'upgrade'].Using baseline\n",
      "WARNING:buildstock_query.query_core:Column in.geometry_building_type_recs found in multiple tables ['baseline', 'upgrade'].Using baseline\n"
     ]
    },
    {
     "name": "stdout",
     "output_type": "stream",
     "text": [
      "9.09-electricity\n"
     ]
    },
    {
     "name": "stderr",
     "output_type": "stream",
     "text": [
      "WARNING:buildstock_query.query_core:Column in.state found in multiple tables ['baseline', 'upgrade'].Using baseline\n",
      "WARNING:buildstock_query.query_core:Column in.heating_fuel found in multiple tables ['baseline', 'upgrade'].Using baseline\n",
      "WARNING:buildstock_query.query_core:Column in.geometry_building_type_recs found in multiple tables ['baseline', 'upgrade'].Using baseline\n"
     ]
    },
    {
     "name": "stdout",
     "output_type": "stream",
     "text": [
      "9.10-electricity\n"
     ]
    },
    {
     "name": "stderr",
     "output_type": "stream",
     "text": [
      "WARNING:buildstock_query.query_core:Column in.state found in multiple tables ['baseline', 'upgrade'].Using baseline\n",
      "WARNING:buildstock_query.query_core:Column in.heating_fuel found in multiple tables ['baseline', 'upgrade'].Using baseline\n",
      "WARNING:buildstock_query.query_core:Column in.geometry_building_type_recs found in multiple tables ['baseline', 'upgrade'].Using baseline\n"
     ]
    },
    {
     "name": "stdout",
     "output_type": "stream",
     "text": [
      "9.11-electricity\n"
     ]
    },
    {
     "name": "stderr",
     "output_type": "stream",
     "text": [
      "WARNING:buildstock_query.query_core:Column in.state found in multiple tables ['baseline', 'upgrade'].Using baseline\n",
      "WARNING:buildstock_query.query_core:Column in.heating_fuel found in multiple tables ['baseline', 'upgrade'].Using baseline\n",
      "WARNING:buildstock_query.query_core:Column in.geometry_building_type_recs found in multiple tables ['baseline', 'upgrade'].Using baseline\n"
     ]
    },
    {
     "name": "stdout",
     "output_type": "stream",
     "text": [
      "9.12-electricity\n"
     ]
    },
    {
     "name": "stderr",
     "output_type": "stream",
     "text": [
      "WARNING:buildstock_query.query_core:Column in.state found in multiple tables ['baseline', 'upgrade'].Using baseline\n",
      "WARNING:buildstock_query.query_core:Column in.heating_fuel found in multiple tables ['baseline', 'upgrade'].Using baseline\n",
      "WARNING:buildstock_query.query_core:Column in.geometry_building_type_recs found in multiple tables ['baseline', 'upgrade'].Using baseline\n"
     ]
    },
    {
     "name": "stdout",
     "output_type": "stream",
     "text": [
      "9.21-electricity\n"
     ]
    },
    {
     "name": "stderr",
     "output_type": "stream",
     "text": [
      "WARNING:buildstock_query.query_core:Column in.state found in multiple tables ['baseline', 'upgrade'].Using baseline\n",
      "WARNING:buildstock_query.query_core:Column in.heating_fuel found in multiple tables ['baseline', 'upgrade'].Using baseline\n",
      "WARNING:buildstock_query.query_core:Column in.geometry_building_type_recs found in multiple tables ['baseline', 'upgrade'].Using baseline\n"
     ]
    },
    {
     "name": "stdout",
     "output_type": "stream",
     "text": [
      "9.22-electricity\n"
     ]
    },
    {
     "name": "stderr",
     "output_type": "stream",
     "text": [
      "WARNING:buildstock_query.query_core:Column in.state found in multiple tables ['baseline', 'upgrade'].Using baseline\n",
      "WARNING:buildstock_query.query_core:Column in.heating_fuel found in multiple tables ['baseline', 'upgrade'].Using baseline\n",
      "WARNING:buildstock_query.query_core:Column in.geometry_building_type_recs found in multiple tables ['baseline', 'upgrade'].Using baseline\n"
     ]
    },
    {
     "name": "stdout",
     "output_type": "stream",
     "text": [
      "9.23-electricity\n"
     ]
    },
    {
     "name": "stderr",
     "output_type": "stream",
     "text": [
      "WARNING:buildstock_query.query_core:Column in.state found in multiple tables ['baseline', 'upgrade'].Using baseline\n",
      "WARNING:buildstock_query.query_core:Column in.heating_fuel found in multiple tables ['baseline', 'upgrade'].Using baseline\n",
      "WARNING:buildstock_query.query_core:Column in.geometry_building_type_recs found in multiple tables ['baseline', 'upgrade'].Using baseline\n"
     ]
    },
    {
     "name": "stdout",
     "output_type": "stream",
     "text": [
      "9.24-electricity\n"
     ]
    },
    {
     "name": "stderr",
     "output_type": "stream",
     "text": [
      "WARNING:buildstock_query.query_core:Column in.state found in multiple tables ['baseline', 'upgrade'].Using baseline\n",
      "WARNING:buildstock_query.query_core:Column in.heating_fuel found in multiple tables ['baseline', 'upgrade'].Using baseline\n",
      "WARNING:buildstock_query.query_core:Column in.geometry_building_type_recs found in multiple tables ['baseline', 'upgrade'].Using baseline\n"
     ]
    },
    {
     "name": "stdout",
     "output_type": "stream",
     "text": [
      "13.18-electricity\n"
     ]
    },
    {
     "name": "stderr",
     "output_type": "stream",
     "text": [
      "WARNING:buildstock_query.query_core:Column in.state found in multiple tables ['baseline', 'upgrade'].Using baseline\n",
      "WARNING:buildstock_query.query_core:Column in.heating_fuel found in multiple tables ['baseline', 'upgrade'].Using baseline\n",
      "WARNING:buildstock_query.query_core:Column in.geometry_building_type_recs found in multiple tables ['baseline', 'upgrade'].Using baseline\n"
     ]
    },
    {
     "name": "stdout",
     "output_type": "stream",
     "text": [
      "13.19-electricity\n"
     ]
    },
    {
     "name": "stderr",
     "output_type": "stream",
     "text": [
      "WARNING:buildstock_query.query_core:Column in.state found in multiple tables ['baseline', 'upgrade'].Using baseline\n",
      "WARNING:buildstock_query.query_core:Column in.heating_fuel found in multiple tables ['baseline', 'upgrade'].Using baseline\n",
      "WARNING:buildstock_query.query_core:Column in.geometry_building_type_recs found in multiple tables ['baseline', 'upgrade'].Using baseline\n"
     ]
    },
    {
     "name": "stdout",
     "output_type": "stream",
     "text": [
      "13.01-electricity\n"
     ]
    },
    {
     "name": "stderr",
     "output_type": "stream",
     "text": [
      "WARNING:buildstock_query.query_core:Column in.state found in multiple tables ['baseline', 'upgrade'].Using baseline\n",
      "WARNING:buildstock_query.query_core:Column in.heating_fuel found in multiple tables ['baseline', 'upgrade'].Using baseline\n",
      "WARNING:buildstock_query.query_core:Column in.geometry_building_type_recs found in multiple tables ['baseline', 'upgrade'].Using baseline\n"
     ]
    },
    {
     "name": "stdout",
     "output_type": "stream",
     "text": [
      "13.02-electricity\n"
     ]
    },
    {
     "name": "stderr",
     "output_type": "stream",
     "text": [
      "WARNING:buildstock_query.query_core:Column in.state found in multiple tables ['baseline', 'upgrade'].Using baseline\n",
      "WARNING:buildstock_query.query_core:Column in.heating_fuel found in multiple tables ['baseline', 'upgrade'].Using baseline\n",
      "WARNING:buildstock_query.query_core:Column in.geometry_building_type_recs found in multiple tables ['baseline', 'upgrade'].Using baseline\n"
     ]
    },
    {
     "name": "stdout",
     "output_type": "stream",
     "text": [
      "13.03-electricity\n"
     ]
    },
    {
     "name": "stderr",
     "output_type": "stream",
     "text": [
      "WARNING:buildstock_query.query_core:Column in.state found in multiple tables ['baseline', 'upgrade'].Using baseline\n",
      "WARNING:buildstock_query.query_core:Column in.heating_fuel found in multiple tables ['baseline', 'upgrade'].Using baseline\n",
      "WARNING:buildstock_query.query_core:Column in.geometry_building_type_recs found in multiple tables ['baseline', 'upgrade'].Using baseline\n"
     ]
    },
    {
     "name": "stdout",
     "output_type": "stream",
     "text": [
      "13.04-electricity\n"
     ]
    },
    {
     "name": "stderr",
     "output_type": "stream",
     "text": [
      "WARNING:buildstock_query.query_core:Column in.state found in multiple tables ['baseline', 'upgrade'].Using baseline\n",
      "WARNING:buildstock_query.query_core:Column in.heating_fuel found in multiple tables ['baseline', 'upgrade'].Using baseline\n",
      "WARNING:buildstock_query.query_core:Column in.geometry_building_type_recs found in multiple tables ['baseline', 'upgrade'].Using baseline\n"
     ]
    },
    {
     "name": "stdout",
     "output_type": "stream",
     "text": [
      "13.05-electricity\n"
     ]
    },
    {
     "name": "stderr",
     "output_type": "stream",
     "text": [
      "WARNING:buildstock_query.query_core:Column in.state found in multiple tables ['baseline', 'upgrade'].Using baseline\n",
      "WARNING:buildstock_query.query_core:Column in.heating_fuel found in multiple tables ['baseline', 'upgrade'].Using baseline\n",
      "WARNING:buildstock_query.query_core:Column in.geometry_building_type_recs found in multiple tables ['baseline', 'upgrade'].Using baseline\n"
     ]
    },
    {
     "name": "stdout",
     "output_type": "stream",
     "text": [
      "13.06-electricity\n"
     ]
    },
    {
     "name": "stderr",
     "output_type": "stream",
     "text": [
      "WARNING:buildstock_query.query_core:Column in.state found in multiple tables ['baseline', 'upgrade'].Using baseline\n",
      "WARNING:buildstock_query.query_core:Column in.heating_fuel found in multiple tables ['baseline', 'upgrade'].Using baseline\n",
      "WARNING:buildstock_query.query_core:Column in.geometry_building_type_recs found in multiple tables ['baseline', 'upgrade'].Using baseline\n"
     ]
    },
    {
     "name": "stdout",
     "output_type": "stream",
     "text": [
      "13.07-electricity\n"
     ]
    },
    {
     "name": "stderr",
     "output_type": "stream",
     "text": [
      "WARNING:buildstock_query.query_core:Column in.state found in multiple tables ['baseline', 'upgrade'].Using baseline\n",
      "WARNING:buildstock_query.query_core:Column in.heating_fuel found in multiple tables ['baseline', 'upgrade'].Using baseline\n",
      "WARNING:buildstock_query.query_core:Column in.geometry_building_type_recs found in multiple tables ['baseline', 'upgrade'].Using baseline\n"
     ]
    },
    {
     "name": "stdout",
     "output_type": "stream",
     "text": [
      "13.08-electricity\n"
     ]
    },
    {
     "name": "stderr",
     "output_type": "stream",
     "text": [
      "WARNING:buildstock_query.query_core:Column in.state found in multiple tables ['baseline', 'upgrade'].Using baseline\n",
      "WARNING:buildstock_query.query_core:Column in.heating_fuel found in multiple tables ['baseline', 'upgrade'].Using baseline\n",
      "WARNING:buildstock_query.query_core:Column in.geometry_building_type_recs found in multiple tables ['baseline', 'upgrade'].Using baseline\n"
     ]
    },
    {
     "name": "stdout",
     "output_type": "stream",
     "text": [
      "15.01-electricity\n"
     ]
    },
    {
     "name": "stderr",
     "output_type": "stream",
     "text": [
      "WARNING:buildstock_query.query_core:Column in.state found in multiple tables ['baseline', 'upgrade'].Using baseline\n",
      "WARNING:buildstock_query.query_core:Column in.heating_fuel found in multiple tables ['baseline', 'upgrade'].Using baseline\n",
      "WARNING:buildstock_query.query_core:Column in.geometry_building_type_recs found in multiple tables ['baseline', 'upgrade'].Using baseline\n"
     ]
    },
    {
     "name": "stdout",
     "output_type": "stream",
     "text": [
      "15.05-electricity\n"
     ]
    },
    {
     "name": "stderr",
     "output_type": "stream",
     "text": [
      "WARNING:buildstock_query.query_core:Column in.state found in multiple tables ['baseline', 'upgrade'].Using baseline\n",
      "WARNING:buildstock_query.query_core:Column in.heating_fuel found in multiple tables ['baseline', 'upgrade'].Using baseline\n",
      "WARNING:buildstock_query.query_core:Column in.geometry_building_type_recs found in multiple tables ['baseline', 'upgrade'].Using baseline\n"
     ]
    },
    {
     "name": "stdout",
     "output_type": "stream",
     "text": [
      "15.17-electricity\n"
     ]
    },
    {
     "name": "stderr",
     "output_type": "stream",
     "text": [
      "WARNING:buildstock_query.query_core:Column in.state found in multiple tables ['baseline', 'upgrade'].Using baseline\n",
      "WARNING:buildstock_query.query_core:Column in.heating_fuel found in multiple tables ['baseline', 'upgrade'].Using baseline\n",
      "WARNING:buildstock_query.query_core:Column in.geometry_building_type_recs found in multiple tables ['baseline', 'upgrade'].Using baseline\n"
     ]
    },
    {
     "name": "stdout",
     "output_type": "stream",
     "text": [
      "15.20-electricity\n",
      "15.18-electricity\n"
     ]
    },
    {
     "name": "stderr",
     "output_type": "stream",
     "text": [
      "WARNING:buildstock_query.query_core:Column in.state found in multiple tables ['baseline', 'upgrade'].Using baseline\n",
      "WARNING:buildstock_query.query_core:Column in.heating_fuel found in multiple tables ['baseline', 'upgrade'].Using baseline\n",
      "WARNING:buildstock_query.query_core:Column in.geometry_building_type_recs found in multiple tables ['baseline', 'upgrade'].Using baseline\n",
      "WARNING:buildstock_query.query_core:Column in.state found in multiple tables ['baseline', 'upgrade'].Using baseline\n",
      "WARNING:buildstock_query.query_core:Column in.heating_fuel found in multiple tables ['baseline', 'upgrade'].Using baseline\n",
      "WARNING:buildstock_query.query_core:Column in.geometry_building_type_recs found in multiple tables ['baseline', 'upgrade'].Using baseline\n"
     ]
    },
    {
     "name": "stdout",
     "output_type": "stream",
     "text": [
      "15.21-electricity\n"
     ]
    },
    {
     "name": "stderr",
     "output_type": "stream",
     "text": [
      "WARNING:buildstock_query.query_core:Column in.state found in multiple tables ['baseline', 'upgrade'].Using baseline\n",
      "WARNING:buildstock_query.query_core:Column in.heating_fuel found in multiple tables ['baseline', 'upgrade'].Using baseline\n",
      "WARNING:buildstock_query.query_core:Column in.geometry_building_type_recs found in multiple tables ['baseline', 'upgrade'].Using baseline\n"
     ]
    },
    {
     "name": "stdout",
     "output_type": "stream",
     "text": [
      "15.19-electricity\n"
     ]
    },
    {
     "name": "stderr",
     "output_type": "stream",
     "text": [
      "WARNING:buildstock_query.query_core:Column in.state found in multiple tables ['baseline', 'upgrade'].Using baseline\n",
      "WARNING:buildstock_query.query_core:Column in.heating_fuel found in multiple tables ['baseline', 'upgrade'].Using baseline\n",
      "WARNING:buildstock_query.query_core:Column in.geometry_building_type_recs found in multiple tables ['baseline', 'upgrade'].Using baseline\n"
     ]
    },
    {
     "name": "stdout",
     "output_type": "stream",
     "text": [
      "15.22-electricity\n"
     ]
    },
    {
     "name": "stderr",
     "output_type": "stream",
     "text": [
      "WARNING:buildstock_query.query_core:Column in.state found in multiple tables ['baseline', 'upgrade'].Using baseline\n",
      "WARNING:buildstock_query.query_core:Column in.heating_fuel found in multiple tables ['baseline', 'upgrade'].Using baseline\n",
      "WARNING:buildstock_query.query_core:Column in.geometry_building_type_recs found in multiple tables ['baseline', 'upgrade'].Using baseline\n"
     ]
    },
    {
     "name": "stdout",
     "output_type": "stream",
     "text": [
      "15.09-electricity\n"
     ]
    },
    {
     "name": "stderr",
     "output_type": "stream",
     "text": [
      "WARNING:buildstock_query.query_core:Column in.state found in multiple tables ['baseline', 'upgrade'].Using baseline\n",
      "WARNING:buildstock_query.query_core:Column in.heating_fuel found in multiple tables ['baseline', 'upgrade'].Using baseline\n",
      "WARNING:buildstock_query.query_core:Column in.geometry_building_type_recs found in multiple tables ['baseline', 'upgrade'].Using baseline\n"
     ]
    },
    {
     "name": "stdout",
     "output_type": "stream",
     "text": [
      "15.10-electricity\n"
     ]
    },
    {
     "name": "stderr",
     "output_type": "stream",
     "text": [
      "WARNING:buildstock_query.query_core:Column in.state found in multiple tables ['baseline', 'upgrade'].Using baseline\n",
      "WARNING:buildstock_query.query_core:Column in.heating_fuel found in multiple tables ['baseline', 'upgrade'].Using baseline\n",
      "WARNING:buildstock_query.query_core:Column in.geometry_building_type_recs found in multiple tables ['baseline', 'upgrade'].Using baseline\n"
     ]
    },
    {
     "name": "stdout",
     "output_type": "stream",
     "text": [
      "15.11-electricity\n"
     ]
    },
    {
     "name": "stderr",
     "output_type": "stream",
     "text": [
      "WARNING:buildstock_query.query_core:Column in.state found in multiple tables ['baseline', 'upgrade'].Using baseline\n",
      "WARNING:buildstock_query.query_core:Column in.heating_fuel found in multiple tables ['baseline', 'upgrade'].Using baseline\n",
      "WARNING:buildstock_query.query_core:Column in.geometry_building_type_recs found in multiple tables ['baseline', 'upgrade'].Using baseline\n"
     ]
    },
    {
     "name": "stdout",
     "output_type": "stream",
     "text": [
      "15.12-electricity\n"
     ]
    },
    {
     "name": "stderr",
     "output_type": "stream",
     "text": [
      "WARNING:buildstock_query.query_core:Column in.state found in multiple tables ['baseline', 'upgrade'].Using baseline\n",
      "WARNING:buildstock_query.query_core:Column in.heating_fuel found in multiple tables ['baseline', 'upgrade'].Using baseline\n",
      "WARNING:buildstock_query.query_core:Column in.geometry_building_type_recs found in multiple tables ['baseline', 'upgrade'].Using baseline\n"
     ]
    },
    {
     "name": "stdout",
     "output_type": "stream",
     "text": [
      "15.13-electricity\n"
     ]
    },
    {
     "name": "stderr",
     "output_type": "stream",
     "text": [
      "WARNING:buildstock_query.query_core:Column in.state found in multiple tables ['baseline', 'upgrade'].Using baseline\n",
      "WARNING:buildstock_query.query_core:Column in.heating_fuel found in multiple tables ['baseline', 'upgrade'].Using baseline\n",
      "WARNING:buildstock_query.query_core:Column in.geometry_building_type_recs found in multiple tables ['baseline', 'upgrade'].Using baseline\n"
     ]
    },
    {
     "name": "stdout",
     "output_type": "stream",
     "text": [
      "15.14-electricity\n"
     ]
    },
    {
     "name": "stderr",
     "output_type": "stream",
     "text": [
      "WARNING:buildstock_query.query_core:Column in.state found in multiple tables ['baseline', 'upgrade'].Using baseline\n",
      "WARNING:buildstock_query.query_core:Column in.heating_fuel found in multiple tables ['baseline', 'upgrade'].Using baseline\n",
      "WARNING:buildstock_query.query_core:Column in.geometry_building_type_recs found in multiple tables ['baseline', 'upgrade'].Using baseline\n"
     ]
    },
    {
     "name": "stdout",
     "output_type": "stream",
     "text": [
      "15.15-electricity\n"
     ]
    },
    {
     "name": "stderr",
     "output_type": "stream",
     "text": [
      "WARNING:buildstock_query.query_core:Column in.state found in multiple tables ['baseline', 'upgrade'].Using baseline\n",
      "WARNING:buildstock_query.query_core:Column in.heating_fuel found in multiple tables ['baseline', 'upgrade'].Using baseline\n",
      "WARNING:buildstock_query.query_core:Column in.geometry_building_type_recs found in multiple tables ['baseline', 'upgrade'].Using baseline\n"
     ]
    },
    {
     "name": "stdout",
     "output_type": "stream",
     "text": [
      "15.16-electricity\n"
     ]
    },
    {
     "name": "stderr",
     "output_type": "stream",
     "text": [
      "WARNING:buildstock_query.query_core:Column in.state found in multiple tables ['baseline', 'upgrade'].Using baseline\n",
      "WARNING:buildstock_query.query_core:Column in.heating_fuel found in multiple tables ['baseline', 'upgrade'].Using baseline\n",
      "WARNING:buildstock_query.query_core:Column in.geometry_building_type_recs found in multiple tables ['baseline', 'upgrade'].Using baseline\n"
     ]
    },
    {
     "name": "stdout",
     "output_type": "stream",
     "text": [
      "13.15-electricity\n"
     ]
    },
    {
     "name": "stderr",
     "output_type": "stream",
     "text": [
      "WARNING:buildstock_query.query_core:Column in.state found in multiple tables ['baseline', 'upgrade'].Using baseline\n",
      "WARNING:buildstock_query.query_core:Column in.heating_fuel found in multiple tables ['baseline', 'upgrade'].Using baseline\n",
      "WARNING:buildstock_query.query_core:Column in.geometry_building_type_recs found in multiple tables ['baseline', 'upgrade'].Using baseline\n"
     ]
    },
    {
     "name": "stdout",
     "output_type": "stream",
     "text": [
      "13.16-electricity\n"
     ]
    },
    {
     "name": "stderr",
     "output_type": "stream",
     "text": [
      "WARNING:buildstock_query.query_core:Column in.state found in multiple tables ['baseline', 'upgrade'].Using baseline\n",
      "WARNING:buildstock_query.query_core:Column in.heating_fuel found in multiple tables ['baseline', 'upgrade'].Using baseline\n",
      "WARNING:buildstock_query.query_core:Column in.geometry_building_type_recs found in multiple tables ['baseline', 'upgrade'].Using baseline\n"
     ]
    },
    {
     "name": "stdout",
     "output_type": "stream",
     "text": [
      "13.17-electricity\n"
     ]
    }
   ],
   "source": [
    "#Get electricity savings\n",
    "electricity_results = {}\n",
    "fuel_of_interest = 'electricity'\n",
    "fuel_enduse_field = 'out.electricity.total.energy_consumption'\n",
    "for upgrade_id_instance in upgrade_id_list:\n",
    "    result_name = upgrade_id_instance + '-' + fuel_of_interest\n",
    "    print(result_name)\n",
    "    result = my_run.savings.savings_shape(upgrade_id=upgrade_id_instance, \n",
    "                             enduses=[fuel_enduse_field],\n",
    "                             group_by=['in.state', 'in.heating_fuel', simple_bldg_col],\n",
    "                             restrict=[('in.geometry_building_type_recs', ['Single-Family Detached', 'Single-Family Attached', 'Multi-Family with 2 - 4 Units', 'Multi-Family with 5+ Units'])],\n",
    "                             annual_only=True,\n",
    "                             get_query_only=False,\n",
    "                             applied_only= True)\n",
    "    electricity_results[result_name] = result\n",
    "    #electricity_results[result_name].to_csv('C:/Users/epresent/NREL/C Bldg Stock - General/ResStock Fact Sheets/SLOPE Data Layer/Data Pulls/' + result_name + '.csv')\n"
   ]
  },
  {
   "cell_type": "code",
   "execution_count": 66,
   "metadata": {},
   "outputs": [
    {
     "name": "stderr",
     "output_type": "stream",
     "text": [
      "WARNING:buildstock_query.query_core:Column in.state found in multiple tables ['baseline', 'upgrade'].Using baseline\n",
      "WARNING:buildstock_query.query_core:Column in.heating_fuel found in multiple tables ['baseline', 'upgrade'].Using baseline\n",
      "WARNING:buildstock_query.query_core:Column in.geometry_building_type_recs found in multiple tables ['baseline', 'upgrade'].Using baseline\n"
     ]
    },
    {
     "name": "stdout",
     "output_type": "stream",
     "text": [
      "3.07-ng\n",
      "3.01-ng\n"
     ]
    },
    {
     "name": "stderr",
     "output_type": "stream",
     "text": [
      "WARNING:buildstock_query.query_core:Column in.state found in multiple tables ['baseline', 'upgrade'].Using baseline\n",
      "WARNING:buildstock_query.query_core:Column in.heating_fuel found in multiple tables ['baseline', 'upgrade'].Using baseline\n",
      "WARNING:buildstock_query.query_core:Column in.geometry_building_type_recs found in multiple tables ['baseline', 'upgrade'].Using baseline\n",
      "WARNING:buildstock_query.query_core:Column in.state found in multiple tables ['baseline', 'upgrade'].Using baseline\n",
      "WARNING:buildstock_query.query_core:Column in.heating_fuel found in multiple tables ['baseline', 'upgrade'].Using baseline\n",
      "WARNING:buildstock_query.query_core:Column in.geometry_building_type_recs found in multiple tables ['baseline', 'upgrade'].Using baseline\n"
     ]
    },
    {
     "name": "stdout",
     "output_type": "stream",
     "text": [
      "4.04-ng\n",
      "2.03-ng\n"
     ]
    },
    {
     "name": "stderr",
     "output_type": "stream",
     "text": [
      "WARNING:buildstock_query.query_core:Column in.state found in multiple tables ['baseline', 'upgrade'].Using baseline\n",
      "WARNING:buildstock_query.query_core:Column in.heating_fuel found in multiple tables ['baseline', 'upgrade'].Using baseline\n",
      "WARNING:buildstock_query.query_core:Column in.geometry_building_type_recs found in multiple tables ['baseline', 'upgrade'].Using baseline\n",
      "WARNING:buildstock_query.query_core:Column in.state found in multiple tables ['baseline', 'upgrade'].Using baseline\n",
      "WARNING:buildstock_query.query_core:Column in.heating_fuel found in multiple tables ['baseline', 'upgrade'].Using baseline\n",
      "WARNING:buildstock_query.query_core:Column in.geometry_building_type_recs found in multiple tables ['baseline', 'upgrade'].Using baseline\n"
     ]
    },
    {
     "name": "stdout",
     "output_type": "stream",
     "text": [
      "2.04-ng\n",
      "2.05-ng\n"
     ]
    },
    {
     "name": "stderr",
     "output_type": "stream",
     "text": [
      "WARNING:buildstock_query.query_core:Column in.state found in multiple tables ['baseline', 'upgrade'].Using baseline\n",
      "WARNING:buildstock_query.query_core:Column in.heating_fuel found in multiple tables ['baseline', 'upgrade'].Using baseline\n",
      "WARNING:buildstock_query.query_core:Column in.geometry_building_type_recs found in multiple tables ['baseline', 'upgrade'].Using baseline\n",
      "WARNING:buildstock_query.query_core:Column in.state found in multiple tables ['baseline', 'upgrade'].Using baseline\n",
      "WARNING:buildstock_query.query_core:Column in.heating_fuel found in multiple tables ['baseline', 'upgrade'].Using baseline\n",
      "WARNING:buildstock_query.query_core:Column in.geometry_building_type_recs found in multiple tables ['baseline', 'upgrade'].Using baseline\n"
     ]
    },
    {
     "name": "stdout",
     "output_type": "stream",
     "text": [
      "4.05-ng\n",
      "4.06-ng\n"
     ]
    },
    {
     "name": "stderr",
     "output_type": "stream",
     "text": [
      "WARNING:buildstock_query.query_core:Column in.state found in multiple tables ['baseline', 'upgrade'].Using baseline\n",
      "WARNING:buildstock_query.query_core:Column in.heating_fuel found in multiple tables ['baseline', 'upgrade'].Using baseline\n",
      "WARNING:buildstock_query.query_core:Column in.geometry_building_type_recs found in multiple tables ['baseline', 'upgrade'].Using baseline\n",
      "WARNING:buildstock_query.query_core:Column in.state found in multiple tables ['baseline', 'upgrade'].Using baseline\n",
      "WARNING:buildstock_query.query_core:Column in.heating_fuel found in multiple tables ['baseline', 'upgrade'].Using baseline\n",
      "WARNING:buildstock_query.query_core:Column in.geometry_building_type_recs found in multiple tables ['baseline', 'upgrade'].Using baseline\n"
     ]
    },
    {
     "name": "stdout",
     "output_type": "stream",
     "text": [
      "4.07-ng\n",
      "4.08-ng\n"
     ]
    },
    {
     "name": "stderr",
     "output_type": "stream",
     "text": [
      "WARNING:buildstock_query.query_core:Column in.state found in multiple tables ['baseline', 'upgrade'].Using baseline\n",
      "WARNING:buildstock_query.query_core:Column in.heating_fuel found in multiple tables ['baseline', 'upgrade'].Using baseline\n",
      "WARNING:buildstock_query.query_core:Column in.geometry_building_type_recs found in multiple tables ['baseline', 'upgrade'].Using baseline\n",
      "WARNING:buildstock_query.query_core:Column in.state found in multiple tables ['baseline', 'upgrade'].Using baseline\n",
      "WARNING:buildstock_query.query_core:Column in.heating_fuel found in multiple tables ['baseline', 'upgrade'].Using baseline\n",
      "WARNING:buildstock_query.query_core:Column in.geometry_building_type_recs found in multiple tables ['baseline', 'upgrade'].Using baseline\n"
     ]
    },
    {
     "name": "stdout",
     "output_type": "stream",
     "text": [
      "4.09-ng\n",
      "4.10-ng\n"
     ]
    },
    {
     "name": "stderr",
     "output_type": "stream",
     "text": [
      "WARNING:buildstock_query.query_core:Column in.state found in multiple tables ['baseline', 'upgrade'].Using baseline\n",
      "WARNING:buildstock_query.query_core:Column in.heating_fuel found in multiple tables ['baseline', 'upgrade'].Using baseline\n",
      "WARNING:buildstock_query.query_core:Column in.geometry_building_type_recs found in multiple tables ['baseline', 'upgrade'].Using baseline\n",
      "WARNING:buildstock_query.query_core:Column in.state found in multiple tables ['baseline', 'upgrade'].Using baseline\n",
      "WARNING:buildstock_query.query_core:Column in.heating_fuel found in multiple tables ['baseline', 'upgrade'].Using baseline\n",
      "WARNING:buildstock_query.query_core:Column in.geometry_building_type_recs found in multiple tables ['baseline', 'upgrade'].Using baseline\n"
     ]
    },
    {
     "name": "stdout",
     "output_type": "stream",
     "text": [
      "5.01-ng\n",
      "5.13-ng\n"
     ]
    },
    {
     "name": "stderr",
     "output_type": "stream",
     "text": [
      "WARNING:buildstock_query.query_core:Column in.state found in multiple tables ['baseline', 'upgrade'].Using baseline\n",
      "WARNING:buildstock_query.query_core:Column in.heating_fuel found in multiple tables ['baseline', 'upgrade'].Using baseline\n",
      "WARNING:buildstock_query.query_core:Column in.geometry_building_type_recs found in multiple tables ['baseline', 'upgrade'].Using baseline\n",
      "WARNING:buildstock_query.query_core:Column in.state found in multiple tables ['baseline', 'upgrade'].Using baseline\n",
      "WARNING:buildstock_query.query_core:Column in.heating_fuel found in multiple tables ['baseline', 'upgrade'].Using baseline\n",
      "WARNING:buildstock_query.query_core:Column in.geometry_building_type_recs found in multiple tables ['baseline', 'upgrade'].Using baseline\n"
     ]
    },
    {
     "name": "stdout",
     "output_type": "stream",
     "text": [
      "6.01-ng\n",
      "6.10-ng\n"
     ]
    },
    {
     "name": "stderr",
     "output_type": "stream",
     "text": [
      "WARNING:buildstock_query.query_core:Column in.state found in multiple tables ['baseline', 'upgrade'].Using baseline\n",
      "WARNING:buildstock_query.query_core:Column in.heating_fuel found in multiple tables ['baseline', 'upgrade'].Using baseline\n",
      "WARNING:buildstock_query.query_core:Column in.geometry_building_type_recs found in multiple tables ['baseline', 'upgrade'].Using baseline\n",
      "WARNING:buildstock_query.query_core:Column in.state found in multiple tables ['baseline', 'upgrade'].Using baseline\n",
      "WARNING:buildstock_query.query_core:Column in.heating_fuel found in multiple tables ['baseline', 'upgrade'].Using baseline\n",
      "WARNING:buildstock_query.query_core:Column in.geometry_building_type_recs found in multiple tables ['baseline', 'upgrade'].Using baseline\n"
     ]
    },
    {
     "name": "stdout",
     "output_type": "stream",
     "text": [
      "6.02-ng\n",
      "6.11-ng\n"
     ]
    },
    {
     "name": "stderr",
     "output_type": "stream",
     "text": [
      "WARNING:buildstock_query.query_core:Column in.state found in multiple tables ['baseline', 'upgrade'].Using baseline\n",
      "WARNING:buildstock_query.query_core:Column in.heating_fuel found in multiple tables ['baseline', 'upgrade'].Using baseline\n",
      "WARNING:buildstock_query.query_core:Column in.geometry_building_type_recs found in multiple tables ['baseline', 'upgrade'].Using baseline\n",
      "WARNING:buildstock_query.query_core:Column in.state found in multiple tables ['baseline', 'upgrade'].Using baseline\n",
      "WARNING:buildstock_query.query_core:Column in.heating_fuel found in multiple tables ['baseline', 'upgrade'].Using baseline\n",
      "WARNING:buildstock_query.query_core:Column in.geometry_building_type_recs found in multiple tables ['baseline', 'upgrade'].Using baseline\n"
     ]
    },
    {
     "name": "stdout",
     "output_type": "stream",
     "text": [
      "6.03-ng\n",
      "6.12-ng\n"
     ]
    },
    {
     "name": "stderr",
     "output_type": "stream",
     "text": [
      "WARNING:buildstock_query.query_core:Column in.state found in multiple tables ['baseline', 'upgrade'].Using baseline\n",
      "WARNING:buildstock_query.query_core:Column in.heating_fuel found in multiple tables ['baseline', 'upgrade'].Using baseline\n",
      "WARNING:buildstock_query.query_core:Column in.geometry_building_type_recs found in multiple tables ['baseline', 'upgrade'].Using baseline\n",
      "WARNING:buildstock_query.query_core:Column in.state found in multiple tables ['baseline', 'upgrade'].Using baseline\n",
      "WARNING:buildstock_query.query_core:Column in.heating_fuel found in multiple tables ['baseline', 'upgrade'].Using baseline\n",
      "WARNING:buildstock_query.query_core:Column in.geometry_building_type_recs found in multiple tables ['baseline', 'upgrade'].Using baseline\n"
     ]
    },
    {
     "name": "stdout",
     "output_type": "stream",
     "text": [
      "5.05-ng\n",
      "5.06-ng\n"
     ]
    },
    {
     "name": "stderr",
     "output_type": "stream",
     "text": [
      "WARNING:buildstock_query.query_core:Column in.state found in multiple tables ['baseline', 'upgrade'].Using baseline\n",
      "WARNING:buildstock_query.query_core:Column in.heating_fuel found in multiple tables ['baseline', 'upgrade'].Using baseline\n",
      "WARNING:buildstock_query.query_core:Column in.geometry_building_type_recs found in multiple tables ['baseline', 'upgrade'].Using baseline\n",
      "WARNING:buildstock_query.query_core:Column in.state found in multiple tables ['baseline', 'upgrade'].Using baseline\n",
      "WARNING:buildstock_query.query_core:Column in.heating_fuel found in multiple tables ['baseline', 'upgrade'].Using baseline\n",
      "WARNING:buildstock_query.query_core:Column in.geometry_building_type_recs found in multiple tables ['baseline', 'upgrade'].Using baseline\n"
     ]
    },
    {
     "name": "stdout",
     "output_type": "stream",
     "text": [
      "5.07-ng\n",
      "5.08-ng\n"
     ]
    },
    {
     "name": "stderr",
     "output_type": "stream",
     "text": [
      "WARNING:buildstock_query.query_core:Column in.state found in multiple tables ['baseline', 'upgrade'].Using baseline\n",
      "WARNING:buildstock_query.query_core:Column in.heating_fuel found in multiple tables ['baseline', 'upgrade'].Using baseline\n",
      "WARNING:buildstock_query.query_core:Column in.geometry_building_type_recs found in multiple tables ['baseline', 'upgrade'].Using baseline\n",
      "WARNING:buildstock_query.query_core:Column in.state found in multiple tables ['baseline', 'upgrade'].Using baseline\n",
      "WARNING:buildstock_query.query_core:Column in.heating_fuel found in multiple tables ['baseline', 'upgrade'].Using baseline\n",
      "WARNING:buildstock_query.query_core:Column in.geometry_building_type_recs found in multiple tables ['baseline', 'upgrade'].Using baseline\n"
     ]
    },
    {
     "name": "stdout",
     "output_type": "stream",
     "text": [
      "5.17-ng\n",
      "5.18-ng\n"
     ]
    },
    {
     "name": "stderr",
     "output_type": "stream",
     "text": [
      "WARNING:buildstock_query.query_core:Column in.state found in multiple tables ['baseline', 'upgrade'].Using baseline\n",
      "WARNING:buildstock_query.query_core:Column in.heating_fuel found in multiple tables ['baseline', 'upgrade'].Using baseline\n",
      "WARNING:buildstock_query.query_core:Column in.geometry_building_type_recs found in multiple tables ['baseline', 'upgrade'].Using baseline\n",
      "WARNING:buildstock_query.query_core:Column in.state found in multiple tables ['baseline', 'upgrade'].Using baseline\n",
      "WARNING:buildstock_query.query_core:Column in.heating_fuel found in multiple tables ['baseline', 'upgrade'].Using baseline\n",
      "WARNING:buildstock_query.query_core:Column in.geometry_building_type_recs found in multiple tables ['baseline', 'upgrade'].Using baseline\n"
     ]
    },
    {
     "name": "stdout",
     "output_type": "stream",
     "text": [
      "5.19-ng\n",
      "5.20-ng\n"
     ]
    },
    {
     "name": "stderr",
     "output_type": "stream",
     "text": [
      "WARNING:buildstock_query.query_core:Column in.state found in multiple tables ['baseline', 'upgrade'].Using baseline\n",
      "WARNING:buildstock_query.query_core:Column in.heating_fuel found in multiple tables ['baseline', 'upgrade'].Using baseline\n",
      "WARNING:buildstock_query.query_core:Column in.geometry_building_type_recs found in multiple tables ['baseline', 'upgrade'].Using baseline\n",
      "WARNING:buildstock_query.query_core:Column in.state found in multiple tables ['baseline', 'upgrade'].Using baseline\n",
      "WARNING:buildstock_query.query_core:Column in.heating_fuel found in multiple tables ['baseline', 'upgrade'].Using baseline\n",
      "WARNING:buildstock_query.query_core:Column in.geometry_building_type_recs found in multiple tables ['baseline', 'upgrade'].Using baseline\n"
     ]
    },
    {
     "name": "stdout",
     "output_type": "stream",
     "text": [
      "5.09-ng\n",
      "5.10-ng\n"
     ]
    },
    {
     "name": "stderr",
     "output_type": "stream",
     "text": [
      "WARNING:buildstock_query.query_core:Column in.state found in multiple tables ['baseline', 'upgrade'].Using baseline\n",
      "WARNING:buildstock_query.query_core:Column in.heating_fuel found in multiple tables ['baseline', 'upgrade'].Using baseline\n",
      "WARNING:buildstock_query.query_core:Column in.geometry_building_type_recs found in multiple tables ['baseline', 'upgrade'].Using baseline\n",
      "WARNING:buildstock_query.query_core:Column in.state found in multiple tables ['baseline', 'upgrade'].Using baseline\n",
      "WARNING:buildstock_query.query_core:Column in.heating_fuel found in multiple tables ['baseline', 'upgrade'].Using baseline\n",
      "WARNING:buildstock_query.query_core:Column in.geometry_building_type_recs found in multiple tables ['baseline', 'upgrade'].Using baseline\n"
     ]
    },
    {
     "name": "stdout",
     "output_type": "stream",
     "text": [
      "5.11-ng\n",
      "5.12-ng\n"
     ]
    },
    {
     "name": "stderr",
     "output_type": "stream",
     "text": [
      "WARNING:buildstock_query.query_core:Column in.state found in multiple tables ['baseline', 'upgrade'].Using baseline\n",
      "WARNING:buildstock_query.query_core:Column in.heating_fuel found in multiple tables ['baseline', 'upgrade'].Using baseline\n",
      "WARNING:buildstock_query.query_core:Column in.geometry_building_type_recs found in multiple tables ['baseline', 'upgrade'].Using baseline\n",
      "WARNING:buildstock_query.query_core:Column in.state found in multiple tables ['baseline', 'upgrade'].Using baseline\n",
      "WARNING:buildstock_query.query_core:Column in.heating_fuel found in multiple tables ['baseline', 'upgrade'].Using baseline\n",
      "WARNING:buildstock_query.query_core:Column in.geometry_building_type_recs found in multiple tables ['baseline', 'upgrade'].Using baseline\n"
     ]
    },
    {
     "name": "stdout",
     "output_type": "stream",
     "text": [
      "5.21-ng\n",
      "5.22-ng\n"
     ]
    },
    {
     "name": "stderr",
     "output_type": "stream",
     "text": [
      "WARNING:buildstock_query.query_core:Column in.state found in multiple tables ['baseline', 'upgrade'].Using baseline\n",
      "WARNING:buildstock_query.query_core:Column in.heating_fuel found in multiple tables ['baseline', 'upgrade'].Using baseline\n",
      "WARNING:buildstock_query.query_core:Column in.geometry_building_type_recs found in multiple tables ['baseline', 'upgrade'].Using baseline\n",
      "WARNING:buildstock_query.query_core:Column in.state found in multiple tables ['baseline', 'upgrade'].Using baseline\n",
      "WARNING:buildstock_query.query_core:Column in.heating_fuel found in multiple tables ['baseline', 'upgrade'].Using baseline\n",
      "WARNING:buildstock_query.query_core:Column in.geometry_building_type_recs found in multiple tables ['baseline', 'upgrade'].Using baseline\n"
     ]
    },
    {
     "name": "stdout",
     "output_type": "stream",
     "text": [
      "5.23-ng\n",
      "5.24-ng\n"
     ]
    },
    {
     "name": "stderr",
     "output_type": "stream",
     "text": [
      "WARNING:buildstock_query.query_core:Column in.state found in multiple tables ['baseline', 'upgrade'].Using baseline\n",
      "WARNING:buildstock_query.query_core:Column in.heating_fuel found in multiple tables ['baseline', 'upgrade'].Using baseline\n",
      "WARNING:buildstock_query.query_core:Column in.geometry_building_type_recs found in multiple tables ['baseline', 'upgrade'].Using baseline\n",
      "WARNING:buildstock_query.query_core:Column in.state found in multiple tables ['baseline', 'upgrade'].Using baseline\n",
      "WARNING:buildstock_query.query_core:Column in.heating_fuel found in multiple tables ['baseline', 'upgrade'].Using baseline\n",
      "WARNING:buildstock_query.query_core:Column in.geometry_building_type_recs found in multiple tables ['baseline', 'upgrade'].Using baseline\n"
     ]
    },
    {
     "name": "stdout",
     "output_type": "stream",
     "text": [
      "14.01-ng\n",
      "14.02-ng\n"
     ]
    },
    {
     "name": "stderr",
     "output_type": "stream",
     "text": [
      "WARNING:buildstock_query.query_core:Column in.state found in multiple tables ['baseline', 'upgrade'].Using baseline\n",
      "WARNING:buildstock_query.query_core:Column in.heating_fuel found in multiple tables ['baseline', 'upgrade'].Using baseline\n",
      "WARNING:buildstock_query.query_core:Column in.geometry_building_type_recs found in multiple tables ['baseline', 'upgrade'].Using baseline\n",
      "WARNING:buildstock_query.query_core:Column in.state found in multiple tables ['baseline', 'upgrade'].Using baseline\n",
      "WARNING:buildstock_query.query_core:Column in.heating_fuel found in multiple tables ['baseline', 'upgrade'].Using baseline\n",
      "WARNING:buildstock_query.query_core:Column in.geometry_building_type_recs found in multiple tables ['baseline', 'upgrade'].Using baseline\n"
     ]
    },
    {
     "name": "stdout",
     "output_type": "stream",
     "text": [
      "14.03-ng\n",
      "14.04-ng\n"
     ]
    },
    {
     "name": "stderr",
     "output_type": "stream",
     "text": [
      "WARNING:buildstock_query.query_core:Column in.state found in multiple tables ['baseline', 'upgrade'].Using baseline\n",
      "WARNING:buildstock_query.query_core:Column in.heating_fuel found in multiple tables ['baseline', 'upgrade'].Using baseline\n",
      "WARNING:buildstock_query.query_core:Column in.geometry_building_type_recs found in multiple tables ['baseline', 'upgrade'].Using baseline\n",
      "WARNING:buildstock_query.query_core:Column in.state found in multiple tables ['baseline', 'upgrade'].Using baseline\n",
      "WARNING:buildstock_query.query_core:Column in.heating_fuel found in multiple tables ['baseline', 'upgrade'].Using baseline\n",
      "WARNING:buildstock_query.query_core:Column in.geometry_building_type_recs found in multiple tables ['baseline', 'upgrade'].Using baseline\n"
     ]
    },
    {
     "name": "stdout",
     "output_type": "stream",
     "text": [
      "14.05-ng\n",
      "14.06-ng\n"
     ]
    },
    {
     "name": "stderr",
     "output_type": "stream",
     "text": [
      "WARNING:buildstock_query.query_core:Column in.state found in multiple tables ['baseline', 'upgrade'].Using baseline\n",
      "WARNING:buildstock_query.query_core:Column in.heating_fuel found in multiple tables ['baseline', 'upgrade'].Using baseline\n",
      "WARNING:buildstock_query.query_core:Column in.geometry_building_type_recs found in multiple tables ['baseline', 'upgrade'].Using baseline\n",
      "WARNING:buildstock_query.query_core:Column in.state found in multiple tables ['baseline', 'upgrade'].Using baseline\n",
      "WARNING:buildstock_query.query_core:Column in.heating_fuel found in multiple tables ['baseline', 'upgrade'].Using baseline\n",
      "WARNING:buildstock_query.query_core:Column in.geometry_building_type_recs found in multiple tables ['baseline', 'upgrade'].Using baseline\n"
     ]
    },
    {
     "name": "stdout",
     "output_type": "stream",
     "text": [
      "7.01-ng\n",
      "7.13-ng\n"
     ]
    },
    {
     "name": "stderr",
     "output_type": "stream",
     "text": [
      "WARNING:buildstock_query.query_core:Column in.state found in multiple tables ['baseline', 'upgrade'].Using baseline\n",
      "WARNING:buildstock_query.query_core:Column in.heating_fuel found in multiple tables ['baseline', 'upgrade'].Using baseline\n",
      "WARNING:buildstock_query.query_core:Column in.geometry_building_type_recs found in multiple tables ['baseline', 'upgrade'].Using baseline\n",
      "WARNING:buildstock_query.query_core:Column in.state found in multiple tables ['baseline', 'upgrade'].Using baseline\n",
      "WARNING:buildstock_query.query_core:Column in.heating_fuel found in multiple tables ['baseline', 'upgrade'].Using baseline\n",
      "WARNING:buildstock_query.query_core:Column in.geometry_building_type_recs found in multiple tables ['baseline', 'upgrade'].Using baseline\n"
     ]
    },
    {
     "name": "stdout",
     "output_type": "stream",
     "text": [
      "10.01-ng\n",
      "10.10-ng\n"
     ]
    },
    {
     "name": "stderr",
     "output_type": "stream",
     "text": [
      "WARNING:buildstock_query.query_core:Column in.state found in multiple tables ['baseline', 'upgrade'].Using baseline\n",
      "WARNING:buildstock_query.query_core:Column in.heating_fuel found in multiple tables ['baseline', 'upgrade'].Using baseline\n",
      "WARNING:buildstock_query.query_core:Column in.geometry_building_type_recs found in multiple tables ['baseline', 'upgrade'].Using baseline\n",
      "WARNING:buildstock_query.query_core:Column in.state found in multiple tables ['baseline', 'upgrade'].Using baseline\n",
      "WARNING:buildstock_query.query_core:Column in.heating_fuel found in multiple tables ['baseline', 'upgrade'].Using baseline\n",
      "WARNING:buildstock_query.query_core:Column in.geometry_building_type_recs found in multiple tables ['baseline', 'upgrade'].Using baseline\n"
     ]
    },
    {
     "name": "stdout",
     "output_type": "stream",
     "text": [
      "10.02-ng\n",
      "10.11-ng\n"
     ]
    },
    {
     "name": "stderr",
     "output_type": "stream",
     "text": [
      "WARNING:buildstock_query.query_core:Column in.state found in multiple tables ['baseline', 'upgrade'].Using baseline\n",
      "WARNING:buildstock_query.query_core:Column in.heating_fuel found in multiple tables ['baseline', 'upgrade'].Using baseline\n",
      "WARNING:buildstock_query.query_core:Column in.geometry_building_type_recs found in multiple tables ['baseline', 'upgrade'].Using baseline\n",
      "WARNING:buildstock_query.query_core:Column in.state found in multiple tables ['baseline', 'upgrade'].Using baseline\n",
      "WARNING:buildstock_query.query_core:Column in.heating_fuel found in multiple tables ['baseline', 'upgrade'].Using baseline\n",
      "WARNING:buildstock_query.query_core:Column in.geometry_building_type_recs found in multiple tables ['baseline', 'upgrade'].Using baseline\n"
     ]
    },
    {
     "name": "stdout",
     "output_type": "stream",
     "text": [
      "10.03-ng\n",
      "10.12-ng\n"
     ]
    },
    {
     "name": "stderr",
     "output_type": "stream",
     "text": [
      "WARNING:buildstock_query.query_core:Column in.state found in multiple tables ['baseline', 'upgrade'].Using baseline\n",
      "WARNING:buildstock_query.query_core:Column in.heating_fuel found in multiple tables ['baseline', 'upgrade'].Using baseline\n",
      "WARNING:buildstock_query.query_core:Column in.geometry_building_type_recs found in multiple tables ['baseline', 'upgrade'].Using baseline\n",
      "WARNING:buildstock_query.query_core:Column in.state found in multiple tables ['baseline', 'upgrade'].Using baseline\n",
      "WARNING:buildstock_query.query_core:Column in.heating_fuel found in multiple tables ['baseline', 'upgrade'].Using baseline\n",
      "WARNING:buildstock_query.query_core:Column in.geometry_building_type_recs found in multiple tables ['baseline', 'upgrade'].Using baseline\n"
     ]
    },
    {
     "name": "stdout",
     "output_type": "stream",
     "text": [
      "7.05-ng\n",
      "7.06-ng\n"
     ]
    },
    {
     "name": "stderr",
     "output_type": "stream",
     "text": [
      "WARNING:buildstock_query.query_core:Column in.state found in multiple tables ['baseline', 'upgrade'].Using baseline\n",
      "WARNING:buildstock_query.query_core:Column in.heating_fuel found in multiple tables ['baseline', 'upgrade'].Using baseline\n",
      "WARNING:buildstock_query.query_core:Column in.geometry_building_type_recs found in multiple tables ['baseline', 'upgrade'].Using baseline\n",
      "WARNING:buildstock_query.query_core:Column in.state found in multiple tables ['baseline', 'upgrade'].Using baseline\n",
      "WARNING:buildstock_query.query_core:Column in.heating_fuel found in multiple tables ['baseline', 'upgrade'].Using baseline\n",
      "WARNING:buildstock_query.query_core:Column in.geometry_building_type_recs found in multiple tables ['baseline', 'upgrade'].Using baseline\n"
     ]
    },
    {
     "name": "stdout",
     "output_type": "stream",
     "text": [
      "7.07-ng\n",
      "7.08-ng\n"
     ]
    },
    {
     "name": "stderr",
     "output_type": "stream",
     "text": [
      "WARNING:buildstock_query.query_core:Column in.state found in multiple tables ['baseline', 'upgrade'].Using baseline\n",
      "WARNING:buildstock_query.query_core:Column in.heating_fuel found in multiple tables ['baseline', 'upgrade'].Using baseline\n",
      "WARNING:buildstock_query.query_core:Column in.geometry_building_type_recs found in multiple tables ['baseline', 'upgrade'].Using baseline\n",
      "WARNING:buildstock_query.query_core:Column in.state found in multiple tables ['baseline', 'upgrade'].Using baseline\n",
      "WARNING:buildstock_query.query_core:Column in.heating_fuel found in multiple tables ['baseline', 'upgrade'].Using baseline\n",
      "WARNING:buildstock_query.query_core:Column in.geometry_building_type_recs found in multiple tables ['baseline', 'upgrade'].Using baseline\n"
     ]
    },
    {
     "name": "stdout",
     "output_type": "stream",
     "text": [
      "7.17-ng\n",
      "7.18-ng\n"
     ]
    },
    {
     "name": "stderr",
     "output_type": "stream",
     "text": [
      "WARNING:buildstock_query.query_core:Column in.state found in multiple tables ['baseline', 'upgrade'].Using baseline\n",
      "WARNING:buildstock_query.query_core:Column in.heating_fuel found in multiple tables ['baseline', 'upgrade'].Using baseline\n",
      "WARNING:buildstock_query.query_core:Column in.geometry_building_type_recs found in multiple tables ['baseline', 'upgrade'].Using baseline\n",
      "WARNING:buildstock_query.query_core:Column in.state found in multiple tables ['baseline', 'upgrade'].Using baseline\n",
      "WARNING:buildstock_query.query_core:Column in.heating_fuel found in multiple tables ['baseline', 'upgrade'].Using baseline\n",
      "WARNING:buildstock_query.query_core:Column in.geometry_building_type_recs found in multiple tables ['baseline', 'upgrade'].Using baseline\n"
     ]
    },
    {
     "name": "stdout",
     "output_type": "stream",
     "text": [
      "7.19-ng\n",
      "7.20-ng\n"
     ]
    },
    {
     "name": "stderr",
     "output_type": "stream",
     "text": [
      "WARNING:buildstock_query.query_core:Column in.state found in multiple tables ['baseline', 'upgrade'].Using baseline\n",
      "WARNING:buildstock_query.query_core:Column in.heating_fuel found in multiple tables ['baseline', 'upgrade'].Using baseline\n",
      "WARNING:buildstock_query.query_core:Column in.geometry_building_type_recs found in multiple tables ['baseline', 'upgrade'].Using baseline\n",
      "WARNING:buildstock_query.query_core:Column in.state found in multiple tables ['baseline', 'upgrade'].Using baseline\n",
      "WARNING:buildstock_query.query_core:Column in.heating_fuel found in multiple tables ['baseline', 'upgrade'].Using baseline\n",
      "WARNING:buildstock_query.query_core:Column in.geometry_building_type_recs found in multiple tables ['baseline', 'upgrade'].Using baseline\n"
     ]
    },
    {
     "name": "stdout",
     "output_type": "stream",
     "text": [
      "7.09-ng\n",
      "7.10-ng\n"
     ]
    },
    {
     "name": "stderr",
     "output_type": "stream",
     "text": [
      "WARNING:buildstock_query.query_core:Column in.state found in multiple tables ['baseline', 'upgrade'].Using baseline\n",
      "WARNING:buildstock_query.query_core:Column in.heating_fuel found in multiple tables ['baseline', 'upgrade'].Using baseline\n",
      "WARNING:buildstock_query.query_core:Column in.geometry_building_type_recs found in multiple tables ['baseline', 'upgrade'].Using baseline\n",
      "WARNING:buildstock_query.query_core:Column in.state found in multiple tables ['baseline', 'upgrade'].Using baseline\n",
      "WARNING:buildstock_query.query_core:Column in.heating_fuel found in multiple tables ['baseline', 'upgrade'].Using baseline\n",
      "WARNING:buildstock_query.query_core:Column in.geometry_building_type_recs found in multiple tables ['baseline', 'upgrade'].Using baseline\n"
     ]
    },
    {
     "name": "stdout",
     "output_type": "stream",
     "text": [
      "7.11-ng\n",
      "7.12-ng\n"
     ]
    },
    {
     "name": "stderr",
     "output_type": "stream",
     "text": [
      "WARNING:buildstock_query.query_core:Column in.state found in multiple tables ['baseline', 'upgrade'].Using baseline\n",
      "WARNING:buildstock_query.query_core:Column in.heating_fuel found in multiple tables ['baseline', 'upgrade'].Using baseline\n",
      "WARNING:buildstock_query.query_core:Column in.geometry_building_type_recs found in multiple tables ['baseline', 'upgrade'].Using baseline\n",
      "WARNING:buildstock_query.query_core:Column in.state found in multiple tables ['baseline', 'upgrade'].Using baseline\n",
      "WARNING:buildstock_query.query_core:Column in.heating_fuel found in multiple tables ['baseline', 'upgrade'].Using baseline\n",
      "WARNING:buildstock_query.query_core:Column in.geometry_building_type_recs found in multiple tables ['baseline', 'upgrade'].Using baseline\n"
     ]
    },
    {
     "name": "stdout",
     "output_type": "stream",
     "text": [
      "7.21-ng\n",
      "7.22-ng\n"
     ]
    },
    {
     "name": "stderr",
     "output_type": "stream",
     "text": [
      "WARNING:buildstock_query.query_core:Column in.state found in multiple tables ['baseline', 'upgrade'].Using baseline\n",
      "WARNING:buildstock_query.query_core:Column in.heating_fuel found in multiple tables ['baseline', 'upgrade'].Using baseline\n",
      "WARNING:buildstock_query.query_core:Column in.geometry_building_type_recs found in multiple tables ['baseline', 'upgrade'].Using baseline\n",
      "WARNING:buildstock_query.query_core:Column in.state found in multiple tables ['baseline', 'upgrade'].Using baseline\n",
      "WARNING:buildstock_query.query_core:Column in.heating_fuel found in multiple tables ['baseline', 'upgrade'].Using baseline\n",
      "WARNING:buildstock_query.query_core:Column in.geometry_building_type_recs found in multiple tables ['baseline', 'upgrade'].Using baseline\n"
     ]
    },
    {
     "name": "stdout",
     "output_type": "stream",
     "text": [
      "7.23-ng\n",
      "7.24-ng\n"
     ]
    },
    {
     "name": "stderr",
     "output_type": "stream",
     "text": [
      "WARNING:buildstock_query.query_core:Column in.state found in multiple tables ['baseline', 'upgrade'].Using baseline\n",
      "WARNING:buildstock_query.query_core:Column in.heating_fuel found in multiple tables ['baseline', 'upgrade'].Using baseline\n",
      "WARNING:buildstock_query.query_core:Column in.geometry_building_type_recs found in multiple tables ['baseline', 'upgrade'].Using baseline\n",
      "WARNING:buildstock_query.query_core:Column in.state found in multiple tables ['baseline', 'upgrade'].Using baseline\n",
      "WARNING:buildstock_query.query_core:Column in.heating_fuel found in multiple tables ['baseline', 'upgrade'].Using baseline\n",
      "WARNING:buildstock_query.query_core:Column in.geometry_building_type_recs found in multiple tables ['baseline', 'upgrade'].Using baseline\n"
     ]
    },
    {
     "name": "stdout",
     "output_type": "stream",
     "text": [
      "14.07-ng\n",
      "14.08-ng\n"
     ]
    },
    {
     "name": "stderr",
     "output_type": "stream",
     "text": [
      "WARNING:buildstock_query.query_core:Column in.state found in multiple tables ['baseline', 'upgrade'].Using baseline\n",
      "WARNING:buildstock_query.query_core:Column in.heating_fuel found in multiple tables ['baseline', 'upgrade'].Using baseline\n",
      "WARNING:buildstock_query.query_core:Column in.geometry_building_type_recs found in multiple tables ['baseline', 'upgrade'].Using baseline\n",
      "WARNING:buildstock_query.query_core:Column in.state found in multiple tables ['baseline', 'upgrade'].Using baseline\n",
      "WARNING:buildstock_query.query_core:Column in.heating_fuel found in multiple tables ['baseline', 'upgrade'].Using baseline\n",
      "WARNING:buildstock_query.query_core:Column in.geometry_building_type_recs found in multiple tables ['baseline', 'upgrade'].Using baseline\n"
     ]
    },
    {
     "name": "stdout",
     "output_type": "stream",
     "text": [
      "14.09-ng\n",
      "14.10-ng\n"
     ]
    },
    {
     "name": "stderr",
     "output_type": "stream",
     "text": [
      "WARNING:buildstock_query.query_core:Column in.state found in multiple tables ['baseline', 'upgrade'].Using baseline\n",
      "WARNING:buildstock_query.query_core:Column in.heating_fuel found in multiple tables ['baseline', 'upgrade'].Using baseline\n",
      "WARNING:buildstock_query.query_core:Column in.geometry_building_type_recs found in multiple tables ['baseline', 'upgrade'].Using baseline\n",
      "WARNING:buildstock_query.query_core:Column in.state found in multiple tables ['baseline', 'upgrade'].Using baseline\n",
      "WARNING:buildstock_query.query_core:Column in.heating_fuel found in multiple tables ['baseline', 'upgrade'].Using baseline\n",
      "WARNING:buildstock_query.query_core:Column in.geometry_building_type_recs found in multiple tables ['baseline', 'upgrade'].Using baseline\n"
     ]
    },
    {
     "name": "stdout",
     "output_type": "stream",
     "text": [
      "14.11-ng\n",
      "14.12-ng\n"
     ]
    },
    {
     "name": "stderr",
     "output_type": "stream",
     "text": [
      "WARNING:buildstock_query.query_core:Column in.state found in multiple tables ['baseline', 'upgrade'].Using baseline\n",
      "WARNING:buildstock_query.query_core:Column in.heating_fuel found in multiple tables ['baseline', 'upgrade'].Using baseline\n",
      "WARNING:buildstock_query.query_core:Column in.geometry_building_type_recs found in multiple tables ['baseline', 'upgrade'].Using baseline\n",
      "WARNING:buildstock_query.query_core:Column in.state found in multiple tables ['baseline', 'upgrade'].Using baseline\n",
      "WARNING:buildstock_query.query_core:Column in.heating_fuel found in multiple tables ['baseline', 'upgrade'].Using baseline\n",
      "WARNING:buildstock_query.query_core:Column in.geometry_building_type_recs found in multiple tables ['baseline', 'upgrade'].Using baseline\n"
     ]
    },
    {
     "name": "stdout",
     "output_type": "stream",
     "text": [
      "8.01-ng\n",
      "8.13-ng\n"
     ]
    },
    {
     "name": "stderr",
     "output_type": "stream",
     "text": [
      "WARNING:buildstock_query.query_core:Column in.state found in multiple tables ['baseline', 'upgrade'].Using baseline\n",
      "WARNING:buildstock_query.query_core:Column in.heating_fuel found in multiple tables ['baseline', 'upgrade'].Using baseline\n",
      "WARNING:buildstock_query.query_core:Column in.geometry_building_type_recs found in multiple tables ['baseline', 'upgrade'].Using baseline\n",
      "WARNING:buildstock_query.query_core:Column in.state found in multiple tables ['baseline', 'upgrade'].Using baseline\n",
      "WARNING:buildstock_query.query_core:Column in.heating_fuel found in multiple tables ['baseline', 'upgrade'].Using baseline\n",
      "WARNING:buildstock_query.query_core:Column in.geometry_building_type_recs found in multiple tables ['baseline', 'upgrade'].Using baseline\n"
     ]
    },
    {
     "name": "stdout",
     "output_type": "stream",
     "text": [
      "11.01-ng\n",
      "11.10-ng\n"
     ]
    },
    {
     "name": "stderr",
     "output_type": "stream",
     "text": [
      "WARNING:buildstock_query.query_core:Column in.state found in multiple tables ['baseline', 'upgrade'].Using baseline\n",
      "WARNING:buildstock_query.query_core:Column in.heating_fuel found in multiple tables ['baseline', 'upgrade'].Using baseline\n",
      "WARNING:buildstock_query.query_core:Column in.geometry_building_type_recs found in multiple tables ['baseline', 'upgrade'].Using baseline\n",
      "WARNING:buildstock_query.query_core:Column in.state found in multiple tables ['baseline', 'upgrade'].Using baseline\n",
      "WARNING:buildstock_query.query_core:Column in.heating_fuel found in multiple tables ['baseline', 'upgrade'].Using baseline\n",
      "WARNING:buildstock_query.query_core:Column in.geometry_building_type_recs found in multiple tables ['baseline', 'upgrade'].Using baseline\n"
     ]
    },
    {
     "name": "stdout",
     "output_type": "stream",
     "text": [
      "11.02-ng\n",
      "11.11-ng\n"
     ]
    },
    {
     "name": "stderr",
     "output_type": "stream",
     "text": [
      "WARNING:buildstock_query.query_core:Column in.state found in multiple tables ['baseline', 'upgrade'].Using baseline\n",
      "WARNING:buildstock_query.query_core:Column in.heating_fuel found in multiple tables ['baseline', 'upgrade'].Using baseline\n",
      "WARNING:buildstock_query.query_core:Column in.geometry_building_type_recs found in multiple tables ['baseline', 'upgrade'].Using baseline\n",
      "WARNING:buildstock_query.query_core:Column in.state found in multiple tables ['baseline', 'upgrade'].Using baseline\n",
      "WARNING:buildstock_query.query_core:Column in.heating_fuel found in multiple tables ['baseline', 'upgrade'].Using baseline\n",
      "WARNING:buildstock_query.query_core:Column in.geometry_building_type_recs found in multiple tables ['baseline', 'upgrade'].Using baseline\n"
     ]
    },
    {
     "name": "stdout",
     "output_type": "stream",
     "text": [
      "11.03-ng\n",
      "11.12-ng\n"
     ]
    },
    {
     "name": "stderr",
     "output_type": "stream",
     "text": [
      "WARNING:buildstock_query.query_core:Column in.state found in multiple tables ['baseline', 'upgrade'].Using baseline\n",
      "WARNING:buildstock_query.query_core:Column in.heating_fuel found in multiple tables ['baseline', 'upgrade'].Using baseline\n",
      "WARNING:buildstock_query.query_core:Column in.geometry_building_type_recs found in multiple tables ['baseline', 'upgrade'].Using baseline\n",
      "WARNING:buildstock_query.query_core:Column in.state found in multiple tables ['baseline', 'upgrade'].Using baseline\n",
      "WARNING:buildstock_query.query_core:Column in.heating_fuel found in multiple tables ['baseline', 'upgrade'].Using baseline\n",
      "WARNING:buildstock_query.query_core:Column in.geometry_building_type_recs found in multiple tables ['baseline', 'upgrade'].Using baseline\n"
     ]
    },
    {
     "name": "stdout",
     "output_type": "stream",
     "text": [
      "8.05-ng\n",
      "8.06-ng\n"
     ]
    },
    {
     "name": "stderr",
     "output_type": "stream",
     "text": [
      "WARNING:buildstock_query.query_core:Column in.state found in multiple tables ['baseline', 'upgrade'].Using baseline\n",
      "WARNING:buildstock_query.query_core:Column in.heating_fuel found in multiple tables ['baseline', 'upgrade'].Using baseline\n",
      "WARNING:buildstock_query.query_core:Column in.geometry_building_type_recs found in multiple tables ['baseline', 'upgrade'].Using baseline\n",
      "WARNING:buildstock_query.query_core:Column in.state found in multiple tables ['baseline', 'upgrade'].Using baseline\n",
      "WARNING:buildstock_query.query_core:Column in.heating_fuel found in multiple tables ['baseline', 'upgrade'].Using baseline\n",
      "WARNING:buildstock_query.query_core:Column in.geometry_building_type_recs found in multiple tables ['baseline', 'upgrade'].Using baseline\n"
     ]
    },
    {
     "name": "stdout",
     "output_type": "stream",
     "text": [
      "8.07-ng\n",
      "8.08-ng\n"
     ]
    },
    {
     "name": "stderr",
     "output_type": "stream",
     "text": [
      "WARNING:buildstock_query.query_core:Column in.state found in multiple tables ['baseline', 'upgrade'].Using baseline\n",
      "WARNING:buildstock_query.query_core:Column in.heating_fuel found in multiple tables ['baseline', 'upgrade'].Using baseline\n",
      "WARNING:buildstock_query.query_core:Column in.geometry_building_type_recs found in multiple tables ['baseline', 'upgrade'].Using baseline\n",
      "WARNING:buildstock_query.query_core:Column in.state found in multiple tables ['baseline', 'upgrade'].Using baseline\n",
      "WARNING:buildstock_query.query_core:Column in.heating_fuel found in multiple tables ['baseline', 'upgrade'].Using baseline\n",
      "WARNING:buildstock_query.query_core:Column in.geometry_building_type_recs found in multiple tables ['baseline', 'upgrade'].Using baseline\n"
     ]
    },
    {
     "name": "stdout",
     "output_type": "stream",
     "text": [
      "8.17-ng\n",
      "8.18-ng\n"
     ]
    },
    {
     "name": "stderr",
     "output_type": "stream",
     "text": [
      "WARNING:buildstock_query.query_core:Column in.state found in multiple tables ['baseline', 'upgrade'].Using baseline\n",
      "WARNING:buildstock_query.query_core:Column in.heating_fuel found in multiple tables ['baseline', 'upgrade'].Using baseline\n",
      "WARNING:buildstock_query.query_core:Column in.geometry_building_type_recs found in multiple tables ['baseline', 'upgrade'].Using baseline\n",
      "WARNING:buildstock_query.query_core:Column in.state found in multiple tables ['baseline', 'upgrade'].Using baseline\n",
      "WARNING:buildstock_query.query_core:Column in.heating_fuel found in multiple tables ['baseline', 'upgrade'].Using baseline\n",
      "WARNING:buildstock_query.query_core:Column in.geometry_building_type_recs found in multiple tables ['baseline', 'upgrade'].Using baseline\n"
     ]
    },
    {
     "name": "stdout",
     "output_type": "stream",
     "text": [
      "8.19-ng\n",
      "8.20-ng\n"
     ]
    },
    {
     "name": "stderr",
     "output_type": "stream",
     "text": [
      "WARNING:buildstock_query.query_core:Column in.state found in multiple tables ['baseline', 'upgrade'].Using baseline\n",
      "WARNING:buildstock_query.query_core:Column in.heating_fuel found in multiple tables ['baseline', 'upgrade'].Using baseline\n",
      "WARNING:buildstock_query.query_core:Column in.geometry_building_type_recs found in multiple tables ['baseline', 'upgrade'].Using baseline\n",
      "WARNING:buildstock_query.query_core:Column in.state found in multiple tables ['baseline', 'upgrade'].Using baseline\n",
      "WARNING:buildstock_query.query_core:Column in.heating_fuel found in multiple tables ['baseline', 'upgrade'].Using baseline\n",
      "WARNING:buildstock_query.query_core:Column in.geometry_building_type_recs found in multiple tables ['baseline', 'upgrade'].Using baseline\n"
     ]
    },
    {
     "name": "stdout",
     "output_type": "stream",
     "text": [
      "8.09-ng\n",
      "8.10-ng\n"
     ]
    },
    {
     "name": "stderr",
     "output_type": "stream",
     "text": [
      "WARNING:buildstock_query.query_core:Column in.state found in multiple tables ['baseline', 'upgrade'].Using baseline\n",
      "WARNING:buildstock_query.query_core:Column in.heating_fuel found in multiple tables ['baseline', 'upgrade'].Using baseline\n",
      "WARNING:buildstock_query.query_core:Column in.geometry_building_type_recs found in multiple tables ['baseline', 'upgrade'].Using baseline\n"
     ]
    },
    {
     "name": "stdout",
     "output_type": "stream",
     "text": [
      "8.11-ng\n"
     ]
    },
    {
     "name": "stderr",
     "output_type": "stream",
     "text": [
      "WARNING:buildstock_query.query_core:Column in.state found in multiple tables ['baseline', 'upgrade'].Using baseline\n",
      "WARNING:buildstock_query.query_core:Column in.heating_fuel found in multiple tables ['baseline', 'upgrade'].Using baseline\n",
      "WARNING:buildstock_query.query_core:Column in.geometry_building_type_recs found in multiple tables ['baseline', 'upgrade'].Using baseline\n",
      "WARNING:buildstock_query.query_core:Column in.state found in multiple tables ['baseline', 'upgrade'].Using baseline\n",
      "WARNING:buildstock_query.query_core:Column in.heating_fuel found in multiple tables ['baseline', 'upgrade'].Using baseline\n",
      "WARNING:buildstock_query.query_core:Column in.geometry_building_type_recs found in multiple tables ['baseline', 'upgrade'].Using baseline\n"
     ]
    },
    {
     "name": "stdout",
     "output_type": "stream",
     "text": [
      "8.12-ng\n",
      "8.21-ng\n"
     ]
    },
    {
     "name": "stderr",
     "output_type": "stream",
     "text": [
      "WARNING:buildstock_query.query_core:Column in.state found in multiple tables ['baseline', 'upgrade'].Using baseline\n",
      "WARNING:buildstock_query.query_core:Column in.heating_fuel found in multiple tables ['baseline', 'upgrade'].Using baseline\n",
      "WARNING:buildstock_query.query_core:Column in.geometry_building_type_recs found in multiple tables ['baseline', 'upgrade'].Using baseline\n",
      "WARNING:buildstock_query.query_core:Column in.state found in multiple tables ['baseline', 'upgrade'].Using baseline\n",
      "WARNING:buildstock_query.query_core:Column in.heating_fuel found in multiple tables ['baseline', 'upgrade'].Using baseline\n",
      "WARNING:buildstock_query.query_core:Column in.geometry_building_type_recs found in multiple tables ['baseline', 'upgrade'].Using baseline\n"
     ]
    },
    {
     "name": "stdout",
     "output_type": "stream",
     "text": [
      "8.22-ng\n",
      "8.23-ng\n"
     ]
    },
    {
     "name": "stderr",
     "output_type": "stream",
     "text": [
      "WARNING:buildstock_query.query_core:Column in.state found in multiple tables ['baseline', 'upgrade'].Using baseline\n",
      "WARNING:buildstock_query.query_core:Column in.heating_fuel found in multiple tables ['baseline', 'upgrade'].Using baseline\n",
      "WARNING:buildstock_query.query_core:Column in.geometry_building_type_recs found in multiple tables ['baseline', 'upgrade'].Using baseline\n",
      "WARNING:buildstock_query.query_core:Column in.state found in multiple tables ['baseline', 'upgrade'].Using baseline\n",
      "WARNING:buildstock_query.query_core:Column in.heating_fuel found in multiple tables ['baseline', 'upgrade'].Using baseline\n",
      "WARNING:buildstock_query.query_core:Column in.geometry_building_type_recs found in multiple tables ['baseline', 'upgrade'].Using baseline\n"
     ]
    },
    {
     "name": "stdout",
     "output_type": "stream",
     "text": [
      "8.24-ng\n",
      "14.13-ng\n"
     ]
    },
    {
     "name": "stderr",
     "output_type": "stream",
     "text": [
      "WARNING:buildstock_query.query_core:Column in.state found in multiple tables ['baseline', 'upgrade'].Using baseline\n",
      "WARNING:buildstock_query.query_core:Column in.heating_fuel found in multiple tables ['baseline', 'upgrade'].Using baseline\n",
      "WARNING:buildstock_query.query_core:Column in.geometry_building_type_recs found in multiple tables ['baseline', 'upgrade'].Using baseline\n",
      "WARNING:buildstock_query.query_core:Column in.state found in multiple tables ['baseline', 'upgrade'].Using baseline\n",
      "WARNING:buildstock_query.query_core:Column in.heating_fuel found in multiple tables ['baseline', 'upgrade'].Using baseline\n",
      "WARNING:buildstock_query.query_core:Column in.geometry_building_type_recs found in multiple tables ['baseline', 'upgrade'].Using baseline\n"
     ]
    },
    {
     "name": "stdout",
     "output_type": "stream",
     "text": [
      "14.14-ng\n",
      "14.15-ng\n"
     ]
    },
    {
     "name": "stderr",
     "output_type": "stream",
     "text": [
      "WARNING:buildstock_query.query_core:Column in.state found in multiple tables ['baseline', 'upgrade'].Using baseline\n",
      "WARNING:buildstock_query.query_core:Column in.heating_fuel found in multiple tables ['baseline', 'upgrade'].Using baseline\n",
      "WARNING:buildstock_query.query_core:Column in.geometry_building_type_recs found in multiple tables ['baseline', 'upgrade'].Using baseline\n",
      "WARNING:buildstock_query.query_core:Column in.state found in multiple tables ['baseline', 'upgrade'].Using baseline\n",
      "WARNING:buildstock_query.query_core:Column in.heating_fuel found in multiple tables ['baseline', 'upgrade'].Using baseline\n",
      "WARNING:buildstock_query.query_core:Column in.geometry_building_type_recs found in multiple tables ['baseline', 'upgrade'].Using baseline\n"
     ]
    },
    {
     "name": "stdout",
     "output_type": "stream",
     "text": [
      "14.16-ng\n",
      "14.17-ng\n"
     ]
    },
    {
     "name": "stderr",
     "output_type": "stream",
     "text": [
      "WARNING:buildstock_query.query_core:Column in.state found in multiple tables ['baseline', 'upgrade'].Using baseline\n",
      "WARNING:buildstock_query.query_core:Column in.heating_fuel found in multiple tables ['baseline', 'upgrade'].Using baseline\n",
      "WARNING:buildstock_query.query_core:Column in.geometry_building_type_recs found in multiple tables ['baseline', 'upgrade'].Using baseline\n",
      "WARNING:buildstock_query.query_core:Column in.state found in multiple tables ['baseline', 'upgrade'].Using baseline\n",
      "WARNING:buildstock_query.query_core:Column in.heating_fuel found in multiple tables ['baseline', 'upgrade'].Using baseline\n",
      "WARNING:buildstock_query.query_core:Column in.geometry_building_type_recs found in multiple tables ['baseline', 'upgrade'].Using baseline\n"
     ]
    },
    {
     "name": "stdout",
     "output_type": "stream",
     "text": [
      "14.18-ng\n",
      "9.01-ng\n"
     ]
    },
    {
     "name": "stderr",
     "output_type": "stream",
     "text": [
      "WARNING:buildstock_query.query_core:Column in.state found in multiple tables ['baseline', 'upgrade'].Using baseline\n",
      "WARNING:buildstock_query.query_core:Column in.heating_fuel found in multiple tables ['baseline', 'upgrade'].Using baseline\n",
      "WARNING:buildstock_query.query_core:Column in.geometry_building_type_recs found in multiple tables ['baseline', 'upgrade'].Using baseline\n",
      "WARNING:buildstock_query.query_core:Column in.state found in multiple tables ['baseline', 'upgrade'].Using baseline\n",
      "WARNING:buildstock_query.query_core:Column in.heating_fuel found in multiple tables ['baseline', 'upgrade'].Using baseline\n",
      "WARNING:buildstock_query.query_core:Column in.geometry_building_type_recs found in multiple tables ['baseline', 'upgrade'].Using baseline\n"
     ]
    },
    {
     "name": "stdout",
     "output_type": "stream",
     "text": [
      "9.13-ng\n",
      "12.01-ng\n"
     ]
    },
    {
     "name": "stderr",
     "output_type": "stream",
     "text": [
      "WARNING:buildstock_query.query_core:Column in.state found in multiple tables ['baseline', 'upgrade'].Using baseline\n",
      "WARNING:buildstock_query.query_core:Column in.heating_fuel found in multiple tables ['baseline', 'upgrade'].Using baseline\n",
      "WARNING:buildstock_query.query_core:Column in.geometry_building_type_recs found in multiple tables ['baseline', 'upgrade'].Using baseline\n",
      "WARNING:buildstock_query.query_core:Column in.state found in multiple tables ['baseline', 'upgrade'].Using baseline\n",
      "WARNING:buildstock_query.query_core:Column in.heating_fuel found in multiple tables ['baseline', 'upgrade'].Using baseline\n",
      "WARNING:buildstock_query.query_core:Column in.geometry_building_type_recs found in multiple tables ['baseline', 'upgrade'].Using baseline\n"
     ]
    },
    {
     "name": "stdout",
     "output_type": "stream",
     "text": [
      "12.10-ng\n",
      "12.11-ng\n"
     ]
    },
    {
     "name": "stderr",
     "output_type": "stream",
     "text": [
      "WARNING:buildstock_query.query_core:Column in.state found in multiple tables ['baseline', 'upgrade'].Using baseline\n",
      "WARNING:buildstock_query.query_core:Column in.heating_fuel found in multiple tables ['baseline', 'upgrade'].Using baseline\n",
      "WARNING:buildstock_query.query_core:Column in.geometry_building_type_recs found in multiple tables ['baseline', 'upgrade'].Using baseline\n",
      "WARNING:buildstock_query.query_core:Column in.state found in multiple tables ['baseline', 'upgrade'].Using baseline\n",
      "WARNING:buildstock_query.query_core:Column in.heating_fuel found in multiple tables ['baseline', 'upgrade'].Using baseline\n",
      "WARNING:buildstock_query.query_core:Column in.geometry_building_type_recs found in multiple tables ['baseline', 'upgrade'].Using baseline\n"
     ]
    },
    {
     "name": "stdout",
     "output_type": "stream",
     "text": [
      "12.03-ng\n",
      "12.12-ng\n"
     ]
    },
    {
     "name": "stderr",
     "output_type": "stream",
     "text": [
      "WARNING:buildstock_query.query_core:Column in.state found in multiple tables ['baseline', 'upgrade'].Using baseline\n",
      "WARNING:buildstock_query.query_core:Column in.heating_fuel found in multiple tables ['baseline', 'upgrade'].Using baseline\n",
      "WARNING:buildstock_query.query_core:Column in.geometry_building_type_recs found in multiple tables ['baseline', 'upgrade'].Using baseline\n",
      "WARNING:buildstock_query.query_core:Column in.state found in multiple tables ['baseline', 'upgrade'].Using baseline\n",
      "WARNING:buildstock_query.query_core:Column in.heating_fuel found in multiple tables ['baseline', 'upgrade'].Using baseline\n",
      "WARNING:buildstock_query.query_core:Column in.geometry_building_type_recs found in multiple tables ['baseline', 'upgrade'].Using baseline\n"
     ]
    },
    {
     "name": "stdout",
     "output_type": "stream",
     "text": [
      "9.05-ng\n",
      "9.06-ng\n"
     ]
    },
    {
     "name": "stderr",
     "output_type": "stream",
     "text": [
      "WARNING:buildstock_query.query_core:Column in.state found in multiple tables ['baseline', 'upgrade'].Using baseline\n",
      "WARNING:buildstock_query.query_core:Column in.heating_fuel found in multiple tables ['baseline', 'upgrade'].Using baseline\n",
      "WARNING:buildstock_query.query_core:Column in.geometry_building_type_recs found in multiple tables ['baseline', 'upgrade'].Using baseline\n",
      "WARNING:buildstock_query.query_core:Column in.state found in multiple tables ['baseline', 'upgrade'].Using baseline\n",
      "WARNING:buildstock_query.query_core:Column in.heating_fuel found in multiple tables ['baseline', 'upgrade'].Using baseline\n",
      "WARNING:buildstock_query.query_core:Column in.geometry_building_type_recs found in multiple tables ['baseline', 'upgrade'].Using baseline\n"
     ]
    },
    {
     "name": "stdout",
     "output_type": "stream",
     "text": [
      "9.07-ng\n",
      "9.08-ng\n"
     ]
    },
    {
     "name": "stderr",
     "output_type": "stream",
     "text": [
      "WARNING:buildstock_query.query_core:Column in.state found in multiple tables ['baseline', 'upgrade'].Using baseline\n",
      "WARNING:buildstock_query.query_core:Column in.heating_fuel found in multiple tables ['baseline', 'upgrade'].Using baseline\n",
      "WARNING:buildstock_query.query_core:Column in.geometry_building_type_recs found in multiple tables ['baseline', 'upgrade'].Using baseline\n",
      "WARNING:buildstock_query.query_core:Column in.state found in multiple tables ['baseline', 'upgrade'].Using baseline\n",
      "WARNING:buildstock_query.query_core:Column in.heating_fuel found in multiple tables ['baseline', 'upgrade'].Using baseline\n",
      "WARNING:buildstock_query.query_core:Column in.geometry_building_type_recs found in multiple tables ['baseline', 'upgrade'].Using baseline\n"
     ]
    },
    {
     "name": "stdout",
     "output_type": "stream",
     "text": [
      "9.17-ng\n",
      "9.18-ng\n"
     ]
    },
    {
     "name": "stderr",
     "output_type": "stream",
     "text": [
      "WARNING:buildstock_query.query_core:Column in.state found in multiple tables ['baseline', 'upgrade'].Using baseline\n",
      "WARNING:buildstock_query.query_core:Column in.heating_fuel found in multiple tables ['baseline', 'upgrade'].Using baseline\n",
      "WARNING:buildstock_query.query_core:Column in.geometry_building_type_recs found in multiple tables ['baseline', 'upgrade'].Using baseline\n",
      "WARNING:buildstock_query.query_core:Column in.state found in multiple tables ['baseline', 'upgrade'].Using baseline\n",
      "WARNING:buildstock_query.query_core:Column in.heating_fuel found in multiple tables ['baseline', 'upgrade'].Using baseline\n",
      "WARNING:buildstock_query.query_core:Column in.geometry_building_type_recs found in multiple tables ['baseline', 'upgrade'].Using baseline\n"
     ]
    },
    {
     "name": "stdout",
     "output_type": "stream",
     "text": [
      "9.19-ng\n",
      "9.20-ng\n"
     ]
    },
    {
     "name": "stderr",
     "output_type": "stream",
     "text": [
      "WARNING:buildstock_query.query_core:Column in.state found in multiple tables ['baseline', 'upgrade'].Using baseline\n",
      "WARNING:buildstock_query.query_core:Column in.heating_fuel found in multiple tables ['baseline', 'upgrade'].Using baseline\n",
      "WARNING:buildstock_query.query_core:Column in.geometry_building_type_recs found in multiple tables ['baseline', 'upgrade'].Using baseline\n",
      "WARNING:buildstock_query.query_core:Column in.state found in multiple tables ['baseline', 'upgrade'].Using baseline\n",
      "WARNING:buildstock_query.query_core:Column in.heating_fuel found in multiple tables ['baseline', 'upgrade'].Using baseline\n",
      "WARNING:buildstock_query.query_core:Column in.geometry_building_type_recs found in multiple tables ['baseline', 'upgrade'].Using baseline\n"
     ]
    },
    {
     "name": "stdout",
     "output_type": "stream",
     "text": [
      "9.09-ng\n",
      "9.10-ng\n"
     ]
    },
    {
     "name": "stderr",
     "output_type": "stream",
     "text": [
      "WARNING:buildstock_query.query_core:Column in.state found in multiple tables ['baseline', 'upgrade'].Using baseline\n",
      "WARNING:buildstock_query.query_core:Column in.heating_fuel found in multiple tables ['baseline', 'upgrade'].Using baseline\n",
      "WARNING:buildstock_query.query_core:Column in.geometry_building_type_recs found in multiple tables ['baseline', 'upgrade'].Using baseline\n",
      "WARNING:buildstock_query.query_core:Column in.state found in multiple tables ['baseline', 'upgrade'].Using baseline\n",
      "WARNING:buildstock_query.query_core:Column in.heating_fuel found in multiple tables ['baseline', 'upgrade'].Using baseline\n",
      "WARNING:buildstock_query.query_core:Column in.geometry_building_type_recs found in multiple tables ['baseline', 'upgrade'].Using baseline\n"
     ]
    },
    {
     "name": "stdout",
     "output_type": "stream",
     "text": [
      "9.11-ng\n",
      "9.12-ng\n"
     ]
    },
    {
     "name": "stderr",
     "output_type": "stream",
     "text": [
      "WARNING:buildstock_query.query_core:Column in.state found in multiple tables ['baseline', 'upgrade'].Using baseline\n",
      "WARNING:buildstock_query.query_core:Column in.heating_fuel found in multiple tables ['baseline', 'upgrade'].Using baseline\n",
      "WARNING:buildstock_query.query_core:Column in.geometry_building_type_recs found in multiple tables ['baseline', 'upgrade'].Using baseline\n",
      "WARNING:buildstock_query.query_core:Column in.state found in multiple tables ['baseline', 'upgrade'].Using baseline\n",
      "WARNING:buildstock_query.query_core:Column in.heating_fuel found in multiple tables ['baseline', 'upgrade'].Using baseline\n",
      "WARNING:buildstock_query.query_core:Column in.geometry_building_type_recs found in multiple tables ['baseline', 'upgrade'].Using baseline\n"
     ]
    },
    {
     "name": "stdout",
     "output_type": "stream",
     "text": [
      "9.21-ng\n",
      "9.22-ng\n"
     ]
    },
    {
     "name": "stderr",
     "output_type": "stream",
     "text": [
      "WARNING:buildstock_query.query_core:Column in.state found in multiple tables ['baseline', 'upgrade'].Using baseline\n",
      "WARNING:buildstock_query.query_core:Column in.heating_fuel found in multiple tables ['baseline', 'upgrade'].Using baseline\n",
      "WARNING:buildstock_query.query_core:Column in.geometry_building_type_recs found in multiple tables ['baseline', 'upgrade'].Using baseline\n",
      "WARNING:buildstock_query.query_core:Column in.state found in multiple tables ['baseline', 'upgrade'].Using baseline\n",
      "WARNING:buildstock_query.query_core:Column in.heating_fuel found in multiple tables ['baseline', 'upgrade'].Using baseline\n",
      "WARNING:buildstock_query.query_core:Column in.geometry_building_type_recs found in multiple tables ['baseline', 'upgrade'].Using baseline\n"
     ]
    },
    {
     "name": "stdout",
     "output_type": "stream",
     "text": [
      "9.23-ng\n",
      "9.24-ng\n"
     ]
    },
    {
     "name": "stderr",
     "output_type": "stream",
     "text": [
      "WARNING:buildstock_query.query_core:Column in.state found in multiple tables ['baseline', 'upgrade'].Using baseline\n",
      "WARNING:buildstock_query.query_core:Column in.heating_fuel found in multiple tables ['baseline', 'upgrade'].Using baseline\n",
      "WARNING:buildstock_query.query_core:Column in.geometry_building_type_recs found in multiple tables ['baseline', 'upgrade'].Using baseline\n",
      "WARNING:buildstock_query.query_core:Column in.state found in multiple tables ['baseline', 'upgrade'].Using baseline\n",
      "WARNING:buildstock_query.query_core:Column in.heating_fuel found in multiple tables ['baseline', 'upgrade'].Using baseline\n",
      "WARNING:buildstock_query.query_core:Column in.geometry_building_type_recs found in multiple tables ['baseline', 'upgrade'].Using baseline\n"
     ]
    },
    {
     "name": "stdout",
     "output_type": "stream",
     "text": [
      "13.18-ng\n",
      "13.19-ng\n"
     ]
    },
    {
     "name": "stderr",
     "output_type": "stream",
     "text": [
      "WARNING:buildstock_query.query_core:Column in.state found in multiple tables ['baseline', 'upgrade'].Using baseline\n",
      "WARNING:buildstock_query.query_core:Column in.heating_fuel found in multiple tables ['baseline', 'upgrade'].Using baseline\n",
      "WARNING:buildstock_query.query_core:Column in.geometry_building_type_recs found in multiple tables ['baseline', 'upgrade'].Using baseline\n"
     ]
    },
    {
     "name": "stdout",
     "output_type": "stream",
     "text": [
      "13.01-ng\n"
     ]
    },
    {
     "name": "stderr",
     "output_type": "stream",
     "text": [
      "WARNING:buildstock_query.query_core:Column in.state found in multiple tables ['baseline', 'upgrade'].Using baseline\n",
      "WARNING:buildstock_query.query_core:Column in.heating_fuel found in multiple tables ['baseline', 'upgrade'].Using baseline\n",
      "WARNING:buildstock_query.query_core:Column in.geometry_building_type_recs found in multiple tables ['baseline', 'upgrade'].Using baseline\n",
      "WARNING:buildstock_query.query_core:Column in.state found in multiple tables ['baseline', 'upgrade'].Using baseline\n",
      "WARNING:buildstock_query.query_core:Column in.heating_fuel found in multiple tables ['baseline', 'upgrade'].Using baseline\n",
      "WARNING:buildstock_query.query_core:Column in.geometry_building_type_recs found in multiple tables ['baseline', 'upgrade'].Using baseline\n"
     ]
    },
    {
     "name": "stdout",
     "output_type": "stream",
     "text": [
      "13.02-ng\n",
      "13.03-ng\n"
     ]
    },
    {
     "name": "stderr",
     "output_type": "stream",
     "text": [
      "WARNING:buildstock_query.query_core:Column in.state found in multiple tables ['baseline', 'upgrade'].Using baseline\n",
      "WARNING:buildstock_query.query_core:Column in.heating_fuel found in multiple tables ['baseline', 'upgrade'].Using baseline\n",
      "WARNING:buildstock_query.query_core:Column in.geometry_building_type_recs found in multiple tables ['baseline', 'upgrade'].Using baseline\n",
      "WARNING:buildstock_query.query_core:Column in.state found in multiple tables ['baseline', 'upgrade'].Using baseline\n",
      "WARNING:buildstock_query.query_core:Column in.heating_fuel found in multiple tables ['baseline', 'upgrade'].Using baseline\n",
      "WARNING:buildstock_query.query_core:Column in.geometry_building_type_recs found in multiple tables ['baseline', 'upgrade'].Using baseline\n"
     ]
    },
    {
     "name": "stdout",
     "output_type": "stream",
     "text": [
      "13.04-ng\n",
      "13.05-ng\n"
     ]
    },
    {
     "name": "stderr",
     "output_type": "stream",
     "text": [
      "WARNING:buildstock_query.query_core:Column in.state found in multiple tables ['baseline', 'upgrade'].Using baseline\n",
      "WARNING:buildstock_query.query_core:Column in.heating_fuel found in multiple tables ['baseline', 'upgrade'].Using baseline\n",
      "WARNING:buildstock_query.query_core:Column in.geometry_building_type_recs found in multiple tables ['baseline', 'upgrade'].Using baseline\n",
      "WARNING:buildstock_query.query_core:Column in.state found in multiple tables ['baseline', 'upgrade'].Using baseline\n",
      "WARNING:buildstock_query.query_core:Column in.heating_fuel found in multiple tables ['baseline', 'upgrade'].Using baseline\n",
      "WARNING:buildstock_query.query_core:Column in.geometry_building_type_recs found in multiple tables ['baseline', 'upgrade'].Using baseline\n"
     ]
    },
    {
     "name": "stdout",
     "output_type": "stream",
     "text": [
      "13.06-ng\n",
      "13.07-ng\n"
     ]
    },
    {
     "name": "stderr",
     "output_type": "stream",
     "text": [
      "WARNING:buildstock_query.query_core:Column in.state found in multiple tables ['baseline', 'upgrade'].Using baseline\n",
      "WARNING:buildstock_query.query_core:Column in.heating_fuel found in multiple tables ['baseline', 'upgrade'].Using baseline\n",
      "WARNING:buildstock_query.query_core:Column in.geometry_building_type_recs found in multiple tables ['baseline', 'upgrade'].Using baseline\n",
      "WARNING:buildstock_query.query_core:Column in.state found in multiple tables ['baseline', 'upgrade'].Using baseline\n",
      "WARNING:buildstock_query.query_core:Column in.heating_fuel found in multiple tables ['baseline', 'upgrade'].Using baseline\n",
      "WARNING:buildstock_query.query_core:Column in.geometry_building_type_recs found in multiple tables ['baseline', 'upgrade'].Using baseline\n"
     ]
    },
    {
     "name": "stdout",
     "output_type": "stream",
     "text": [
      "13.08-ng\n",
      "15.01-ng\n"
     ]
    },
    {
     "name": "stderr",
     "output_type": "stream",
     "text": [
      "WARNING:buildstock_query.query_core:Column in.state found in multiple tables ['baseline', 'upgrade'].Using baseline\n",
      "WARNING:buildstock_query.query_core:Column in.heating_fuel found in multiple tables ['baseline', 'upgrade'].Using baseline\n",
      "WARNING:buildstock_query.query_core:Column in.geometry_building_type_recs found in multiple tables ['baseline', 'upgrade'].Using baseline\n"
     ]
    },
    {
     "name": "stdout",
     "output_type": "stream",
     "text": [
      "15.05-ng\n"
     ]
    },
    {
     "name": "stderr",
     "output_type": "stream",
     "text": [
      "WARNING:buildstock_query.query_core:Column in.state found in multiple tables ['baseline', 'upgrade'].Using baseline\n",
      "WARNING:buildstock_query.query_core:Column in.heating_fuel found in multiple tables ['baseline', 'upgrade'].Using baseline\n",
      "WARNING:buildstock_query.query_core:Column in.geometry_building_type_recs found in multiple tables ['baseline', 'upgrade'].Using baseline\n",
      "WARNING:buildstock_query.query_core:Column in.state found in multiple tables ['baseline', 'upgrade'].Using baseline\n",
      "WARNING:buildstock_query.query_core:Column in.heating_fuel found in multiple tables ['baseline', 'upgrade'].Using baseline\n",
      "WARNING:buildstock_query.query_core:Column in.geometry_building_type_recs found in multiple tables ['baseline', 'upgrade'].Using baseline\n"
     ]
    },
    {
     "name": "stdout",
     "output_type": "stream",
     "text": [
      "15.17-ng\n",
      "15.20-ng\n"
     ]
    },
    {
     "name": "stderr",
     "output_type": "stream",
     "text": [
      "WARNING:buildstock_query.query_core:Column in.state found in multiple tables ['baseline', 'upgrade'].Using baseline\n",
      "WARNING:buildstock_query.query_core:Column in.heating_fuel found in multiple tables ['baseline', 'upgrade'].Using baseline\n",
      "WARNING:buildstock_query.query_core:Column in.geometry_building_type_recs found in multiple tables ['baseline', 'upgrade'].Using baseline\n",
      "WARNING:buildstock_query.query_core:Column in.state found in multiple tables ['baseline', 'upgrade'].Using baseline\n",
      "WARNING:buildstock_query.query_core:Column in.heating_fuel found in multiple tables ['baseline', 'upgrade'].Using baseline\n",
      "WARNING:buildstock_query.query_core:Column in.geometry_building_type_recs found in multiple tables ['baseline', 'upgrade'].Using baseline\n",
      "WARNING:buildstock_query.query_core:Column in.state found in multiple tables ['baseline', 'upgrade'].Using baseline\n"
     ]
    },
    {
     "name": "stdout",
     "output_type": "stream",
     "text": [
      "15.18-ng\n",
      "15.21-ng\n"
     ]
    },
    {
     "name": "stderr",
     "output_type": "stream",
     "text": [
      "WARNING:buildstock_query.query_core:Column in.heating_fuel found in multiple tables ['baseline', 'upgrade'].Using baseline\n",
      "WARNING:buildstock_query.query_core:Column in.geometry_building_type_recs found in multiple tables ['baseline', 'upgrade'].Using baseline\n",
      "WARNING:buildstock_query.query_core:Column in.state found in multiple tables ['baseline', 'upgrade'].Using baseline\n",
      "WARNING:buildstock_query.query_core:Column in.heating_fuel found in multiple tables ['baseline', 'upgrade'].Using baseline\n",
      "WARNING:buildstock_query.query_core:Column in.geometry_building_type_recs found in multiple tables ['baseline', 'upgrade'].Using baseline\n"
     ]
    },
    {
     "name": "stdout",
     "output_type": "stream",
     "text": [
      "15.19-ng\n",
      "15.22-ng\n"
     ]
    },
    {
     "name": "stderr",
     "output_type": "stream",
     "text": [
      "WARNING:buildstock_query.query_core:Column in.state found in multiple tables ['baseline', 'upgrade'].Using baseline\n",
      "WARNING:buildstock_query.query_core:Column in.heating_fuel found in multiple tables ['baseline', 'upgrade'].Using baseline\n",
      "WARNING:buildstock_query.query_core:Column in.geometry_building_type_recs found in multiple tables ['baseline', 'upgrade'].Using baseline\n",
      "WARNING:buildstock_query.query_core:Column in.state found in multiple tables ['baseline', 'upgrade'].Using baseline\n",
      "WARNING:buildstock_query.query_core:Column in.heating_fuel found in multiple tables ['baseline', 'upgrade'].Using baseline\n",
      "WARNING:buildstock_query.query_core:Column in.geometry_building_type_recs found in multiple tables ['baseline', 'upgrade'].Using baseline\n"
     ]
    },
    {
     "name": "stdout",
     "output_type": "stream",
     "text": [
      "15.09-ng\n",
      "15.10-ng\n"
     ]
    },
    {
     "name": "stderr",
     "output_type": "stream",
     "text": [
      "WARNING:buildstock_query.query_core:Column in.state found in multiple tables ['baseline', 'upgrade'].Using baseline\n",
      "WARNING:buildstock_query.query_core:Column in.heating_fuel found in multiple tables ['baseline', 'upgrade'].Using baseline\n",
      "WARNING:buildstock_query.query_core:Column in.geometry_building_type_recs found in multiple tables ['baseline', 'upgrade'].Using baseline\n",
      "WARNING:buildstock_query.query_core:Column in.state found in multiple tables ['baseline', 'upgrade'].Using baseline\n",
      "WARNING:buildstock_query.query_core:Column in.heating_fuel found in multiple tables ['baseline', 'upgrade'].Using baseline\n",
      "WARNING:buildstock_query.query_core:Column in.geometry_building_type_recs found in multiple tables ['baseline', 'upgrade'].Using baseline\n"
     ]
    },
    {
     "name": "stdout",
     "output_type": "stream",
     "text": [
      "15.11-ng\n",
      "15.12-ng\n"
     ]
    },
    {
     "name": "stderr",
     "output_type": "stream",
     "text": [
      "WARNING:buildstock_query.query_core:Column in.state found in multiple tables ['baseline', 'upgrade'].Using baseline\n",
      "WARNING:buildstock_query.query_core:Column in.heating_fuel found in multiple tables ['baseline', 'upgrade'].Using baseline\n",
      "WARNING:buildstock_query.query_core:Column in.geometry_building_type_recs found in multiple tables ['baseline', 'upgrade'].Using baseline\n",
      "WARNING:buildstock_query.query_core:Column in.state found in multiple tables ['baseline', 'upgrade'].Using baseline\n",
      "WARNING:buildstock_query.query_core:Column in.heating_fuel found in multiple tables ['baseline', 'upgrade'].Using baseline\n",
      "WARNING:buildstock_query.query_core:Column in.geometry_building_type_recs found in multiple tables ['baseline', 'upgrade'].Using baseline\n"
     ]
    },
    {
     "name": "stdout",
     "output_type": "stream",
     "text": [
      "15.13-ng\n",
      "15.14-ng\n"
     ]
    },
    {
     "name": "stderr",
     "output_type": "stream",
     "text": [
      "WARNING:buildstock_query.query_core:Column in.state found in multiple tables ['baseline', 'upgrade'].Using baseline\n",
      "WARNING:buildstock_query.query_core:Column in.heating_fuel found in multiple tables ['baseline', 'upgrade'].Using baseline\n",
      "WARNING:buildstock_query.query_core:Column in.geometry_building_type_recs found in multiple tables ['baseline', 'upgrade'].Using baseline\n",
      "WARNING:buildstock_query.query_core:Column in.state found in multiple tables ['baseline', 'upgrade'].Using baseline\n",
      "WARNING:buildstock_query.query_core:Column in.heating_fuel found in multiple tables ['baseline', 'upgrade'].Using baseline\n",
      "WARNING:buildstock_query.query_core:Column in.geometry_building_type_recs found in multiple tables ['baseline', 'upgrade'].Using baseline\n"
     ]
    },
    {
     "name": "stdout",
     "output_type": "stream",
     "text": [
      "15.15-ng\n",
      "15.16-ng\n"
     ]
    },
    {
     "name": "stderr",
     "output_type": "stream",
     "text": [
      "WARNING:buildstock_query.query_core:Column in.state found in multiple tables ['baseline', 'upgrade'].Using baseline\n",
      "WARNING:buildstock_query.query_core:Column in.heating_fuel found in multiple tables ['baseline', 'upgrade'].Using baseline\n",
      "WARNING:buildstock_query.query_core:Column in.geometry_building_type_recs found in multiple tables ['baseline', 'upgrade'].Using baseline\n",
      "WARNING:buildstock_query.query_core:Column in.state found in multiple tables ['baseline', 'upgrade'].Using baseline\n",
      "WARNING:buildstock_query.query_core:Column in.heating_fuel found in multiple tables ['baseline', 'upgrade'].Using baseline\n",
      "WARNING:buildstock_query.query_core:Column in.geometry_building_type_recs found in multiple tables ['baseline', 'upgrade'].Using baseline\n"
     ]
    },
    {
     "name": "stdout",
     "output_type": "stream",
     "text": [
      "13.15-ng\n",
      "13.16-ng\n"
     ]
    },
    {
     "name": "stderr",
     "output_type": "stream",
     "text": [
      "WARNING:buildstock_query.query_core:Column in.state found in multiple tables ['baseline', 'upgrade'].Using baseline\n",
      "WARNING:buildstock_query.query_core:Column in.heating_fuel found in multiple tables ['baseline', 'upgrade'].Using baseline\n",
      "WARNING:buildstock_query.query_core:Column in.geometry_building_type_recs found in multiple tables ['baseline', 'upgrade'].Using baseline\n",
      "WARNING:buildstock_query.query_core:Column in.state found in multiple tables ['baseline', 'upgrade'].Using baseline\n",
      "WARNING:buildstock_query.query_core:Column in.heating_fuel found in multiple tables ['baseline', 'upgrade'].Using baseline\n",
      "WARNING:buildstock_query.query_core:Column in.geometry_building_type_recs found in multiple tables ['baseline', 'upgrade'].Using baseline\n"
     ]
    },
    {
     "name": "stdout",
     "output_type": "stream",
     "text": [
      "13.17-ng\n"
     ]
    }
   ],
   "source": [
    "#Get natural gas savings\n",
    "ng_results = {}\n",
    "fuel_of_interest = 'ng'\n",
    "fuel_enduse_field = 'out.natural_gas.total.energy_consumption'\n",
    "for upgrade_id_instance in upgrade_id_list:\n",
    "    result_name = upgrade_id_instance + '-' + fuel_of_interest\n",
    "    print(result_name)\n",
    "    result = my_run.savings.savings_shape(upgrade_id=upgrade_id_instance, \n",
    "                             enduses=[fuel_enduse_field],\n",
    "                             group_by=['in.state', 'in.heating_fuel', simple_bldg_col],\n",
    "                             restrict=[('in.geometry_building_type_recs', ['Single-Family Detached', 'Single-Family Attached', 'Multi-Family with 2 - 4 Units', 'Multi-Family with 5+ Units'])],\n",
    "                             annual_only=True,\n",
    "                             get_query_only=False,\n",
    "                             applied_only= True)\n",
    "    ng_results[result_name] = result\n",
    "    #ng_results[result_name].to_csv('C:/Users/epresent/NREL/C Bldg Stock - General/ResStock Fact Sheets/SLOPE Data Layer/Data Pulls/' + result_name + '.csv')"
   ]
  },
  {
   "cell_type": "code",
   "execution_count": 67,
   "metadata": {},
   "outputs": [
    {
     "name": "stderr",
     "output_type": "stream",
     "text": [
      "WARNING:buildstock_query.query_core:Column in.state found in multiple tables ['baseline', 'upgrade'].Using baseline\n",
      "WARNING:buildstock_query.query_core:Column in.heating_fuel found in multiple tables ['baseline', 'upgrade'].Using baseline\n",
      "WARNING:buildstock_query.query_core:Column in.geometry_building_type_recs found in multiple tables ['baseline', 'upgrade'].Using baseline\n"
     ]
    },
    {
     "name": "stdout",
     "output_type": "stream",
     "text": [
      "3.07-propane\n",
      "3.01-propane\n"
     ]
    },
    {
     "name": "stderr",
     "output_type": "stream",
     "text": [
      "WARNING:buildstock_query.query_core:Column in.state found in multiple tables ['baseline', 'upgrade'].Using baseline\n",
      "WARNING:buildstock_query.query_core:Column in.heating_fuel found in multiple tables ['baseline', 'upgrade'].Using baseline\n",
      "WARNING:buildstock_query.query_core:Column in.geometry_building_type_recs found in multiple tables ['baseline', 'upgrade'].Using baseline\n",
      "WARNING:buildstock_query.query_core:Column in.state found in multiple tables ['baseline', 'upgrade'].Using baseline\n",
      "WARNING:buildstock_query.query_core:Column in.heating_fuel found in multiple tables ['baseline', 'upgrade'].Using baseline\n",
      "WARNING:buildstock_query.query_core:Column in.geometry_building_type_recs found in multiple tables ['baseline', 'upgrade'].Using baseline\n"
     ]
    },
    {
     "name": "stdout",
     "output_type": "stream",
     "text": [
      "4.04-propane\n",
      "2.03-propane\n"
     ]
    },
    {
     "name": "stderr",
     "output_type": "stream",
     "text": [
      "WARNING:buildstock_query.query_core:Column in.state found in multiple tables ['baseline', 'upgrade'].Using baseline\n",
      "WARNING:buildstock_query.query_core:Column in.heating_fuel found in multiple tables ['baseline', 'upgrade'].Using baseline\n",
      "WARNING:buildstock_query.query_core:Column in.geometry_building_type_recs found in multiple tables ['baseline', 'upgrade'].Using baseline\n",
      "WARNING:buildstock_query.query_core:Column in.state found in multiple tables ['baseline', 'upgrade'].Using baseline\n",
      "WARNING:buildstock_query.query_core:Column in.heating_fuel found in multiple tables ['baseline', 'upgrade'].Using baseline\n",
      "WARNING:buildstock_query.query_core:Column in.geometry_building_type_recs found in multiple tables ['baseline', 'upgrade'].Using baseline\n"
     ]
    },
    {
     "name": "stdout",
     "output_type": "stream",
     "text": [
      "2.04-propane\n",
      "2.05-propane\n"
     ]
    },
    {
     "name": "stderr",
     "output_type": "stream",
     "text": [
      "WARNING:buildstock_query.query_core:Column in.state found in multiple tables ['baseline', 'upgrade'].Using baseline\n",
      "WARNING:buildstock_query.query_core:Column in.heating_fuel found in multiple tables ['baseline', 'upgrade'].Using baseline\n",
      "WARNING:buildstock_query.query_core:Column in.geometry_building_type_recs found in multiple tables ['baseline', 'upgrade'].Using baseline\n",
      "WARNING:buildstock_query.query_core:Column in.state found in multiple tables ['baseline', 'upgrade'].Using baseline\n",
      "WARNING:buildstock_query.query_core:Column in.heating_fuel found in multiple tables ['baseline', 'upgrade'].Using baseline\n",
      "WARNING:buildstock_query.query_core:Column in.geometry_building_type_recs found in multiple tables ['baseline', 'upgrade'].Using baseline\n"
     ]
    },
    {
     "name": "stdout",
     "output_type": "stream",
     "text": [
      "4.05-propane\n",
      "4.06-propane\n"
     ]
    },
    {
     "name": "stderr",
     "output_type": "stream",
     "text": [
      "WARNING:buildstock_query.query_core:Column in.state found in multiple tables ['baseline', 'upgrade'].Using baseline\n",
      "WARNING:buildstock_query.query_core:Column in.heating_fuel found in multiple tables ['baseline', 'upgrade'].Using baseline\n",
      "WARNING:buildstock_query.query_core:Column in.geometry_building_type_recs found in multiple tables ['baseline', 'upgrade'].Using baseline\n",
      "WARNING:buildstock_query.query_core:Column in.state found in multiple tables ['baseline', 'upgrade'].Using baseline\n",
      "WARNING:buildstock_query.query_core:Column in.heating_fuel found in multiple tables ['baseline', 'upgrade'].Using baseline\n",
      "WARNING:buildstock_query.query_core:Column in.geometry_building_type_recs found in multiple tables ['baseline', 'upgrade'].Using baseline\n"
     ]
    },
    {
     "name": "stdout",
     "output_type": "stream",
     "text": [
      "4.07-propane\n",
      "4.08-propane\n"
     ]
    },
    {
     "name": "stderr",
     "output_type": "stream",
     "text": [
      "WARNING:buildstock_query.query_core:Column in.state found in multiple tables ['baseline', 'upgrade'].Using baseline\n",
      "WARNING:buildstock_query.query_core:Column in.heating_fuel found in multiple tables ['baseline', 'upgrade'].Using baseline\n",
      "WARNING:buildstock_query.query_core:Column in.geometry_building_type_recs found in multiple tables ['baseline', 'upgrade'].Using baseline\n"
     ]
    },
    {
     "name": "stdout",
     "output_type": "stream",
     "text": [
      "4.09-propane\n"
     ]
    },
    {
     "name": "stderr",
     "output_type": "stream",
     "text": [
      "WARNING:buildstock_query.query_core:Column in.state found in multiple tables ['baseline', 'upgrade'].Using baseline\n",
      "WARNING:buildstock_query.query_core:Column in.heating_fuel found in multiple tables ['baseline', 'upgrade'].Using baseline\n",
      "WARNING:buildstock_query.query_core:Column in.geometry_building_type_recs found in multiple tables ['baseline', 'upgrade'].Using baseline\n",
      "WARNING:buildstock_query.query_core:Column in.state found in multiple tables ['baseline', 'upgrade'].Using baseline\n",
      "WARNING:buildstock_query.query_core:Column in.heating_fuel found in multiple tables ['baseline', 'upgrade'].Using baseline\n",
      "WARNING:buildstock_query.query_core:Column in.geometry_building_type_recs found in multiple tables ['baseline', 'upgrade'].Using baseline\n"
     ]
    },
    {
     "name": "stdout",
     "output_type": "stream",
     "text": [
      "4.10-propane\n",
      "5.01-propane\n"
     ]
    },
    {
     "name": "stderr",
     "output_type": "stream",
     "text": [
      "WARNING:buildstock_query.query_core:Column in.state found in multiple tables ['baseline', 'upgrade'].Using baseline\n",
      "WARNING:buildstock_query.query_core:Column in.heating_fuel found in multiple tables ['baseline', 'upgrade'].Using baseline\n",
      "WARNING:buildstock_query.query_core:Column in.geometry_building_type_recs found in multiple tables ['baseline', 'upgrade'].Using baseline\n",
      "WARNING:buildstock_query.query_core:Column in.state found in multiple tables ['baseline', 'upgrade'].Using baseline\n",
      "WARNING:buildstock_query.query_core:Column in.heating_fuel found in multiple tables ['baseline', 'upgrade'].Using baseline\n",
      "WARNING:buildstock_query.query_core:Column in.geometry_building_type_recs found in multiple tables ['baseline', 'upgrade'].Using baseline\n"
     ]
    },
    {
     "name": "stdout",
     "output_type": "stream",
     "text": [
      "5.13-propane\n",
      "6.01-propane\n"
     ]
    },
    {
     "name": "stderr",
     "output_type": "stream",
     "text": [
      "WARNING:buildstock_query.query_core:Column in.state found in multiple tables ['baseline', 'upgrade'].Using baseline\n",
      "WARNING:buildstock_query.query_core:Column in.heating_fuel found in multiple tables ['baseline', 'upgrade'].Using baseline\n",
      "WARNING:buildstock_query.query_core:Column in.geometry_building_type_recs found in multiple tables ['baseline', 'upgrade'].Using baseline\n",
      "WARNING:buildstock_query.query_core:Column in.state found in multiple tables ['baseline', 'upgrade'].Using baseline\n",
      "WARNING:buildstock_query.query_core:Column in.heating_fuel found in multiple tables ['baseline', 'upgrade'].Using baseline\n",
      "WARNING:buildstock_query.query_core:Column in.geometry_building_type_recs found in multiple tables ['baseline', 'upgrade'].Using baseline\n"
     ]
    },
    {
     "name": "stdout",
     "output_type": "stream",
     "text": [
      "6.10-propane\n",
      "6.02-propane\n"
     ]
    },
    {
     "name": "stderr",
     "output_type": "stream",
     "text": [
      "WARNING:buildstock_query.query_core:Column in.state found in multiple tables ['baseline', 'upgrade'].Using baseline\n",
      "WARNING:buildstock_query.query_core:Column in.heating_fuel found in multiple tables ['baseline', 'upgrade'].Using baseline\n",
      "WARNING:buildstock_query.query_core:Column in.geometry_building_type_recs found in multiple tables ['baseline', 'upgrade'].Using baseline\n",
      "WARNING:buildstock_query.query_core:Column in.state found in multiple tables ['baseline', 'upgrade'].Using baseline\n",
      "WARNING:buildstock_query.query_core:Column in.heating_fuel found in multiple tables ['baseline', 'upgrade'].Using baseline\n",
      "WARNING:buildstock_query.query_core:Column in.geometry_building_type_recs found in multiple tables ['baseline', 'upgrade'].Using baseline\n"
     ]
    },
    {
     "name": "stdout",
     "output_type": "stream",
     "text": [
      "6.11-propane\n",
      "6.03-propane\n"
     ]
    },
    {
     "name": "stderr",
     "output_type": "stream",
     "text": [
      "WARNING:buildstock_query.query_core:Column in.state found in multiple tables ['baseline', 'upgrade'].Using baseline\n",
      "WARNING:buildstock_query.query_core:Column in.heating_fuel found in multiple tables ['baseline', 'upgrade'].Using baseline\n",
      "WARNING:buildstock_query.query_core:Column in.geometry_building_type_recs found in multiple tables ['baseline', 'upgrade'].Using baseline\n",
      "WARNING:buildstock_query.query_core:Column in.state found in multiple tables ['baseline', 'upgrade'].Using baseline\n",
      "WARNING:buildstock_query.query_core:Column in.heating_fuel found in multiple tables ['baseline', 'upgrade'].Using baseline\n",
      "WARNING:buildstock_query.query_core:Column in.geometry_building_type_recs found in multiple tables ['baseline', 'upgrade'].Using baseline\n"
     ]
    },
    {
     "name": "stdout",
     "output_type": "stream",
     "text": [
      "6.12-propane\n",
      "5.05-propane\n"
     ]
    },
    {
     "name": "stderr",
     "output_type": "stream",
     "text": [
      "WARNING:buildstock_query.query_core:Column in.state found in multiple tables ['baseline', 'upgrade'].Using baseline\n",
      "WARNING:buildstock_query.query_core:Column in.heating_fuel found in multiple tables ['baseline', 'upgrade'].Using baseline\n",
      "WARNING:buildstock_query.query_core:Column in.geometry_building_type_recs found in multiple tables ['baseline', 'upgrade'].Using baseline\n",
      "WARNING:buildstock_query.query_core:Column in.state found in multiple tables ['baseline', 'upgrade'].Using baseline\n",
      "WARNING:buildstock_query.query_core:Column in.heating_fuel found in multiple tables ['baseline', 'upgrade'].Using baseline\n",
      "WARNING:buildstock_query.query_core:Column in.geometry_building_type_recs found in multiple tables ['baseline', 'upgrade'].Using baseline\n"
     ]
    },
    {
     "name": "stdout",
     "output_type": "stream",
     "text": [
      "5.06-propane\n",
      "5.07-propane\n"
     ]
    },
    {
     "name": "stderr",
     "output_type": "stream",
     "text": [
      "WARNING:buildstock_query.query_core:Column in.state found in multiple tables ['baseline', 'upgrade'].Using baseline\n",
      "WARNING:buildstock_query.query_core:Column in.heating_fuel found in multiple tables ['baseline', 'upgrade'].Using baseline\n",
      "WARNING:buildstock_query.query_core:Column in.geometry_building_type_recs found in multiple tables ['baseline', 'upgrade'].Using baseline\n",
      "WARNING:buildstock_query.query_core:Column in.state found in multiple tables ['baseline', 'upgrade'].Using baseline\n",
      "WARNING:buildstock_query.query_core:Column in.heating_fuel found in multiple tables ['baseline', 'upgrade'].Using baseline\n",
      "WARNING:buildstock_query.query_core:Column in.geometry_building_type_recs found in multiple tables ['baseline', 'upgrade'].Using baseline\n"
     ]
    },
    {
     "name": "stdout",
     "output_type": "stream",
     "text": [
      "5.08-propane\n",
      "5.17-propane\n"
     ]
    },
    {
     "name": "stderr",
     "output_type": "stream",
     "text": [
      "WARNING:buildstock_query.query_core:Column in.state found in multiple tables ['baseline', 'upgrade'].Using baseline\n",
      "WARNING:buildstock_query.query_core:Column in.heating_fuel found in multiple tables ['baseline', 'upgrade'].Using baseline\n",
      "WARNING:buildstock_query.query_core:Column in.geometry_building_type_recs found in multiple tables ['baseline', 'upgrade'].Using baseline\n",
      "WARNING:buildstock_query.query_core:Column in.state found in multiple tables ['baseline', 'upgrade'].Using baseline\n",
      "WARNING:buildstock_query.query_core:Column in.heating_fuel found in multiple tables ['baseline', 'upgrade'].Using baseline\n",
      "WARNING:buildstock_query.query_core:Column in.geometry_building_type_recs found in multiple tables ['baseline', 'upgrade'].Using baseline\n"
     ]
    },
    {
     "name": "stdout",
     "output_type": "stream",
     "text": [
      "5.18-propane\n",
      "5.19-propane\n"
     ]
    },
    {
     "name": "stderr",
     "output_type": "stream",
     "text": [
      "WARNING:buildstock_query.query_core:Column in.state found in multiple tables ['baseline', 'upgrade'].Using baseline\n",
      "WARNING:buildstock_query.query_core:Column in.heating_fuel found in multiple tables ['baseline', 'upgrade'].Using baseline\n",
      "WARNING:buildstock_query.query_core:Column in.geometry_building_type_recs found in multiple tables ['baseline', 'upgrade'].Using baseline\n",
      "WARNING:buildstock_query.query_core:Column in.state found in multiple tables ['baseline', 'upgrade'].Using baseline\n",
      "WARNING:buildstock_query.query_core:Column in.heating_fuel found in multiple tables ['baseline', 'upgrade'].Using baseline\n",
      "WARNING:buildstock_query.query_core:Column in.geometry_building_type_recs found in multiple tables ['baseline', 'upgrade'].Using baseline\n"
     ]
    },
    {
     "name": "stdout",
     "output_type": "stream",
     "text": [
      "5.20-propane\n",
      "5.09-propane\n"
     ]
    },
    {
     "name": "stderr",
     "output_type": "stream",
     "text": [
      "WARNING:buildstock_query.query_core:Column in.state found in multiple tables ['baseline', 'upgrade'].Using baseline\n",
      "WARNING:buildstock_query.query_core:Column in.heating_fuel found in multiple tables ['baseline', 'upgrade'].Using baseline\n",
      "WARNING:buildstock_query.query_core:Column in.geometry_building_type_recs found in multiple tables ['baseline', 'upgrade'].Using baseline\n",
      "WARNING:buildstock_query.query_core:Column in.state found in multiple tables ['baseline', 'upgrade'].Using baseline\n",
      "WARNING:buildstock_query.query_core:Column in.heating_fuel found in multiple tables ['baseline', 'upgrade'].Using baseline\n",
      "WARNING:buildstock_query.query_core:Column in.geometry_building_type_recs found in multiple tables ['baseline', 'upgrade'].Using baseline\n"
     ]
    },
    {
     "name": "stdout",
     "output_type": "stream",
     "text": [
      "5.10-propane\n",
      "5.11-propane\n"
     ]
    },
    {
     "name": "stderr",
     "output_type": "stream",
     "text": [
      "WARNING:buildstock_query.query_core:Column in.state found in multiple tables ['baseline', 'upgrade'].Using baseline\n",
      "WARNING:buildstock_query.query_core:Column in.heating_fuel found in multiple tables ['baseline', 'upgrade'].Using baseline\n",
      "WARNING:buildstock_query.query_core:Column in.geometry_building_type_recs found in multiple tables ['baseline', 'upgrade'].Using baseline\n",
      "WARNING:buildstock_query.query_core:Column in.state found in multiple tables ['baseline', 'upgrade'].Using baseline\n",
      "WARNING:buildstock_query.query_core:Column in.heating_fuel found in multiple tables ['baseline', 'upgrade'].Using baseline\n",
      "WARNING:buildstock_query.query_core:Column in.geometry_building_type_recs found in multiple tables ['baseline', 'upgrade'].Using baseline\n"
     ]
    },
    {
     "name": "stdout",
     "output_type": "stream",
     "text": [
      "5.12-propane\n",
      "5.21-propane\n"
     ]
    },
    {
     "name": "stderr",
     "output_type": "stream",
     "text": [
      "WARNING:buildstock_query.query_core:Column in.state found in multiple tables ['baseline', 'upgrade'].Using baseline\n",
      "WARNING:buildstock_query.query_core:Column in.heating_fuel found in multiple tables ['baseline', 'upgrade'].Using baseline\n",
      "WARNING:buildstock_query.query_core:Column in.geometry_building_type_recs found in multiple tables ['baseline', 'upgrade'].Using baseline\n",
      "WARNING:buildstock_query.query_core:Column in.state found in multiple tables ['baseline', 'upgrade'].Using baseline\n",
      "WARNING:buildstock_query.query_core:Column in.heating_fuel found in multiple tables ['baseline', 'upgrade'].Using baseline\n",
      "WARNING:buildstock_query.query_core:Column in.geometry_building_type_recs found in multiple tables ['baseline', 'upgrade'].Using baseline\n"
     ]
    },
    {
     "name": "stdout",
     "output_type": "stream",
     "text": [
      "5.22-propane\n",
      "5.23-propane\n"
     ]
    },
    {
     "name": "stderr",
     "output_type": "stream",
     "text": [
      "WARNING:buildstock_query.query_core:Column in.state found in multiple tables ['baseline', 'upgrade'].Using baseline\n",
      "WARNING:buildstock_query.query_core:Column in.heating_fuel found in multiple tables ['baseline', 'upgrade'].Using baseline\n",
      "WARNING:buildstock_query.query_core:Column in.geometry_building_type_recs found in multiple tables ['baseline', 'upgrade'].Using baseline\n",
      "WARNING:buildstock_query.query_core:Column in.state found in multiple tables ['baseline', 'upgrade'].Using baseline\n",
      "WARNING:buildstock_query.query_core:Column in.heating_fuel found in multiple tables ['baseline', 'upgrade'].Using baseline\n",
      "WARNING:buildstock_query.query_core:Column in.geometry_building_type_recs found in multiple tables ['baseline', 'upgrade'].Using baseline\n"
     ]
    },
    {
     "name": "stdout",
     "output_type": "stream",
     "text": [
      "5.24-propane\n",
      "14.01-propane\n"
     ]
    },
    {
     "name": "stderr",
     "output_type": "stream",
     "text": [
      "WARNING:buildstock_query.query_core:Column in.state found in multiple tables ['baseline', 'upgrade'].Using baseline\n",
      "WARNING:buildstock_query.query_core:Column in.heating_fuel found in multiple tables ['baseline', 'upgrade'].Using baseline\n",
      "WARNING:buildstock_query.query_core:Column in.geometry_building_type_recs found in multiple tables ['baseline', 'upgrade'].Using baseline\n",
      "WARNING:buildstock_query.query_core:Column in.state found in multiple tables ['baseline', 'upgrade'].Using baseline\n",
      "WARNING:buildstock_query.query_core:Column in.heating_fuel found in multiple tables ['baseline', 'upgrade'].Using baseline\n",
      "WARNING:buildstock_query.query_core:Column in.geometry_building_type_recs found in multiple tables ['baseline', 'upgrade'].Using baseline\n"
     ]
    },
    {
     "name": "stdout",
     "output_type": "stream",
     "text": [
      "14.02-propane\n",
      "14.03-propane\n"
     ]
    },
    {
     "name": "stderr",
     "output_type": "stream",
     "text": [
      "WARNING:buildstock_query.query_core:Column in.state found in multiple tables ['baseline', 'upgrade'].Using baseline\n",
      "WARNING:buildstock_query.query_core:Column in.heating_fuel found in multiple tables ['baseline', 'upgrade'].Using baseline\n",
      "WARNING:buildstock_query.query_core:Column in.geometry_building_type_recs found in multiple tables ['baseline', 'upgrade'].Using baseline\n",
      "WARNING:buildstock_query.query_core:Column in.state found in multiple tables ['baseline', 'upgrade'].Using baseline\n",
      "WARNING:buildstock_query.query_core:Column in.heating_fuel found in multiple tables ['baseline', 'upgrade'].Using baseline\n",
      "WARNING:buildstock_query.query_core:Column in.geometry_building_type_recs found in multiple tables ['baseline', 'upgrade'].Using baseline\n"
     ]
    },
    {
     "name": "stdout",
     "output_type": "stream",
     "text": [
      "14.04-propane\n",
      "14.05-propane\n"
     ]
    },
    {
     "name": "stderr",
     "output_type": "stream",
     "text": [
      "WARNING:buildstock_query.query_core:Column in.state found in multiple tables ['baseline', 'upgrade'].Using baseline\n",
      "WARNING:buildstock_query.query_core:Column in.heating_fuel found in multiple tables ['baseline', 'upgrade'].Using baseline\n",
      "WARNING:buildstock_query.query_core:Column in.geometry_building_type_recs found in multiple tables ['baseline', 'upgrade'].Using baseline\n",
      "WARNING:buildstock_query.query_core:Column in.state found in multiple tables ['baseline', 'upgrade'].Using baseline\n",
      "WARNING:buildstock_query.query_core:Column in.heating_fuel found in multiple tables ['baseline', 'upgrade'].Using baseline\n",
      "WARNING:buildstock_query.query_core:Column in.geometry_building_type_recs found in multiple tables ['baseline', 'upgrade'].Using baseline\n"
     ]
    },
    {
     "name": "stdout",
     "output_type": "stream",
     "text": [
      "14.06-propane\n",
      "7.01-propane\n"
     ]
    },
    {
     "name": "stderr",
     "output_type": "stream",
     "text": [
      "WARNING:buildstock_query.query_core:Column in.state found in multiple tables ['baseline', 'upgrade'].Using baseline\n",
      "WARNING:buildstock_query.query_core:Column in.heating_fuel found in multiple tables ['baseline', 'upgrade'].Using baseline\n",
      "WARNING:buildstock_query.query_core:Column in.geometry_building_type_recs found in multiple tables ['baseline', 'upgrade'].Using baseline\n",
      "WARNING:buildstock_query.query_core:Column in.state found in multiple tables ['baseline', 'upgrade'].Using baseline\n",
      "WARNING:buildstock_query.query_core:Column in.heating_fuel found in multiple tables ['baseline', 'upgrade'].Using baseline\n",
      "WARNING:buildstock_query.query_core:Column in.geometry_building_type_recs found in multiple tables ['baseline', 'upgrade'].Using baseline\n"
     ]
    },
    {
     "name": "stdout",
     "output_type": "stream",
     "text": [
      "7.13-propane\n",
      "10.01-propane\n"
     ]
    },
    {
     "name": "stderr",
     "output_type": "stream",
     "text": [
      "WARNING:buildstock_query.query_core:Column in.state found in multiple tables ['baseline', 'upgrade'].Using baseline\n",
      "WARNING:buildstock_query.query_core:Column in.heating_fuel found in multiple tables ['baseline', 'upgrade'].Using baseline\n",
      "WARNING:buildstock_query.query_core:Column in.geometry_building_type_recs found in multiple tables ['baseline', 'upgrade'].Using baseline\n",
      "WARNING:buildstock_query.query_core:Column in.state found in multiple tables ['baseline', 'upgrade'].Using baseline\n",
      "WARNING:buildstock_query.query_core:Column in.heating_fuel found in multiple tables ['baseline', 'upgrade'].Using baseline\n",
      "WARNING:buildstock_query.query_core:Column in.geometry_building_type_recs found in multiple tables ['baseline', 'upgrade'].Using baseline\n"
     ]
    },
    {
     "name": "stdout",
     "output_type": "stream",
     "text": [
      "10.10-propane\n",
      "10.02-propane\n"
     ]
    },
    {
     "name": "stderr",
     "output_type": "stream",
     "text": [
      "WARNING:buildstock_query.query_core:Column in.state found in multiple tables ['baseline', 'upgrade'].Using baseline\n",
      "WARNING:buildstock_query.query_core:Column in.heating_fuel found in multiple tables ['baseline', 'upgrade'].Using baseline\n",
      "WARNING:buildstock_query.query_core:Column in.geometry_building_type_recs found in multiple tables ['baseline', 'upgrade'].Using baseline\n"
     ]
    },
    {
     "name": "stdout",
     "output_type": "stream",
     "text": [
      "10.11-propane\n"
     ]
    },
    {
     "name": "stderr",
     "output_type": "stream",
     "text": [
      "WARNING:buildstock_query.query_core:Column in.state found in multiple tables ['baseline', 'upgrade'].Using baseline\n",
      "WARNING:buildstock_query.query_core:Column in.heating_fuel found in multiple tables ['baseline', 'upgrade'].Using baseline\n",
      "WARNING:buildstock_query.query_core:Column in.geometry_building_type_recs found in multiple tables ['baseline', 'upgrade'].Using baseline\n",
      "WARNING:buildstock_query.query_core:Column in.state found in multiple tables ['baseline', 'upgrade'].Using baseline\n",
      "WARNING:buildstock_query.query_core:Column in.heating_fuel found in multiple tables ['baseline', 'upgrade'].Using baseline\n",
      "WARNING:buildstock_query.query_core:Column in.geometry_building_type_recs found in multiple tables ['baseline', 'upgrade'].Using baseline\n"
     ]
    },
    {
     "name": "stdout",
     "output_type": "stream",
     "text": [
      "10.03-propane\n",
      "10.12-propane\n"
     ]
    },
    {
     "name": "stderr",
     "output_type": "stream",
     "text": [
      "WARNING:buildstock_query.query_core:Column in.state found in multiple tables ['baseline', 'upgrade'].Using baseline\n",
      "WARNING:buildstock_query.query_core:Column in.heating_fuel found in multiple tables ['baseline', 'upgrade'].Using baseline\n",
      "WARNING:buildstock_query.query_core:Column in.geometry_building_type_recs found in multiple tables ['baseline', 'upgrade'].Using baseline\n",
      "WARNING:buildstock_query.query_core:Column in.state found in multiple tables ['baseline', 'upgrade'].Using baseline\n",
      "WARNING:buildstock_query.query_core:Column in.heating_fuel found in multiple tables ['baseline', 'upgrade'].Using baseline\n",
      "WARNING:buildstock_query.query_core:Column in.geometry_building_type_recs found in multiple tables ['baseline', 'upgrade'].Using baseline\n"
     ]
    },
    {
     "name": "stdout",
     "output_type": "stream",
     "text": [
      "7.05-propane\n",
      "7.06-propane\n"
     ]
    },
    {
     "name": "stderr",
     "output_type": "stream",
     "text": [
      "WARNING:buildstock_query.query_core:Column in.state found in multiple tables ['baseline', 'upgrade'].Using baseline\n",
      "WARNING:buildstock_query.query_core:Column in.heating_fuel found in multiple tables ['baseline', 'upgrade'].Using baseline\n",
      "WARNING:buildstock_query.query_core:Column in.geometry_building_type_recs found in multiple tables ['baseline', 'upgrade'].Using baseline\n",
      "WARNING:buildstock_query.query_core:Column in.state found in multiple tables ['baseline', 'upgrade'].Using baseline\n",
      "WARNING:buildstock_query.query_core:Column in.heating_fuel found in multiple tables ['baseline', 'upgrade'].Using baseline\n",
      "WARNING:buildstock_query.query_core:Column in.geometry_building_type_recs found in multiple tables ['baseline', 'upgrade'].Using baseline\n"
     ]
    },
    {
     "name": "stdout",
     "output_type": "stream",
     "text": [
      "7.07-propane\n",
      "7.08-propane\n"
     ]
    },
    {
     "name": "stderr",
     "output_type": "stream",
     "text": [
      "WARNING:buildstock_query.query_core:Column in.state found in multiple tables ['baseline', 'upgrade'].Using baseline\n",
      "WARNING:buildstock_query.query_core:Column in.heating_fuel found in multiple tables ['baseline', 'upgrade'].Using baseline\n",
      "WARNING:buildstock_query.query_core:Column in.geometry_building_type_recs found in multiple tables ['baseline', 'upgrade'].Using baseline\n",
      "WARNING:buildstock_query.query_core:Column in.state found in multiple tables ['baseline', 'upgrade'].Using baseline\n",
      "WARNING:buildstock_query.query_core:Column in.heating_fuel found in multiple tables ['baseline', 'upgrade'].Using baseline\n",
      "WARNING:buildstock_query.query_core:Column in.geometry_building_type_recs found in multiple tables ['baseline', 'upgrade'].Using baseline\n"
     ]
    },
    {
     "name": "stdout",
     "output_type": "stream",
     "text": [
      "7.17-propane\n",
      "7.18-propane\n"
     ]
    },
    {
     "name": "stderr",
     "output_type": "stream",
     "text": [
      "WARNING:buildstock_query.query_core:Column in.state found in multiple tables ['baseline', 'upgrade'].Using baseline\n",
      "WARNING:buildstock_query.query_core:Column in.heating_fuel found in multiple tables ['baseline', 'upgrade'].Using baseline\n",
      "WARNING:buildstock_query.query_core:Column in.geometry_building_type_recs found in multiple tables ['baseline', 'upgrade'].Using baseline\n",
      "WARNING:buildstock_query.query_core:Column in.state found in multiple tables ['baseline', 'upgrade'].Using baseline\n",
      "WARNING:buildstock_query.query_core:Column in.heating_fuel found in multiple tables ['baseline', 'upgrade'].Using baseline\n",
      "WARNING:buildstock_query.query_core:Column in.geometry_building_type_recs found in multiple tables ['baseline', 'upgrade'].Using baseline\n"
     ]
    },
    {
     "name": "stdout",
     "output_type": "stream",
     "text": [
      "7.19-propane\n",
      "7.20-propane\n"
     ]
    },
    {
     "name": "stderr",
     "output_type": "stream",
     "text": [
      "WARNING:buildstock_query.query_core:Column in.state found in multiple tables ['baseline', 'upgrade'].Using baseline\n",
      "WARNING:buildstock_query.query_core:Column in.heating_fuel found in multiple tables ['baseline', 'upgrade'].Using baseline\n",
      "WARNING:buildstock_query.query_core:Column in.geometry_building_type_recs found in multiple tables ['baseline', 'upgrade'].Using baseline\n",
      "WARNING:buildstock_query.query_core:Column in.state found in multiple tables ['baseline', 'upgrade'].Using baseline\n",
      "WARNING:buildstock_query.query_core:Column in.heating_fuel found in multiple tables ['baseline', 'upgrade'].Using baseline\n",
      "WARNING:buildstock_query.query_core:Column in.geometry_building_type_recs found in multiple tables ['baseline', 'upgrade'].Using baseline\n"
     ]
    },
    {
     "name": "stdout",
     "output_type": "stream",
     "text": [
      "7.09-propane\n",
      "7.10-propane\n"
     ]
    },
    {
     "name": "stderr",
     "output_type": "stream",
     "text": [
      "WARNING:buildstock_query.query_core:Column in.state found in multiple tables ['baseline', 'upgrade'].Using baseline\n",
      "WARNING:buildstock_query.query_core:Column in.heating_fuel found in multiple tables ['baseline', 'upgrade'].Using baseline\n",
      "WARNING:buildstock_query.query_core:Column in.geometry_building_type_recs found in multiple tables ['baseline', 'upgrade'].Using baseline\n",
      "WARNING:buildstock_query.query_core:Column in.state found in multiple tables ['baseline', 'upgrade'].Using baseline\n",
      "WARNING:buildstock_query.query_core:Column in.heating_fuel found in multiple tables ['baseline', 'upgrade'].Using baseline\n",
      "WARNING:buildstock_query.query_core:Column in.geometry_building_type_recs found in multiple tables ['baseline', 'upgrade'].Using baseline\n"
     ]
    },
    {
     "name": "stdout",
     "output_type": "stream",
     "text": [
      "7.11-propane\n",
      "7.12-propane\n"
     ]
    },
    {
     "name": "stderr",
     "output_type": "stream",
     "text": [
      "WARNING:buildstock_query.query_core:Column in.state found in multiple tables ['baseline', 'upgrade'].Using baseline\n",
      "WARNING:buildstock_query.query_core:Column in.heating_fuel found in multiple tables ['baseline', 'upgrade'].Using baseline\n",
      "WARNING:buildstock_query.query_core:Column in.geometry_building_type_recs found in multiple tables ['baseline', 'upgrade'].Using baseline\n",
      "WARNING:buildstock_query.query_core:Column in.state found in multiple tables ['baseline', 'upgrade'].Using baseline\n",
      "WARNING:buildstock_query.query_core:Column in.heating_fuel found in multiple tables ['baseline', 'upgrade'].Using baseline\n",
      "WARNING:buildstock_query.query_core:Column in.geometry_building_type_recs found in multiple tables ['baseline', 'upgrade'].Using baseline\n"
     ]
    },
    {
     "name": "stdout",
     "output_type": "stream",
     "text": [
      "7.21-propane\n",
      "7.22-propane\n"
     ]
    },
    {
     "name": "stderr",
     "output_type": "stream",
     "text": [
      "WARNING:buildstock_query.query_core:Column in.state found in multiple tables ['baseline', 'upgrade'].Using baseline\n",
      "WARNING:buildstock_query.query_core:Column in.heating_fuel found in multiple tables ['baseline', 'upgrade'].Using baseline\n",
      "WARNING:buildstock_query.query_core:Column in.geometry_building_type_recs found in multiple tables ['baseline', 'upgrade'].Using baseline\n",
      "WARNING:buildstock_query.query_core:Column in.state found in multiple tables ['baseline', 'upgrade'].Using baseline\n",
      "WARNING:buildstock_query.query_core:Column in.heating_fuel found in multiple tables ['baseline', 'upgrade'].Using baseline\n",
      "WARNING:buildstock_query.query_core:Column in.geometry_building_type_recs found in multiple tables ['baseline', 'upgrade'].Using baseline\n"
     ]
    },
    {
     "name": "stdout",
     "output_type": "stream",
     "text": [
      "7.23-propane\n",
      "7.24-propane\n"
     ]
    },
    {
     "name": "stderr",
     "output_type": "stream",
     "text": [
      "WARNING:buildstock_query.query_core:Column in.state found in multiple tables ['baseline', 'upgrade'].Using baseline\n",
      "WARNING:buildstock_query.query_core:Column in.heating_fuel found in multiple tables ['baseline', 'upgrade'].Using baseline\n",
      "WARNING:buildstock_query.query_core:Column in.geometry_building_type_recs found in multiple tables ['baseline', 'upgrade'].Using baseline\n",
      "WARNING:buildstock_query.query_core:Column in.state found in multiple tables ['baseline', 'upgrade'].Using baseline\n",
      "WARNING:buildstock_query.query_core:Column in.heating_fuel found in multiple tables ['baseline', 'upgrade'].Using baseline\n",
      "WARNING:buildstock_query.query_core:Column in.geometry_building_type_recs found in multiple tables ['baseline', 'upgrade'].Using baseline\n"
     ]
    },
    {
     "name": "stdout",
     "output_type": "stream",
     "text": [
      "14.07-propane\n",
      "14.08-propane\n"
     ]
    },
    {
     "name": "stderr",
     "output_type": "stream",
     "text": [
      "WARNING:buildstock_query.query_core:Column in.state found in multiple tables ['baseline', 'upgrade'].Using baseline\n",
      "WARNING:buildstock_query.query_core:Column in.heating_fuel found in multiple tables ['baseline', 'upgrade'].Using baseline\n",
      "WARNING:buildstock_query.query_core:Column in.geometry_building_type_recs found in multiple tables ['baseline', 'upgrade'].Using baseline\n",
      "WARNING:buildstock_query.query_core:Column in.state found in multiple tables ['baseline', 'upgrade'].Using baseline\n",
      "WARNING:buildstock_query.query_core:Column in.heating_fuel found in multiple tables ['baseline', 'upgrade'].Using baseline\n",
      "WARNING:buildstock_query.query_core:Column in.geometry_building_type_recs found in multiple tables ['baseline', 'upgrade'].Using baseline\n"
     ]
    },
    {
     "name": "stdout",
     "output_type": "stream",
     "text": [
      "14.09-propane\n",
      "14.10-propane\n"
     ]
    },
    {
     "name": "stderr",
     "output_type": "stream",
     "text": [
      "WARNING:buildstock_query.query_core:Column in.state found in multiple tables ['baseline', 'upgrade'].Using baseline\n",
      "WARNING:buildstock_query.query_core:Column in.heating_fuel found in multiple tables ['baseline', 'upgrade'].Using baseline\n",
      "WARNING:buildstock_query.query_core:Column in.geometry_building_type_recs found in multiple tables ['baseline', 'upgrade'].Using baseline\n",
      "WARNING:buildstock_query.query_core:Column in.state found in multiple tables ['baseline', 'upgrade'].Using baseline\n",
      "WARNING:buildstock_query.query_core:Column in.heating_fuel found in multiple tables ['baseline', 'upgrade'].Using baseline\n",
      "WARNING:buildstock_query.query_core:Column in.geometry_building_type_recs found in multiple tables ['baseline', 'upgrade'].Using baseline\n"
     ]
    },
    {
     "name": "stdout",
     "output_type": "stream",
     "text": [
      "14.11-propane\n",
      "14.12-propane\n"
     ]
    },
    {
     "name": "stderr",
     "output_type": "stream",
     "text": [
      "WARNING:buildstock_query.query_core:Column in.state found in multiple tables ['baseline', 'upgrade'].Using baseline\n",
      "WARNING:buildstock_query.query_core:Column in.heating_fuel found in multiple tables ['baseline', 'upgrade'].Using baseline\n",
      "WARNING:buildstock_query.query_core:Column in.geometry_building_type_recs found in multiple tables ['baseline', 'upgrade'].Using baseline\n",
      "WARNING:buildstock_query.query_core:Column in.state found in multiple tables ['baseline', 'upgrade'].Using baseline\n",
      "WARNING:buildstock_query.query_core:Column in.heating_fuel found in multiple tables ['baseline', 'upgrade'].Using baseline\n",
      "WARNING:buildstock_query.query_core:Column in.geometry_building_type_recs found in multiple tables ['baseline', 'upgrade'].Using baseline\n"
     ]
    },
    {
     "name": "stdout",
     "output_type": "stream",
     "text": [
      "8.01-propane\n",
      "8.13-propane\n"
     ]
    },
    {
     "name": "stderr",
     "output_type": "stream",
     "text": [
      "WARNING:buildstock_query.query_core:Column in.state found in multiple tables ['baseline', 'upgrade'].Using baseline\n",
      "WARNING:buildstock_query.query_core:Column in.heating_fuel found in multiple tables ['baseline', 'upgrade'].Using baseline\n",
      "WARNING:buildstock_query.query_core:Column in.geometry_building_type_recs found in multiple tables ['baseline', 'upgrade'].Using baseline\n",
      "WARNING:buildstock_query.query_core:Column in.state found in multiple tables ['baseline', 'upgrade'].Using baseline\n",
      "WARNING:buildstock_query.query_core:Column in.heating_fuel found in multiple tables ['baseline', 'upgrade'].Using baseline\n",
      "WARNING:buildstock_query.query_core:Column in.geometry_building_type_recs found in multiple tables ['baseline', 'upgrade'].Using baseline\n"
     ]
    },
    {
     "name": "stdout",
     "output_type": "stream",
     "text": [
      "11.01-propane\n",
      "11.10-propane\n"
     ]
    },
    {
     "name": "stderr",
     "output_type": "stream",
     "text": [
      "WARNING:buildstock_query.query_core:Column in.state found in multiple tables ['baseline', 'upgrade'].Using baseline\n",
      "WARNING:buildstock_query.query_core:Column in.heating_fuel found in multiple tables ['baseline', 'upgrade'].Using baseline\n",
      "WARNING:buildstock_query.query_core:Column in.geometry_building_type_recs found in multiple tables ['baseline', 'upgrade'].Using baseline\n",
      "WARNING:buildstock_query.query_core:Column in.state found in multiple tables ['baseline', 'upgrade'].Using baseline\n",
      "WARNING:buildstock_query.query_core:Column in.heating_fuel found in multiple tables ['baseline', 'upgrade'].Using baseline\n",
      "WARNING:buildstock_query.query_core:Column in.geometry_building_type_recs found in multiple tables ['baseline', 'upgrade'].Using baseline\n"
     ]
    },
    {
     "name": "stdout",
     "output_type": "stream",
     "text": [
      "11.02-propane\n",
      "11.11-propane\n"
     ]
    },
    {
     "name": "stderr",
     "output_type": "stream",
     "text": [
      "WARNING:buildstock_query.query_core:Column in.state found in multiple tables ['baseline', 'upgrade'].Using baseline\n",
      "WARNING:buildstock_query.query_core:Column in.heating_fuel found in multiple tables ['baseline', 'upgrade'].Using baseline\n",
      "WARNING:buildstock_query.query_core:Column in.geometry_building_type_recs found in multiple tables ['baseline', 'upgrade'].Using baseline\n",
      "WARNING:buildstock_query.query_core:Column in.state found in multiple tables ['baseline', 'upgrade'].Using baseline\n",
      "WARNING:buildstock_query.query_core:Column in.heating_fuel found in multiple tables ['baseline', 'upgrade'].Using baseline\n",
      "WARNING:buildstock_query.query_core:Column in.geometry_building_type_recs found in multiple tables ['baseline', 'upgrade'].Using baseline\n"
     ]
    },
    {
     "name": "stdout",
     "output_type": "stream",
     "text": [
      "11.03-propane\n",
      "11.12-propane\n"
     ]
    },
    {
     "name": "stderr",
     "output_type": "stream",
     "text": [
      "WARNING:buildstock_query.query_core:Column in.state found in multiple tables ['baseline', 'upgrade'].Using baseline\n",
      "WARNING:buildstock_query.query_core:Column in.heating_fuel found in multiple tables ['baseline', 'upgrade'].Using baseline\n",
      "WARNING:buildstock_query.query_core:Column in.geometry_building_type_recs found in multiple tables ['baseline', 'upgrade'].Using baseline\n",
      "WARNING:buildstock_query.query_core:Column in.state found in multiple tables ['baseline', 'upgrade'].Using baseline\n",
      "WARNING:buildstock_query.query_core:Column in.heating_fuel found in multiple tables ['baseline', 'upgrade'].Using baseline\n",
      "WARNING:buildstock_query.query_core:Column in.geometry_building_type_recs found in multiple tables ['baseline', 'upgrade'].Using baseline\n"
     ]
    },
    {
     "name": "stdout",
     "output_type": "stream",
     "text": [
      "8.05-propane\n",
      "8.06-propane\n"
     ]
    },
    {
     "name": "stderr",
     "output_type": "stream",
     "text": [
      "WARNING:buildstock_query.query_core:Column in.state found in multiple tables ['baseline', 'upgrade'].Using baseline\n",
      "WARNING:buildstock_query.query_core:Column in.heating_fuel found in multiple tables ['baseline', 'upgrade'].Using baseline\n",
      "WARNING:buildstock_query.query_core:Column in.geometry_building_type_recs found in multiple tables ['baseline', 'upgrade'].Using baseline\n",
      "WARNING:buildstock_query.query_core:Column in.state found in multiple tables ['baseline', 'upgrade'].Using baseline\n",
      "WARNING:buildstock_query.query_core:Column in.heating_fuel found in multiple tables ['baseline', 'upgrade'].Using baseline\n",
      "WARNING:buildstock_query.query_core:Column in.geometry_building_type_recs found in multiple tables ['baseline', 'upgrade'].Using baseline\n"
     ]
    },
    {
     "name": "stdout",
     "output_type": "stream",
     "text": [
      "8.07-propane\n",
      "8.08-propane\n"
     ]
    },
    {
     "name": "stderr",
     "output_type": "stream",
     "text": [
      "WARNING:buildstock_query.query_core:Column in.state found in multiple tables ['baseline', 'upgrade'].Using baseline\n",
      "WARNING:buildstock_query.query_core:Column in.heating_fuel found in multiple tables ['baseline', 'upgrade'].Using baseline\n",
      "WARNING:buildstock_query.query_core:Column in.geometry_building_type_recs found in multiple tables ['baseline', 'upgrade'].Using baseline\n"
     ]
    },
    {
     "name": "stdout",
     "output_type": "stream",
     "text": [
      "8.17-propane\n"
     ]
    },
    {
     "name": "stderr",
     "output_type": "stream",
     "text": [
      "WARNING:buildstock_query.query_core:Column in.state found in multiple tables ['baseline', 'upgrade'].Using baseline\n",
      "WARNING:buildstock_query.query_core:Column in.heating_fuel found in multiple tables ['baseline', 'upgrade'].Using baseline\n",
      "WARNING:buildstock_query.query_core:Column in.geometry_building_type_recs found in multiple tables ['baseline', 'upgrade'].Using baseline\n",
      "WARNING:buildstock_query.query_core:Column in.state found in multiple tables ['baseline', 'upgrade'].Using baseline\n",
      "WARNING:buildstock_query.query_core:Column in.heating_fuel found in multiple tables ['baseline', 'upgrade'].Using baseline\n",
      "WARNING:buildstock_query.query_core:Column in.geometry_building_type_recs found in multiple tables ['baseline', 'upgrade'].Using baseline\n"
     ]
    },
    {
     "name": "stdout",
     "output_type": "stream",
     "text": [
      "8.18-propane\n",
      "8.19-propane\n"
     ]
    },
    {
     "name": "stderr",
     "output_type": "stream",
     "text": [
      "WARNING:buildstock_query.query_core:Column in.state found in multiple tables ['baseline', 'upgrade'].Using baseline\n",
      "WARNING:buildstock_query.query_core:Column in.heating_fuel found in multiple tables ['baseline', 'upgrade'].Using baseline\n",
      "WARNING:buildstock_query.query_core:Column in.geometry_building_type_recs found in multiple tables ['baseline', 'upgrade'].Using baseline\n",
      "WARNING:buildstock_query.query_core:Column in.state found in multiple tables ['baseline', 'upgrade'].Using baseline\n",
      "WARNING:buildstock_query.query_core:Column in.heating_fuel found in multiple tables ['baseline', 'upgrade'].Using baseline\n",
      "WARNING:buildstock_query.query_core:Column in.geometry_building_type_recs found in multiple tables ['baseline', 'upgrade'].Using baseline\n"
     ]
    },
    {
     "name": "stdout",
     "output_type": "stream",
     "text": [
      "8.20-propane\n",
      "8.09-propane\n"
     ]
    },
    {
     "name": "stderr",
     "output_type": "stream",
     "text": [
      "WARNING:buildstock_query.query_core:Column in.state found in multiple tables ['baseline', 'upgrade'].Using baseline\n",
      "WARNING:buildstock_query.query_core:Column in.heating_fuel found in multiple tables ['baseline', 'upgrade'].Using baseline\n",
      "WARNING:buildstock_query.query_core:Column in.geometry_building_type_recs found in multiple tables ['baseline', 'upgrade'].Using baseline\n",
      "WARNING:buildstock_query.query_core:Column in.state found in multiple tables ['baseline', 'upgrade'].Using baseline\n",
      "WARNING:buildstock_query.query_core:Column in.heating_fuel found in multiple tables ['baseline', 'upgrade'].Using baseline\n",
      "WARNING:buildstock_query.query_core:Column in.geometry_building_type_recs found in multiple tables ['baseline', 'upgrade'].Using baseline\n"
     ]
    },
    {
     "name": "stdout",
     "output_type": "stream",
     "text": [
      "8.10-propane\n",
      "8.11-propane\n"
     ]
    },
    {
     "name": "stderr",
     "output_type": "stream",
     "text": [
      "WARNING:buildstock_query.query_core:Column in.state found in multiple tables ['baseline', 'upgrade'].Using baseline\n",
      "WARNING:buildstock_query.query_core:Column in.heating_fuel found in multiple tables ['baseline', 'upgrade'].Using baseline\n",
      "WARNING:buildstock_query.query_core:Column in.geometry_building_type_recs found in multiple tables ['baseline', 'upgrade'].Using baseline\n",
      "WARNING:buildstock_query.query_core:Column in.state found in multiple tables ['baseline', 'upgrade'].Using baseline\n",
      "WARNING:buildstock_query.query_core:Column in.heating_fuel found in multiple tables ['baseline', 'upgrade'].Using baseline\n",
      "WARNING:buildstock_query.query_core:Column in.geometry_building_type_recs found in multiple tables ['baseline', 'upgrade'].Using baseline\n"
     ]
    },
    {
     "name": "stdout",
     "output_type": "stream",
     "text": [
      "8.12-propane\n",
      "8.21-propane\n"
     ]
    },
    {
     "name": "stderr",
     "output_type": "stream",
     "text": [
      "WARNING:buildstock_query.query_core:Column in.state found in multiple tables ['baseline', 'upgrade'].Using baseline\n",
      "WARNING:buildstock_query.query_core:Column in.heating_fuel found in multiple tables ['baseline', 'upgrade'].Using baseline\n",
      "WARNING:buildstock_query.query_core:Column in.geometry_building_type_recs found in multiple tables ['baseline', 'upgrade'].Using baseline\n",
      "WARNING:buildstock_query.query_core:Column in.state found in multiple tables ['baseline', 'upgrade'].Using baseline\n",
      "WARNING:buildstock_query.query_core:Column in.heating_fuel found in multiple tables ['baseline', 'upgrade'].Using baseline\n",
      "WARNING:buildstock_query.query_core:Column in.geometry_building_type_recs found in multiple tables ['baseline', 'upgrade'].Using baseline\n"
     ]
    },
    {
     "name": "stdout",
     "output_type": "stream",
     "text": [
      "8.22-propane\n",
      "8.23-propane\n"
     ]
    },
    {
     "name": "stderr",
     "output_type": "stream",
     "text": [
      "WARNING:buildstock_query.query_core:Column in.state found in multiple tables ['baseline', 'upgrade'].Using baseline\n",
      "WARNING:buildstock_query.query_core:Column in.heating_fuel found in multiple tables ['baseline', 'upgrade'].Using baseline\n",
      "WARNING:buildstock_query.query_core:Column in.geometry_building_type_recs found in multiple tables ['baseline', 'upgrade'].Using baseline\n",
      "WARNING:buildstock_query.query_core:Column in.state found in multiple tables ['baseline', 'upgrade'].Using baseline\n",
      "WARNING:buildstock_query.query_core:Column in.heating_fuel found in multiple tables ['baseline', 'upgrade'].Using baseline\n",
      "WARNING:buildstock_query.query_core:Column in.geometry_building_type_recs found in multiple tables ['baseline', 'upgrade'].Using baseline\n"
     ]
    },
    {
     "name": "stdout",
     "output_type": "stream",
     "text": [
      "8.24-propane\n",
      "14.13-propane\n"
     ]
    },
    {
     "name": "stderr",
     "output_type": "stream",
     "text": [
      "WARNING:buildstock_query.query_core:Column in.state found in multiple tables ['baseline', 'upgrade'].Using baseline\n",
      "WARNING:buildstock_query.query_core:Column in.heating_fuel found in multiple tables ['baseline', 'upgrade'].Using baseline\n",
      "WARNING:buildstock_query.query_core:Column in.geometry_building_type_recs found in multiple tables ['baseline', 'upgrade'].Using baseline\n",
      "WARNING:buildstock_query.query_core:Column in.state found in multiple tables ['baseline', 'upgrade'].Using baseline\n",
      "WARNING:buildstock_query.query_core:Column in.heating_fuel found in multiple tables ['baseline', 'upgrade'].Using baseline\n",
      "WARNING:buildstock_query.query_core:Column in.geometry_building_type_recs found in multiple tables ['baseline', 'upgrade'].Using baseline\n"
     ]
    },
    {
     "name": "stdout",
     "output_type": "stream",
     "text": [
      "14.14-propane\n",
      "14.15-propane\n"
     ]
    },
    {
     "name": "stderr",
     "output_type": "stream",
     "text": [
      "WARNING:buildstock_query.query_core:Column in.state found in multiple tables ['baseline', 'upgrade'].Using baseline\n",
      "WARNING:buildstock_query.query_core:Column in.heating_fuel found in multiple tables ['baseline', 'upgrade'].Using baseline\n",
      "WARNING:buildstock_query.query_core:Column in.geometry_building_type_recs found in multiple tables ['baseline', 'upgrade'].Using baseline\n",
      "WARNING:buildstock_query.query_core:Column in.state found in multiple tables ['baseline', 'upgrade'].Using baseline\n",
      "WARNING:buildstock_query.query_core:Column in.heating_fuel found in multiple tables ['baseline', 'upgrade'].Using baseline\n",
      "WARNING:buildstock_query.query_core:Column in.geometry_building_type_recs found in multiple tables ['baseline', 'upgrade'].Using baseline\n"
     ]
    },
    {
     "name": "stdout",
     "output_type": "stream",
     "text": [
      "14.16-propane\n",
      "14.17-propane\n"
     ]
    },
    {
     "name": "stderr",
     "output_type": "stream",
     "text": [
      "WARNING:buildstock_query.query_core:Column in.state found in multiple tables ['baseline', 'upgrade'].Using baseline\n",
      "WARNING:buildstock_query.query_core:Column in.heating_fuel found in multiple tables ['baseline', 'upgrade'].Using baseline\n",
      "WARNING:buildstock_query.query_core:Column in.geometry_building_type_recs found in multiple tables ['baseline', 'upgrade'].Using baseline\n",
      "WARNING:buildstock_query.query_core:Column in.state found in multiple tables ['baseline', 'upgrade'].Using baseline\n",
      "WARNING:buildstock_query.query_core:Column in.heating_fuel found in multiple tables ['baseline', 'upgrade'].Using baseline\n",
      "WARNING:buildstock_query.query_core:Column in.geometry_building_type_recs found in multiple tables ['baseline', 'upgrade'].Using baseline\n"
     ]
    },
    {
     "name": "stdout",
     "output_type": "stream",
     "text": [
      "14.18-propane\n",
      "9.01-propane\n"
     ]
    },
    {
     "name": "stderr",
     "output_type": "stream",
     "text": [
      "WARNING:buildstock_query.query_core:Column in.state found in multiple tables ['baseline', 'upgrade'].Using baseline\n",
      "WARNING:buildstock_query.query_core:Column in.heating_fuel found in multiple tables ['baseline', 'upgrade'].Using baseline\n",
      "WARNING:buildstock_query.query_core:Column in.geometry_building_type_recs found in multiple tables ['baseline', 'upgrade'].Using baseline\n",
      "WARNING:buildstock_query.query_core:Column in.state found in multiple tables ['baseline', 'upgrade'].Using baseline\n",
      "WARNING:buildstock_query.query_core:Column in.heating_fuel found in multiple tables ['baseline', 'upgrade'].Using baseline\n",
      "WARNING:buildstock_query.query_core:Column in.geometry_building_type_recs found in multiple tables ['baseline', 'upgrade'].Using baseline\n"
     ]
    },
    {
     "name": "stdout",
     "output_type": "stream",
     "text": [
      "9.13-propane\n",
      "12.01-propane\n"
     ]
    },
    {
     "name": "stderr",
     "output_type": "stream",
     "text": [
      "WARNING:buildstock_query.query_core:Column in.state found in multiple tables ['baseline', 'upgrade'].Using baseline\n",
      "WARNING:buildstock_query.query_core:Column in.heating_fuel found in multiple tables ['baseline', 'upgrade'].Using baseline\n",
      "WARNING:buildstock_query.query_core:Column in.geometry_building_type_recs found in multiple tables ['baseline', 'upgrade'].Using baseline\n",
      "WARNING:buildstock_query.query_core:Column in.state found in multiple tables ['baseline', 'upgrade'].Using baseline\n",
      "WARNING:buildstock_query.query_core:Column in.heating_fuel found in multiple tables ['baseline', 'upgrade'].Using baseline\n",
      "WARNING:buildstock_query.query_core:Column in.geometry_building_type_recs found in multiple tables ['baseline', 'upgrade'].Using baseline\n"
     ]
    },
    {
     "name": "stdout",
     "output_type": "stream",
     "text": [
      "12.10-propane\n",
      "12.11-propane\n"
     ]
    },
    {
     "name": "stderr",
     "output_type": "stream",
     "text": [
      "WARNING:buildstock_query.query_core:Column in.state found in multiple tables ['baseline', 'upgrade'].Using baseline\n",
      "WARNING:buildstock_query.query_core:Column in.heating_fuel found in multiple tables ['baseline', 'upgrade'].Using baseline\n",
      "WARNING:buildstock_query.query_core:Column in.geometry_building_type_recs found in multiple tables ['baseline', 'upgrade'].Using baseline\n",
      "WARNING:buildstock_query.query_core:Column in.state found in multiple tables ['baseline', 'upgrade'].Using baseline\n",
      "WARNING:buildstock_query.query_core:Column in.heating_fuel found in multiple tables ['baseline', 'upgrade'].Using baseline\n",
      "WARNING:buildstock_query.query_core:Column in.geometry_building_type_recs found in multiple tables ['baseline', 'upgrade'].Using baseline\n"
     ]
    },
    {
     "name": "stdout",
     "output_type": "stream",
     "text": [
      "12.03-propane\n",
      "12.12-propane\n"
     ]
    },
    {
     "name": "stderr",
     "output_type": "stream",
     "text": [
      "WARNING:buildstock_query.query_core:Column in.state found in multiple tables ['baseline', 'upgrade'].Using baseline\n",
      "WARNING:buildstock_query.query_core:Column in.heating_fuel found in multiple tables ['baseline', 'upgrade'].Using baseline\n",
      "WARNING:buildstock_query.query_core:Column in.geometry_building_type_recs found in multiple tables ['baseline', 'upgrade'].Using baseline\n",
      "WARNING:buildstock_query.query_core:Column in.state found in multiple tables ['baseline', 'upgrade'].Using baseline\n",
      "WARNING:buildstock_query.query_core:Column in.heating_fuel found in multiple tables ['baseline', 'upgrade'].Using baseline\n",
      "WARNING:buildstock_query.query_core:Column in.geometry_building_type_recs found in multiple tables ['baseline', 'upgrade'].Using baseline\n"
     ]
    },
    {
     "name": "stdout",
     "output_type": "stream",
     "text": [
      "9.05-propane\n",
      "9.06-propane\n"
     ]
    },
    {
     "name": "stderr",
     "output_type": "stream",
     "text": [
      "WARNING:buildstock_query.query_core:Column in.state found in multiple tables ['baseline', 'upgrade'].Using baseline\n",
      "WARNING:buildstock_query.query_core:Column in.heating_fuel found in multiple tables ['baseline', 'upgrade'].Using baseline\n",
      "WARNING:buildstock_query.query_core:Column in.geometry_building_type_recs found in multiple tables ['baseline', 'upgrade'].Using baseline\n",
      "WARNING:buildstock_query.query_core:Column in.state found in multiple tables ['baseline', 'upgrade'].Using baseline\n",
      "WARNING:buildstock_query.query_core:Column in.heating_fuel found in multiple tables ['baseline', 'upgrade'].Using baseline\n",
      "WARNING:buildstock_query.query_core:Column in.geometry_building_type_recs found in multiple tables ['baseline', 'upgrade'].Using baseline\n"
     ]
    },
    {
     "name": "stdout",
     "output_type": "stream",
     "text": [
      "9.07-propane\n",
      "9.08-propane\n"
     ]
    },
    {
     "name": "stderr",
     "output_type": "stream",
     "text": [
      "WARNING:buildstock_query.query_core:Column in.state found in multiple tables ['baseline', 'upgrade'].Using baseline\n",
      "WARNING:buildstock_query.query_core:Column in.heating_fuel found in multiple tables ['baseline', 'upgrade'].Using baseline\n",
      "WARNING:buildstock_query.query_core:Column in.geometry_building_type_recs found in multiple tables ['baseline', 'upgrade'].Using baseline\n",
      "WARNING:buildstock_query.query_core:Column in.state found in multiple tables ['baseline', 'upgrade'].Using baseline\n",
      "WARNING:buildstock_query.query_core:Column in.heating_fuel found in multiple tables ['baseline', 'upgrade'].Using baseline\n",
      "WARNING:buildstock_query.query_core:Column in.geometry_building_type_recs found in multiple tables ['baseline', 'upgrade'].Using baseline\n"
     ]
    },
    {
     "name": "stdout",
     "output_type": "stream",
     "text": [
      "9.17-propane\n",
      "9.18-propane\n"
     ]
    },
    {
     "name": "stderr",
     "output_type": "stream",
     "text": [
      "WARNING:buildstock_query.query_core:Column in.state found in multiple tables ['baseline', 'upgrade'].Using baseline\n",
      "WARNING:buildstock_query.query_core:Column in.heating_fuel found in multiple tables ['baseline', 'upgrade'].Using baseline\n",
      "WARNING:buildstock_query.query_core:Column in.geometry_building_type_recs found in multiple tables ['baseline', 'upgrade'].Using baseline\n",
      "WARNING:buildstock_query.query_core:Column in.state found in multiple tables ['baseline', 'upgrade'].Using baseline\n",
      "WARNING:buildstock_query.query_core:Column in.heating_fuel found in multiple tables ['baseline', 'upgrade'].Using baseline\n",
      "WARNING:buildstock_query.query_core:Column in.geometry_building_type_recs found in multiple tables ['baseline', 'upgrade'].Using baseline\n"
     ]
    },
    {
     "name": "stdout",
     "output_type": "stream",
     "text": [
      "9.19-propane\n",
      "9.20-propane\n"
     ]
    },
    {
     "name": "stderr",
     "output_type": "stream",
     "text": [
      "WARNING:buildstock_query.query_core:Column in.state found in multiple tables ['baseline', 'upgrade'].Using baseline\n",
      "WARNING:buildstock_query.query_core:Column in.heating_fuel found in multiple tables ['baseline', 'upgrade'].Using baseline\n",
      "WARNING:buildstock_query.query_core:Column in.geometry_building_type_recs found in multiple tables ['baseline', 'upgrade'].Using baseline\n",
      "WARNING:buildstock_query.query_core:Column in.state found in multiple tables ['baseline', 'upgrade'].Using baseline\n",
      "WARNING:buildstock_query.query_core:Column in.heating_fuel found in multiple tables ['baseline', 'upgrade'].Using baseline\n",
      "WARNING:buildstock_query.query_core:Column in.geometry_building_type_recs found in multiple tables ['baseline', 'upgrade'].Using baseline\n"
     ]
    },
    {
     "name": "stdout",
     "output_type": "stream",
     "text": [
      "9.09-propane\n",
      "9.10-propane\n"
     ]
    },
    {
     "name": "stderr",
     "output_type": "stream",
     "text": [
      "WARNING:buildstock_query.query_core:Column in.state found in multiple tables ['baseline', 'upgrade'].Using baseline\n",
      "WARNING:buildstock_query.query_core:Column in.heating_fuel found in multiple tables ['baseline', 'upgrade'].Using baseline\n",
      "WARNING:buildstock_query.query_core:Column in.geometry_building_type_recs found in multiple tables ['baseline', 'upgrade'].Using baseline\n",
      "WARNING:buildstock_query.query_core:Column in.state found in multiple tables ['baseline', 'upgrade'].Using baseline\n",
      "WARNING:buildstock_query.query_core:Column in.heating_fuel found in multiple tables ['baseline', 'upgrade'].Using baseline\n",
      "WARNING:buildstock_query.query_core:Column in.geometry_building_type_recs found in multiple tables ['baseline', 'upgrade'].Using baseline\n"
     ]
    },
    {
     "name": "stdout",
     "output_type": "stream",
     "text": [
      "9.11-propane\n",
      "9.12-propane\n"
     ]
    },
    {
     "name": "stderr",
     "output_type": "stream",
     "text": [
      "WARNING:buildstock_query.query_core:Column in.state found in multiple tables ['baseline', 'upgrade'].Using baseline\n",
      "WARNING:buildstock_query.query_core:Column in.heating_fuel found in multiple tables ['baseline', 'upgrade'].Using baseline\n",
      "WARNING:buildstock_query.query_core:Column in.geometry_building_type_recs found in multiple tables ['baseline', 'upgrade'].Using baseline\n"
     ]
    },
    {
     "name": "stdout",
     "output_type": "stream",
     "text": [
      "9.21-propane\n"
     ]
    },
    {
     "name": "stderr",
     "output_type": "stream",
     "text": [
      "WARNING:buildstock_query.query_core:Column in.state found in multiple tables ['baseline', 'upgrade'].Using baseline\n",
      "WARNING:buildstock_query.query_core:Column in.heating_fuel found in multiple tables ['baseline', 'upgrade'].Using baseline\n",
      "WARNING:buildstock_query.query_core:Column in.geometry_building_type_recs found in multiple tables ['baseline', 'upgrade'].Using baseline\n",
      "WARNING:buildstock_query.query_core:Column in.state found in multiple tables ['baseline', 'upgrade'].Using baseline\n",
      "WARNING:buildstock_query.query_core:Column in.heating_fuel found in multiple tables ['baseline', 'upgrade'].Using baseline\n",
      "WARNING:buildstock_query.query_core:Column in.geometry_building_type_recs found in multiple tables ['baseline', 'upgrade'].Using baseline\n"
     ]
    },
    {
     "name": "stdout",
     "output_type": "stream",
     "text": [
      "9.22-propane\n",
      "9.23-propane\n"
     ]
    },
    {
     "name": "stderr",
     "output_type": "stream",
     "text": [
      "WARNING:buildstock_query.query_core:Column in.state found in multiple tables ['baseline', 'upgrade'].Using baseline\n",
      "WARNING:buildstock_query.query_core:Column in.heating_fuel found in multiple tables ['baseline', 'upgrade'].Using baseline\n",
      "WARNING:buildstock_query.query_core:Column in.geometry_building_type_recs found in multiple tables ['baseline', 'upgrade'].Using baseline\n",
      "WARNING:buildstock_query.query_core:Column in.state found in multiple tables ['baseline', 'upgrade'].Using baseline\n",
      "WARNING:buildstock_query.query_core:Column in.heating_fuel found in multiple tables ['baseline', 'upgrade'].Using baseline\n",
      "WARNING:buildstock_query.query_core:Column in.geometry_building_type_recs found in multiple tables ['baseline', 'upgrade'].Using baseline\n"
     ]
    },
    {
     "name": "stdout",
     "output_type": "stream",
     "text": [
      "9.24-propane\n",
      "13.18-propane\n"
     ]
    },
    {
     "name": "stderr",
     "output_type": "stream",
     "text": [
      "WARNING:buildstock_query.query_core:Column in.state found in multiple tables ['baseline', 'upgrade'].Using baseline\n",
      "WARNING:buildstock_query.query_core:Column in.heating_fuel found in multiple tables ['baseline', 'upgrade'].Using baseline\n",
      "WARNING:buildstock_query.query_core:Column in.geometry_building_type_recs found in multiple tables ['baseline', 'upgrade'].Using baseline\n",
      "WARNING:buildstock_query.query_core:Column in.state found in multiple tables ['baseline', 'upgrade'].Using baseline\n",
      "WARNING:buildstock_query.query_core:Column in.heating_fuel found in multiple tables ['baseline', 'upgrade'].Using baseline\n",
      "WARNING:buildstock_query.query_core:Column in.geometry_building_type_recs found in multiple tables ['baseline', 'upgrade'].Using baseline\n"
     ]
    },
    {
     "name": "stdout",
     "output_type": "stream",
     "text": [
      "13.19-propane\n",
      "13.01-propane\n"
     ]
    },
    {
     "name": "stderr",
     "output_type": "stream",
     "text": [
      "WARNING:buildstock_query.query_core:Column in.state found in multiple tables ['baseline', 'upgrade'].Using baseline\n",
      "WARNING:buildstock_query.query_core:Column in.heating_fuel found in multiple tables ['baseline', 'upgrade'].Using baseline\n",
      "WARNING:buildstock_query.query_core:Column in.geometry_building_type_recs found in multiple tables ['baseline', 'upgrade'].Using baseline\n",
      "WARNING:buildstock_query.query_core:Column in.state found in multiple tables ['baseline', 'upgrade'].Using baseline\n",
      "WARNING:buildstock_query.query_core:Column in.heating_fuel found in multiple tables ['baseline', 'upgrade'].Using baseline\n",
      "WARNING:buildstock_query.query_core:Column in.geometry_building_type_recs found in multiple tables ['baseline', 'upgrade'].Using baseline\n"
     ]
    },
    {
     "name": "stdout",
     "output_type": "stream",
     "text": [
      "13.02-propane\n",
      "13.03-propane\n"
     ]
    },
    {
     "name": "stderr",
     "output_type": "stream",
     "text": [
      "WARNING:buildstock_query.query_core:Column in.state found in multiple tables ['baseline', 'upgrade'].Using baseline\n",
      "WARNING:buildstock_query.query_core:Column in.heating_fuel found in multiple tables ['baseline', 'upgrade'].Using baseline\n",
      "WARNING:buildstock_query.query_core:Column in.geometry_building_type_recs found in multiple tables ['baseline', 'upgrade'].Using baseline\n",
      "WARNING:buildstock_query.query_core:Column in.state found in multiple tables ['baseline', 'upgrade'].Using baseline\n",
      "WARNING:buildstock_query.query_core:Column in.heating_fuel found in multiple tables ['baseline', 'upgrade'].Using baseline\n",
      "WARNING:buildstock_query.query_core:Column in.geometry_building_type_recs found in multiple tables ['baseline', 'upgrade'].Using baseline\n"
     ]
    },
    {
     "name": "stdout",
     "output_type": "stream",
     "text": [
      "13.04-propane\n",
      "13.05-propane\n"
     ]
    },
    {
     "name": "stderr",
     "output_type": "stream",
     "text": [
      "WARNING:buildstock_query.query_core:Column in.state found in multiple tables ['baseline', 'upgrade'].Using baseline\n",
      "WARNING:buildstock_query.query_core:Column in.heating_fuel found in multiple tables ['baseline', 'upgrade'].Using baseline\n",
      "WARNING:buildstock_query.query_core:Column in.geometry_building_type_recs found in multiple tables ['baseline', 'upgrade'].Using baseline\n",
      "WARNING:buildstock_query.query_core:Column in.state found in multiple tables ['baseline', 'upgrade'].Using baseline\n",
      "WARNING:buildstock_query.query_core:Column in.heating_fuel found in multiple tables ['baseline', 'upgrade'].Using baseline\n",
      "WARNING:buildstock_query.query_core:Column in.geometry_building_type_recs found in multiple tables ['baseline', 'upgrade'].Using baseline\n"
     ]
    },
    {
     "name": "stdout",
     "output_type": "stream",
     "text": [
      "13.06-propane\n",
      "13.07-propane\n"
     ]
    },
    {
     "name": "stderr",
     "output_type": "stream",
     "text": [
      "WARNING:buildstock_query.query_core:Column in.state found in multiple tables ['baseline', 'upgrade'].Using baseline\n",
      "WARNING:buildstock_query.query_core:Column in.heating_fuel found in multiple tables ['baseline', 'upgrade'].Using baseline\n",
      "WARNING:buildstock_query.query_core:Column in.geometry_building_type_recs found in multiple tables ['baseline', 'upgrade'].Using baseline\n",
      "WARNING:buildstock_query.query_core:Column in.state found in multiple tables ['baseline', 'upgrade'].Using baseline\n",
      "WARNING:buildstock_query.query_core:Column in.heating_fuel found in multiple tables ['baseline', 'upgrade'].Using baseline\n",
      "WARNING:buildstock_query.query_core:Column in.geometry_building_type_recs found in multiple tables ['baseline', 'upgrade'].Using baseline\n"
     ]
    },
    {
     "name": "stdout",
     "output_type": "stream",
     "text": [
      "13.08-propane\n",
      "15.01-propane\n"
     ]
    },
    {
     "name": "stderr",
     "output_type": "stream",
     "text": [
      "WARNING:buildstock_query.query_core:Column in.state found in multiple tables ['baseline', 'upgrade'].Using baseline\n",
      "WARNING:buildstock_query.query_core:Column in.heating_fuel found in multiple tables ['baseline', 'upgrade'].Using baseline\n",
      "WARNING:buildstock_query.query_core:Column in.geometry_building_type_recs found in multiple tables ['baseline', 'upgrade'].Using baseline\n",
      "WARNING:buildstock_query.query_core:Column in.state found in multiple tables ['baseline', 'upgrade'].Using baseline\n",
      "WARNING:buildstock_query.query_core:Column in.heating_fuel found in multiple tables ['baseline', 'upgrade'].Using baseline\n",
      "WARNING:buildstock_query.query_core:Column in.geometry_building_type_recs found in multiple tables ['baseline', 'upgrade'].Using baseline\n"
     ]
    },
    {
     "name": "stdout",
     "output_type": "stream",
     "text": [
      "15.05-propane\n",
      "15.17-propane\n"
     ]
    },
    {
     "name": "stderr",
     "output_type": "stream",
     "text": [
      "WARNING:buildstock_query.query_core:Column in.state found in multiple tables ['baseline', 'upgrade'].Using baseline\n",
      "WARNING:buildstock_query.query_core:Column in.heating_fuel found in multiple tables ['baseline', 'upgrade'].Using baseline\n",
      "WARNING:buildstock_query.query_core:Column in.geometry_building_type_recs found in multiple tables ['baseline', 'upgrade'].Using baseline\n",
      "WARNING:buildstock_query.query_core:Column in.state found in multiple tables ['baseline', 'upgrade'].Using baseline\n",
      "WARNING:buildstock_query.query_core:Column in.heating_fuel found in multiple tables ['baseline', 'upgrade'].Using baseline\n",
      "WARNING:buildstock_query.query_core:Column in.geometry_building_type_recs found in multiple tables ['baseline', 'upgrade'].Using baseline\n"
     ]
    },
    {
     "name": "stdout",
     "output_type": "stream",
     "text": [
      "15.20-propane\n",
      "15.18-propane\n"
     ]
    },
    {
     "name": "stderr",
     "output_type": "stream",
     "text": [
      "WARNING:buildstock_query.query_core:Column in.state found in multiple tables ['baseline', 'upgrade'].Using baseline\n",
      "WARNING:buildstock_query.query_core:Column in.heating_fuel found in multiple tables ['baseline', 'upgrade'].Using baseline\n",
      "WARNING:buildstock_query.query_core:Column in.geometry_building_type_recs found in multiple tables ['baseline', 'upgrade'].Using baseline\n",
      "WARNING:buildstock_query.query_core:Column in.state found in multiple tables ['baseline', 'upgrade'].Using baseline\n",
      "WARNING:buildstock_query.query_core:Column in.heating_fuel found in multiple tables ['baseline', 'upgrade'].Using baseline\n",
      "WARNING:buildstock_query.query_core:Column in.geometry_building_type_recs found in multiple tables ['baseline', 'upgrade'].Using baseline\n"
     ]
    },
    {
     "name": "stdout",
     "output_type": "stream",
     "text": [
      "15.21-propane\n",
      "15.19-propane\n"
     ]
    },
    {
     "name": "stderr",
     "output_type": "stream",
     "text": [
      "WARNING:buildstock_query.query_core:Column in.state found in multiple tables ['baseline', 'upgrade'].Using baseline\n",
      "WARNING:buildstock_query.query_core:Column in.heating_fuel found in multiple tables ['baseline', 'upgrade'].Using baseline\n",
      "WARNING:buildstock_query.query_core:Column in.geometry_building_type_recs found in multiple tables ['baseline', 'upgrade'].Using baseline\n",
      "WARNING:buildstock_query.query_core:Column in.state found in multiple tables ['baseline', 'upgrade'].Using baseline\n",
      "WARNING:buildstock_query.query_core:Column in.heating_fuel found in multiple tables ['baseline', 'upgrade'].Using baseline\n",
      "WARNING:buildstock_query.query_core:Column in.geometry_building_type_recs found in multiple tables ['baseline', 'upgrade'].Using baseline\n"
     ]
    },
    {
     "name": "stdout",
     "output_type": "stream",
     "text": [
      "15.22-propane\n",
      "15.09-propane\n"
     ]
    },
    {
     "name": "stderr",
     "output_type": "stream",
     "text": [
      "WARNING:buildstock_query.query_core:Column in.state found in multiple tables ['baseline', 'upgrade'].Using baseline\n",
      "WARNING:buildstock_query.query_core:Column in.heating_fuel found in multiple tables ['baseline', 'upgrade'].Using baseline\n",
      "WARNING:buildstock_query.query_core:Column in.geometry_building_type_recs found in multiple tables ['baseline', 'upgrade'].Using baseline\n",
      "WARNING:buildstock_query.query_core:Column in.state found in multiple tables ['baseline', 'upgrade'].Using baseline\n",
      "WARNING:buildstock_query.query_core:Column in.heating_fuel found in multiple tables ['baseline', 'upgrade'].Using baseline\n",
      "WARNING:buildstock_query.query_core:Column in.geometry_building_type_recs found in multiple tables ['baseline', 'upgrade'].Using baseline\n"
     ]
    },
    {
     "name": "stdout",
     "output_type": "stream",
     "text": [
      "15.10-propane\n",
      "15.11-propane\n"
     ]
    },
    {
     "name": "stderr",
     "output_type": "stream",
     "text": [
      "WARNING:buildstock_query.query_core:Column in.state found in multiple tables ['baseline', 'upgrade'].Using baseline\n",
      "WARNING:buildstock_query.query_core:Column in.heating_fuel found in multiple tables ['baseline', 'upgrade'].Using baseline\n",
      "WARNING:buildstock_query.query_core:Column in.geometry_building_type_recs found in multiple tables ['baseline', 'upgrade'].Using baseline\n",
      "WARNING:buildstock_query.query_core:Column in.state found in multiple tables ['baseline', 'upgrade'].Using baseline\n",
      "WARNING:buildstock_query.query_core:Column in.heating_fuel found in multiple tables ['baseline', 'upgrade'].Using baseline\n",
      "WARNING:buildstock_query.query_core:Column in.geometry_building_type_recs found in multiple tables ['baseline', 'upgrade'].Using baseline\n"
     ]
    },
    {
     "name": "stdout",
     "output_type": "stream",
     "text": [
      "15.12-propane\n",
      "15.13-propane\n"
     ]
    },
    {
     "name": "stderr",
     "output_type": "stream",
     "text": [
      "WARNING:buildstock_query.query_core:Column in.state found in multiple tables ['baseline', 'upgrade'].Using baseline\n",
      "WARNING:buildstock_query.query_core:Column in.heating_fuel found in multiple tables ['baseline', 'upgrade'].Using baseline\n",
      "WARNING:buildstock_query.query_core:Column in.geometry_building_type_recs found in multiple tables ['baseline', 'upgrade'].Using baseline\n",
      "WARNING:buildstock_query.query_core:Column in.state found in multiple tables ['baseline', 'upgrade'].Using baseline\n",
      "WARNING:buildstock_query.query_core:Column in.heating_fuel found in multiple tables ['baseline', 'upgrade'].Using baseline\n",
      "WARNING:buildstock_query.query_core:Column in.geometry_building_type_recs found in multiple tables ['baseline', 'upgrade'].Using baseline\n"
     ]
    },
    {
     "name": "stdout",
     "output_type": "stream",
     "text": [
      "15.14-propane\n",
      "15.15-propane\n"
     ]
    },
    {
     "name": "stderr",
     "output_type": "stream",
     "text": [
      "WARNING:buildstock_query.query_core:Column in.state found in multiple tables ['baseline', 'upgrade'].Using baseline\n",
      "WARNING:buildstock_query.query_core:Column in.heating_fuel found in multiple tables ['baseline', 'upgrade'].Using baseline\n",
      "WARNING:buildstock_query.query_core:Column in.geometry_building_type_recs found in multiple tables ['baseline', 'upgrade'].Using baseline\n",
      "WARNING:buildstock_query.query_core:Column in.state found in multiple tables ['baseline', 'upgrade'].Using baseline\n",
      "WARNING:buildstock_query.query_core:Column in.heating_fuel found in multiple tables ['baseline', 'upgrade'].Using baseline\n",
      "WARNING:buildstock_query.query_core:Column in.geometry_building_type_recs found in multiple tables ['baseline', 'upgrade'].Using baseline\n"
     ]
    },
    {
     "name": "stdout",
     "output_type": "stream",
     "text": [
      "15.16-propane\n",
      "13.15-propane\n"
     ]
    },
    {
     "name": "stderr",
     "output_type": "stream",
     "text": [
      "WARNING:buildstock_query.query_core:Column in.state found in multiple tables ['baseline', 'upgrade'].Using baseline\n",
      "WARNING:buildstock_query.query_core:Column in.heating_fuel found in multiple tables ['baseline', 'upgrade'].Using baseline\n",
      "WARNING:buildstock_query.query_core:Column in.geometry_building_type_recs found in multiple tables ['baseline', 'upgrade'].Using baseline\n",
      "WARNING:buildstock_query.query_core:Column in.state found in multiple tables ['baseline', 'upgrade'].Using baseline\n",
      "WARNING:buildstock_query.query_core:Column in.heating_fuel found in multiple tables ['baseline', 'upgrade'].Using baseline\n",
      "WARNING:buildstock_query.query_core:Column in.geometry_building_type_recs found in multiple tables ['baseline', 'upgrade'].Using baseline\n"
     ]
    },
    {
     "name": "stdout",
     "output_type": "stream",
     "text": [
      "13.16-propane\n",
      "13.17-propane\n"
     ]
    },
    {
     "name": "stderr",
     "output_type": "stream",
     "text": [
      "WARNING:buildstock_query.query_core:Column in.state found in multiple tables ['baseline', 'upgrade'].Using baseline\n",
      "WARNING:buildstock_query.query_core:Column in.heating_fuel found in multiple tables ['baseline', 'upgrade'].Using baseline\n",
      "WARNING:buildstock_query.query_core:Column in.geometry_building_type_recs found in multiple tables ['baseline', 'upgrade'].Using baseline\n"
     ]
    }
   ],
   "source": [
    "#Get propane savings\n",
    "propane_results = {}\n",
    "fuel_of_interest = 'propane'\n",
    "fuel_enduse_field = 'out.propane.total.energy_consumption'\n",
    "for upgrade_id_instance in upgrade_id_list:\n",
    "    result_name = upgrade_id_instance + '-' + fuel_of_interest\n",
    "    print(result_name)\n",
    "    result = my_run.savings.savings_shape(upgrade_id=upgrade_id_instance, \n",
    "                             enduses=[fuel_enduse_field],\n",
    "                             group_by=['in.state', 'in.heating_fuel', simple_bldg_col],\n",
    "                             restrict=[('in.geometry_building_type_recs', ['Single-Family Detached', 'Single-Family Attached', 'Multi-Family with 2 - 4 Units', 'Multi-Family with 5+ Units'])],\n",
    "                             annual_only=True,\n",
    "                             get_query_only=False,\n",
    "                             applied_only= True)\n",
    "    propane_results[result_name] = result\n",
    "    #propane_results[result_name].to_csv('C:/Users/epresent/NREL/C Bldg Stock - General/ResStock Fact Sheets/SLOPE Data Layer/Data Pulls/' + result_name + '.csv')"
   ]
  },
  {
   "cell_type": "code",
   "execution_count": 101,
   "metadata": {},
   "outputs": [
    {
     "name": "stderr",
     "output_type": "stream",
     "text": [
      "WARNING:buildstock_query.query_core:Column in.state found in multiple tables ['baseline', 'upgrade'].Using baseline\n",
      "WARNING:buildstock_query.query_core:Column in.heating_fuel found in multiple tables ['baseline', 'upgrade'].Using baseline\n",
      "WARNING:buildstock_query.query_core:Column in.geometry_building_type_recs found in multiple tables ['baseline', 'upgrade'].Using baseline\n"
     ]
    },
    {
     "name": "stdout",
     "output_type": "stream",
     "text": [
      "3.07-fuel_oil\n",
      "3.01-fuel_oil\n"
     ]
    },
    {
     "name": "stderr",
     "output_type": "stream",
     "text": [
      "WARNING:buildstock_query.query_core:Column in.state found in multiple tables ['baseline', 'upgrade'].Using baseline\n",
      "WARNING:buildstock_query.query_core:Column in.heating_fuel found in multiple tables ['baseline', 'upgrade'].Using baseline\n",
      "WARNING:buildstock_query.query_core:Column in.geometry_building_type_recs found in multiple tables ['baseline', 'upgrade'].Using baseline\n",
      "WARNING:buildstock_query.query_core:Column in.state found in multiple tables ['baseline', 'upgrade'].Using baseline\n",
      "WARNING:buildstock_query.query_core:Column in.heating_fuel found in multiple tables ['baseline', 'upgrade'].Using baseline\n",
      "WARNING:buildstock_query.query_core:Column in.geometry_building_type_recs found in multiple tables ['baseline', 'upgrade'].Using baseline\n"
     ]
    },
    {
     "name": "stdout",
     "output_type": "stream",
     "text": [
      "4.04-fuel_oil\n",
      "2.03-fuel_oil\n"
     ]
    },
    {
     "name": "stderr",
     "output_type": "stream",
     "text": [
      "WARNING:buildstock_query.query_core:Column in.state found in multiple tables ['baseline', 'upgrade'].Using baseline\n",
      "WARNING:buildstock_query.query_core:Column in.heating_fuel found in multiple tables ['baseline', 'upgrade'].Using baseline\n",
      "WARNING:buildstock_query.query_core:Column in.geometry_building_type_recs found in multiple tables ['baseline', 'upgrade'].Using baseline\n",
      "WARNING:buildstock_query.query_core:Column in.state found in multiple tables ['baseline', 'upgrade'].Using baseline\n",
      "WARNING:buildstock_query.query_core:Column in.heating_fuel found in multiple tables ['baseline', 'upgrade'].Using baseline\n",
      "WARNING:buildstock_query.query_core:Column in.geometry_building_type_recs found in multiple tables ['baseline', 'upgrade'].Using baseline\n"
     ]
    },
    {
     "name": "stdout",
     "output_type": "stream",
     "text": [
      "2.04-fuel_oil\n",
      "2.05-fuel_oil\n"
     ]
    },
    {
     "name": "stderr",
     "output_type": "stream",
     "text": [
      "WARNING:buildstock_query.query_core:Column in.state found in multiple tables ['baseline', 'upgrade'].Using baseline\n",
      "WARNING:buildstock_query.query_core:Column in.heating_fuel found in multiple tables ['baseline', 'upgrade'].Using baseline\n",
      "WARNING:buildstock_query.query_core:Column in.geometry_building_type_recs found in multiple tables ['baseline', 'upgrade'].Using baseline\n",
      "WARNING:buildstock_query.query_core:Column in.state found in multiple tables ['baseline', 'upgrade'].Using baseline\n",
      "WARNING:buildstock_query.query_core:Column in.heating_fuel found in multiple tables ['baseline', 'upgrade'].Using baseline\n",
      "WARNING:buildstock_query.query_core:Column in.geometry_building_type_recs found in multiple tables ['baseline', 'upgrade'].Using baseline\n"
     ]
    },
    {
     "name": "stdout",
     "output_type": "stream",
     "text": [
      "4.05-fuel_oil\n",
      "4.06-fuel_oil\n"
     ]
    },
    {
     "name": "stderr",
     "output_type": "stream",
     "text": [
      "WARNING:buildstock_query.query_core:Column in.state found in multiple tables ['baseline', 'upgrade'].Using baseline\n",
      "WARNING:buildstock_query.query_core:Column in.heating_fuel found in multiple tables ['baseline', 'upgrade'].Using baseline\n",
      "WARNING:buildstock_query.query_core:Column in.geometry_building_type_recs found in multiple tables ['baseline', 'upgrade'].Using baseline\n",
      "WARNING:buildstock_query.query_core:Column in.state found in multiple tables ['baseline', 'upgrade'].Using baseline\n",
      "WARNING:buildstock_query.query_core:Column in.heating_fuel found in multiple tables ['baseline', 'upgrade'].Using baseline\n",
      "WARNING:buildstock_query.query_core:Column in.geometry_building_type_recs found in multiple tables ['baseline', 'upgrade'].Using baseline\n"
     ]
    },
    {
     "name": "stdout",
     "output_type": "stream",
     "text": [
      "4.07-fuel_oil\n",
      "4.08-fuel_oil\n"
     ]
    },
    {
     "name": "stderr",
     "output_type": "stream",
     "text": [
      "WARNING:buildstock_query.query_core:Column in.state found in multiple tables ['baseline', 'upgrade'].Using baseline\n",
      "WARNING:buildstock_query.query_core:Column in.heating_fuel found in multiple tables ['baseline', 'upgrade'].Using baseline\n",
      "WARNING:buildstock_query.query_core:Column in.geometry_building_type_recs found in multiple tables ['baseline', 'upgrade'].Using baseline\n",
      "WARNING:buildstock_query.query_core:Column in.state found in multiple tables ['baseline', 'upgrade'].Using baseline\n",
      "WARNING:buildstock_query.query_core:Column in.heating_fuel found in multiple tables ['baseline', 'upgrade'].Using baseline\n",
      "WARNING:buildstock_query.query_core:Column in.geometry_building_type_recs found in multiple tables ['baseline', 'upgrade'].Using baseline\n"
     ]
    },
    {
     "name": "stdout",
     "output_type": "stream",
     "text": [
      "4.09-fuel_oil\n",
      "4.10-fuel_oil\n"
     ]
    },
    {
     "name": "stderr",
     "output_type": "stream",
     "text": [
      "WARNING:buildstock_query.query_core:Column in.state found in multiple tables ['baseline', 'upgrade'].Using baseline\n",
      "WARNING:buildstock_query.query_core:Column in.heating_fuel found in multiple tables ['baseline', 'upgrade'].Using baseline\n",
      "WARNING:buildstock_query.query_core:Column in.geometry_building_type_recs found in multiple tables ['baseline', 'upgrade'].Using baseline\n",
      "WARNING:buildstock_query.query_core:Column in.state found in multiple tables ['baseline', 'upgrade'].Using baseline\n",
      "WARNING:buildstock_query.query_core:Column in.heating_fuel found in multiple tables ['baseline', 'upgrade'].Using baseline\n",
      "WARNING:buildstock_query.query_core:Column in.geometry_building_type_recs found in multiple tables ['baseline', 'upgrade'].Using baseline\n"
     ]
    },
    {
     "name": "stdout",
     "output_type": "stream",
     "text": [
      "5.01-fuel_oil\n",
      "5.13-fuel_oil\n"
     ]
    },
    {
     "name": "stderr",
     "output_type": "stream",
     "text": [
      "WARNING:buildstock_query.query_core:Column in.state found in multiple tables ['baseline', 'upgrade'].Using baseline\n",
      "WARNING:buildstock_query.query_core:Column in.heating_fuel found in multiple tables ['baseline', 'upgrade'].Using baseline\n",
      "WARNING:buildstock_query.query_core:Column in.geometry_building_type_recs found in multiple tables ['baseline', 'upgrade'].Using baseline\n",
      "WARNING:buildstock_query.query_core:Column in.state found in multiple tables ['baseline', 'upgrade'].Using baseline\n",
      "WARNING:buildstock_query.query_core:Column in.heating_fuel found in multiple tables ['baseline', 'upgrade'].Using baseline\n",
      "WARNING:buildstock_query.query_core:Column in.geometry_building_type_recs found in multiple tables ['baseline', 'upgrade'].Using baseline\n"
     ]
    },
    {
     "name": "stdout",
     "output_type": "stream",
     "text": [
      "6.01-fuel_oil\n",
      "6.10-fuel_oil\n"
     ]
    },
    {
     "name": "stderr",
     "output_type": "stream",
     "text": [
      "WARNING:buildstock_query.query_core:Column in.state found in multiple tables ['baseline', 'upgrade'].Using baseline\n",
      "WARNING:buildstock_query.query_core:Column in.heating_fuel found in multiple tables ['baseline', 'upgrade'].Using baseline\n",
      "WARNING:buildstock_query.query_core:Column in.geometry_building_type_recs found in multiple tables ['baseline', 'upgrade'].Using baseline\n",
      "WARNING:buildstock_query.query_core:Column in.state found in multiple tables ['baseline', 'upgrade'].Using baseline\n",
      "WARNING:buildstock_query.query_core:Column in.heating_fuel found in multiple tables ['baseline', 'upgrade'].Using baseline\n",
      "WARNING:buildstock_query.query_core:Column in.geometry_building_type_recs found in multiple tables ['baseline', 'upgrade'].Using baseline\n"
     ]
    },
    {
     "name": "stdout",
     "output_type": "stream",
     "text": [
      "6.02-fuel_oil\n",
      "6.11-fuel_oil\n"
     ]
    },
    {
     "name": "stderr",
     "output_type": "stream",
     "text": [
      "WARNING:buildstock_query.query_core:Column in.state found in multiple tables ['baseline', 'upgrade'].Using baseline\n",
      "WARNING:buildstock_query.query_core:Column in.heating_fuel found in multiple tables ['baseline', 'upgrade'].Using baseline\n",
      "WARNING:buildstock_query.query_core:Column in.geometry_building_type_recs found in multiple tables ['baseline', 'upgrade'].Using baseline\n",
      "WARNING:buildstock_query.query_core:Column in.state found in multiple tables ['baseline', 'upgrade'].Using baseline\n",
      "WARNING:buildstock_query.query_core:Column in.heating_fuel found in multiple tables ['baseline', 'upgrade'].Using baseline\n",
      "WARNING:buildstock_query.query_core:Column in.geometry_building_type_recs found in multiple tables ['baseline', 'upgrade'].Using baseline\n"
     ]
    },
    {
     "name": "stdout",
     "output_type": "stream",
     "text": [
      "6.03-fuel_oil\n",
      "6.12-fuel_oil\n"
     ]
    },
    {
     "name": "stderr",
     "output_type": "stream",
     "text": [
      "WARNING:buildstock_query.query_core:Column in.state found in multiple tables ['baseline', 'upgrade'].Using baseline\n",
      "WARNING:buildstock_query.query_core:Column in.heating_fuel found in multiple tables ['baseline', 'upgrade'].Using baseline\n",
      "WARNING:buildstock_query.query_core:Column in.geometry_building_type_recs found in multiple tables ['baseline', 'upgrade'].Using baseline\n",
      "WARNING:buildstock_query.query_core:Column in.state found in multiple tables ['baseline', 'upgrade'].Using baseline\n",
      "WARNING:buildstock_query.query_core:Column in.heating_fuel found in multiple tables ['baseline', 'upgrade'].Using baseline\n",
      "WARNING:buildstock_query.query_core:Column in.geometry_building_type_recs found in multiple tables ['baseline', 'upgrade'].Using baseline\n"
     ]
    },
    {
     "name": "stdout",
     "output_type": "stream",
     "text": [
      "5.05-fuel_oil\n",
      "5.06-fuel_oil\n"
     ]
    },
    {
     "name": "stderr",
     "output_type": "stream",
     "text": [
      "WARNING:buildstock_query.query_core:Column in.state found in multiple tables ['baseline', 'upgrade'].Using baseline\n",
      "WARNING:buildstock_query.query_core:Column in.heating_fuel found in multiple tables ['baseline', 'upgrade'].Using baseline\n",
      "WARNING:buildstock_query.query_core:Column in.geometry_building_type_recs found in multiple tables ['baseline', 'upgrade'].Using baseline\n",
      "WARNING:buildstock_query.query_core:Column in.state found in multiple tables ['baseline', 'upgrade'].Using baseline\n",
      "WARNING:buildstock_query.query_core:Column in.heating_fuel found in multiple tables ['baseline', 'upgrade'].Using baseline\n",
      "WARNING:buildstock_query.query_core:Column in.geometry_building_type_recs found in multiple tables ['baseline', 'upgrade'].Using baseline\n"
     ]
    },
    {
     "name": "stdout",
     "output_type": "stream",
     "text": [
      "5.07-fuel_oil\n",
      "5.08-fuel_oil\n"
     ]
    },
    {
     "name": "stderr",
     "output_type": "stream",
     "text": [
      "WARNING:buildstock_query.query_core:Column in.state found in multiple tables ['baseline', 'upgrade'].Using baseline\n",
      "WARNING:buildstock_query.query_core:Column in.heating_fuel found in multiple tables ['baseline', 'upgrade'].Using baseline\n",
      "WARNING:buildstock_query.query_core:Column in.geometry_building_type_recs found in multiple tables ['baseline', 'upgrade'].Using baseline\n",
      "WARNING:buildstock_query.query_core:Column in.state found in multiple tables ['baseline', 'upgrade'].Using baseline\n",
      "WARNING:buildstock_query.query_core:Column in.heating_fuel found in multiple tables ['baseline', 'upgrade'].Using baseline\n",
      "WARNING:buildstock_query.query_core:Column in.geometry_building_type_recs found in multiple tables ['baseline', 'upgrade'].Using baseline\n"
     ]
    },
    {
     "name": "stdout",
     "output_type": "stream",
     "text": [
      "5.17-fuel_oil\n",
      "5.18-fuel_oil\n"
     ]
    },
    {
     "name": "stderr",
     "output_type": "stream",
     "text": [
      "WARNING:buildstock_query.query_core:Column in.state found in multiple tables ['baseline', 'upgrade'].Using baseline\n",
      "WARNING:buildstock_query.query_core:Column in.heating_fuel found in multiple tables ['baseline', 'upgrade'].Using baseline\n",
      "WARNING:buildstock_query.query_core:Column in.geometry_building_type_recs found in multiple tables ['baseline', 'upgrade'].Using baseline\n",
      "WARNING:buildstock_query.query_core:Column in.state found in multiple tables ['baseline', 'upgrade'].Using baseline\n",
      "WARNING:buildstock_query.query_core:Column in.heating_fuel found in multiple tables ['baseline', 'upgrade'].Using baseline\n",
      "WARNING:buildstock_query.query_core:Column in.geometry_building_type_recs found in multiple tables ['baseline', 'upgrade'].Using baseline\n"
     ]
    },
    {
     "name": "stdout",
     "output_type": "stream",
     "text": [
      "5.19-fuel_oil\n",
      "5.20-fuel_oil\n"
     ]
    },
    {
     "name": "stderr",
     "output_type": "stream",
     "text": [
      "WARNING:buildstock_query.query_core:Column in.state found in multiple tables ['baseline', 'upgrade'].Using baseline\n",
      "WARNING:buildstock_query.query_core:Column in.heating_fuel found in multiple tables ['baseline', 'upgrade'].Using baseline\n",
      "WARNING:buildstock_query.query_core:Column in.geometry_building_type_recs found in multiple tables ['baseline', 'upgrade'].Using baseline\n",
      "WARNING:buildstock_query.query_core:Column in.state found in multiple tables ['baseline', 'upgrade'].Using baseline\n",
      "WARNING:buildstock_query.query_core:Column in.heating_fuel found in multiple tables ['baseline', 'upgrade'].Using baseline\n",
      "WARNING:buildstock_query.query_core:Column in.geometry_building_type_recs found in multiple tables ['baseline', 'upgrade'].Using baseline\n"
     ]
    },
    {
     "name": "stdout",
     "output_type": "stream",
     "text": [
      "5.09-fuel_oil\n",
      "5.10-fuel_oil\n"
     ]
    },
    {
     "name": "stderr",
     "output_type": "stream",
     "text": [
      "WARNING:buildstock_query.query_core:Column in.state found in multiple tables ['baseline', 'upgrade'].Using baseline\n",
      "WARNING:buildstock_query.query_core:Column in.heating_fuel found in multiple tables ['baseline', 'upgrade'].Using baseline\n",
      "WARNING:buildstock_query.query_core:Column in.geometry_building_type_recs found in multiple tables ['baseline', 'upgrade'].Using baseline\n",
      "WARNING:buildstock_query.query_core:Column in.state found in multiple tables ['baseline', 'upgrade'].Using baseline\n",
      "WARNING:buildstock_query.query_core:Column in.heating_fuel found in multiple tables ['baseline', 'upgrade'].Using baseline\n",
      "WARNING:buildstock_query.query_core:Column in.geometry_building_type_recs found in multiple tables ['baseline', 'upgrade'].Using baseline\n"
     ]
    },
    {
     "name": "stdout",
     "output_type": "stream",
     "text": [
      "5.11-fuel_oil\n",
      "5.12-fuel_oil\n"
     ]
    },
    {
     "name": "stderr",
     "output_type": "stream",
     "text": [
      "WARNING:buildstock_query.query_core:Column in.state found in multiple tables ['baseline', 'upgrade'].Using baseline\n",
      "WARNING:buildstock_query.query_core:Column in.heating_fuel found in multiple tables ['baseline', 'upgrade'].Using baseline\n",
      "WARNING:buildstock_query.query_core:Column in.geometry_building_type_recs found in multiple tables ['baseline', 'upgrade'].Using baseline\n",
      "WARNING:buildstock_query.query_core:Column in.state found in multiple tables ['baseline', 'upgrade'].Using baseline\n",
      "WARNING:buildstock_query.query_core:Column in.heating_fuel found in multiple tables ['baseline', 'upgrade'].Using baseline\n",
      "WARNING:buildstock_query.query_core:Column in.geometry_building_type_recs found in multiple tables ['baseline', 'upgrade'].Using baseline\n"
     ]
    },
    {
     "name": "stdout",
     "output_type": "stream",
     "text": [
      "5.21-fuel_oil\n",
      "5.22-fuel_oil\n"
     ]
    },
    {
     "name": "stderr",
     "output_type": "stream",
     "text": [
      "WARNING:buildstock_query.query_core:Column in.state found in multiple tables ['baseline', 'upgrade'].Using baseline\n",
      "WARNING:buildstock_query.query_core:Column in.heating_fuel found in multiple tables ['baseline', 'upgrade'].Using baseline\n",
      "WARNING:buildstock_query.query_core:Column in.geometry_building_type_recs found in multiple tables ['baseline', 'upgrade'].Using baseline\n",
      "WARNING:buildstock_query.query_core:Column in.state found in multiple tables ['baseline', 'upgrade'].Using baseline\n",
      "WARNING:buildstock_query.query_core:Column in.heating_fuel found in multiple tables ['baseline', 'upgrade'].Using baseline\n",
      "WARNING:buildstock_query.query_core:Column in.geometry_building_type_recs found in multiple tables ['baseline', 'upgrade'].Using baseline\n"
     ]
    },
    {
     "name": "stdout",
     "output_type": "stream",
     "text": [
      "5.23-fuel_oil\n",
      "5.24-fuel_oil\n"
     ]
    },
    {
     "name": "stderr",
     "output_type": "stream",
     "text": [
      "WARNING:buildstock_query.query_core:Column in.state found in multiple tables ['baseline', 'upgrade'].Using baseline\n",
      "WARNING:buildstock_query.query_core:Column in.heating_fuel found in multiple tables ['baseline', 'upgrade'].Using baseline\n",
      "WARNING:buildstock_query.query_core:Column in.geometry_building_type_recs found in multiple tables ['baseline', 'upgrade'].Using baseline\n",
      "WARNING:buildstock_query.query_core:Column in.state found in multiple tables ['baseline', 'upgrade'].Using baseline\n",
      "WARNING:buildstock_query.query_core:Column in.heating_fuel found in multiple tables ['baseline', 'upgrade'].Using baseline\n",
      "WARNING:buildstock_query.query_core:Column in.geometry_building_type_recs found in multiple tables ['baseline', 'upgrade'].Using baseline\n"
     ]
    },
    {
     "name": "stdout",
     "output_type": "stream",
     "text": [
      "14.01-fuel_oil\n",
      "14.02-fuel_oil\n"
     ]
    },
    {
     "name": "stderr",
     "output_type": "stream",
     "text": [
      "WARNING:buildstock_query.query_core:Column in.state found in multiple tables ['baseline', 'upgrade'].Using baseline\n",
      "WARNING:buildstock_query.query_core:Column in.heating_fuel found in multiple tables ['baseline', 'upgrade'].Using baseline\n",
      "WARNING:buildstock_query.query_core:Column in.geometry_building_type_recs found in multiple tables ['baseline', 'upgrade'].Using baseline\n",
      "WARNING:buildstock_query.query_core:Column in.state found in multiple tables ['baseline', 'upgrade'].Using baseline\n",
      "WARNING:buildstock_query.query_core:Column in.heating_fuel found in multiple tables ['baseline', 'upgrade'].Using baseline\n",
      "WARNING:buildstock_query.query_core:Column in.geometry_building_type_recs found in multiple tables ['baseline', 'upgrade'].Using baseline\n"
     ]
    },
    {
     "name": "stdout",
     "output_type": "stream",
     "text": [
      "14.03-fuel_oil\n",
      "14.04-fuel_oil\n"
     ]
    },
    {
     "name": "stderr",
     "output_type": "stream",
     "text": [
      "WARNING:buildstock_query.query_core:Column in.state found in multiple tables ['baseline', 'upgrade'].Using baseline\n",
      "WARNING:buildstock_query.query_core:Column in.heating_fuel found in multiple tables ['baseline', 'upgrade'].Using baseline\n",
      "WARNING:buildstock_query.query_core:Column in.geometry_building_type_recs found in multiple tables ['baseline', 'upgrade'].Using baseline\n",
      "WARNING:buildstock_query.query_core:Column in.state found in multiple tables ['baseline', 'upgrade'].Using baseline\n",
      "WARNING:buildstock_query.query_core:Column in.heating_fuel found in multiple tables ['baseline', 'upgrade'].Using baseline\n",
      "WARNING:buildstock_query.query_core:Column in.geometry_building_type_recs found in multiple tables ['baseline', 'upgrade'].Using baseline\n"
     ]
    },
    {
     "name": "stdout",
     "output_type": "stream",
     "text": [
      "14.05-fuel_oil\n",
      "14.06-fuel_oil\n"
     ]
    },
    {
     "name": "stderr",
     "output_type": "stream",
     "text": [
      "WARNING:buildstock_query.query_core:Column in.state found in multiple tables ['baseline', 'upgrade'].Using baseline\n",
      "WARNING:buildstock_query.query_core:Column in.heating_fuel found in multiple tables ['baseline', 'upgrade'].Using baseline\n",
      "WARNING:buildstock_query.query_core:Column in.geometry_building_type_recs found in multiple tables ['baseline', 'upgrade'].Using baseline\n",
      "WARNING:buildstock_query.query_core:Column in.state found in multiple tables ['baseline', 'upgrade'].Using baseline\n",
      "WARNING:buildstock_query.query_core:Column in.heating_fuel found in multiple tables ['baseline', 'upgrade'].Using baseline\n",
      "WARNING:buildstock_query.query_core:Column in.geometry_building_type_recs found in multiple tables ['baseline', 'upgrade'].Using baseline\n"
     ]
    },
    {
     "name": "stdout",
     "output_type": "stream",
     "text": [
      "7.01-fuel_oil\n",
      "7.13-fuel_oil\n"
     ]
    },
    {
     "name": "stderr",
     "output_type": "stream",
     "text": [
      "WARNING:buildstock_query.query_core:Column in.state found in multiple tables ['baseline', 'upgrade'].Using baseline\n",
      "WARNING:buildstock_query.query_core:Column in.heating_fuel found in multiple tables ['baseline', 'upgrade'].Using baseline\n",
      "WARNING:buildstock_query.query_core:Column in.geometry_building_type_recs found in multiple tables ['baseline', 'upgrade'].Using baseline\n",
      "WARNING:buildstock_query.query_core:Column in.state found in multiple tables ['baseline', 'upgrade'].Using baseline\n",
      "WARNING:buildstock_query.query_core:Column in.heating_fuel found in multiple tables ['baseline', 'upgrade'].Using baseline\n",
      "WARNING:buildstock_query.query_core:Column in.geometry_building_type_recs found in multiple tables ['baseline', 'upgrade'].Using baseline\n"
     ]
    },
    {
     "name": "stdout",
     "output_type": "stream",
     "text": [
      "10.01-fuel_oil\n",
      "10.10-fuel_oil\n"
     ]
    },
    {
     "name": "stderr",
     "output_type": "stream",
     "text": [
      "WARNING:buildstock_query.query_core:Column in.state found in multiple tables ['baseline', 'upgrade'].Using baseline\n",
      "WARNING:buildstock_query.query_core:Column in.heating_fuel found in multiple tables ['baseline', 'upgrade'].Using baseline\n",
      "WARNING:buildstock_query.query_core:Column in.geometry_building_type_recs found in multiple tables ['baseline', 'upgrade'].Using baseline\n",
      "WARNING:buildstock_query.query_core:Column in.state found in multiple tables ['baseline', 'upgrade'].Using baseline\n",
      "WARNING:buildstock_query.query_core:Column in.heating_fuel found in multiple tables ['baseline', 'upgrade'].Using baseline\n",
      "WARNING:buildstock_query.query_core:Column in.geometry_building_type_recs found in multiple tables ['baseline', 'upgrade'].Using baseline\n"
     ]
    },
    {
     "name": "stdout",
     "output_type": "stream",
     "text": [
      "10.02-fuel_oil\n",
      "10.11-fuel_oil\n"
     ]
    },
    {
     "name": "stderr",
     "output_type": "stream",
     "text": [
      "WARNING:buildstock_query.query_core:Column in.state found in multiple tables ['baseline', 'upgrade'].Using baseline\n",
      "WARNING:buildstock_query.query_core:Column in.heating_fuel found in multiple tables ['baseline', 'upgrade'].Using baseline\n",
      "WARNING:buildstock_query.query_core:Column in.geometry_building_type_recs found in multiple tables ['baseline', 'upgrade'].Using baseline\n",
      "WARNING:buildstock_query.query_core:Column in.state found in multiple tables ['baseline', 'upgrade'].Using baseline\n",
      "WARNING:buildstock_query.query_core:Column in.heating_fuel found in multiple tables ['baseline', 'upgrade'].Using baseline\n",
      "WARNING:buildstock_query.query_core:Column in.geometry_building_type_recs found in multiple tables ['baseline', 'upgrade'].Using baseline\n"
     ]
    },
    {
     "name": "stdout",
     "output_type": "stream",
     "text": [
      "10.03-fuel_oil\n",
      "10.12-fuel_oil\n"
     ]
    },
    {
     "name": "stderr",
     "output_type": "stream",
     "text": [
      "WARNING:buildstock_query.query_core:Column in.state found in multiple tables ['baseline', 'upgrade'].Using baseline\n",
      "WARNING:buildstock_query.query_core:Column in.heating_fuel found in multiple tables ['baseline', 'upgrade'].Using baseline\n",
      "WARNING:buildstock_query.query_core:Column in.geometry_building_type_recs found in multiple tables ['baseline', 'upgrade'].Using baseline\n",
      "WARNING:buildstock_query.query_core:Column in.state found in multiple tables ['baseline', 'upgrade'].Using baseline\n",
      "WARNING:buildstock_query.query_core:Column in.heating_fuel found in multiple tables ['baseline', 'upgrade'].Using baseline\n",
      "WARNING:buildstock_query.query_core:Column in.geometry_building_type_recs found in multiple tables ['baseline', 'upgrade'].Using baseline\n"
     ]
    },
    {
     "name": "stdout",
     "output_type": "stream",
     "text": [
      "7.05-fuel_oil\n",
      "7.06-fuel_oil\n"
     ]
    },
    {
     "name": "stderr",
     "output_type": "stream",
     "text": [
      "WARNING:buildstock_query.query_core:Column in.state found in multiple tables ['baseline', 'upgrade'].Using baseline\n",
      "WARNING:buildstock_query.query_core:Column in.heating_fuel found in multiple tables ['baseline', 'upgrade'].Using baseline\n",
      "WARNING:buildstock_query.query_core:Column in.geometry_building_type_recs found in multiple tables ['baseline', 'upgrade'].Using baseline\n",
      "WARNING:buildstock_query.query_core:Column in.state found in multiple tables ['baseline', 'upgrade'].Using baseline\n",
      "WARNING:buildstock_query.query_core:Column in.heating_fuel found in multiple tables ['baseline', 'upgrade'].Using baseline\n",
      "WARNING:buildstock_query.query_core:Column in.geometry_building_type_recs found in multiple tables ['baseline', 'upgrade'].Using baseline\n"
     ]
    },
    {
     "name": "stdout",
     "output_type": "stream",
     "text": [
      "7.07-fuel_oil\n",
      "7.08-fuel_oil\n"
     ]
    },
    {
     "name": "stderr",
     "output_type": "stream",
     "text": [
      "WARNING:buildstock_query.query_core:Column in.state found in multiple tables ['baseline', 'upgrade'].Using baseline\n",
      "WARNING:buildstock_query.query_core:Column in.heating_fuel found in multiple tables ['baseline', 'upgrade'].Using baseline\n",
      "WARNING:buildstock_query.query_core:Column in.geometry_building_type_recs found in multiple tables ['baseline', 'upgrade'].Using baseline\n",
      "WARNING:buildstock_query.query_core:Column in.state found in multiple tables ['baseline', 'upgrade'].Using baseline\n",
      "WARNING:buildstock_query.query_core:Column in.heating_fuel found in multiple tables ['baseline', 'upgrade'].Using baseline\n",
      "WARNING:buildstock_query.query_core:Column in.geometry_building_type_recs found in multiple tables ['baseline', 'upgrade'].Using baseline\n"
     ]
    },
    {
     "name": "stdout",
     "output_type": "stream",
     "text": [
      "7.17-fuel_oil\n",
      "7.18-fuel_oil\n"
     ]
    },
    {
     "name": "stderr",
     "output_type": "stream",
     "text": [
      "WARNING:buildstock_query.query_core:Column in.state found in multiple tables ['baseline', 'upgrade'].Using baseline\n",
      "WARNING:buildstock_query.query_core:Column in.heating_fuel found in multiple tables ['baseline', 'upgrade'].Using baseline\n",
      "WARNING:buildstock_query.query_core:Column in.geometry_building_type_recs found in multiple tables ['baseline', 'upgrade'].Using baseline\n",
      "WARNING:buildstock_query.query_core:Column in.state found in multiple tables ['baseline', 'upgrade'].Using baseline\n",
      "WARNING:buildstock_query.query_core:Column in.heating_fuel found in multiple tables ['baseline', 'upgrade'].Using baseline\n",
      "WARNING:buildstock_query.query_core:Column in.geometry_building_type_recs found in multiple tables ['baseline', 'upgrade'].Using baseline\n"
     ]
    },
    {
     "name": "stdout",
     "output_type": "stream",
     "text": [
      "7.19-fuel_oil\n",
      "7.20-fuel_oil\n"
     ]
    },
    {
     "name": "stderr",
     "output_type": "stream",
     "text": [
      "WARNING:buildstock_query.query_core:Column in.state found in multiple tables ['baseline', 'upgrade'].Using baseline\n",
      "WARNING:buildstock_query.query_core:Column in.heating_fuel found in multiple tables ['baseline', 'upgrade'].Using baseline\n",
      "WARNING:buildstock_query.query_core:Column in.geometry_building_type_recs found in multiple tables ['baseline', 'upgrade'].Using baseline\n",
      "WARNING:buildstock_query.query_core:Column in.state found in multiple tables ['baseline', 'upgrade'].Using baseline\n",
      "WARNING:buildstock_query.query_core:Column in.heating_fuel found in multiple tables ['baseline', 'upgrade'].Using baseline\n",
      "WARNING:buildstock_query.query_core:Column in.geometry_building_type_recs found in multiple tables ['baseline', 'upgrade'].Using baseline\n"
     ]
    },
    {
     "name": "stdout",
     "output_type": "stream",
     "text": [
      "7.09-fuel_oil\n",
      "7.10-fuel_oil\n"
     ]
    },
    {
     "name": "stderr",
     "output_type": "stream",
     "text": [
      "WARNING:buildstock_query.query_core:Column in.state found in multiple tables ['baseline', 'upgrade'].Using baseline\n",
      "WARNING:buildstock_query.query_core:Column in.heating_fuel found in multiple tables ['baseline', 'upgrade'].Using baseline\n",
      "WARNING:buildstock_query.query_core:Column in.geometry_building_type_recs found in multiple tables ['baseline', 'upgrade'].Using baseline\n",
      "WARNING:buildstock_query.query_core:Column in.state found in multiple tables ['baseline', 'upgrade'].Using baseline\n",
      "WARNING:buildstock_query.query_core:Column in.heating_fuel found in multiple tables ['baseline', 'upgrade'].Using baseline\n",
      "WARNING:buildstock_query.query_core:Column in.geometry_building_type_recs found in multiple tables ['baseline', 'upgrade'].Using baseline\n"
     ]
    },
    {
     "name": "stdout",
     "output_type": "stream",
     "text": [
      "7.11-fuel_oil\n",
      "7.12-fuel_oil\n"
     ]
    },
    {
     "name": "stderr",
     "output_type": "stream",
     "text": [
      "WARNING:buildstock_query.query_core:Column in.state found in multiple tables ['baseline', 'upgrade'].Using baseline\n",
      "WARNING:buildstock_query.query_core:Column in.heating_fuel found in multiple tables ['baseline', 'upgrade'].Using baseline\n",
      "WARNING:buildstock_query.query_core:Column in.geometry_building_type_recs found in multiple tables ['baseline', 'upgrade'].Using baseline\n",
      "WARNING:buildstock_query.query_core:Column in.state found in multiple tables ['baseline', 'upgrade'].Using baseline\n",
      "WARNING:buildstock_query.query_core:Column in.heating_fuel found in multiple tables ['baseline', 'upgrade'].Using baseline\n",
      "WARNING:buildstock_query.query_core:Column in.geometry_building_type_recs found in multiple tables ['baseline', 'upgrade'].Using baseline\n"
     ]
    },
    {
     "name": "stdout",
     "output_type": "stream",
     "text": [
      "7.21-fuel_oil\n",
      "7.22-fuel_oil\n"
     ]
    },
    {
     "name": "stderr",
     "output_type": "stream",
     "text": [
      "WARNING:buildstock_query.query_core:Column in.state found in multiple tables ['baseline', 'upgrade'].Using baseline\n",
      "WARNING:buildstock_query.query_core:Column in.heating_fuel found in multiple tables ['baseline', 'upgrade'].Using baseline\n",
      "WARNING:buildstock_query.query_core:Column in.geometry_building_type_recs found in multiple tables ['baseline', 'upgrade'].Using baseline\n",
      "WARNING:buildstock_query.query_core:Column in.state found in multiple tables ['baseline', 'upgrade'].Using baseline\n",
      "WARNING:buildstock_query.query_core:Column in.heating_fuel found in multiple tables ['baseline', 'upgrade'].Using baseline\n",
      "WARNING:buildstock_query.query_core:Column in.geometry_building_type_recs found in multiple tables ['baseline', 'upgrade'].Using baseline\n"
     ]
    },
    {
     "name": "stdout",
     "output_type": "stream",
     "text": [
      "7.23-fuel_oil\n",
      "7.24-fuel_oil\n"
     ]
    },
    {
     "name": "stderr",
     "output_type": "stream",
     "text": [
      "WARNING:buildstock_query.query_core:Column in.state found in multiple tables ['baseline', 'upgrade'].Using baseline\n",
      "WARNING:buildstock_query.query_core:Column in.heating_fuel found in multiple tables ['baseline', 'upgrade'].Using baseline\n",
      "WARNING:buildstock_query.query_core:Column in.geometry_building_type_recs found in multiple tables ['baseline', 'upgrade'].Using baseline\n",
      "WARNING:buildstock_query.query_core:Column in.state found in multiple tables ['baseline', 'upgrade'].Using baseline\n",
      "WARNING:buildstock_query.query_core:Column in.heating_fuel found in multiple tables ['baseline', 'upgrade'].Using baseline\n",
      "WARNING:buildstock_query.query_core:Column in.geometry_building_type_recs found in multiple tables ['baseline', 'upgrade'].Using baseline\n"
     ]
    },
    {
     "name": "stdout",
     "output_type": "stream",
     "text": [
      "14.07-fuel_oil\n",
      "14.08-fuel_oil\n"
     ]
    },
    {
     "name": "stderr",
     "output_type": "stream",
     "text": [
      "WARNING:buildstock_query.query_core:Column in.state found in multiple tables ['baseline', 'upgrade'].Using baseline\n",
      "WARNING:buildstock_query.query_core:Column in.heating_fuel found in multiple tables ['baseline', 'upgrade'].Using baseline\n",
      "WARNING:buildstock_query.query_core:Column in.geometry_building_type_recs found in multiple tables ['baseline', 'upgrade'].Using baseline\n"
     ]
    },
    {
     "name": "stdout",
     "output_type": "stream",
     "text": [
      "14.09-fuel_oil\n"
     ]
    },
    {
     "name": "stderr",
     "output_type": "stream",
     "text": [
      "WARNING:buildstock_query.query_core:Column in.state found in multiple tables ['baseline', 'upgrade'].Using baseline\n",
      "WARNING:buildstock_query.query_core:Column in.heating_fuel found in multiple tables ['baseline', 'upgrade'].Using baseline\n",
      "WARNING:buildstock_query.query_core:Column in.geometry_building_type_recs found in multiple tables ['baseline', 'upgrade'].Using baseline\n",
      "WARNING:buildstock_query.query_core:Column in.state found in multiple tables ['baseline', 'upgrade'].Using baseline\n",
      "WARNING:buildstock_query.query_core:Column in.heating_fuel found in multiple tables ['baseline', 'upgrade'].Using baseline\n",
      "WARNING:buildstock_query.query_core:Column in.geometry_building_type_recs found in multiple tables ['baseline', 'upgrade'].Using baseline\n"
     ]
    },
    {
     "name": "stdout",
     "output_type": "stream",
     "text": [
      "14.10-fuel_oil\n",
      "14.11-fuel_oil\n"
     ]
    },
    {
     "name": "stderr",
     "output_type": "stream",
     "text": [
      "WARNING:buildstock_query.query_core:Column in.state found in multiple tables ['baseline', 'upgrade'].Using baseline\n",
      "WARNING:buildstock_query.query_core:Column in.heating_fuel found in multiple tables ['baseline', 'upgrade'].Using baseline\n",
      "WARNING:buildstock_query.query_core:Column in.geometry_building_type_recs found in multiple tables ['baseline', 'upgrade'].Using baseline\n",
      "WARNING:buildstock_query.query_core:Column in.state found in multiple tables ['baseline', 'upgrade'].Using baseline\n",
      "WARNING:buildstock_query.query_core:Column in.heating_fuel found in multiple tables ['baseline', 'upgrade'].Using baseline\n",
      "WARNING:buildstock_query.query_core:Column in.geometry_building_type_recs found in multiple tables ['baseline', 'upgrade'].Using baseline\n"
     ]
    },
    {
     "name": "stdout",
     "output_type": "stream",
     "text": [
      "14.12-fuel_oil\n",
      "8.01-fuel_oil\n"
     ]
    },
    {
     "name": "stderr",
     "output_type": "stream",
     "text": [
      "WARNING:buildstock_query.query_core:Column in.state found in multiple tables ['baseline', 'upgrade'].Using baseline\n",
      "WARNING:buildstock_query.query_core:Column in.heating_fuel found in multiple tables ['baseline', 'upgrade'].Using baseline\n",
      "WARNING:buildstock_query.query_core:Column in.geometry_building_type_recs found in multiple tables ['baseline', 'upgrade'].Using baseline\n",
      "WARNING:buildstock_query.query_core:Column in.state found in multiple tables ['baseline', 'upgrade'].Using baseline\n",
      "WARNING:buildstock_query.query_core:Column in.heating_fuel found in multiple tables ['baseline', 'upgrade'].Using baseline\n",
      "WARNING:buildstock_query.query_core:Column in.geometry_building_type_recs found in multiple tables ['baseline', 'upgrade'].Using baseline\n"
     ]
    },
    {
     "name": "stdout",
     "output_type": "stream",
     "text": [
      "8.13-fuel_oil\n",
      "11.01-fuel_oil\n"
     ]
    },
    {
     "name": "stderr",
     "output_type": "stream",
     "text": [
      "WARNING:buildstock_query.query_core:Column in.state found in multiple tables ['baseline', 'upgrade'].Using baseline\n",
      "WARNING:buildstock_query.query_core:Column in.heating_fuel found in multiple tables ['baseline', 'upgrade'].Using baseline\n",
      "WARNING:buildstock_query.query_core:Column in.geometry_building_type_recs found in multiple tables ['baseline', 'upgrade'].Using baseline\n",
      "WARNING:buildstock_query.query_core:Column in.state found in multiple tables ['baseline', 'upgrade'].Using baseline\n",
      "WARNING:buildstock_query.query_core:Column in.heating_fuel found in multiple tables ['baseline', 'upgrade'].Using baseline\n",
      "WARNING:buildstock_query.query_core:Column in.geometry_building_type_recs found in multiple tables ['baseline', 'upgrade'].Using baseline\n"
     ]
    },
    {
     "name": "stdout",
     "output_type": "stream",
     "text": [
      "11.10-fuel_oil\n",
      "11.02-fuel_oil\n"
     ]
    },
    {
     "name": "stderr",
     "output_type": "stream",
     "text": [
      "WARNING:buildstock_query.query_core:Column in.state found in multiple tables ['baseline', 'upgrade'].Using baseline\n",
      "WARNING:buildstock_query.query_core:Column in.heating_fuel found in multiple tables ['baseline', 'upgrade'].Using baseline\n",
      "WARNING:buildstock_query.query_core:Column in.geometry_building_type_recs found in multiple tables ['baseline', 'upgrade'].Using baseline\n",
      "WARNING:buildstock_query.query_core:Column in.state found in multiple tables ['baseline', 'upgrade'].Using baseline\n",
      "WARNING:buildstock_query.query_core:Column in.heating_fuel found in multiple tables ['baseline', 'upgrade'].Using baseline\n",
      "WARNING:buildstock_query.query_core:Column in.geometry_building_type_recs found in multiple tables ['baseline', 'upgrade'].Using baseline\n"
     ]
    },
    {
     "name": "stdout",
     "output_type": "stream",
     "text": [
      "11.11-fuel_oil\n",
      "11.03-fuel_oil\n"
     ]
    },
    {
     "name": "stderr",
     "output_type": "stream",
     "text": [
      "WARNING:buildstock_query.query_core:Column in.state found in multiple tables ['baseline', 'upgrade'].Using baseline\n",
      "WARNING:buildstock_query.query_core:Column in.heating_fuel found in multiple tables ['baseline', 'upgrade'].Using baseline\n",
      "WARNING:buildstock_query.query_core:Column in.geometry_building_type_recs found in multiple tables ['baseline', 'upgrade'].Using baseline\n",
      "WARNING:buildstock_query.query_core:Column in.state found in multiple tables ['baseline', 'upgrade'].Using baseline\n",
      "WARNING:buildstock_query.query_core:Column in.heating_fuel found in multiple tables ['baseline', 'upgrade'].Using baseline\n",
      "WARNING:buildstock_query.query_core:Column in.geometry_building_type_recs found in multiple tables ['baseline', 'upgrade'].Using baseline\n"
     ]
    },
    {
     "name": "stdout",
     "output_type": "stream",
     "text": [
      "11.12-fuel_oil\n",
      "8.05-fuel_oil\n"
     ]
    },
    {
     "name": "stderr",
     "output_type": "stream",
     "text": [
      "WARNING:buildstock_query.query_core:Column in.state found in multiple tables ['baseline', 'upgrade'].Using baseline\n",
      "WARNING:buildstock_query.query_core:Column in.heating_fuel found in multiple tables ['baseline', 'upgrade'].Using baseline\n",
      "WARNING:buildstock_query.query_core:Column in.geometry_building_type_recs found in multiple tables ['baseline', 'upgrade'].Using baseline\n",
      "WARNING:buildstock_query.query_core:Column in.state found in multiple tables ['baseline', 'upgrade'].Using baseline\n",
      "WARNING:buildstock_query.query_core:Column in.heating_fuel found in multiple tables ['baseline', 'upgrade'].Using baseline\n",
      "WARNING:buildstock_query.query_core:Column in.geometry_building_type_recs found in multiple tables ['baseline', 'upgrade'].Using baseline\n"
     ]
    },
    {
     "name": "stdout",
     "output_type": "stream",
     "text": [
      "8.06-fuel_oil\n",
      "8.07-fuel_oil\n"
     ]
    },
    {
     "name": "stderr",
     "output_type": "stream",
     "text": [
      "WARNING:buildstock_query.query_core:Column in.state found in multiple tables ['baseline', 'upgrade'].Using baseline\n",
      "WARNING:buildstock_query.query_core:Column in.heating_fuel found in multiple tables ['baseline', 'upgrade'].Using baseline\n",
      "WARNING:buildstock_query.query_core:Column in.geometry_building_type_recs found in multiple tables ['baseline', 'upgrade'].Using baseline\n",
      "WARNING:buildstock_query.query_core:Column in.state found in multiple tables ['baseline', 'upgrade'].Using baseline\n",
      "WARNING:buildstock_query.query_core:Column in.heating_fuel found in multiple tables ['baseline', 'upgrade'].Using baseline\n",
      "WARNING:buildstock_query.query_core:Column in.geometry_building_type_recs found in multiple tables ['baseline', 'upgrade'].Using baseline\n"
     ]
    },
    {
     "name": "stdout",
     "output_type": "stream",
     "text": [
      "8.08-fuel_oil\n",
      "8.17-fuel_oil\n"
     ]
    },
    {
     "name": "stderr",
     "output_type": "stream",
     "text": [
      "WARNING:buildstock_query.query_core:Column in.state found in multiple tables ['baseline', 'upgrade'].Using baseline\n",
      "WARNING:buildstock_query.query_core:Column in.heating_fuel found in multiple tables ['baseline', 'upgrade'].Using baseline\n",
      "WARNING:buildstock_query.query_core:Column in.geometry_building_type_recs found in multiple tables ['baseline', 'upgrade'].Using baseline\n",
      "WARNING:buildstock_query.query_core:Column in.state found in multiple tables ['baseline', 'upgrade'].Using baseline\n",
      "WARNING:buildstock_query.query_core:Column in.heating_fuel found in multiple tables ['baseline', 'upgrade'].Using baseline\n",
      "WARNING:buildstock_query.query_core:Column in.geometry_building_type_recs found in multiple tables ['baseline', 'upgrade'].Using baseline\n"
     ]
    },
    {
     "name": "stdout",
     "output_type": "stream",
     "text": [
      "8.18-fuel_oil\n",
      "8.19-fuel_oil\n"
     ]
    },
    {
     "name": "stderr",
     "output_type": "stream",
     "text": [
      "WARNING:buildstock_query.query_core:Column in.state found in multiple tables ['baseline', 'upgrade'].Using baseline\n",
      "WARNING:buildstock_query.query_core:Column in.heating_fuel found in multiple tables ['baseline', 'upgrade'].Using baseline\n",
      "WARNING:buildstock_query.query_core:Column in.geometry_building_type_recs found in multiple tables ['baseline', 'upgrade'].Using baseline\n",
      "WARNING:buildstock_query.query_core:Column in.state found in multiple tables ['baseline', 'upgrade'].Using baseline\n",
      "WARNING:buildstock_query.query_core:Column in.heating_fuel found in multiple tables ['baseline', 'upgrade'].Using baseline\n",
      "WARNING:buildstock_query.query_core:Column in.geometry_building_type_recs found in multiple tables ['baseline', 'upgrade'].Using baseline\n"
     ]
    },
    {
     "name": "stdout",
     "output_type": "stream",
     "text": [
      "8.20-fuel_oil\n",
      "8.09-fuel_oil\n"
     ]
    },
    {
     "name": "stderr",
     "output_type": "stream",
     "text": [
      "WARNING:buildstock_query.query_core:Column in.state found in multiple tables ['baseline', 'upgrade'].Using baseline\n",
      "WARNING:buildstock_query.query_core:Column in.heating_fuel found in multiple tables ['baseline', 'upgrade'].Using baseline\n",
      "WARNING:buildstock_query.query_core:Column in.geometry_building_type_recs found in multiple tables ['baseline', 'upgrade'].Using baseline\n",
      "WARNING:buildstock_query.query_core:Column in.state found in multiple tables ['baseline', 'upgrade'].Using baseline\n",
      "WARNING:buildstock_query.query_core:Column in.heating_fuel found in multiple tables ['baseline', 'upgrade'].Using baseline\n",
      "WARNING:buildstock_query.query_core:Column in.geometry_building_type_recs found in multiple tables ['baseline', 'upgrade'].Using baseline\n"
     ]
    },
    {
     "name": "stdout",
     "output_type": "stream",
     "text": [
      "8.10-fuel_oil\n",
      "8.11-fuel_oil\n"
     ]
    },
    {
     "name": "stderr",
     "output_type": "stream",
     "text": [
      "WARNING:buildstock_query.query_core:Column in.state found in multiple tables ['baseline', 'upgrade'].Using baseline\n",
      "WARNING:buildstock_query.query_core:Column in.heating_fuel found in multiple tables ['baseline', 'upgrade'].Using baseline\n",
      "WARNING:buildstock_query.query_core:Column in.geometry_building_type_recs found in multiple tables ['baseline', 'upgrade'].Using baseline\n",
      "WARNING:buildstock_query.query_core:Column in.state found in multiple tables ['baseline', 'upgrade'].Using baseline\n",
      "WARNING:buildstock_query.query_core:Column in.heating_fuel found in multiple tables ['baseline', 'upgrade'].Using baseline\n",
      "WARNING:buildstock_query.query_core:Column in.geometry_building_type_recs found in multiple tables ['baseline', 'upgrade'].Using baseline\n"
     ]
    },
    {
     "name": "stdout",
     "output_type": "stream",
     "text": [
      "8.12-fuel_oil\n",
      "8.21-fuel_oil\n"
     ]
    },
    {
     "name": "stderr",
     "output_type": "stream",
     "text": [
      "WARNING:buildstock_query.query_core:Column in.state found in multiple tables ['baseline', 'upgrade'].Using baseline\n",
      "WARNING:buildstock_query.query_core:Column in.heating_fuel found in multiple tables ['baseline', 'upgrade'].Using baseline\n",
      "WARNING:buildstock_query.query_core:Column in.geometry_building_type_recs found in multiple tables ['baseline', 'upgrade'].Using baseline\n",
      "WARNING:buildstock_query.query_core:Column in.state found in multiple tables ['baseline', 'upgrade'].Using baseline\n",
      "WARNING:buildstock_query.query_core:Column in.heating_fuel found in multiple tables ['baseline', 'upgrade'].Using baseline\n",
      "WARNING:buildstock_query.query_core:Column in.geometry_building_type_recs found in multiple tables ['baseline', 'upgrade'].Using baseline\n"
     ]
    },
    {
     "name": "stdout",
     "output_type": "stream",
     "text": [
      "8.22-fuel_oil\n",
      "8.23-fuel_oil\n"
     ]
    },
    {
     "name": "stderr",
     "output_type": "stream",
     "text": [
      "WARNING:buildstock_query.query_core:Column in.state found in multiple tables ['baseline', 'upgrade'].Using baseline\n",
      "WARNING:buildstock_query.query_core:Column in.heating_fuel found in multiple tables ['baseline', 'upgrade'].Using baseline\n",
      "WARNING:buildstock_query.query_core:Column in.geometry_building_type_recs found in multiple tables ['baseline', 'upgrade'].Using baseline\n",
      "WARNING:buildstock_query.query_core:Column in.state found in multiple tables ['baseline', 'upgrade'].Using baseline\n",
      "WARNING:buildstock_query.query_core:Column in.heating_fuel found in multiple tables ['baseline', 'upgrade'].Using baseline\n",
      "WARNING:buildstock_query.query_core:Column in.geometry_building_type_recs found in multiple tables ['baseline', 'upgrade'].Using baseline\n"
     ]
    },
    {
     "name": "stdout",
     "output_type": "stream",
     "text": [
      "8.24-fuel_oil\n",
      "14.13-fuel_oil\n"
     ]
    },
    {
     "name": "stderr",
     "output_type": "stream",
     "text": [
      "WARNING:buildstock_query.query_core:Column in.state found in multiple tables ['baseline', 'upgrade'].Using baseline\n",
      "WARNING:buildstock_query.query_core:Column in.heating_fuel found in multiple tables ['baseline', 'upgrade'].Using baseline\n",
      "WARNING:buildstock_query.query_core:Column in.geometry_building_type_recs found in multiple tables ['baseline', 'upgrade'].Using baseline\n",
      "WARNING:buildstock_query.query_core:Column in.state found in multiple tables ['baseline', 'upgrade'].Using baseline\n",
      "WARNING:buildstock_query.query_core:Column in.heating_fuel found in multiple tables ['baseline', 'upgrade'].Using baseline\n",
      "WARNING:buildstock_query.query_core:Column in.geometry_building_type_recs found in multiple tables ['baseline', 'upgrade'].Using baseline\n"
     ]
    },
    {
     "name": "stdout",
     "output_type": "stream",
     "text": [
      "14.14-fuel_oil\n",
      "14.15-fuel_oil\n"
     ]
    },
    {
     "name": "stderr",
     "output_type": "stream",
     "text": [
      "WARNING:buildstock_query.query_core:Column in.state found in multiple tables ['baseline', 'upgrade'].Using baseline\n",
      "WARNING:buildstock_query.query_core:Column in.heating_fuel found in multiple tables ['baseline', 'upgrade'].Using baseline\n",
      "WARNING:buildstock_query.query_core:Column in.geometry_building_type_recs found in multiple tables ['baseline', 'upgrade'].Using baseline\n",
      "WARNING:buildstock_query.query_core:Column in.state found in multiple tables ['baseline', 'upgrade'].Using baseline\n",
      "WARNING:buildstock_query.query_core:Column in.heating_fuel found in multiple tables ['baseline', 'upgrade'].Using baseline\n",
      "WARNING:buildstock_query.query_core:Column in.geometry_building_type_recs found in multiple tables ['baseline', 'upgrade'].Using baseline\n"
     ]
    },
    {
     "name": "stdout",
     "output_type": "stream",
     "text": [
      "14.16-fuel_oil\n",
      "14.17-fuel_oil\n"
     ]
    },
    {
     "name": "stderr",
     "output_type": "stream",
     "text": [
      "WARNING:buildstock_query.query_core:Column in.state found in multiple tables ['baseline', 'upgrade'].Using baseline\n",
      "WARNING:buildstock_query.query_core:Column in.heating_fuel found in multiple tables ['baseline', 'upgrade'].Using baseline\n",
      "WARNING:buildstock_query.query_core:Column in.geometry_building_type_recs found in multiple tables ['baseline', 'upgrade'].Using baseline\n",
      "WARNING:buildstock_query.query_core:Column in.state found in multiple tables ['baseline', 'upgrade'].Using baseline\n",
      "WARNING:buildstock_query.query_core:Column in.heating_fuel found in multiple tables ['baseline', 'upgrade'].Using baseline\n",
      "WARNING:buildstock_query.query_core:Column in.geometry_building_type_recs found in multiple tables ['baseline', 'upgrade'].Using baseline\n"
     ]
    },
    {
     "name": "stdout",
     "output_type": "stream",
     "text": [
      "14.18-fuel_oil\n",
      "9.01-fuel_oil\n"
     ]
    },
    {
     "name": "stderr",
     "output_type": "stream",
     "text": [
      "WARNING:buildstock_query.query_core:Column in.state found in multiple tables ['baseline', 'upgrade'].Using baseline\n",
      "WARNING:buildstock_query.query_core:Column in.heating_fuel found in multiple tables ['baseline', 'upgrade'].Using baseline\n",
      "WARNING:buildstock_query.query_core:Column in.geometry_building_type_recs found in multiple tables ['baseline', 'upgrade'].Using baseline\n",
      "WARNING:buildstock_query.query_core:Column in.state found in multiple tables ['baseline', 'upgrade'].Using baseline\n",
      "WARNING:buildstock_query.query_core:Column in.heating_fuel found in multiple tables ['baseline', 'upgrade'].Using baseline\n",
      "WARNING:buildstock_query.query_core:Column in.geometry_building_type_recs found in multiple tables ['baseline', 'upgrade'].Using baseline\n"
     ]
    },
    {
     "name": "stdout",
     "output_type": "stream",
     "text": [
      "9.13-fuel_oil\n",
      "12.01-fuel_oil\n"
     ]
    },
    {
     "name": "stderr",
     "output_type": "stream",
     "text": [
      "WARNING:buildstock_query.query_core:Column in.state found in multiple tables ['baseline', 'upgrade'].Using baseline\n",
      "WARNING:buildstock_query.query_core:Column in.heating_fuel found in multiple tables ['baseline', 'upgrade'].Using baseline\n",
      "WARNING:buildstock_query.query_core:Column in.geometry_building_type_recs found in multiple tables ['baseline', 'upgrade'].Using baseline\n"
     ]
    },
    {
     "name": "stdout",
     "output_type": "stream",
     "text": [
      "12.10-fuel_oil\n"
     ]
    },
    {
     "name": "stderr",
     "output_type": "stream",
     "text": [
      "WARNING:buildstock_query.query_core:Column in.state found in multiple tables ['baseline', 'upgrade'].Using baseline\n",
      "WARNING:buildstock_query.query_core:Column in.heating_fuel found in multiple tables ['baseline', 'upgrade'].Using baseline\n",
      "WARNING:buildstock_query.query_core:Column in.geometry_building_type_recs found in multiple tables ['baseline', 'upgrade'].Using baseline\n",
      "WARNING:buildstock_query.query_core:Column in.state found in multiple tables ['baseline', 'upgrade'].Using baseline\n",
      "WARNING:buildstock_query.query_core:Column in.heating_fuel found in multiple tables ['baseline', 'upgrade'].Using baseline\n",
      "WARNING:buildstock_query.query_core:Column in.geometry_building_type_recs found in multiple tables ['baseline', 'upgrade'].Using baseline\n"
     ]
    },
    {
     "name": "stdout",
     "output_type": "stream",
     "text": [
      "12.11-fuel_oil\n",
      "12.03-fuel_oil\n"
     ]
    },
    {
     "name": "stderr",
     "output_type": "stream",
     "text": [
      "WARNING:buildstock_query.query_core:Column in.state found in multiple tables ['baseline', 'upgrade'].Using baseline\n",
      "WARNING:buildstock_query.query_core:Column in.heating_fuel found in multiple tables ['baseline', 'upgrade'].Using baseline\n",
      "WARNING:buildstock_query.query_core:Column in.geometry_building_type_recs found in multiple tables ['baseline', 'upgrade'].Using baseline\n",
      "WARNING:buildstock_query.query_core:Column in.state found in multiple tables ['baseline', 'upgrade'].Using baseline\n",
      "WARNING:buildstock_query.query_core:Column in.heating_fuel found in multiple tables ['baseline', 'upgrade'].Using baseline\n",
      "WARNING:buildstock_query.query_core:Column in.geometry_building_type_recs found in multiple tables ['baseline', 'upgrade'].Using baseline\n"
     ]
    },
    {
     "name": "stdout",
     "output_type": "stream",
     "text": [
      "12.12-fuel_oil\n",
      "9.05-fuel_oil\n"
     ]
    },
    {
     "name": "stderr",
     "output_type": "stream",
     "text": [
      "WARNING:buildstock_query.query_core:Column in.state found in multiple tables ['baseline', 'upgrade'].Using baseline\n",
      "WARNING:buildstock_query.query_core:Column in.heating_fuel found in multiple tables ['baseline', 'upgrade'].Using baseline\n",
      "WARNING:buildstock_query.query_core:Column in.geometry_building_type_recs found in multiple tables ['baseline', 'upgrade'].Using baseline\n",
      "WARNING:buildstock_query.query_core:Column in.state found in multiple tables ['baseline', 'upgrade'].Using baseline\n",
      "WARNING:buildstock_query.query_core:Column in.heating_fuel found in multiple tables ['baseline', 'upgrade'].Using baseline\n",
      "WARNING:buildstock_query.query_core:Column in.geometry_building_type_recs found in multiple tables ['baseline', 'upgrade'].Using baseline\n"
     ]
    },
    {
     "name": "stdout",
     "output_type": "stream",
     "text": [
      "9.06-fuel_oil\n",
      "9.07-fuel_oil\n"
     ]
    },
    {
     "name": "stderr",
     "output_type": "stream",
     "text": [
      "WARNING:buildstock_query.query_core:Column in.state found in multiple tables ['baseline', 'upgrade'].Using baseline\n",
      "WARNING:buildstock_query.query_core:Column in.heating_fuel found in multiple tables ['baseline', 'upgrade'].Using baseline\n",
      "WARNING:buildstock_query.query_core:Column in.geometry_building_type_recs found in multiple tables ['baseline', 'upgrade'].Using baseline\n",
      "WARNING:buildstock_query.query_core:Column in.state found in multiple tables ['baseline', 'upgrade'].Using baseline\n",
      "WARNING:buildstock_query.query_core:Column in.heating_fuel found in multiple tables ['baseline', 'upgrade'].Using baseline\n",
      "WARNING:buildstock_query.query_core:Column in.geometry_building_type_recs found in multiple tables ['baseline', 'upgrade'].Using baseline\n"
     ]
    },
    {
     "name": "stdout",
     "output_type": "stream",
     "text": [
      "9.08-fuel_oil\n",
      "9.17-fuel_oil\n"
     ]
    },
    {
     "name": "stderr",
     "output_type": "stream",
     "text": [
      "WARNING:buildstock_query.query_core:Column in.state found in multiple tables ['baseline', 'upgrade'].Using baseline\n",
      "WARNING:buildstock_query.query_core:Column in.heating_fuel found in multiple tables ['baseline', 'upgrade'].Using baseline\n",
      "WARNING:buildstock_query.query_core:Column in.geometry_building_type_recs found in multiple tables ['baseline', 'upgrade'].Using baseline\n",
      "WARNING:buildstock_query.query_core:Column in.state found in multiple tables ['baseline', 'upgrade'].Using baseline\n",
      "WARNING:buildstock_query.query_core:Column in.heating_fuel found in multiple tables ['baseline', 'upgrade'].Using baseline\n",
      "WARNING:buildstock_query.query_core:Column in.geometry_building_type_recs found in multiple tables ['baseline', 'upgrade'].Using baseline\n"
     ]
    },
    {
     "name": "stdout",
     "output_type": "stream",
     "text": [
      "9.18-fuel_oil\n",
      "9.19-fuel_oil\n"
     ]
    },
    {
     "name": "stderr",
     "output_type": "stream",
     "text": [
      "WARNING:buildstock_query.query_core:Column in.state found in multiple tables ['baseline', 'upgrade'].Using baseline\n",
      "WARNING:buildstock_query.query_core:Column in.heating_fuel found in multiple tables ['baseline', 'upgrade'].Using baseline\n",
      "WARNING:buildstock_query.query_core:Column in.geometry_building_type_recs found in multiple tables ['baseline', 'upgrade'].Using baseline\n",
      "WARNING:buildstock_query.query_core:Column in.state found in multiple tables ['baseline', 'upgrade'].Using baseline\n",
      "WARNING:buildstock_query.query_core:Column in.heating_fuel found in multiple tables ['baseline', 'upgrade'].Using baseline\n",
      "WARNING:buildstock_query.query_core:Column in.geometry_building_type_recs found in multiple tables ['baseline', 'upgrade'].Using baseline\n"
     ]
    },
    {
     "name": "stdout",
     "output_type": "stream",
     "text": [
      "9.20-fuel_oil\n",
      "9.09-fuel_oil\n"
     ]
    },
    {
     "name": "stderr",
     "output_type": "stream",
     "text": [
      "WARNING:buildstock_query.query_core:Column in.state found in multiple tables ['baseline', 'upgrade'].Using baseline\n",
      "WARNING:buildstock_query.query_core:Column in.heating_fuel found in multiple tables ['baseline', 'upgrade'].Using baseline\n",
      "WARNING:buildstock_query.query_core:Column in.geometry_building_type_recs found in multiple tables ['baseline', 'upgrade'].Using baseline\n",
      "WARNING:buildstock_query.query_core:Column in.state found in multiple tables ['baseline', 'upgrade'].Using baseline\n",
      "WARNING:buildstock_query.query_core:Column in.heating_fuel found in multiple tables ['baseline', 'upgrade'].Using baseline\n",
      "WARNING:buildstock_query.query_core:Column in.geometry_building_type_recs found in multiple tables ['baseline', 'upgrade'].Using baseline\n"
     ]
    },
    {
     "name": "stdout",
     "output_type": "stream",
     "text": [
      "9.10-fuel_oil\n",
      "9.11-fuel_oil\n"
     ]
    },
    {
     "name": "stderr",
     "output_type": "stream",
     "text": [
      "WARNING:buildstock_query.query_core:Column in.state found in multiple tables ['baseline', 'upgrade'].Using baseline\n",
      "WARNING:buildstock_query.query_core:Column in.heating_fuel found in multiple tables ['baseline', 'upgrade'].Using baseline\n",
      "WARNING:buildstock_query.query_core:Column in.geometry_building_type_recs found in multiple tables ['baseline', 'upgrade'].Using baseline\n",
      "WARNING:buildstock_query.query_core:Column in.state found in multiple tables ['baseline', 'upgrade'].Using baseline\n",
      "WARNING:buildstock_query.query_core:Column in.heating_fuel found in multiple tables ['baseline', 'upgrade'].Using baseline\n",
      "WARNING:buildstock_query.query_core:Column in.geometry_building_type_recs found in multiple tables ['baseline', 'upgrade'].Using baseline\n"
     ]
    },
    {
     "name": "stdout",
     "output_type": "stream",
     "text": [
      "9.12-fuel_oil\n",
      "9.21-fuel_oil\n"
     ]
    },
    {
     "name": "stderr",
     "output_type": "stream",
     "text": [
      "WARNING:buildstock_query.query_core:Column in.state found in multiple tables ['baseline', 'upgrade'].Using baseline\n",
      "WARNING:buildstock_query.query_core:Column in.heating_fuel found in multiple tables ['baseline', 'upgrade'].Using baseline\n",
      "WARNING:buildstock_query.query_core:Column in.geometry_building_type_recs found in multiple tables ['baseline', 'upgrade'].Using baseline\n",
      "WARNING:buildstock_query.query_core:Column in.state found in multiple tables ['baseline', 'upgrade'].Using baseline\n",
      "WARNING:buildstock_query.query_core:Column in.heating_fuel found in multiple tables ['baseline', 'upgrade'].Using baseline\n",
      "WARNING:buildstock_query.query_core:Column in.geometry_building_type_recs found in multiple tables ['baseline', 'upgrade'].Using baseline\n"
     ]
    },
    {
     "name": "stdout",
     "output_type": "stream",
     "text": [
      "9.22-fuel_oil\n",
      "9.23-fuel_oil\n"
     ]
    },
    {
     "name": "stderr",
     "output_type": "stream",
     "text": [
      "WARNING:buildstock_query.query_core:Column in.state found in multiple tables ['baseline', 'upgrade'].Using baseline\n",
      "WARNING:buildstock_query.query_core:Column in.heating_fuel found in multiple tables ['baseline', 'upgrade'].Using baseline\n",
      "WARNING:buildstock_query.query_core:Column in.geometry_building_type_recs found in multiple tables ['baseline', 'upgrade'].Using baseline\n",
      "WARNING:buildstock_query.query_core:Column in.state found in multiple tables ['baseline', 'upgrade'].Using baseline\n",
      "WARNING:buildstock_query.query_core:Column in.heating_fuel found in multiple tables ['baseline', 'upgrade'].Using baseline\n",
      "WARNING:buildstock_query.query_core:Column in.geometry_building_type_recs found in multiple tables ['baseline', 'upgrade'].Using baseline\n"
     ]
    },
    {
     "name": "stdout",
     "output_type": "stream",
     "text": [
      "9.24-fuel_oil\n",
      "13.18-fuel_oil\n"
     ]
    },
    {
     "name": "stderr",
     "output_type": "stream",
     "text": [
      "WARNING:buildstock_query.query_core:Column in.state found in multiple tables ['baseline', 'upgrade'].Using baseline\n",
      "WARNING:buildstock_query.query_core:Column in.heating_fuel found in multiple tables ['baseline', 'upgrade'].Using baseline\n",
      "WARNING:buildstock_query.query_core:Column in.geometry_building_type_recs found in multiple tables ['baseline', 'upgrade'].Using baseline\n",
      "WARNING:buildstock_query.query_core:Column in.state found in multiple tables ['baseline', 'upgrade'].Using baseline\n",
      "WARNING:buildstock_query.query_core:Column in.heating_fuel found in multiple tables ['baseline', 'upgrade'].Using baseline\n",
      "WARNING:buildstock_query.query_core:Column in.geometry_building_type_recs found in multiple tables ['baseline', 'upgrade'].Using baseline\n"
     ]
    },
    {
     "name": "stdout",
     "output_type": "stream",
     "text": [
      "13.19-fuel_oil\n",
      "13.01-fuel_oil\n"
     ]
    },
    {
     "name": "stderr",
     "output_type": "stream",
     "text": [
      "WARNING:buildstock_query.query_core:Column in.state found in multiple tables ['baseline', 'upgrade'].Using baseline\n",
      "WARNING:buildstock_query.query_core:Column in.heating_fuel found in multiple tables ['baseline', 'upgrade'].Using baseline\n",
      "WARNING:buildstock_query.query_core:Column in.geometry_building_type_recs found in multiple tables ['baseline', 'upgrade'].Using baseline\n",
      "WARNING:buildstock_query.query_core:Column in.state found in multiple tables ['baseline', 'upgrade'].Using baseline\n",
      "WARNING:buildstock_query.query_core:Column in.heating_fuel found in multiple tables ['baseline', 'upgrade'].Using baseline\n",
      "WARNING:buildstock_query.query_core:Column in.geometry_building_type_recs found in multiple tables ['baseline', 'upgrade'].Using baseline\n"
     ]
    },
    {
     "name": "stdout",
     "output_type": "stream",
     "text": [
      "13.02-fuel_oil\n",
      "13.03-fuel_oil\n"
     ]
    },
    {
     "name": "stderr",
     "output_type": "stream",
     "text": [
      "WARNING:buildstock_query.query_core:Column in.state found in multiple tables ['baseline', 'upgrade'].Using baseline\n",
      "WARNING:buildstock_query.query_core:Column in.heating_fuel found in multiple tables ['baseline', 'upgrade'].Using baseline\n",
      "WARNING:buildstock_query.query_core:Column in.geometry_building_type_recs found in multiple tables ['baseline', 'upgrade'].Using baseline\n",
      "WARNING:buildstock_query.query_core:Column in.state found in multiple tables ['baseline', 'upgrade'].Using baseline\n",
      "WARNING:buildstock_query.query_core:Column in.heating_fuel found in multiple tables ['baseline', 'upgrade'].Using baseline\n",
      "WARNING:buildstock_query.query_core:Column in.geometry_building_type_recs found in multiple tables ['baseline', 'upgrade'].Using baseline\n"
     ]
    },
    {
     "name": "stdout",
     "output_type": "stream",
     "text": [
      "13.04-fuel_oil\n",
      "13.05-fuel_oil\n"
     ]
    },
    {
     "name": "stderr",
     "output_type": "stream",
     "text": [
      "WARNING:buildstock_query.query_core:Column in.state found in multiple tables ['baseline', 'upgrade'].Using baseline\n",
      "WARNING:buildstock_query.query_core:Column in.heating_fuel found in multiple tables ['baseline', 'upgrade'].Using baseline\n",
      "WARNING:buildstock_query.query_core:Column in.geometry_building_type_recs found in multiple tables ['baseline', 'upgrade'].Using baseline\n",
      "WARNING:buildstock_query.query_core:Column in.state found in multiple tables ['baseline', 'upgrade'].Using baseline\n",
      "WARNING:buildstock_query.query_core:Column in.heating_fuel found in multiple tables ['baseline', 'upgrade'].Using baseline\n",
      "WARNING:buildstock_query.query_core:Column in.geometry_building_type_recs found in multiple tables ['baseline', 'upgrade'].Using baseline\n"
     ]
    },
    {
     "name": "stdout",
     "output_type": "stream",
     "text": [
      "13.06-fuel_oil\n",
      "13.07-fuel_oil\n"
     ]
    },
    {
     "name": "stderr",
     "output_type": "stream",
     "text": [
      "WARNING:buildstock_query.query_core:Column in.state found in multiple tables ['baseline', 'upgrade'].Using baseline\n",
      "WARNING:buildstock_query.query_core:Column in.heating_fuel found in multiple tables ['baseline', 'upgrade'].Using baseline\n",
      "WARNING:buildstock_query.query_core:Column in.geometry_building_type_recs found in multiple tables ['baseline', 'upgrade'].Using baseline\n",
      "WARNING:buildstock_query.query_core:Column in.state found in multiple tables ['baseline', 'upgrade'].Using baseline\n",
      "WARNING:buildstock_query.query_core:Column in.heating_fuel found in multiple tables ['baseline', 'upgrade'].Using baseline\n",
      "WARNING:buildstock_query.query_core:Column in.geometry_building_type_recs found in multiple tables ['baseline', 'upgrade'].Using baseline\n"
     ]
    },
    {
     "name": "stdout",
     "output_type": "stream",
     "text": [
      "13.08-fuel_oil\n",
      "15.01-fuel_oil\n"
     ]
    },
    {
     "name": "stderr",
     "output_type": "stream",
     "text": [
      "WARNING:buildstock_query.query_core:Column in.state found in multiple tables ['baseline', 'upgrade'].Using baseline\n",
      "WARNING:buildstock_query.query_core:Column in.heating_fuel found in multiple tables ['baseline', 'upgrade'].Using baseline\n",
      "WARNING:buildstock_query.query_core:Column in.geometry_building_type_recs found in multiple tables ['baseline', 'upgrade'].Using baseline\n",
      "WARNING:buildstock_query.query_core:Column in.state found in multiple tables ['baseline', 'upgrade'].Using baseline\n",
      "WARNING:buildstock_query.query_core:Column in.heating_fuel found in multiple tables ['baseline', 'upgrade'].Using baseline\n",
      "WARNING:buildstock_query.query_core:Column in.geometry_building_type_recs found in multiple tables ['baseline', 'upgrade'].Using baseline\n"
     ]
    },
    {
     "name": "stdout",
     "output_type": "stream",
     "text": [
      "15.05-fuel_oil\n",
      "15.17-fuel_oil\n"
     ]
    },
    {
     "name": "stderr",
     "output_type": "stream",
     "text": [
      "WARNING:buildstock_query.query_core:Column in.state found in multiple tables ['baseline', 'upgrade'].Using baseline\n",
      "WARNING:buildstock_query.query_core:Column in.heating_fuel found in multiple tables ['baseline', 'upgrade'].Using baseline\n",
      "WARNING:buildstock_query.query_core:Column in.geometry_building_type_recs found in multiple tables ['baseline', 'upgrade'].Using baseline\n",
      "WARNING:buildstock_query.query_core:Column in.state found in multiple tables ['baseline', 'upgrade'].Using baseline\n",
      "WARNING:buildstock_query.query_core:Column in.heating_fuel found in multiple tables ['baseline', 'upgrade'].Using baseline\n",
      "WARNING:buildstock_query.query_core:Column in.geometry_building_type_recs found in multiple tables ['baseline', 'upgrade'].Using baseline\n"
     ]
    },
    {
     "name": "stdout",
     "output_type": "stream",
     "text": [
      "15.20-fuel_oil\n",
      "15.18-fuel_oil\n"
     ]
    },
    {
     "name": "stderr",
     "output_type": "stream",
     "text": [
      "WARNING:buildstock_query.query_core:Column in.state found in multiple tables ['baseline', 'upgrade'].Using baseline\n",
      "WARNING:buildstock_query.query_core:Column in.heating_fuel found in multiple tables ['baseline', 'upgrade'].Using baseline\n",
      "WARNING:buildstock_query.query_core:Column in.geometry_building_type_recs found in multiple tables ['baseline', 'upgrade'].Using baseline\n",
      "WARNING:buildstock_query.query_core:Column in.state found in multiple tables ['baseline', 'upgrade'].Using baseline\n",
      "WARNING:buildstock_query.query_core:Column in.heating_fuel found in multiple tables ['baseline', 'upgrade'].Using baseline\n",
      "WARNING:buildstock_query.query_core:Column in.geometry_building_type_recs found in multiple tables ['baseline', 'upgrade'].Using baseline\n"
     ]
    },
    {
     "name": "stdout",
     "output_type": "stream",
     "text": [
      "15.21-fuel_oil\n",
      "15.19-fuel_oil\n"
     ]
    },
    {
     "name": "stderr",
     "output_type": "stream",
     "text": [
      "WARNING:buildstock_query.query_core:Column in.state found in multiple tables ['baseline', 'upgrade'].Using baseline\n",
      "WARNING:buildstock_query.query_core:Column in.heating_fuel found in multiple tables ['baseline', 'upgrade'].Using baseline\n",
      "WARNING:buildstock_query.query_core:Column in.geometry_building_type_recs found in multiple tables ['baseline', 'upgrade'].Using baseline\n",
      "WARNING:buildstock_query.query_core:Column in.state found in multiple tables ['baseline', 'upgrade'].Using baseline\n",
      "WARNING:buildstock_query.query_core:Column in.heating_fuel found in multiple tables ['baseline', 'upgrade'].Using baseline\n",
      "WARNING:buildstock_query.query_core:Column in.geometry_building_type_recs found in multiple tables ['baseline', 'upgrade'].Using baseline\n"
     ]
    },
    {
     "name": "stdout",
     "output_type": "stream",
     "text": [
      "15.22-fuel_oil\n",
      "15.09-fuel_oil\n"
     ]
    },
    {
     "name": "stderr",
     "output_type": "stream",
     "text": [
      "WARNING:buildstock_query.query_core:Column in.state found in multiple tables ['baseline', 'upgrade'].Using baseline\n",
      "WARNING:buildstock_query.query_core:Column in.heating_fuel found in multiple tables ['baseline', 'upgrade'].Using baseline\n",
      "WARNING:buildstock_query.query_core:Column in.geometry_building_type_recs found in multiple tables ['baseline', 'upgrade'].Using baseline\n",
      "WARNING:buildstock_query.query_core:Column in.state found in multiple tables ['baseline', 'upgrade'].Using baseline\n",
      "WARNING:buildstock_query.query_core:Column in.heating_fuel found in multiple tables ['baseline', 'upgrade'].Using baseline\n",
      "WARNING:buildstock_query.query_core:Column in.geometry_building_type_recs found in multiple tables ['baseline', 'upgrade'].Using baseline\n"
     ]
    },
    {
     "name": "stdout",
     "output_type": "stream",
     "text": [
      "15.10-fuel_oil\n",
      "15.11-fuel_oil\n"
     ]
    },
    {
     "name": "stderr",
     "output_type": "stream",
     "text": [
      "WARNING:buildstock_query.query_core:Column in.state found in multiple tables ['baseline', 'upgrade'].Using baseline\n",
      "WARNING:buildstock_query.query_core:Column in.heating_fuel found in multiple tables ['baseline', 'upgrade'].Using baseline\n",
      "WARNING:buildstock_query.query_core:Column in.geometry_building_type_recs found in multiple tables ['baseline', 'upgrade'].Using baseline\n",
      "WARNING:buildstock_query.query_core:Column in.state found in multiple tables ['baseline', 'upgrade'].Using baseline\n",
      "WARNING:buildstock_query.query_core:Column in.heating_fuel found in multiple tables ['baseline', 'upgrade'].Using baseline\n",
      "WARNING:buildstock_query.query_core:Column in.geometry_building_type_recs found in multiple tables ['baseline', 'upgrade'].Using baseline\n"
     ]
    },
    {
     "name": "stdout",
     "output_type": "stream",
     "text": [
      "15.12-fuel_oil\n",
      "15.13-fuel_oil\n"
     ]
    },
    {
     "name": "stderr",
     "output_type": "stream",
     "text": [
      "WARNING:buildstock_query.query_core:Column in.state found in multiple tables ['baseline', 'upgrade'].Using baseline\n",
      "WARNING:buildstock_query.query_core:Column in.heating_fuel found in multiple tables ['baseline', 'upgrade'].Using baseline\n",
      "WARNING:buildstock_query.query_core:Column in.geometry_building_type_recs found in multiple tables ['baseline', 'upgrade'].Using baseline\n",
      "WARNING:buildstock_query.query_core:Column in.state found in multiple tables ['baseline', 'upgrade'].Using baseline\n",
      "WARNING:buildstock_query.query_core:Column in.heating_fuel found in multiple tables ['baseline', 'upgrade'].Using baseline\n",
      "WARNING:buildstock_query.query_core:Column in.geometry_building_type_recs found in multiple tables ['baseline', 'upgrade'].Using baseline\n"
     ]
    },
    {
     "name": "stdout",
     "output_type": "stream",
     "text": [
      "15.14-fuel_oil\n",
      "15.15-fuel_oil\n"
     ]
    },
    {
     "name": "stderr",
     "output_type": "stream",
     "text": [
      "WARNING:buildstock_query.query_core:Column in.state found in multiple tables ['baseline', 'upgrade'].Using baseline\n",
      "WARNING:buildstock_query.query_core:Column in.heating_fuel found in multiple tables ['baseline', 'upgrade'].Using baseline\n",
      "WARNING:buildstock_query.query_core:Column in.geometry_building_type_recs found in multiple tables ['baseline', 'upgrade'].Using baseline\n",
      "WARNING:buildstock_query.query_core:Column in.state found in multiple tables ['baseline', 'upgrade'].Using baseline\n",
      "WARNING:buildstock_query.query_core:Column in.heating_fuel found in multiple tables ['baseline', 'upgrade'].Using baseline\n",
      "WARNING:buildstock_query.query_core:Column in.geometry_building_type_recs found in multiple tables ['baseline', 'upgrade'].Using baseline\n"
     ]
    },
    {
     "name": "stdout",
     "output_type": "stream",
     "text": [
      "15.16-fuel_oil\n",
      "13.15-fuel_oil\n"
     ]
    },
    {
     "name": "stderr",
     "output_type": "stream",
     "text": [
      "WARNING:buildstock_query.query_core:Column in.state found in multiple tables ['baseline', 'upgrade'].Using baseline\n",
      "WARNING:buildstock_query.query_core:Column in.heating_fuel found in multiple tables ['baseline', 'upgrade'].Using baseline\n",
      "WARNING:buildstock_query.query_core:Column in.geometry_building_type_recs found in multiple tables ['baseline', 'upgrade'].Using baseline\n",
      "WARNING:buildstock_query.query_core:Column in.state found in multiple tables ['baseline', 'upgrade'].Using baseline\n",
      "WARNING:buildstock_query.query_core:Column in.heating_fuel found in multiple tables ['baseline', 'upgrade'].Using baseline\n",
      "WARNING:buildstock_query.query_core:Column in.geometry_building_type_recs found in multiple tables ['baseline', 'upgrade'].Using baseline\n"
     ]
    },
    {
     "name": "stdout",
     "output_type": "stream",
     "text": [
      "13.16-fuel_oil\n",
      "13.17-fuel_oil\n"
     ]
    },
    {
     "name": "stderr",
     "output_type": "stream",
     "text": [
      "WARNING:buildstock_query.query_core:Column in.state found in multiple tables ['baseline', 'upgrade'].Using baseline\n",
      "WARNING:buildstock_query.query_core:Column in.heating_fuel found in multiple tables ['baseline', 'upgrade'].Using baseline\n",
      "WARNING:buildstock_query.query_core:Column in.geometry_building_type_recs found in multiple tables ['baseline', 'upgrade'].Using baseline\n"
     ]
    }
   ],
   "source": [
    "#Get fuel oil savings\n",
    "fuel_oil_results = {}\n",
    "fuel_of_interest = 'fuel_oil'\n",
    "fuel_enduse_field = 'out.fuel_oil.total.energy_consumption'\n",
    "for upgrade_id_instance in upgrade_id_list:\n",
    "    result_name = upgrade_id_instance + '-' + fuel_of_interest\n",
    "    print(result_name)\n",
    "    result = my_run.savings.savings_shape(upgrade_id=upgrade_id_instance, \n",
    "                             enduses=[fuel_enduse_field],\n",
    "                             group_by=['in.state', 'in.heating_fuel', simple_bldg_col],\n",
    "                             restrict=[('in.geometry_building_type_recs', ['Single-Family Detached', 'Single-Family Attached', 'Multi-Family with 2 - 4 Units', 'Multi-Family with 5+ Units'])],\n",
    "                             annual_only=True,\n",
    "                             get_query_only=False,\n",
    "                             applied_only= True)\n",
    "    fuel_oil_results[result_name] = result\n",
    "    #fuel_oil_results[result_name].to_csv('C:/Users/epresent/NREL/C Bldg Stock - General/ResStock Fact Sheets/SLOPE Data Layer/Data Pulls/' + result_name + '.csv')"
   ]
  },
  {
   "cell_type": "code",
   "execution_count": 110,
   "metadata": {},
   "outputs": [],
   "source": [
    "#define groups of upgrades\n",
    "upgrade_groupings_list = [['3.07'], ['3.01'], ['4.04'], ['2.03'], ['2.04'], ['2.05'], #individual non-HVAC measures\n",
    "                   ['4.05', '4.06', '4.07', '4.08', '4.09', '4.10'], #furnace/boiler alone\n",
    "                   ['5.01', '5.13', '6.01', '6.10', '6.02', '6.11', '6.03', '6.12'], #dual-fuel heat pump for existing fuel heating, same HP with electric backup for existing electric heating\n",
    "                   ['5.05', '5.06', '5.07', '5.08', '5.17', '5.18', '5.19', '5.20'], #cold climate heat pump alone\n",
    "                   ['5.09', '5.10', '5.11', '5.12', '5.21', '5.22', '5.23', '5.24'], #higher efficiency cold climate heat pump alone\n",
    "                   ['14.01', '14.02', '14.03', '14.04', '14.05', '14.06'], #furnace/boiler + light touch envelope\n",
    "                   ['7.01', '7.13', '10.01', '10.10', '10.02', '10.11', '10.03', '10.12'], #dual-fuel heat pump group + light touch envelope\n",
    "                   ['7.05', '7.06', '7.07', '7.08', '7.17', '7.18', '7.19', '7.20'], #cold climate heat pump + light touch envelope\n",
    "                   ['7.09', '7.10', '7.11', '7.12', '7.21', '7.22', '7.23', '7.24'], #higher efficiency cold climate heat pump + light touch envelope\n",
    "                   ['14.07', '14.08', '14.09', '14.10', '14.11', '14.12'], #furnace/boiler + intermediate envelope\n",
    "                   ['8.01', '8.13', '11.01', '11.10', '11.02', '11.11', '11.03', '11.12'],#dual-fuel heat pump group + intermeidate envelope\n",
    "                   ['8.05', '8.06', '8.07', '8.08', '8.17', '8.18', '8.19', '8.20'], #cold climate heat pump + intermediate envelope\n",
    "                   ['8.09', '8.10', '8.11', '8.12', '8.21', '8.22', '8.23', '8.24'], #higher efficiency cold climate heat pump + intermediate envelope\n",
    "                   ['14.13', '14.14', '14.15', '14.16', '14.17', '14.18'], #furnace/boiler + advanced envelope\n",
    "                   ['9.01', '9.13', '12.01', '12.10', '12.11', '12.03', '12.12'], #dual-fuel heat pump group + advanced envelope\n",
    "                   ['9.05', '9.06', '9.07', '9.08', '9.17', '9.18', '9.19', '9.20'], #cold climate heat pump + advanced envelope\n",
    "                   ['9.09', '9.10', '9.11', '9.12', '9.21', '9.22', '9.23', '9.24'], #higher efficiency cold climate heat pump + advanced envelope\n",
    "                   ['13.18', '13.19'], #furnace/boiler + HPWH\n",
    "                   ['13.01', '13.02', '13.03', '13.04', '13.05', '13.06', '13.07', '13.08'], #cold climate heat pump + HPWH\n",
    "                   ['15.01', '15.05', '15.17', '15.20', '15.18', '15.21', '15.19', '15.22'], #dual-fuel heat pump + light touch + HPWH\n",
    "                   ['15.09', '15.10', '15.11', '15.12', '15.13', '15.14', '15.15', '15.16'], #cold climate heat pump + light touch envelope + HPWH\n",
    "                   ['13.15'], ['13.16'], ['13.17'] #HPWH and envelope\n",
    "                   ]\n",
    "upgrade_nongroup_list = ['3.07', '3.01', '4.04', '2.03', '2.04', '2.05', '13.15', '13.16', '13.17']\n",
    "upgrade_groups_list = [\n",
    "                   ['4.05', '4.06', '4.07', '4.08', '4.09', '4.10'], #furnace/boiler alone\n",
    "                   ['5.01', '5.13', '6.01', '6.10', '6.02', '6.11', '6.03', '6.12'], #dual-fuel heat pump for existing fuel heating, same HP with electric backup for existing electric heating\n",
    "                   ['5.05', '5.06', '5.07', '5.08', '5.17', '5.18', '5.19', '5.20'], #cold climate heat pump alone\n",
    "                   ['5.09', '5.10', '5.11', '5.12', '5.21', '5.22', '5.23', '5.24'], #higher efficiency cold climate heat pump alone\n",
    "                   ['14.01', '14.02', '14.03', '14.04', '14.05', '14.06'], #furnace/boiler + light touch envelope\n",
    "                   ['7.01', '7.13', '10.01', '10.10', '10.02', '10.11', '10.03', '10.12'], #dual-fuel heat pump group + light touch envelope\n",
    "                   ['7.05', '7.06', '7.07', '7.08', '7.17', '7.18', '7.19', '7.20'], #cold climate heat pump + light touch envelope\n",
    "                   ['7.09', '7.10', '7.11', '7.12', '7.21', '7.22', '7.23', '7.24'], #higher efficiency cold climate heat pump + light touch envelope\n",
    "                   ['14.07', '14.08', '14.09', '14.10', '14.11', '14.12'], #furnace/boiler + intermediate envelope\n",
    "                   ['8.01', '8.13', '11.01', '11.10', '11.02', '11.11', '11.03', '11.12'],#dual-fuel heat pump group + intermeidate envelope\n",
    "                   ['8.05', '8.06', '8.07', '8.08', '8.17', '8.18', '8.19', '8.20'], #cold climate heat pump + intermediate envelope\n",
    "                   ['8.09', '8.10', '8.11', '8.12', '8.21', '8.22', '8.23', '8.24'], #higher efficiency cold climate heat pump + intermediate envelope\n",
    "                   ['14.13', '14.14', '14.15', '14.16', '14.17', '14.18'], #furnace/boiler + advanced envelope\n",
    "                   ['9.01', '9.13', '12.01', '12.10', '12.11', '12.03', '12.12'], #dual-fuel heat pump group + advanced envelope\n",
    "                   ['9.05', '9.06', '9.07', '9.08', '9.17', '9.18', '9.19', '9.20'], #cold climate heat pump + advanced envelope\n",
    "                   ['9.09', '9.10', '9.11', '9.12', '9.21', '9.22', '9.23', '9.24'], #higher efficiency cold climate heat pump + advanced envelope\n",
    "                   ['13.18', '13.19'], #furnace/boiler + HPWH\n",
    "                   ['13.01', '13.02', '13.03', '13.04', '13.05', '13.06', '13.07', '13.08'], #cold climate heat pump + HPWH\n",
    "                   ['15.01', '15.05', '15.17', '15.20', '15.18', '15.21', '15.19', '15.22'], #dual-fuel heat pump + light touch + HPWH\n",
    "                   ['15.09', '15.10', '15.11', '15.12', '15.13', '15.14', '15.15', '15.16'] #cold climate heat pump + light touch envelope + HPWH\n",
    "                   ]\n",
    "upgrade_groups_names = ['fb', 'df', 'cchp', 'hecchp', 'fb lte', 'df lte', 'cchp lte', 'hecchp lte', \n",
    "                    'fb ie', 'df ie', 'cchp ie', 'hecchp ie', 'fb ae', 'df ae', 'cchp ae', 'hecchp ae', \n",
    "                    'fb hpwh', 'cchp hpwh', 'df lte hpwh', 'cchp lte hpwh']"
   ]
  },
  {
   "cell_type": "code",
   "execution_count": 105,
   "metadata": {},
   "outputs": [],
   "source": [
    "#combine groups of upgrades\n",
    "\n",
    "#electricity\n",
    "fuel = 'electricity'\n",
    "electricity_group_results = {}\n",
    "for upgrade_group, group_name in zip(upgrade_groups_list, upgrade_groups_names):\n",
    "    upgrade_and_fuel_list = []\n",
    "    for id in upgrade_group:\n",
    "        upgrade_and_fuel = id + '-' + fuel\n",
    "        upgrade_and_fuel_list = upgrade_and_fuel_list + [upgrade_and_fuel]\n",
    "    results_list = [electricity_results[idfuel] for idfuel in upgrade_and_fuel_list]\n",
    "    results_group = pd.concat(results_list).groupby(['state', 'heating_fuel', 'simple_bldg_type']).sum().reset_index()\n",
    "    electricity_group_results[group_name] = results_group\n",
    "\n",
    "#natural gas\n",
    "fuel = 'ng'\n",
    "ng_group_results = {}\n",
    "for upgrade_group, group_name in zip(upgrade_groups_list, upgrade_groups_names):\n",
    "    upgrade_and_fuel_list = []\n",
    "    for id in upgrade_group:\n",
    "        upgrade_and_fuel = id + '-' + fuel\n",
    "        upgrade_and_fuel_list = upgrade_and_fuel_list + [upgrade_and_fuel]\n",
    "    results_list = [ng_results[idfuel] for idfuel in upgrade_and_fuel_list]\n",
    "    results_group = pd.concat(results_list).groupby(['state', 'heating_fuel', 'simple_bldg_type']).sum().reset_index()\n",
    "    ng_group_results[group_name] = results_group\n",
    "\n",
    "#propane\n",
    "fuel = 'propane'\n",
    "propane_group_results = {}\n",
    "for upgrade_group, group_name in zip(upgrade_groups_list, upgrade_groups_names):\n",
    "    upgrade_and_fuel_list = []\n",
    "    for id in upgrade_group:\n",
    "        upgrade_and_fuel = id + '-' + fuel\n",
    "        upgrade_and_fuel_list = upgrade_and_fuel_list + [upgrade_and_fuel]\n",
    "    results_list = [propane_results[idfuel] for idfuel in upgrade_and_fuel_list]\n",
    "    results_group = pd.concat(results_list).groupby(['state', 'heating_fuel', 'simple_bldg_type']).sum().reset_index()\n",
    "    propane_group_results[group_name] = results_group\n",
    "\n",
    "#fuel oil\n",
    "fuel = 'fuel_oil'\n",
    "fuel_oil_group_results = {}\n",
    "for upgrade_group, group_name in zip(upgrade_groups_list, upgrade_groups_names):\n",
    "    upgrade_and_fuel_list = []\n",
    "    for id in upgrade_group:\n",
    "        upgrade_and_fuel = id + '-' + fuel\n",
    "        upgrade_and_fuel_list = upgrade_and_fuel_list + [upgrade_and_fuel]\n",
    "    results_list = [fuel_oil_results[idfuel] for idfuel in upgrade_and_fuel_list]\n",
    "    results_group = pd.concat(results_list).groupby(['state', 'heating_fuel', 'simple_bldg_type']).sum().reset_index()\n",
    "    fuel_oil_group_results[group_name] = results_group"
   ]
  },
  {
   "cell_type": "code",
   "execution_count": 117,
   "metadata": {},
   "outputs": [],
   "source": [
    "#create full results sets with both stand-alone packages and group packages\n",
    "\n",
    "fuel = 'electricity'\n",
    "upgrade_and_fuel_list = []\n",
    "electricity_ungrouped_results = {}\n",
    "for id in upgrade_nongroup_list:\n",
    "    upgrade_and_fuel = id + '-' + fuel\n",
    "    upgrade_and_fuel_list = upgrade_and_fuel_list + [upgrade_and_fuel]\n",
    "\n",
    "for key, value in electricity_results.items():\n",
    "    if key in upgrade_and_fuel_list:\n",
    "        upgrade_id = key.split('-')[0]\n",
    "        electricity_ungrouped_results[upgrade_id] = value\n",
    "\n",
    "electricity_packages_results = electricity_group_results|electricity_ungrouped_results\n",
    "\n",
    "\n",
    "fuel = 'ng'\n",
    "upgrade_and_fuel_list = []\n",
    "ng_ungrouped_results = {}\n",
    "for id in upgrade_nongroup_list:\n",
    "    upgrade_and_fuel = id + '-' + fuel\n",
    "    upgrade_and_fuel_list = upgrade_and_fuel_list + [upgrade_and_fuel]\n",
    "\n",
    "for key, value in ng_results.items():\n",
    "    if key in upgrade_and_fuel_list:\n",
    "        upgrade_id = key.split('-')[0]\n",
    "        ng_ungrouped_results[upgrade_id] = value\n",
    "\n",
    "ng_packages_results = ng_group_results|ng_ungrouped_results\n",
    "ng_packages_results.keys()\n",
    "\n",
    "fuel = 'propane'\n",
    "upgrade_and_fuel_list = []\n",
    "propane_ungrouped_results = {}\n",
    "for id in upgrade_nongroup_list:\n",
    "    upgrade_and_fuel = id + '-' + fuel\n",
    "    upgrade_and_fuel_list = upgrade_and_fuel_list + [upgrade_and_fuel]\n",
    "\n",
    "for key, value in ng_results.items():\n",
    "    if key in upgrade_and_fuel_list:\n",
    "        upgrade_id = key.split('-')[0]\n",
    "        propane_ungrouped_results[upgrade_id] = value\n",
    "\n",
    "propane_packages_results = propane_group_results|propane_ungrouped_results\n",
    "\n",
    "fuel = 'fuel_oil'\n",
    "upgrade_and_fuel_list = []\n",
    "fuel_oil_ungrouped_results = {}\n",
    "for id in upgrade_nongroup_list:\n",
    "    upgrade_and_fuel = id + '-' + fuel\n",
    "    upgrade_and_fuel_list = upgrade_and_fuel_list + [upgrade_and_fuel]\n",
    "\n",
    "for key, value in ng_results.items():\n",
    "    if key in upgrade_and_fuel_list:\n",
    "        upgrade_id = key.split('-')[0]\n",
    "        fuel_oil_ungrouped_results[upgrade_id] = value\n",
    "\n",
    "fuel_oil_packages_results = fuel_oil_group_results|fuel_oil_ungrouped_results\n"
   ]
  },
  {
   "cell_type": "code",
   "execution_count": null,
   "metadata": {},
   "outputs": [],
   "source": [
    "#combine non-electric fuels"
   ]
  },
  {
   "cell_type": "code",
   "execution_count": null,
   "metadata": {},
   "outputs": [],
   "source": [
    "#remove 'other fuel' and 'fuel oil' heated homes"
   ]
  },
  {
   "cell_type": "code",
   "execution_count": null,
   "metadata": {},
   "outputs": [],
   "source": [
    "#remove small sample size"
   ]
  },
  {
   "cell_type": "code",
   "execution_count": null,
   "metadata": {},
   "outputs": [],
   "source": [
    "#output and save"
   ]
  },
  {
   "cell_type": "code",
   "execution_count": null,
   "metadata": {},
   "outputs": [],
   "source": []
  },
  {
   "cell_type": "code",
   "execution_count": 5,
   "metadata": {},
   "outputs": [
    {
     "name": "stderr",
     "output_type": "stream",
     "text": [
      "WARNING:buildstock_query.query_core:Column in.heating_fuel found in multiple tables ['baseline', 'upgrade'].Using baseline\n"
     ]
    }
   ],
   "source": [
    "#unit counts with 3 fuels\n",
    "fuels_3_map = {\"Electricity\": \"Electricity\", \"Natural Gas\": \"Natural Gas\",\n",
    "                     \"Propane\": \"Fuel Oil & Propane\", \"Fuel Oil\": \"Fuel Oil & Propane\",\n",
    "                     \"None\": \"None\", \"Other Fuel\": \"Other Fuel\",}\n",
    "fuels_col = my_run._get_column('in.heating_fuel')\n",
    "fuels_3_col = MappedColumn(bsq=my_run, name='fuels_3', mapping_dict=fuels_3_map,\n",
    "                               key=fuels_col)"
   ]
  },
  {
   "cell_type": "code",
   "execution_count": 6,
   "metadata": {},
   "outputs": [
    {
     "name": "stderr",
     "output_type": "stream",
     "text": [
      "WARNING:buildstock_query.query_core:Column in.heating_fuel found in multiple tables ['baseline', 'upgrade'].Using baseline\n"
     ]
    }
   ],
   "source": [
    "#unit counts with 2 fuels\n",
    "fuels_2_map = {\"Electricity\": \"Electricity\", \"Natural Gas\": \"Natural Gas, Fuel Oil, & Propane\",\n",
    "                     \"Propane\": \"Natural Gas, Fuel Oil, & Propane\", \"Fuel Oil\": \"Natural Gas, Fuel Oil, & Propane\",\n",
    "                     \"None\": \"None\", \"Other Fuel\": \"Other Fuel\",}\n",
    "fuels_col = my_run._get_column('in.heating_fuel')\n",
    "fuels_2_col = MappedColumn(bsq=my_run, name='fuels_2', mapping_dict=fuels_2_map,\n",
    "                               key=fuels_col)"
   ]
  }
 ],
 "metadata": {
  "kernelspec": {
   "display_name": "bsq_env",
   "language": "python",
   "name": "python3"
  },
  "language_info": {
   "codemirror_mode": {
    "name": "ipython",
    "version": 3
   },
   "file_extension": ".py",
   "mimetype": "text/x-python",
   "name": "python",
   "nbconvert_exporter": "python",
   "pygments_lexer": "ipython3",
   "version": "3.10.14"
  }
 },
 "nbformat": 4,
 "nbformat_minor": 2
}
