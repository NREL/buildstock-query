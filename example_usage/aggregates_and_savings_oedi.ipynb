{
 "cells": [
  {
   "cell_type": "code",
   "execution_count": 1,
   "id": "2fef7f9c",
   "metadata": {},
   "outputs": [],
   "source": [
    "from buildstock_query import BuildStockQuery\n",
    "import pandas as pd"
   ]
  },
  {
   "cell_type": "code",
   "execution_count": 2,
   "id": "13d7aff4",
   "metadata": {},
   "outputs": [],
   "source": [
    "# autoreload\n",
    "%load_ext autoreload\n",
    "%autoreload 2"
   ]
  },
  {
   "cell_type": "code",
   "execution_count": 7,
   "id": "955250fc",
   "metadata": {},
   "outputs": [
    {
     "name": "stderr",
     "output_type": "stream",
     "text": [
      "INFO:buildstock_query.query_core:Loading resstock_amy2018_release_2022_1 ...\n",
      "INFO:botocore.tokens:Loading cached SSO token for nrel-sso\n",
      "INFO:buildstock_query.query_core:17 queries cache read from None.\n",
      "INFO:buildstock_query.query_core:17 queries cache is updated.\n",
      "INFO:buildstock_query.main:Getting Success counts...\n",
      "INFO:buildstock_query.report_query:Checking integrity with ts_tables ...\n"
     ]
    },
    {
     "name": "stdout",
     "output_type": "stream",
     "text": [
      "         success  unapplicable  fail     Sum  Applied %  no-chng  bad-chng  \\\n",
      "upgrade                                                                      \n",
      "0         548916             0     0  548916        0.0        0         0   \n",
      "1         531823         17093     0  548916       96.9        0         0   \n",
      "10        548916             0     0  548916      100.0        0         0   \n",
      "2         536797         12119     0  548916       97.8        0         0   \n",
      "3         548260           656     0  548916       99.9        0         0   \n",
      "4         548260           656     0  548916       99.9        0         0   \n",
      "5         532156         16760     0  548916       96.9        0         0   \n",
      "6         545331          3585     0  548916       99.3        0         0   \n",
      "7         400579        148337     0  548916       73.0        0         0   \n",
      "8         548913             3     0  548916      100.0        0         0   \n",
      "9         548916             0     0  548916      100.0        0         0   \n",
      "\n",
      "         ok-chng  true-bad-chng  true-ok-chng  null  any  no-chng %  \\\n",
      "upgrade                                                               \n",
      "0              0              0             0     0    0        0.0   \n",
      "1              0              0             0     0    0        0.0   \n",
      "10             0              0             0     0    0        0.0   \n",
      "2              0              0             0     0    0        0.0   \n",
      "3              0              0             0     0    0        0.0   \n",
      "4              0              0             0     0    0        0.0   \n",
      "5              0              0             0     0    0        0.0   \n",
      "6              0              0             0     0    0        0.0   \n",
      "7              0              0             0     0    0        0.0   \n",
      "8              0              0             0     0    0        0.0   \n",
      "9              0              0             0     0    0        0.0   \n",
      "\n",
      "         bad-chng %  ok-chng %  true-ok-chng %  true-bad-chng %  \n",
      "upgrade                                                          \n",
      "0               0.0        0.0             0.0              0.0  \n",
      "1               0.0        0.0             0.0              0.0  \n",
      "10              0.0        0.0             0.0              0.0  \n",
      "2               0.0        0.0             0.0              0.0  \n",
      "3               0.0        0.0             0.0              0.0  \n",
      "4               0.0        0.0             0.0              0.0  \n",
      "5               0.0        0.0             0.0              0.0  \n",
      "6               0.0        0.0             0.0              0.0  \n",
      "7               0.0        0.0             0.0              0.0  \n",
      "8               0.0        0.0             0.0              0.0  \n",
      "9               0.0        0.0             0.0              0.0  \n"
     ]
    },
    {
     "name": "stderr",
     "output_type": "stream",
     "text": [
      "INFO:buildstock_query.query_core:No new queries to save.\n"
     ]
    },
    {
     "name": "stdout",
     "output_type": "stream",
     "text": [
      "\u001b[92mAnnual and timeseries tables are verified to have the same number of buildings.\u001b[0m\n",
      "\u001b[92mAll buildings are verified to have the same number of (35040) timeseries rows.\u001b[0m\n"
     ]
    }
   ],
   "source": [
    "my_run = BuildStockQuery('rescore','euss-oedi',\n",
    "                                \"resstock_amy2018_release_2022_1\",\n",
    "                                db_schema=\"resstock_oedi\",\n",
    "                                skip_reports=False)"
   ]
  },
  {
   "cell_type": "code",
   "execution_count": 8,
   "id": "708912ad",
   "metadata": {},
   "outputs": [
    {
     "name": "stderr",
     "output_type": "stream",
     "text": [
      "WARNING:buildstock_query.query_core:Column in.geometry_building_type_recs found in multiple tables ['baseline', 'upgrade'].Using baseline\n"
     ]
    },
    {
     "data": {
      "text/html": [
       "<div>\n",
       "<style scoped>\n",
       "    .dataframe tbody tr th:only-of-type {\n",
       "        vertical-align: middle;\n",
       "    }\n",
       "\n",
       "    .dataframe tbody tr th {\n",
       "        vertical-align: top;\n",
       "    }\n",
       "\n",
       "    .dataframe thead th {\n",
       "        text-align: right;\n",
       "    }\n",
       "</style>\n",
       "<table border=\"1\" class=\"dataframe\">\n",
       "  <thead>\n",
       "    <tr style=\"text-align: right;\">\n",
       "      <th></th>\n",
       "      <th>geometry_building_type_recs</th>\n",
       "      <th>sample_count</th>\n",
       "      <th>units_count</th>\n",
       "      <th>electricity.total.energy_consumption</th>\n",
       "    </tr>\n",
       "  </thead>\n",
       "  <tbody>\n",
       "    <tr>\n",
       "      <th>0</th>\n",
       "      <td>Mobile Home</td>\n",
       "      <td>34491</td>\n",
       "      <td>8.351341e+06</td>\n",
       "      <td>9.934359e+10</td>\n",
       "    </tr>\n",
       "    <tr>\n",
       "      <th>1</th>\n",
       "      <td>Multi-Family with 2 - 4 Units</td>\n",
       "      <td>43868</td>\n",
       "      <td>1.062180e+07</td>\n",
       "      <td>8.623094e+10</td>\n",
       "    </tr>\n",
       "    <tr>\n",
       "      <th>2</th>\n",
       "      <td>Multi-Family with 5+ Units</td>\n",
       "      <td>100345</td>\n",
       "      <td>2.429664e+07</td>\n",
       "      <td>1.769924e+11</td>\n",
       "    </tr>\n",
       "    <tr>\n",
       "      <th>3</th>\n",
       "      <td>Single-Family Attached</td>\n",
       "      <td>32125</td>\n",
       "      <td>7.778459e+06</td>\n",
       "      <td>7.379245e+10</td>\n",
       "    </tr>\n",
       "    <tr>\n",
       "      <th>4</th>\n",
       "      <td>Single-Family Detached</td>\n",
       "      <td>338087</td>\n",
       "      <td>8.186135e+07</td>\n",
       "      <td>1.115071e+12</td>\n",
       "    </tr>\n",
       "  </tbody>\n",
       "</table>\n",
       "</div>"
      ],
      "text/plain": [
       "     geometry_building_type_recs  sample_count   units_count  \\\n",
       "0                    Mobile Home         34491  8.351341e+06   \n",
       "1  Multi-Family with 2 - 4 Units         43868  1.062180e+07   \n",
       "2     Multi-Family with 5+ Units        100345  2.429664e+07   \n",
       "3         Single-Family Attached         32125  7.778459e+06   \n",
       "4         Single-Family Detached        338087  8.186135e+07   \n",
       "\n",
       "   electricity.total.energy_consumption  \n",
       "0                          9.934359e+10  \n",
       "1                          8.623094e+10  \n",
       "2                          1.769924e+11  \n",
       "3                          7.379245e+10  \n",
       "4                          1.115071e+12  "
      ]
     },
     "execution_count": 8,
     "metadata": {},
     "output_type": "execute_result"
    }
   ],
   "source": [
    "baseline_agg = my_run.agg.aggregate_annual(enduses=['electricity.total.energy_consumption'],\n",
    "                                       group_by=['geometry_building_type_recs'])\n",
    "baseline_agg\n"
   ]
  },
  {
   "cell_type": "code",
   "execution_count": 9,
   "id": "6afe13c0",
   "metadata": {},
   "outputs": [
    {
     "name": "stderr",
     "output_type": "stream",
     "text": [
      "INFO:buildstock_query.query_core:No new queries to save.\n"
     ]
    }
   ],
   "source": [
    "my_run.save_cache()"
   ]
  },
  {
   "cell_type": "code",
   "execution_count": 10,
   "id": "acfd11d9",
   "metadata": {},
   "outputs": [
    {
     "data": {
      "text/plain": [
       "[Column('timestamp', TIMESTAMP(), table=<resstock_amy2018_release_2022_1_by_state>),\n",
       " Column('out.electricity.ceiling_fan.energy_consumption', FLOAT(), table=<resstock_amy2018_release_2022_1_by_state>),\n",
       " Column('out.electricity.ceiling_fan.energy_consumption_intensity', FLOAT(), table=<resstock_amy2018_release_2022_1_by_state>),\n",
       " Column('out.electricity.clothes_dryer.energy_consumption', FLOAT(), table=<resstock_amy2018_release_2022_1_by_state>),\n",
       " Column('out.electricity.clothes_dryer.energy_consumption_intensity', FLOAT(), table=<resstock_amy2018_release_2022_1_by_state>),\n",
       " Column('out.electricity.clothes_washer.energy_consumption', FLOAT(), table=<resstock_amy2018_release_2022_1_by_state>),\n",
       " Column('out.electricity.clothes_washer.energy_consumption_intensity', FLOAT(), table=<resstock_amy2018_release_2022_1_by_state>),\n",
       " Column('out.electricity.cooling_fans_pumps.energy_consumption', FLOAT(), table=<resstock_amy2018_release_2022_1_by_state>),\n",
       " Column('out.electricity.cooling_fans_pumps.energy_consumption_intensity', FLOAT(), table=<resstock_amy2018_release_2022_1_by_state>),\n",
       " Column('out.electricity.cooling.energy_consumption', FLOAT(), table=<resstock_amy2018_release_2022_1_by_state>),\n",
       " Column('out.electricity.cooling.energy_consumption_intensity', FLOAT(), table=<resstock_amy2018_release_2022_1_by_state>),\n",
       " Column('out.electricity.dishwasher.energy_consumption', FLOAT(), table=<resstock_amy2018_release_2022_1_by_state>),\n",
       " Column('out.electricity.dishwasher.energy_consumption_intensity', FLOAT(), table=<resstock_amy2018_release_2022_1_by_state>),\n",
       " Column('out.electricity.freezer.energy_consumption', FLOAT(), table=<resstock_amy2018_release_2022_1_by_state>),\n",
       " Column('out.electricity.freezer.energy_consumption_intensity', FLOAT(), table=<resstock_amy2018_release_2022_1_by_state>),\n",
       " Column('out.electricity.heating_fans_pumps.energy_consumption', FLOAT(), table=<resstock_amy2018_release_2022_1_by_state>),\n",
       " Column('out.electricity.heating_fans_pumps.energy_consumption_intensity', FLOAT(), table=<resstock_amy2018_release_2022_1_by_state>),\n",
       " Column('out.electricity.heating_hp_bkup.energy_consumption', FLOAT(), table=<resstock_amy2018_release_2022_1_by_state>),\n",
       " Column('out.electricity.heating_hp_bkup.energy_consumption_intensity', FLOAT(), table=<resstock_amy2018_release_2022_1_by_state>),\n",
       " Column('out.electricity.heating.energy_consumption', FLOAT(), table=<resstock_amy2018_release_2022_1_by_state>),\n",
       " Column('out.electricity.heating.energy_consumption_intensity', FLOAT(), table=<resstock_amy2018_release_2022_1_by_state>),\n",
       " Column('out.electricity.hot_tub_heater.energy_consumption', FLOAT(), table=<resstock_amy2018_release_2022_1_by_state>),\n",
       " Column('out.electricity.hot_tub_heater.energy_consumption_intensity', FLOAT(), table=<resstock_amy2018_release_2022_1_by_state>),\n",
       " Column('out.electricity.hot_tub_pump.energy_consumption', FLOAT(), table=<resstock_amy2018_release_2022_1_by_state>),\n",
       " Column('out.electricity.hot_tub_pump.energy_consumption_intensity', FLOAT(), table=<resstock_amy2018_release_2022_1_by_state>),\n",
       " Column('out.electricity.hot_water.energy_consumption', FLOAT(), table=<resstock_amy2018_release_2022_1_by_state>),\n",
       " Column('out.electricity.hot_water.energy_consumption_intensity', FLOAT(), table=<resstock_amy2018_release_2022_1_by_state>),\n",
       " Column('out.electricity.lighting_exterior.energy_consumption', FLOAT(), table=<resstock_amy2018_release_2022_1_by_state>),\n",
       " Column('out.electricity.lighting_exterior.energy_consumption_intensity', FLOAT(), table=<resstock_amy2018_release_2022_1_by_state>),\n",
       " Column('out.electricity.lighting_garage.energy_consumption', FLOAT(), table=<resstock_amy2018_release_2022_1_by_state>),\n",
       " Column('out.electricity.lighting_garage.energy_consumption_intensity', FLOAT(), table=<resstock_amy2018_release_2022_1_by_state>),\n",
       " Column('out.electricity.lighting_interior.energy_consumption', FLOAT(), table=<resstock_amy2018_release_2022_1_by_state>),\n",
       " Column('out.electricity.lighting_interior.energy_consumption_intensity', FLOAT(), table=<resstock_amy2018_release_2022_1_by_state>),\n",
       " Column('out.electricity.mech_vent.energy_consumption', FLOAT(), table=<resstock_amy2018_release_2022_1_by_state>),\n",
       " Column('out.electricity.mech_vent.energy_consumption_intensity', FLOAT(), table=<resstock_amy2018_release_2022_1_by_state>),\n",
       " Column('out.electricity.plug_loads.energy_consumption', FLOAT(), table=<resstock_amy2018_release_2022_1_by_state>),\n",
       " Column('out.electricity.plug_loads.energy_consumption_intensity', FLOAT(), table=<resstock_amy2018_release_2022_1_by_state>),\n",
       " Column('out.electricity.pool_heater.energy_consumption', FLOAT(), table=<resstock_amy2018_release_2022_1_by_state>),\n",
       " Column('out.electricity.pool_heater.energy_consumption_intensity', FLOAT(), table=<resstock_amy2018_release_2022_1_by_state>),\n",
       " Column('out.electricity.pool_pump.energy_consumption', FLOAT(), table=<resstock_amy2018_release_2022_1_by_state>),\n",
       " Column('out.electricity.pool_pump.energy_consumption_intensity', FLOAT(), table=<resstock_amy2018_release_2022_1_by_state>),\n",
       " Column('out.electricity.pv.energy_consumption', FLOAT(), table=<resstock_amy2018_release_2022_1_by_state>),\n",
       " Column('out.electricity.pv.energy_consumption_intensity', FLOAT(), table=<resstock_amy2018_release_2022_1_by_state>),\n",
       " Column('out.electricity.range_oven.energy_consumption', FLOAT(), table=<resstock_amy2018_release_2022_1_by_state>),\n",
       " Column('out.electricity.range_oven.energy_consumption_intensity', FLOAT(), table=<resstock_amy2018_release_2022_1_by_state>),\n",
       " Column('out.electricity.refrigerator.energy_consumption', FLOAT(), table=<resstock_amy2018_release_2022_1_by_state>),\n",
       " Column('out.electricity.refrigerator.energy_consumption_intensity', FLOAT(), table=<resstock_amy2018_release_2022_1_by_state>),\n",
       " Column('out.electricity.well_pump.energy_consumption', FLOAT(), table=<resstock_amy2018_release_2022_1_by_state>),\n",
       " Column('out.electricity.well_pump.energy_consumption_intensity', FLOAT(), table=<resstock_amy2018_release_2022_1_by_state>),\n",
       " Column('out.fuel_oil.heating_hp_bkup.energy_consumption', FLOAT(), table=<resstock_amy2018_release_2022_1_by_state>),\n",
       " Column('out.fuel_oil.heating_hp_bkup.energy_consumption_intensity', FLOAT(), table=<resstock_amy2018_release_2022_1_by_state>),\n",
       " Column('out.fuel_oil.heating.energy_consumption', FLOAT(), table=<resstock_amy2018_release_2022_1_by_state>),\n",
       " Column('out.fuel_oil.heating.energy_consumption_intensity', FLOAT(), table=<resstock_amy2018_release_2022_1_by_state>),\n",
       " Column('out.fuel_oil.hot_water.energy_consumption', FLOAT(), table=<resstock_amy2018_release_2022_1_by_state>),\n",
       " Column('out.fuel_oil.hot_water.energy_consumption_intensity', FLOAT(), table=<resstock_amy2018_release_2022_1_by_state>),\n",
       " Column('out.natural_gas.clothes_dryer.energy_consumption', FLOAT(), table=<resstock_amy2018_release_2022_1_by_state>),\n",
       " Column('out.natural_gas.clothes_dryer.energy_consumption_intensity', FLOAT(), table=<resstock_amy2018_release_2022_1_by_state>),\n",
       " Column('out.natural_gas.fireplace.energy_consumption', FLOAT(), table=<resstock_amy2018_release_2022_1_by_state>),\n",
       " Column('out.natural_gas.fireplace.energy_consumption_intensity', FLOAT(), table=<resstock_amy2018_release_2022_1_by_state>),\n",
       " Column('out.natural_gas.grill.energy_consumption', FLOAT(), table=<resstock_amy2018_release_2022_1_by_state>),\n",
       " Column('out.natural_gas.grill.energy_consumption_intensity', FLOAT(), table=<resstock_amy2018_release_2022_1_by_state>),\n",
       " Column('out.natural_gas.heating_hp_bkup.energy_consumption', FLOAT(), table=<resstock_amy2018_release_2022_1_by_state>),\n",
       " Column('out.natural_gas.heating_hp_bkup.energy_consumption_intensity', FLOAT(), table=<resstock_amy2018_release_2022_1_by_state>),\n",
       " Column('out.natural_gas.heating.energy_consumption', FLOAT(), table=<resstock_amy2018_release_2022_1_by_state>),\n",
       " Column('out.natural_gas.heating.energy_consumption_intensity', FLOAT(), table=<resstock_amy2018_release_2022_1_by_state>),\n",
       " Column('out.natural_gas.hot_tub_heater.energy_consumption', FLOAT(), table=<resstock_amy2018_release_2022_1_by_state>),\n",
       " Column('out.natural_gas.hot_tub_heater.energy_consumption_intensity', FLOAT(), table=<resstock_amy2018_release_2022_1_by_state>),\n",
       " Column('out.natural_gas.hot_water.energy_consumption', FLOAT(), table=<resstock_amy2018_release_2022_1_by_state>),\n",
       " Column('out.natural_gas.hot_water.energy_consumption_intensity', FLOAT(), table=<resstock_amy2018_release_2022_1_by_state>),\n",
       " Column('out.natural_gas.lighting.energy_consumption', FLOAT(), table=<resstock_amy2018_release_2022_1_by_state>),\n",
       " Column('out.natural_gas.lighting.energy_consumption_intensity', FLOAT(), table=<resstock_amy2018_release_2022_1_by_state>),\n",
       " Column('out.natural_gas.pool_heater.energy_consumption', FLOAT(), table=<resstock_amy2018_release_2022_1_by_state>),\n",
       " Column('out.natural_gas.pool_heater.energy_consumption_intensity', FLOAT(), table=<resstock_amy2018_release_2022_1_by_state>),\n",
       " Column('out.natural_gas.range_oven.energy_consumption', FLOAT(), table=<resstock_amy2018_release_2022_1_by_state>),\n",
       " Column('out.natural_gas.range_oven.energy_consumption_intensity', FLOAT(), table=<resstock_amy2018_release_2022_1_by_state>),\n",
       " Column('out.propane.clothes_dryer.energy_consumption', FLOAT(), table=<resstock_amy2018_release_2022_1_by_state>),\n",
       " Column('out.propane.clothes_dryer.energy_consumption_intensity', FLOAT(), table=<resstock_amy2018_release_2022_1_by_state>),\n",
       " Column('out.propane.heating_hp_bkup.energy_consumption', FLOAT(), table=<resstock_amy2018_release_2022_1_by_state>),\n",
       " Column('out.propane.heating_hp_bkup.energy_consumption_intensity', FLOAT(), table=<resstock_amy2018_release_2022_1_by_state>),\n",
       " Column('out.propane.heating.energy_consumption', FLOAT(), table=<resstock_amy2018_release_2022_1_by_state>),\n",
       " Column('out.propane.heating.energy_consumption_intensity', FLOAT(), table=<resstock_amy2018_release_2022_1_by_state>),\n",
       " Column('out.propane.hot_water.energy_consumption', FLOAT(), table=<resstock_amy2018_release_2022_1_by_state>),\n",
       " Column('out.propane.hot_water.energy_consumption_intensity', FLOAT(), table=<resstock_amy2018_release_2022_1_by_state>),\n",
       " Column('out.propane.range_oven.energy_consumption', FLOAT(), table=<resstock_amy2018_release_2022_1_by_state>),\n",
       " Column('out.propane.range_oven.energy_consumption_intensity', FLOAT(), table=<resstock_amy2018_release_2022_1_by_state>),\n",
       " Column('out.site_energy.net.energy_consumption', FLOAT(), table=<resstock_amy2018_release_2022_1_by_state>),\n",
       " Column('out.site_energy.net.energy_consumption_intensity', FLOAT(), table=<resstock_amy2018_release_2022_1_by_state>),\n",
       " Column('out.site_energy.total.energy_consumption', FLOAT(), table=<resstock_amy2018_release_2022_1_by_state>),\n",
       " Column('out.site_energy.total.energy_consumption_intensity', FLOAT(), table=<resstock_amy2018_release_2022_1_by_state>),\n",
       " Column('out.electricity.net.energy_consumption', FLOAT(), table=<resstock_amy2018_release_2022_1_by_state>),\n",
       " Column('out.electricity.net.energy_consumption_intensity', FLOAT(), table=<resstock_amy2018_release_2022_1_by_state>),\n",
       " Column('out.electricity.total.energy_consumption', FLOAT(), table=<resstock_amy2018_release_2022_1_by_state>),\n",
       " Column('out.electricity.total.energy_consumption_intensity', FLOAT(), table=<resstock_amy2018_release_2022_1_by_state>),\n",
       " Column('out.fuel_oil.total.energy_consumption', FLOAT(), table=<resstock_amy2018_release_2022_1_by_state>),\n",
       " Column('out.fuel_oil.total.energy_consumption_intensity', FLOAT(), table=<resstock_amy2018_release_2022_1_by_state>),\n",
       " Column('out.natural_gas.total.energy_consumption', FLOAT(), table=<resstock_amy2018_release_2022_1_by_state>),\n",
       " Column('out.natural_gas.total.energy_consumption_intensity', FLOAT(), table=<resstock_amy2018_release_2022_1_by_state>),\n",
       " Column('out.propane.total.energy_consumption', FLOAT(), table=<resstock_amy2018_release_2022_1_by_state>),\n",
       " Column('out.propane.total.energy_consumption_intensity', FLOAT(), table=<resstock_amy2018_release_2022_1_by_state>),\n",
       " Column('out.total.lrmer_95decarbby2035_15_2025start.co2e_kg', FLOAT(), table=<resstock_amy2018_release_2022_1_by_state>),\n",
       " Column('out.total.lrmer_lowrecost_15_2025start.co2e_kg', FLOAT(), table=<resstock_amy2018_release_2022_1_by_state>),\n",
       " Column('out.total.lrmer_lowrecost_25_2025start.co2e_kg', FLOAT(), table=<resstock_amy2018_release_2022_1_by_state>),\n",
       " Column('out.total.lrmer_midcase_15_2025start.co2e_kg', FLOAT(), table=<resstock_amy2018_release_2022_1_by_state>),\n",
       " Column('bldg_id', BIGINT(), table=<resstock_amy2018_release_2022_1_by_state>),\n",
       " Column('upgrade', BIGINT(), table=<resstock_amy2018_release_2022_1_by_state>),\n",
       " Column('state', String(), table=<resstock_amy2018_release_2022_1_by_state>)]"
      ]
     },
     "execution_count": 10,
     "metadata": {},
     "output_type": "execute_result"
    }
   ],
   "source": [
    "all_enduses = my_run.get_cols(my_run.ts_table)\n",
    "all_enduses"
   ]
  },
  {
   "cell_type": "code",
   "execution_count": 11,
   "id": "e000d1d4",
   "metadata": {},
   "outputs": [
    {
     "name": "stderr",
     "output_type": "stream",
     "text": [
      "WARNING:buildstock_query.query_core:Column in.geometry_building_type_recs found in multiple tables ['baseline', 'upgrade'].Using baseline\n",
      "INFO:buildstock_query.aggregate_query:Restricting query to Upgrade 0.\n"
     ]
    },
    {
     "name": "stdout",
     "output_type": "stream",
     "text": [
      "     geometry_building_type_recs state  timestamp  sample_count  \\\n",
      "0                    Mobile Home    AL 2018-01-01          1233   \n",
      "1                    Mobile Home    AL 2018-02-01          1233   \n",
      "2                    Mobile Home    AL 2018-03-01          1233   \n",
      "3                    Mobile Home    AL 2018-04-01          1233   \n",
      "4                    Mobile Home    AL 2018-05-01          1233   \n",
      "...                          ...   ...        ...           ...   \n",
      "2923      Single-Family Detached    WY 2018-08-01           725   \n",
      "2924      Single-Family Detached    WY 2018-09-01           725   \n",
      "2925      Single-Family Detached    WY 2018-10-01           725   \n",
      "2926      Single-Family Detached    WY 2018-11-01           725   \n",
      "2927      Single-Family Detached    WY 2018-12-01           725   \n",
      "\n",
      "        units_count  rows_per_sample  electricity.total.energy_consumption  \n",
      "0     298547.538693             2976                          5.748190e+08  \n",
      "1     298547.538693             2688                          2.704440e+08  \n",
      "2     298547.538693             2976                          2.812844e+08  \n",
      "3     298547.538693             2880                          2.391741e+08  \n",
      "4     298547.538693             2976                          2.992050e+08  \n",
      "...             ...              ...                                   ...  \n",
      "2923  175544.984227             2976                          1.149868e+08  \n",
      "2924  175544.984227             2880                          1.089442e+08  \n",
      "2925  175544.984227             2976                          1.491668e+08  \n",
      "2926  175544.984227             2880                          2.080654e+08  \n",
      "2927  175544.984227             2976                          2.653859e+08  \n",
      "\n",
      "[2928 rows x 7 columns]\n"
     ]
    }
   ],
   "source": [
    "ts_agg = my_run.agg.aggregate_timeseries(enduses=['out.electricity.total.energy_consumption'],\n",
    "                                         # restrict=[('build_existing_model.state', ['CO'])],\n",
    "                                         timestamp_grouping_func='month',\n",
    "                                         group_by=['geometry_building_type_recs', 'state'],\n",
    "                                         get_query_only=False)\n",
    "print(ts_agg)"
   ]
  },
  {
   "cell_type": "code",
   "execution_count": 12,
   "id": "20e644bf",
   "metadata": {},
   "outputs": [
    {
     "name": "stdout",
     "output_type": "stream",
     "text": [
      "     geometry_building_type_recs state  timestamp  sample_count  \\\n",
      "0                    Mobile Home    AL 2018-01-01          1233   \n",
      "1                    Mobile Home    AL 2018-02-01          1233   \n",
      "2                    Mobile Home    AL 2018-03-01          1233   \n",
      "3                    Mobile Home    AL 2018-04-01          1233   \n",
      "4                    Mobile Home    AL 2018-05-01          1233   \n",
      "...                          ...   ...        ...           ...   \n",
      "2923      Single-Family Detached    WY 2018-08-01           725   \n",
      "2924      Single-Family Detached    WY 2018-09-01           725   \n",
      "2925      Single-Family Detached    WY 2018-10-01           725   \n",
      "2926      Single-Family Detached    WY 2018-11-01           725   \n",
      "2927      Single-Family Detached    WY 2018-12-01           725   \n",
      "\n",
      "        units_count  rows_per_sample  electricity.total.energy_consumption  \n",
      "0     298547.538693             2976                          5.748190e+08  \n",
      "1     298547.538693             2688                          2.704440e+08  \n",
      "2     298547.538693             2976                          2.812844e+08  \n",
      "3     298547.538693             2880                          2.391741e+08  \n",
      "4     298547.538693             2976                          2.992050e+08  \n",
      "...             ...              ...                                   ...  \n",
      "2923  175544.984227             2976                          1.149868e+08  \n",
      "2924  175544.984227             2880                          1.089442e+08  \n",
      "2925  175544.984227             2976                          1.491668e+08  \n",
      "2926  175544.984227             2880                          2.080654e+08  \n",
      "2927  175544.984227             2976                          2.653859e+08  \n",
      "\n",
      "[2928 rows x 7 columns]\n"
     ]
    }
   ],
   "source": [
    "print(ts_agg)"
   ]
  },
  {
   "cell_type": "code",
   "execution_count": 13,
   "id": "c3615696",
   "metadata": {},
   "outputs": [
    {
     "name": "stdout",
     "output_type": "stream",
     "text": [
      "                timestamp  sample_count   units_count  \\\n",
      "0     2018-01-01 00:15:00        548916  1.329096e+08   \n",
      "1     2018-01-01 00:30:00        548916  1.329096e+08   \n",
      "2     2018-01-01 00:45:00        548916  1.329096e+08   \n",
      "3     2018-01-01 01:00:00        548916  1.329096e+08   \n",
      "4     2018-01-01 01:15:00        548916  1.329096e+08   \n",
      "...                   ...           ...           ...   \n",
      "35035 2018-12-31 23:00:00        548916  1.329096e+08   \n",
      "35036 2018-12-31 23:15:00        548916  1.329096e+08   \n",
      "35037 2018-12-31 23:30:00        548916  1.329096e+08   \n",
      "35038 2018-12-31 23:45:00        548916  1.329096e+08   \n",
      "35039 2019-01-01 00:00:00        548916  1.329096e+08   \n",
      "\n",
      "       electricity.total.energy_consumption__baseline  \\\n",
      "0                                        6.380506e+07   \n",
      "1                                        6.390018e+07   \n",
      "2                                        6.321905e+07   \n",
      "3                                        6.284525e+07   \n",
      "4                                        7.654903e+07   \n",
      "...                                               ...   \n",
      "35035                                    4.860470e+07   \n",
      "35036                                    4.492682e+07   \n",
      "35037                                    4.448029e+07   \n",
      "35038                                    4.366228e+07   \n",
      "35039                                    4.309442e+07   \n",
      "\n",
      "       electricity.total.energy_consumption__savings  \n",
      "0                                       1.580180e+07  \n",
      "1                                       1.582915e+07  \n",
      "2                                       1.573407e+07  \n",
      "3                                       1.570954e+07  \n",
      "4                                       2.125177e+07  \n",
      "...                                              ...  \n",
      "35035                                   6.345504e+06  \n",
      "35036                                   6.328862e+06  \n",
      "35037                                   6.517640e+06  \n",
      "35038                                   6.637030e+06  \n",
      "35039                                   6.759883e+06  \n",
      "\n",
      "[35040 rows x 5 columns]\n"
     ]
    }
   ],
   "source": [
    "result = my_run.savings.savings_shape(upgrade_id=2, enduses=['out.electricity.total.energy_consumption'],\n",
    "                             annual_only=False,\n",
    "                             get_query_only=False)\n",
    "print(result)"
   ]
  },
  {
   "cell_type": "code",
   "execution_count": 14,
   "id": "0d7ed33b",
   "metadata": {},
   "outputs": [
    {
     "name": "stderr",
     "output_type": "stream",
     "text": [
      "INFO:buildstock_query.query_core:No new queries to save.\n"
     ]
    }
   ],
   "source": [
    "my_run.save_cache()"
   ]
  },
  {
   "cell_type": "code",
   "execution_count": 15,
   "id": "af817f71",
   "metadata": {},
   "outputs": [
    {
     "name": "stderr",
     "output_type": "stream",
     "text": [
      "WARNING:buildstock_query.query_core:Column in.geometry_building_type_recs found in multiple tables ['baseline', 'upgrade'].Using baseline\n",
      "WARNING:buildstock_query.query_core:Column in.state found in multiple tables ['baseline', 'upgrade'].Using baseline\n"
     ]
    },
    {
     "data": {
      "text/html": [
       "<div>\n",
       "<style scoped>\n",
       "    .dataframe tbody tr th:only-of-type {\n",
       "        vertical-align: middle;\n",
       "    }\n",
       "\n",
       "    .dataframe tbody tr th {\n",
       "        vertical-align: top;\n",
       "    }\n",
       "\n",
       "    .dataframe thead th {\n",
       "        text-align: right;\n",
       "    }\n",
       "</style>\n",
       "<table border=\"1\" class=\"dataframe\">\n",
       "  <thead>\n",
       "    <tr style=\"text-align: right;\">\n",
       "      <th></th>\n",
       "      <th>timestamp</th>\n",
       "      <th>sample_count</th>\n",
       "      <th>units_count</th>\n",
       "      <th>electricity.total.energy_consumption__baseline</th>\n",
       "      <th>electricity.total.energy_consumption__savings</th>\n",
       "      <th>geometry_building_type_recs</th>\n",
       "    </tr>\n",
       "  </thead>\n",
       "  <tbody>\n",
       "    <tr>\n",
       "      <th>0</th>\n",
       "      <td>2018-01-01 00:15:00</td>\n",
       "      <td>89</td>\n",
       "      <td>21549.660133</td>\n",
       "      <td>3332.933390</td>\n",
       "      <td>371.428974</td>\n",
       "      <td>Mobile Home</td>\n",
       "    </tr>\n",
       "    <tr>\n",
       "      <th>1</th>\n",
       "      <td>2018-01-01 00:30:00</td>\n",
       "      <td>89</td>\n",
       "      <td>21549.660133</td>\n",
       "      <td>3540.439668</td>\n",
       "      <td>363.438650</td>\n",
       "      <td>Mobile Home</td>\n",
       "    </tr>\n",
       "    <tr>\n",
       "      <th>2</th>\n",
       "      <td>2018-01-01 00:45:00</td>\n",
       "      <td>89</td>\n",
       "      <td>21549.660133</td>\n",
       "      <td>3993.708924</td>\n",
       "      <td>358.838161</td>\n",
       "      <td>Mobile Home</td>\n",
       "    </tr>\n",
       "    <tr>\n",
       "      <th>3</th>\n",
       "      <td>2018-01-01 01:00:00</td>\n",
       "      <td>89</td>\n",
       "      <td>21549.660133</td>\n",
       "      <td>3681.602049</td>\n",
       "      <td>355.690458</td>\n",
       "      <td>Mobile Home</td>\n",
       "    </tr>\n",
       "    <tr>\n",
       "      <th>4</th>\n",
       "      <td>2018-01-01 01:15:00</td>\n",
       "      <td>89</td>\n",
       "      <td>21549.660133</td>\n",
       "      <td>3638.744859</td>\n",
       "      <td>348.426527</td>\n",
       "      <td>Mobile Home</td>\n",
       "    </tr>\n",
       "    <tr>\n",
       "      <th>...</th>\n",
       "      <td>...</td>\n",
       "      <td>...</td>\n",
       "      <td>...</td>\n",
       "      <td>...</td>\n",
       "      <td>...</td>\n",
       "      <td>...</td>\n",
       "    </tr>\n",
       "    <tr>\n",
       "      <th>175195</th>\n",
       "      <td>2018-12-31 23:00:00</td>\n",
       "      <td>890</td>\n",
       "      <td>215496.601327</td>\n",
       "      <td>46724.747919</td>\n",
       "      <td>3171.432005</td>\n",
       "      <td>Single-Family Detached</td>\n",
       "    </tr>\n",
       "    <tr>\n",
       "      <th>175196</th>\n",
       "      <td>2018-12-31 23:15:00</td>\n",
       "      <td>890</td>\n",
       "      <td>215496.601327</td>\n",
       "      <td>40908.034600</td>\n",
       "      <td>2770.220917</td>\n",
       "      <td>Single-Family Detached</td>\n",
       "    </tr>\n",
       "    <tr>\n",
       "      <th>175197</th>\n",
       "      <td>2018-12-31 23:30:00</td>\n",
       "      <td>890</td>\n",
       "      <td>215496.601327</td>\n",
       "      <td>38722.802210</td>\n",
       "      <td>3117.436789</td>\n",
       "      <td>Single-Family Detached</td>\n",
       "    </tr>\n",
       "    <tr>\n",
       "      <th>175198</th>\n",
       "      <td>2018-12-31 23:45:00</td>\n",
       "      <td>890</td>\n",
       "      <td>215496.601327</td>\n",
       "      <td>37410.936383</td>\n",
       "      <td>3147.945296</td>\n",
       "      <td>Single-Family Detached</td>\n",
       "    </tr>\n",
       "    <tr>\n",
       "      <th>175199</th>\n",
       "      <td>2019-01-01 00:00:00</td>\n",
       "      <td>890</td>\n",
       "      <td>215496.601327</td>\n",
       "      <td>37973.406726</td>\n",
       "      <td>3140.681366</td>\n",
       "      <td>Single-Family Detached</td>\n",
       "    </tr>\n",
       "  </tbody>\n",
       "</table>\n",
       "<p>175200 rows × 6 columns</p>\n",
       "</div>"
      ],
      "text/plain": [
       "                 timestamp  sample_count    units_count  \\\n",
       "0      2018-01-01 00:15:00            89   21549.660133   \n",
       "1      2018-01-01 00:30:00            89   21549.660133   \n",
       "2      2018-01-01 00:45:00            89   21549.660133   \n",
       "3      2018-01-01 01:00:00            89   21549.660133   \n",
       "4      2018-01-01 01:15:00            89   21549.660133   \n",
       "...                    ...           ...            ...   \n",
       "175195 2018-12-31 23:00:00           890  215496.601327   \n",
       "175196 2018-12-31 23:15:00           890  215496.601327   \n",
       "175197 2018-12-31 23:30:00           890  215496.601327   \n",
       "175198 2018-12-31 23:45:00           890  215496.601327   \n",
       "175199 2019-01-01 00:00:00           890  215496.601327   \n",
       "\n",
       "        electricity.total.energy_consumption__baseline  \\\n",
       "0                                          3332.933390   \n",
       "1                                          3540.439668   \n",
       "2                                          3993.708924   \n",
       "3                                          3681.602049   \n",
       "4                                          3638.744859   \n",
       "...                                                ...   \n",
       "175195                                    46724.747919   \n",
       "175196                                    40908.034600   \n",
       "175197                                    38722.802210   \n",
       "175198                                    37410.936383   \n",
       "175199                                    37973.406726   \n",
       "\n",
       "        electricity.total.energy_consumption__savings  \\\n",
       "0                                          371.428974   \n",
       "1                                          363.438650   \n",
       "2                                          358.838161   \n",
       "3                                          355.690458   \n",
       "4                                          348.426527   \n",
       "...                                               ...   \n",
       "175195                                    3171.432005   \n",
       "175196                                    2770.220917   \n",
       "175197                                    3117.436789   \n",
       "175198                                    3147.945296   \n",
       "175199                                    3140.681366   \n",
       "\n",
       "       geometry_building_type_recs  \n",
       "0                      Mobile Home  \n",
       "1                      Mobile Home  \n",
       "2                      Mobile Home  \n",
       "3                      Mobile Home  \n",
       "4                      Mobile Home  \n",
       "...                            ...  \n",
       "175195      Single-Family Detached  \n",
       "175196      Single-Family Detached  \n",
       "175197      Single-Family Detached  \n",
       "175198      Single-Family Detached  \n",
       "175199      Single-Family Detached  \n",
       "\n",
       "[175200 rows x 6 columns]"
      ]
     },
     "execution_count": 15,
     "metadata": {},
     "output_type": "execute_result"
    }
   ],
   "source": [
    "my_run.savings.savings_shape(upgrade_id=2, enduses=['out.electricity.total.energy_consumption'],\n",
    "                             group_by=['geometry_building_type_recs'],\n",
    "                             restrict=[('in.state', ['VT'])],\n",
    "                             annual_only=False)"
   ]
  },
  {
   "cell_type": "code",
   "execution_count": 16,
   "id": "90ed9c5a",
   "metadata": {},
   "outputs": [
    {
     "name": "stderr",
     "output_type": "stream",
     "text": [
      "WARNING:buildstock_query.query_core:Column in.geometry_building_type_recs found in multiple tables ['baseline', 'upgrade'].Using baseline\n",
      "WARNING:buildstock_query.query_core:Column in.state found in multiple tables ['baseline', 'upgrade'].Using baseline\n"
     ]
    },
    {
     "name": "stdout",
     "output_type": "stream",
     "text": [
      "   sample_count    units_count  \\\n",
      "0            89   21549.660133   \n",
      "1           165   39951.617100   \n",
      "2           147   35593.258871   \n",
      "3            54   13075.074687   \n",
      "4           890  215496.601327   \n",
      "\n",
      "   electricity.total.energy_consumption__baseline  \\\n",
      "0                                    1.268281e+08   \n",
      "1                                    2.295646e+08   \n",
      "2                                    2.067916e+08   \n",
      "3                                    7.938956e+07   \n",
      "4                                    1.678065e+09   \n",
      "\n",
      "   electricity.total.energy_consumption__savings  \\\n",
      "0                                   2.677807e+06   \n",
      "1                                   2.316868e+07   \n",
      "2                                   1.868731e+07   \n",
      "3                                   6.101988e+06   \n",
      "4                                   1.047801e+08   \n",
      "\n",
      "  electricity.total.energy_consumption__savings__quartiles  \\\n",
      "0  [-5.861421400000836, 0.0, 31.944746630000054, ...         \n",
      "1  [-14.067411359999824, 0.0, 21.6221322755556, 9...         \n",
      "2  [-8.792132100000345, -4.1029949799999486, 8.92...         \n",
      "3  [-10.843629590000091, -2.0514974899988374, 9.6...         \n",
      "4  [-7.61984781999945, 0.0, 43.63570928003198, 24...         \n",
      "\n",
      "     geometry_building_type_recs  \n",
      "0                    Mobile Home  \n",
      "1  Multi-Family with 2 - 4 Units  \n",
      "2     Multi-Family with 5+ Units  \n",
      "3         Single-Family Attached  \n",
      "4         Single-Family Detached  \n"
     ]
    }
   ],
   "source": [
    "result = my_run.savings.savings_shape(upgrade_id=2, enduses=['out.electricity.total.energy_consumption'],\n",
    "                             group_by=['geometry_building_type_recs'],\n",
    "                             restrict=[('in.state', ['VT'])],\n",
    "                             get_quartiles=True,\n",
    "                             annual_only=True,\n",
    "                             get_query_only=False)\n",
    "print(result)"
   ]
  },
  {
   "cell_type": "code",
   "execution_count": 17,
   "id": "dfccaf75",
   "metadata": {},
   "outputs": [
    {
     "name": "stderr",
     "output_type": "stream",
     "text": [
      "INFO:buildstock_query.query_core:No new queries to save.\n"
     ]
    }
   ],
   "source": [
    "my_run.save_cache()"
   ]
  },
  {
   "cell_type": "code",
   "execution_count": null,
   "id": "fbed69fa",
   "metadata": {},
   "outputs": [],
   "source": []
  }
 ],
 "metadata": {
  "kernelspec": {
   "display_name": "Python 3.10.6 ('buildstock_query')",
   "language": "python",
   "name": "python3"
  },
  "language_info": {
   "codemirror_mode": {
    "name": "ipython",
    "version": 3
   },
   "file_extension": ".py",
   "mimetype": "text/x-python",
   "name": "python",
   "nbconvert_exporter": "python",
   "pygments_lexer": "ipython3",
   "version": "3.10.6"
  },
  "vscode": {
   "interpreter": {
    "hash": "35ba3cc7519d35147a8e5461e917527371cd03213f16caf8b9adad162c9e25ef"
   }
  }
 },
 "nbformat": 4,
 "nbformat_minor": 5
}
