{
 "cells": [
  {
   "cell_type": "code",
   "execution_count": 2,
   "id": "c7608e32",
   "metadata": {},
   "outputs": [],
   "source": [
    "from buildstock_query import BuildStockQuery, ExeId, MappedColumn\n",
    "import pandas as pd\n",
    "import sqlalchemy as sa"
   ]
  },
  {
   "cell_type": "code",
   "execution_count": 3,
   "id": "17701803",
   "metadata": {},
   "outputs": [
    {
     "name": "stderr",
     "output_type": "stream",
     "text": [
      "INFO:buildstock_query.query_core:Loading sdr_magic17 ...\n",
      "INFO:botocore.tokens:Loading cached SSO token for nrel-sso\n",
      "INFO:buildstock_query.query_core:33 queries cache read from None.\n",
      "INFO:buildstock_query.query_core:33 queries cache is updated.\n",
      "INFO:buildstock_query.main:Getting Success counts...\n",
      "INFO:buildstock_query.report_query:Checking integrity with ts_tables ...\n",
      "INFO:buildstock_query.query_core:No new queries to save.\n"
     ]
    },
    {
     "name": "stdout",
     "output_type": "stream",
     "text": [
      "         success  inapplicable  fail   Sum  Applied %  bad-chng  ok-chng  \\\n",
      "upgrade                                                                    \n",
      "0           17.0           0.0   0.0  17.0        0.0         0        0   \n",
      "1           17.0           0.0   0.0  17.0      100.0         0       17   \n",
      "10          15.0           2.0   0.0  17.0       88.2         0       15   \n",
      "11          17.0           0.0   0.0  17.0      100.0         0       17   \n",
      "12          17.0           0.0   0.0  17.0      100.0         0       17   \n",
      "13          17.0           0.0   0.0  17.0      100.0         0       17   \n",
      "14          15.0           0.0   2.0  17.0      100.0         0       15   \n",
      "15          15.0           2.0   0.0  17.0       88.2         0       15   \n",
      "16          14.0           3.0   0.0  17.0       82.4         0       14   \n",
      "17          17.0           0.0   0.0  17.0      100.0         0       17   \n",
      "18          17.0           0.0   0.0  17.0      100.0        17        0   \n",
      "19          17.0           0.0   0.0  17.0      100.0         0       17   \n",
      "2           17.0           0.0   0.0  17.0      100.0         0       17   \n",
      "20          17.0           0.0   0.0  17.0      100.0        17        0   \n",
      "21          17.0           0.0   0.0  17.0      100.0        15        2   \n",
      "3           17.0           0.0   0.0  17.0      100.0         0       17   \n",
      "4           15.0           0.0   2.0  17.0      100.0         0       15   \n",
      "5           15.0           2.0   0.0  17.0       88.2         0       15   \n",
      "6           17.0           0.0   0.0  17.0      100.0         0       17   \n",
      "7           17.0           0.0   0.0  17.0      100.0         0       17   \n",
      "8           17.0           0.0   0.0  17.0      100.0         0       17   \n",
      "9           15.0           0.0   2.0  17.0      100.0         0       15   \n",
      "\n",
      "         true-bad-chng  true-ok-chng  null  any  no-chng  no-chng %  \\\n",
      "upgrade                                                               \n",
      "0                    0             0     0    0      0.0        0.0   \n",
      "1                    0            17     0   17      0.0        0.0   \n",
      "10                   0            15     0   15      0.0        0.0   \n",
      "11                   0            17     0   17      0.0        0.0   \n",
      "12                   0            17     0   17      0.0        0.0   \n",
      "13                   0            17     0   17      0.0        0.0   \n",
      "14                   0            15     0   15      0.0        0.0   \n",
      "15                   0            15     0   15      0.0        0.0   \n",
      "16                   0            14     0   14      0.0        0.0   \n",
      "17                   0            17     0   17      0.0        0.0   \n",
      "18                  17             0     0   17      0.0        0.0   \n",
      "19                   0            17     0   17      0.0        0.0   \n",
      "2                    0            17     0   17      0.0        0.0   \n",
      "20                  17             0     0   17      0.0        0.0   \n",
      "21                  14             3     0   17      0.0        0.0   \n",
      "3                    0            17     0   17      0.0        0.0   \n",
      "4                    0            15     0   15      0.0        0.0   \n",
      "5                    0            15     0   15      0.0        0.0   \n",
      "6                    0            17     0   17      0.0        0.0   \n",
      "7                    0            17     0   17      0.0        0.0   \n",
      "8                    0            17     0   17      0.0        0.0   \n",
      "9                    0            15     0   15      0.0        0.0   \n",
      "\n",
      "         bad-chng %  ok-chng %  true-ok-chng %  true-bad-chng %  \n",
      "upgrade                                                          \n",
      "0               0.0        0.0             0.0              0.0  \n",
      "1               0.0      100.0           100.0              0.0  \n",
      "10              0.0      100.0           100.0              0.0  \n",
      "11              0.0      100.0           100.0              0.0  \n",
      "12              0.0      100.0           100.0              0.0  \n",
      "13              0.0      100.0           100.0              0.0  \n",
      "14              0.0      100.0           100.0              0.0  \n",
      "15              0.0      100.0           100.0              0.0  \n",
      "16              0.0      100.0           100.0              0.0  \n",
      "17              0.0      100.0           100.0              0.0  \n",
      "18            100.0        0.0             0.0            100.0  \n",
      "19              0.0      100.0           100.0              0.0  \n",
      "2               0.0      100.0           100.0              0.0  \n",
      "20            100.0        0.0             0.0            100.0  \n",
      "21             88.2       11.8            17.6             82.4  \n",
      "3               0.0      100.0           100.0              0.0  \n",
      "4               0.0      100.0           100.0              0.0  \n",
      "5               0.0      100.0           100.0              0.0  \n",
      "6               0.0      100.0           100.0              0.0  \n",
      "7               0.0      100.0           100.0              0.0  \n",
      "8               0.0      100.0           100.0              0.0  \n",
      "9               0.0      100.0           100.0              0.0  \n",
      "\u001b[92mAnnual and timeseries tables are verified to have the same number of buildings.\u001b[0m\n",
      "\u001b[92mAll buildings are verified to have the same number of (35040) timeseries rows.\u001b[0m\n"
     ]
    }
   ],
   "source": [
    "my_run = BuildStockQuery(db_name='resstock_core',\n",
    "                        table_name='sdr_magic17',\n",
    "                        workgroup='rescore',\n",
    "                        buildstock_type='resstock',\n",
    "                        skip_reports=False)"
   ]
  },
  {
   "cell_type": "code",
   "execution_count": 3,
   "id": "940c01be",
   "metadata": {},
   "outputs": [
    {
     "data": {
      "text/plain": [
       "'SELECT sdr_magic17_baseline.building_id \\nFROM sdr_magic17_baseline'"
      ]
     },
     "execution_count": 3,
     "metadata": {},
     "output_type": "execute_result"
    }
   ],
   "source": [
    "query = my_run.get_building_ids(get_query_only=True)\n",
    "query"
   ]
  },
  {
   "cell_type": "code",
   "execution_count": 4,
   "id": "afb0bdf2",
   "metadata": {},
   "outputs": [
    {
     "name": "stderr",
     "output_type": "stream",
     "text": [
      "INFO:botocore.tokens:Loading cached SSO token for nrel-sso\n"
     ]
    },
    {
     "name": "stdout",
     "output_type": "stream",
     "text": [
      "  simple_bldg_type  sample_count   units_count  \\\n",
      "0               MF             1  8.214531e+06   \n",
      "1               MH             4  3.285812e+07   \n",
      "2               SF            12  9.857437e+07   \n",
      "\n",
      "   fuel_use_electricity_total_m_btu  \n",
      "0                      1.108633e+08  \n",
      "1                      5.676734e+08  \n",
      "2                      4.080141e+09  \n"
     ]
    }
   ],
   "source": [
    "building_type_map = {\"Mobile Home\": \"MH\", \"Single-Family Detached\": \"SF\",\n",
    "                     \"Single-Family Attached\": \"SF\", \"Multi-Family with 2 - 4 Units\": \"MF\",\n",
    "                     \"Multi-Family with 5+ Units\": \"MF\",}\n",
    "bldg_col = my_run._get_column('build_existing_model.geometry_building_type_recs')\n",
    "simple_bldg_col = MappedColumn(bsq=my_run, name='simple_bldg_type', mapping_dict=building_type_map,\n",
    "                               key=bldg_col)\n",
    "mapped_agg_query = my_run.query(enduses=['fuel_use_electricity_total_m_btu'],\n",
    "                                       group_by=[simple_bldg_col],\n",
    "                                          get_query_only=False)\n",
    "print(mapped_agg_query)"
   ]
  },
  {
   "cell_type": "code",
   "execution_count": 9,
   "id": "4150bb68",
   "metadata": {},
   "outputs": [
    {
     "data": {
      "text/html": [
       "<div>\n",
       "<style scoped>\n",
       "    .dataframe tbody tr th:only-of-type {\n",
       "        vertical-align: middle;\n",
       "    }\n",
       "\n",
       "    .dataframe tbody tr th {\n",
       "        vertical-align: top;\n",
       "    }\n",
       "\n",
       "    .dataframe thead th {\n",
       "        text-align: right;\n",
       "    }\n",
       "</style>\n",
       "<table border=\"1\" class=\"dataframe\">\n",
       "  <thead>\n",
       "    <tr style=\"text-align: right;\">\n",
       "      <th></th>\n",
       "      <th>build_existing_model.usage_level</th>\n",
       "    </tr>\n",
       "  </thead>\n",
       "  <tbody>\n",
       "    <tr>\n",
       "      <th>0</th>\n",
       "      <td>High</td>\n",
       "    </tr>\n",
       "    <tr>\n",
       "      <th>1</th>\n",
       "      <td>Medium</td>\n",
       "    </tr>\n",
       "    <tr>\n",
       "      <th>2</th>\n",
       "      <td>Medium</td>\n",
       "    </tr>\n",
       "    <tr>\n",
       "      <th>3</th>\n",
       "      <td>Low</td>\n",
       "    </tr>\n",
       "    <tr>\n",
       "      <th>4</th>\n",
       "      <td>Low</td>\n",
       "    </tr>\n",
       "    <tr>\n",
       "      <th>5</th>\n",
       "      <td>High</td>\n",
       "    </tr>\n",
       "    <tr>\n",
       "      <th>6</th>\n",
       "      <td>Medium</td>\n",
       "    </tr>\n",
       "    <tr>\n",
       "      <th>7</th>\n",
       "      <td>Medium</td>\n",
       "    </tr>\n",
       "    <tr>\n",
       "      <th>8</th>\n",
       "      <td>Medium</td>\n",
       "    </tr>\n",
       "    <tr>\n",
       "      <th>9</th>\n",
       "      <td>High</td>\n",
       "    </tr>\n",
       "    <tr>\n",
       "      <th>10</th>\n",
       "      <td>Medium</td>\n",
       "    </tr>\n",
       "    <tr>\n",
       "      <th>11</th>\n",
       "      <td>Low</td>\n",
       "    </tr>\n",
       "    <tr>\n",
       "      <th>12</th>\n",
       "      <td>Low</td>\n",
       "    </tr>\n",
       "    <tr>\n",
       "      <th>13</th>\n",
       "      <td>Medium</td>\n",
       "    </tr>\n",
       "    <tr>\n",
       "      <th>14</th>\n",
       "      <td>Low</td>\n",
       "    </tr>\n",
       "    <tr>\n",
       "      <th>15</th>\n",
       "      <td>Medium</td>\n",
       "    </tr>\n",
       "    <tr>\n",
       "      <th>16</th>\n",
       "      <td>High</td>\n",
       "    </tr>\n",
       "  </tbody>\n",
       "</table>\n",
       "</div>"
      ],
      "text/plain": [
       "   build_existing_model.usage_level\n",
       "0                              High\n",
       "1                            Medium\n",
       "2                            Medium\n",
       "3                               Low\n",
       "4                               Low\n",
       "5                              High\n",
       "6                            Medium\n",
       "7                            Medium\n",
       "8                            Medium\n",
       "9                              High\n",
       "10                           Medium\n",
       "11                              Low\n",
       "12                              Low\n",
       "13                           Medium\n",
       "14                              Low\n",
       "15                           Medium\n",
       "16                             High"
      ]
     },
     "execution_count": 9,
     "metadata": {},
     "output_type": "execute_result"
    }
   ],
   "source": [
    "my_run.execute(f\"\"\"select \"build_existing_model.usage_level\" from {my_run.bs_table.name}\"\"\")"
   ]
  },
  {
   "cell_type": "code",
   "execution_count": 13,
   "id": "855e1d4c",
   "metadata": {},
   "outputs": [
    {
     "name": "stdout",
     "output_type": "stream",
     "text": [
      "   sample_count  units_count  usage_weight\n",
      "0            17  139647020.0  1.380041e+08\n"
     ]
    }
   ],
   "source": [
    "usage_weight = {\"High\": 1.2, \n",
    "                    \"Medium\": 1,\n",
    "                    \"Low\": 0.8 ,\n",
    "                    \"None\": 0}\n",
    "bldg_col = my_run._get_column('build_existing_model.usage_level')\n",
    "impact_col = MappedColumn(bsq=my_run, name='usage_weight', mapping_dict=usage_weight,\n",
    "                               key=bldg_col)\n",
    "mapped_agg_query = my_run.query(enduses=[impact_col],get_query_only=False)\n",
    "print(mapped_agg_query)"
   ]
  },
  {
   "cell_type": "code",
   "execution_count": 14,
   "id": "5579f512",
   "metadata": {},
   "outputs": [
    {
     "name": "stdout",
     "output_type": "stream",
     "text": [
      "SELECT sdr_magic17_baseline.\"build_existing_model.geometry_building_type_recs\" AS geometry_building_type_recs, sum(1) AS sample_count, sum(sdr_magic17_baseline.\"build_existing_model.sample_weight\") AS units_count, sum(sdr_magic17_baseline.\"report_simulation_output.fuel_use_electricity_total_m_btu\" * sdr_magic17_baseline.\"build_existing_model.sample_weight\") AS fuel_use_electricity_total_m_btu \n",
      "FROM sdr_magic17_baseline \n",
      "WHERE sdr_magic17_baseline.completed_status = 'Success' GROUP BY 1 ORDER BY 1\n"
     ]
    }
   ],
   "source": [
    "baseline_agg_query = my_run.query(enduses=['fuel_use_electricity_total_m_btu'],\n",
    "                                       group_by=['geometry_building_type_recs'],\n",
    "                                          get_query_only=True,\n",
    "                                          )\n",
    "print(baseline_agg_query)\n",
    "\n"
   ]
  },
  {
   "cell_type": "code",
   "execution_count": 15,
   "id": "89404c1c",
   "metadata": {},
   "outputs": [
    {
     "data": {
      "text/html": [
       "<div>\n",
       "<style scoped>\n",
       "    .dataframe tbody tr th:only-of-type {\n",
       "        vertical-align: middle;\n",
       "    }\n",
       "\n",
       "    .dataframe tbody tr th {\n",
       "        vertical-align: top;\n",
       "    }\n",
       "\n",
       "    .dataframe thead th {\n",
       "        text-align: right;\n",
       "    }\n",
       "</style>\n",
       "<table border=\"1\" class=\"dataframe\">\n",
       "  <thead>\n",
       "    <tr style=\"text-align: right;\">\n",
       "      <th></th>\n",
       "      <th>geometry_building_type_recs</th>\n",
       "      <th>sample_count</th>\n",
       "      <th>units_count</th>\n",
       "      <th>fuel_use_electricity_total_m_btu</th>\n",
       "    </tr>\n",
       "  </thead>\n",
       "  <tbody>\n",
       "    <tr>\n",
       "      <th>0</th>\n",
       "      <td>Mobile Home</td>\n",
       "      <td>4</td>\n",
       "      <td>3.285812e+07</td>\n",
       "      <td>5.676734e+08</td>\n",
       "    </tr>\n",
       "    <tr>\n",
       "      <th>1</th>\n",
       "      <td>Multi-Family with 2 - 4 Units</td>\n",
       "      <td>1</td>\n",
       "      <td>8.214531e+06</td>\n",
       "      <td>1.108633e+08</td>\n",
       "    </tr>\n",
       "    <tr>\n",
       "      <th>2</th>\n",
       "      <td>Single-Family Detached</td>\n",
       "      <td>12</td>\n",
       "      <td>9.857437e+07</td>\n",
       "      <td>4.080141e+09</td>\n",
       "    </tr>\n",
       "  </tbody>\n",
       "</table>\n",
       "</div>"
      ],
      "text/plain": [
       "     geometry_building_type_recs  sample_count   units_count  \\\n",
       "0                    Mobile Home             4  3.285812e+07   \n",
       "1  Multi-Family with 2 - 4 Units             1  8.214531e+06   \n",
       "2         Single-Family Detached            12  9.857437e+07   \n",
       "\n",
       "   fuel_use_electricity_total_m_btu  \n",
       "0                      5.676734e+08  \n",
       "1                      1.108633e+08  \n",
       "2                      4.080141e+09  "
      ]
     },
     "execution_count": 15,
     "metadata": {},
     "output_type": "execute_result"
    }
   ],
   "source": [
    "baseline_agg = my_run.execute(baseline_agg_query)\n",
    "baseline_agg"
   ]
  },
  {
   "cell_type": "code",
   "execution_count": 14,
   "id": "df0688ba",
   "metadata": {},
   "outputs": [
    {
     "name": "stdout",
     "output_type": "stream",
     "text": [
      "SELECT sdr_magic17_baseline.\"build_existing_model.geometry_building_type_recs\" AS geometry_building_type_recs, sum(1) AS sample_count, sum(sdr_magic17_baseline.\"build_existing_model.sample_weight\") AS units_count, sum(sdr_magic17_baseline.\"report_simulation_output.fuel_use_natural_gas_total_m_btu\" * sdr_magic17_baseline.\"build_existing_model.sample_weight\") AS fuel_use_natural_gas_total_m_btu \n",
      "FROM sdr_magic17_baseline \n",
      "WHERE sdr_magic17_baseline.completed_status = 'Success' GROUP BY 1 ORDER BY 1\n"
     ]
    }
   ],
   "source": [
    "baseline_agg_query2 = my_run.query(enduses=['fuel_use_natural_gas_total_m_btu'],\n",
    "                                       group_by=['geometry_building_type_recs'],\n",
    "                                          get_query_only=True)\n",
    "print(baseline_agg_query2)"
   ]
  },
  {
   "cell_type": "code",
   "execution_count": null,
   "id": "4256cb11",
   "metadata": {},
   "outputs": [
    {
     "name": "stdout",
     "output_type": "stream",
     "text": [
      "1\n"
     ]
    },
    {
     "name": "stderr",
     "output_type": "stream",
     "text": [
      "INFO:buildstock_query.query_core:Submitted queries[0] (CACHED)\n"
     ]
    },
    {
     "data": {
      "text/plain": [
       "{'submitted': 0, 'running': 0, 'pending': 2, 'completed': 0, 'failed': 0}"
      ]
     },
     "execution_count": 15,
     "metadata": {},
     "output_type": "execute_result"
    },
    {
     "name": "stderr",
     "output_type": "stream",
     "text": [
      "INFO:botocore.tokens:Loading cached SSO token for nrel-sso\n",
      "INFO:buildstock_query.query_core:Submitted queries[1] (778f3a7e-3f5c-4114-8e74-1eebd2015ee4)\n"
     ]
    }
   ],
   "source": [
    "bq = my_run.submit_batch_query([baseline_agg_query, baseline_agg_query2])\n",
    "print(bq)\n",
    "my_run.get_batch_query_report(bq)"
   ]
  },
  {
   "cell_type": "code",
   "execution_count": 16,
   "id": "9dd3cb02",
   "metadata": {},
   "outputs": [
    {
     "name": "stderr",
     "output_type": "stream",
     "text": [
      "INFO:botocore.tokens:Loading cached SSO token for nrel-sso\n"
     ]
    },
    {
     "data": {
      "text/plain": [
       "{'submitted': 2, 'running': 0, 'pending': 0, 'completed': 2, 'failed': 0}"
      ]
     },
     "execution_count": 16,
     "metadata": {},
     "output_type": "execute_result"
    }
   ],
   "source": [
    "my_run.get_batch_query_report(bq)"
   ]
  },
  {
   "cell_type": "code",
   "execution_count": 17,
   "id": "68f8b5b4",
   "metadata": {},
   "outputs": [
    {
     "name": "stderr",
     "output_type": "stream",
     "text": [
      "INFO:buildstock_query.query_core:{'submitted': 2, 'running': 0, 'pending': 0, 'completed': 2, 'failed': 0}\n",
      "INFO:buildstock_query.query_core:Batch query completed. \n",
      "INFO:buildstock_query.query_core:Got result from Query [0] (CACHED)\n",
      "INFO:buildstock_query.query_core:Got result from Query [1] (778f3a7e-3f5c-4114-8e74-1eebd2015ee4)\n",
      "INFO:buildstock_query.query_core:778f3a7e-3f5c-4114-8e74-1eebd2015ee4 cost 0.0 GB ($0.0). Session total: 0.0 GB ($0.0)\n",
      "INFO:buildstock_query.query_core:Concatenating the results.\n"
     ]
    },
    {
     "data": {
      "text/html": [
       "<div>\n",
       "<style scoped>\n",
       "    .dataframe tbody tr th:only-of-type {\n",
       "        vertical-align: middle;\n",
       "    }\n",
       "\n",
       "    .dataframe tbody tr th {\n",
       "        vertical-align: top;\n",
       "    }\n",
       "\n",
       "    .dataframe thead th {\n",
       "        text-align: right;\n",
       "    }\n",
       "</style>\n",
       "<table border=\"1\" class=\"dataframe\">\n",
       "  <thead>\n",
       "    <tr style=\"text-align: right;\">\n",
       "      <th></th>\n",
       "      <th>geometry_building_type_recs</th>\n",
       "      <th>sample_count</th>\n",
       "      <th>units_count</th>\n",
       "      <th>fuel_use_electricity_total_m_btu</th>\n",
       "      <th>query_id</th>\n",
       "      <th>fuel_use_natural_gas_total_m_btu</th>\n",
       "    </tr>\n",
       "  </thead>\n",
       "  <tbody>\n",
       "    <tr>\n",
       "      <th>0</th>\n",
       "      <td>Mobile Home</td>\n",
       "      <td>4</td>\n",
       "      <td>3.285812e+07</td>\n",
       "      <td>5.676734e+08</td>\n",
       "      <td>0</td>\n",
       "      <td>NaN</td>\n",
       "    </tr>\n",
       "    <tr>\n",
       "      <th>1</th>\n",
       "      <td>Multi-Family with 2 - 4 Units</td>\n",
       "      <td>1</td>\n",
       "      <td>8.214531e+06</td>\n",
       "      <td>1.108633e+08</td>\n",
       "      <td>0</td>\n",
       "      <td>NaN</td>\n",
       "    </tr>\n",
       "    <tr>\n",
       "      <th>2</th>\n",
       "      <td>Single-Family Detached</td>\n",
       "      <td>12</td>\n",
       "      <td>9.857437e+07</td>\n",
       "      <td>4.080141e+09</td>\n",
       "      <td>0</td>\n",
       "      <td>NaN</td>\n",
       "    </tr>\n",
       "    <tr>\n",
       "      <th>0</th>\n",
       "      <td>Mobile Home</td>\n",
       "      <td>4</td>\n",
       "      <td>3.285812e+07</td>\n",
       "      <td>NaN</td>\n",
       "      <td>1</td>\n",
       "      <td>2.084026e+08</td>\n",
       "    </tr>\n",
       "    <tr>\n",
       "      <th>1</th>\n",
       "      <td>Multi-Family with 2 - 4 Units</td>\n",
       "      <td>1</td>\n",
       "      <td>8.214531e+06</td>\n",
       "      <td>NaN</td>\n",
       "      <td>1</td>\n",
       "      <td>0.000000e+00</td>\n",
       "    </tr>\n",
       "    <tr>\n",
       "      <th>2</th>\n",
       "      <td>Single-Family Detached</td>\n",
       "      <td>12</td>\n",
       "      <td>9.857437e+07</td>\n",
       "      <td>NaN</td>\n",
       "      <td>1</td>\n",
       "      <td>6.231329e+09</td>\n",
       "    </tr>\n",
       "  </tbody>\n",
       "</table>\n",
       "</div>"
      ],
      "text/plain": [
       "     geometry_building_type_recs  sample_count   units_count  \\\n",
       "0                    Mobile Home             4  3.285812e+07   \n",
       "1  Multi-Family with 2 - 4 Units             1  8.214531e+06   \n",
       "2         Single-Family Detached            12  9.857437e+07   \n",
       "0                    Mobile Home             4  3.285812e+07   \n",
       "1  Multi-Family with 2 - 4 Units             1  8.214531e+06   \n",
       "2         Single-Family Detached            12  9.857437e+07   \n",
       "\n",
       "   fuel_use_electricity_total_m_btu  query_id  \\\n",
       "0                      5.676734e+08         0   \n",
       "1                      1.108633e+08         0   \n",
       "2                      4.080141e+09         0   \n",
       "0                               NaN         1   \n",
       "1                               NaN         1   \n",
       "2                               NaN         1   \n",
       "\n",
       "   fuel_use_natural_gas_total_m_btu  \n",
       "0                               NaN  \n",
       "1                               NaN  \n",
       "2                               NaN  \n",
       "0                      2.084026e+08  \n",
       "1                      0.000000e+00  \n",
       "2                      6.231329e+09  "
      ]
     },
     "execution_count": 17,
     "metadata": {},
     "output_type": "execute_result"
    }
   ],
   "source": [
    "result_df = my_run.get_batch_query_result(bq, combine=True)\n",
    "result_df"
   ]
  },
  {
   "cell_type": "code",
   "execution_count": 18,
   "id": "eae0cd83",
   "metadata": {},
   "outputs": [
    {
     "data": {
      "text/plain": [
       "'s3://resstock-core/athena_query_results/592a38b7-daa8-435f-b2eb-34bbb2354947.csv'"
      ]
     },
     "execution_count": 18,
     "metadata": {},
     "output_type": "execute_result"
    }
   ],
   "source": [
    "query1 = my_run.query(enduses=['fuel_use_natural_gas_total_m_btu'], group_by=['state'],\n",
    "                                              get_query_only=True)\n",
    "query2 = my_run.query(enduses=['fuel_use_electricity_total_m_btu'],\n",
    "                                              group_by=['state'],\n",
    "                                              get_query_only=True)\n",
    "exe_id1, future1 = my_run.execute(query1, run_async=True)\n",
    "exe_id2, future2 = my_run.execute(query2, run_async=True)\n",
    "\n",
    "assert exe_id1 != \"CACHED\"  # Commenting this line will cause the type checker to complain on the next line\n",
    "my_run.get_query_output_location(exe_id1)"
   ]
  },
  {
   "cell_type": "code",
   "execution_count": 19,
   "id": "3f596274",
   "metadata": {},
   "outputs": [
    {
     "data": {
      "text/html": [
       "<div>\n",
       "<style scoped>\n",
       "    .dataframe tbody tr th:only-of-type {\n",
       "        vertical-align: middle;\n",
       "    }\n",
       "\n",
       "    .dataframe tbody tr th {\n",
       "        vertical-align: top;\n",
       "    }\n",
       "\n",
       "    .dataframe thead th {\n",
       "        text-align: right;\n",
       "    }\n",
       "</style>\n",
       "<table border=\"1\" class=\"dataframe\">\n",
       "  <thead>\n",
       "    <tr style=\"text-align: right;\">\n",
       "      <th></th>\n",
       "      <th>state</th>\n",
       "      <th>sample_count</th>\n",
       "      <th>units_count</th>\n",
       "      <th>fuel_use_natural_gas_total_m_btu</th>\n",
       "    </tr>\n",
       "  </thead>\n",
       "  <tbody>\n",
       "    <tr>\n",
       "      <th>0</th>\n",
       "      <td>CA</td>\n",
       "      <td>13104960</td>\n",
       "      <td>1.076511e+14</td>\n",
       "      <td>4.964261e+15</td>\n",
       "    </tr>\n",
       "    <tr>\n",
       "      <th>1</th>\n",
       "      <td>FL</td>\n",
       "      <td>26209920</td>\n",
       "      <td>2.153022e+14</td>\n",
       "      <td>9.928521e+15</td>\n",
       "    </tr>\n",
       "    <tr>\n",
       "      <th>2</th>\n",
       "      <td>IL</td>\n",
       "      <td>9530880</td>\n",
       "      <td>7.829171e+13</td>\n",
       "      <td>3.610371e+15</td>\n",
       "    </tr>\n",
       "    <tr>\n",
       "      <th>3</th>\n",
       "      <td>MD</td>\n",
       "      <td>13104960</td>\n",
       "      <td>1.076511e+14</td>\n",
       "      <td>4.964261e+15</td>\n",
       "    </tr>\n",
       "    <tr>\n",
       "      <th>4</th>\n",
       "      <td>MN</td>\n",
       "      <td>38123520</td>\n",
       "      <td>3.131668e+14</td>\n",
       "      <td>1.444149e+16</td>\n",
       "    </tr>\n",
       "    <tr>\n",
       "      <th>5</th>\n",
       "      <td>NC</td>\n",
       "      <td>26209920</td>\n",
       "      <td>2.153022e+14</td>\n",
       "      <td>9.928521e+15</td>\n",
       "    </tr>\n",
       "    <tr>\n",
       "      <th>6</th>\n",
       "      <td>NJ</td>\n",
       "      <td>39314880</td>\n",
       "      <td>3.229533e+14</td>\n",
       "      <td>1.489278e+16</td>\n",
       "    </tr>\n",
       "    <tr>\n",
       "      <th>7</th>\n",
       "      <td>OR</td>\n",
       "      <td>13104960</td>\n",
       "      <td>1.076511e+14</td>\n",
       "      <td>4.964261e+15</td>\n",
       "    </tr>\n",
       "    <tr>\n",
       "      <th>8</th>\n",
       "      <td>SD</td>\n",
       "      <td>12509280</td>\n",
       "      <td>1.027579e+14</td>\n",
       "      <td>4.738612e+15</td>\n",
       "    </tr>\n",
       "    <tr>\n",
       "      <th>9</th>\n",
       "      <td>TX</td>\n",
       "      <td>13104960</td>\n",
       "      <td>1.076511e+14</td>\n",
       "      <td>4.964261e+15</td>\n",
       "    </tr>\n",
       "    <tr>\n",
       "      <th>10</th>\n",
       "      <td>VT</td>\n",
       "      <td>9530880</td>\n",
       "      <td>7.829171e+13</td>\n",
       "      <td>3.610371e+15</td>\n",
       "    </tr>\n",
       "  </tbody>\n",
       "</table>\n",
       "</div>"
      ],
      "text/plain": [
       "   state  sample_count   units_count  fuel_use_natural_gas_total_m_btu\n",
       "0     CA      13104960  1.076511e+14                      4.964261e+15\n",
       "1     FL      26209920  2.153022e+14                      9.928521e+15\n",
       "2     IL       9530880  7.829171e+13                      3.610371e+15\n",
       "3     MD      13104960  1.076511e+14                      4.964261e+15\n",
       "4     MN      38123520  3.131668e+14                      1.444149e+16\n",
       "5     NC      26209920  2.153022e+14                      9.928521e+15\n",
       "6     NJ      39314880  3.229533e+14                      1.489278e+16\n",
       "7     OR      13104960  1.076511e+14                      4.964261e+15\n",
       "8     SD      12509280  1.027579e+14                      4.738612e+15\n",
       "9     TX      13104960  1.076511e+14                      4.964261e+15\n",
       "10    VT       9530880  7.829171e+13                      3.610371e+15"
      ]
     },
     "execution_count": 19,
     "metadata": {},
     "output_type": "execute_result"
    }
   ],
   "source": [
    "future1.as_pandas()"
   ]
  },
  {
   "cell_type": "code",
   "execution_count": 20,
   "id": "20174916",
   "metadata": {},
   "outputs": [
    {
     "data": {
      "text/plain": [
       "'SUCCEEDED'"
      ]
     },
     "execution_count": 20,
     "metadata": {},
     "output_type": "execute_result"
    }
   ],
   "source": [
    "my_run.get_query_status(ExeId(exe_id1))"
   ]
  },
  {
   "cell_type": "code",
   "execution_count": 21,
   "id": "7e7e9a80",
   "metadata": {},
   "outputs": [
    {
     "data": {
      "text/plain": [
       "[]"
      ]
     },
     "execution_count": 21,
     "metadata": {},
     "output_type": "execute_result"
    }
   ],
   "source": [
    "my_run.get_all_running_queries()"
   ]
  },
  {
   "cell_type": "code",
   "execution_count": 19,
   "id": "66cc777b",
   "metadata": {},
   "outputs": [
    {
     "name": "stderr",
     "output_type": "stream",
     "text": [
      "INFO:buildstock_query.query_core:Stopped 0 queries\n"
     ]
    }
   ],
   "source": [
    "my_run.stop_all_queries()"
   ]
  },
  {
   "cell_type": "code",
   "execution_count": 20,
   "id": "17c81ab0",
   "metadata": {},
   "outputs": [
    {
     "data": {
      "text/plain": [
       "{'ResponseMetadata': {'RequestId': '2b34fdc1-3a41-4904-b09b-6185bee959cb',\n",
       "  'HTTPStatusCode': 200,\n",
       "  'HTTPHeaders': {'date': 'Wed, 08 May 2024 22:03:02 GMT',\n",
       "   'content-type': 'application/x-amz-json-1.1',\n",
       "   'content-length': '2',\n",
       "   'connection': 'keep-alive',\n",
       "   'x-amzn-requestid': '2b34fdc1-3a41-4904-b09b-6185bee959cb'},\n",
       "  'RetryAttempts': 0}}"
      ]
     },
     "execution_count": 20,
     "metadata": {},
     "output_type": "execute_result"
    }
   ],
   "source": [
    "my_run.stop_query(ExeId(exe_id1))"
   ]
  },
  {
   "cell_type": "code",
   "execution_count": 23,
   "id": "bd4547e7",
   "metadata": {},
   "outputs": [
    {
     "name": "stdout",
     "output_type": "stream",
     "text": [
      "Will delete the following tables ['res_test_03_2018_10k_20220607_baseline', 'res_test_03_2018_10k_20220607_timeseries', 'res_test_03_2018_10k_20220607_upgrades'] and the s3:/euss/tests/res_test_03_2018_10k_20220607 folder\n",
      "Abandoned the idea.\n"
     ]
    }
   ],
   "source": [
    "my_run.delete_everything()"
   ]
  },
  {
   "cell_type": "code",
   "execution_count": 20,
   "id": "b784d674",
   "metadata": {},
   "outputs": [
    {
     "name": "stderr",
     "output_type": "stream",
     "text": [
      "INFO:buildstock_query.query_core:Loading ('baseline_20230525_baseline', 'cateory_2_20230525_timeseries', 'cateory_2_20230525_upgrades') ...\n",
      "INFO:botocore.tokens:Loading cached SSO token for nrel-sso\n",
      "INFO:buildstock_query.main:Getting Success counts...\n",
      "INFO:botocore.tokens:Loading cached SSO token for nrel-sso\n",
      "INFO:buildstock_query.report_query:Checking integrity with ts_tables ...\n"
     ]
    },
    {
     "name": "stdout",
     "output_type": "stream",
     "text": [
      "         fail  unapplicable  success   Sum  Applied %  no-chng  bad-chng  \\\n",
      "upgrade                                                                    \n",
      "0           7             0     9931  9938        0.0        0         0   \n",
      "1           0             0     9931  9931      100.0        4       149   \n",
      "2           0             0     9931  9931      100.0        3       391   \n",
      "3           0          1793     8138  9931       81.9        4        16   \n",
      "4           0           322     9609  9931       96.8      123        17   \n",
      "5           0             0     9931  9931      100.0        2       222   \n",
      "\n",
      "         ok-chng  true-bad-chng  true-ok-chng  null   any  no-chng %  \\\n",
      "upgrade                                                                \n",
      "0              0              0             0     0     0        0.0   \n",
      "1           9778            112          9815     0  9931        0.0   \n",
      "2           9537            292          9637     0  9931        0.0   \n",
      "3           8118              6          8129     0  8138        0.0   \n",
      "4           9469              7          9479     0  9609        1.3   \n",
      "5           9707             98          9832     0  9931        0.0   \n",
      "\n",
      "         bad-chng %  ok-chng %  true-ok-chng %  true-bad-chng %  \n",
      "upgrade                                                          \n",
      "0               0.0        0.0             0.0              0.0  \n",
      "1               1.5       98.5            98.8              1.1  \n",
      "2               3.9       96.0            97.0              2.9  \n",
      "3               0.2       99.8            99.9              0.1  \n",
      "4               0.2       98.5            98.6              0.1  \n",
      "5               2.2       97.7            99.0              1.0  \n",
      "\u001b[92mAnnual and timeseries tables are verified to have the same number of buildings.\u001b[0m\n"
     ]
    },
    {
     "name": "stderr",
     "output_type": "stream",
     "text": [
      "INFO:buildstock_query.query_core:12 queries cache saved to .bsq_cache/8d909ebc61709306982e1f11763d1184dfe3750c16c62b6aa305c9171b71760e_query_cache.pkl\n"
     ]
    },
    {
     "name": "stdout",
     "output_type": "stream",
     "text": [
      "\u001b[92mAll buildings are verified to have the same number of (8760) timeseries rows.\u001b[0m\n"
     ]
    }
   ],
   "source": [
    "# Mix and match: baseline from a different run from upgrades\n",
    "my_run2 = BuildStockQuery(db_name='largeee_test_runs',\n",
    "                          workgroup='largeee',\n",
    "                          table_name=(\"baseline_20230525_baseline\",\"cateory_2_20230525_timeseries\",\"cateory_2_20230525_upgrades\"),\n",
    "                          buildstock_type='resstock',\n",
    "                          skip_reports=False)\n"
   ]
  }
 ],
 "metadata": {
  "kernelspec": {
   "display_name": "buildstock-query-applied_only (3.10.18)",
   "language": "python",
   "name": "python3"
  },
  "language_info": {
   "codemirror_mode": {
    "name": "ipython",
    "version": 3
   },
   "file_extension": ".py",
   "mimetype": "text/x-python",
   "name": "python",
   "nbconvert_exporter": "python",
   "pygments_lexer": "ipython3",
   "version": "3.10.18"
  }
 },
 "nbformat": 4,
 "nbformat_minor": 5
}
