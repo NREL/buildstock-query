{
 "cells": [
  {
   "cell_type": "code",
   "execution_count": 2,
   "id": "c7608e32",
   "metadata": {},
   "outputs": [],
   "source": [
    "from buildstock_query import BuildStockQuery, ExeId, MappedColumn\n",
    "import pandas as pd\n",
    "import sqlalchemy as sa"
   ]
  },
  {
   "cell_type": "code",
   "execution_count": 3,
   "id": "98e25ebd",
   "metadata": {},
   "outputs": [
    {
     "name": "stdout",
     "output_type": "stream",
     "text": [
      "hellodf\n"
     ]
    }
   ],
   "source": [
    "print(\"hellodf\")"
   ]
  },
  {
   "cell_type": "code",
   "execution_count": 4,
   "id": "17701803",
   "metadata": {},
   "outputs": [
    {
     "name": "stderr",
     "output_type": "stream",
     "text": [
      "INFO:buildstock_query.query_core:Loading res_n250_hrly_v19 ...\n",
      "INFO:botocore.tokens:Loading cached SSO token for nrel-sso\n",
      "INFO:buildstock_query.main:Getting Success counts...\n",
      "INFO:botocore.tokens:Loading cached SSO token for nrel-sso\n",
      "INFO:buildstock_query.report_query:Checking integrity with ts_tables ...\n"
     ]
    },
    {
     "name": "stdout",
     "output_type": "stream",
     "text": [
      "         fail  unapplicable  success  Sum  Applied %  no-chng  bad-chng  \\\n",
      "upgrade                                                                   \n",
      "0          14             0      236  250        0.0        0         0   \n",
      "1           0           125      111  236       47.0        0         0   \n",
      "2          10           185       41  236       21.6        9         1   \n",
      "3           0             0      236  236      100.0        0         0   \n",
      "4           0           236        0  236        0.0        0         0   \n",
      "5         236             0        0  236      100.0        0         0   \n",
      "6           0             0      236  236      100.0        0         0   \n",
      "7          22           214        0  236        9.3        0         0   \n",
      "8           0           194       42  236       17.8        0         1   \n",
      "\n",
      "         ok-chng  true-bad-chng  true-ok-chng  null  any  no-chng %  \\\n",
      "upgrade                                                               \n",
      "0              0              0             0     0    0        0.0   \n",
      "1            111              0           111     0  111        0.0   \n",
      "2             31              1            31     0   41       22.0   \n",
      "3            236              0           236     0  236        0.0   \n",
      "4              0              0             0     0    0        NaN   \n",
      "5              0              0             0     0    0        NaN   \n",
      "6            236              0           236     0  236        0.0   \n",
      "7              0              0             0     0    0        NaN   \n",
      "8             41              1            41     0   42        0.0   \n",
      "\n",
      "         bad-chng %  ok-chng %  true-ok-chng %  true-bad-chng %  \n",
      "upgrade                                                          \n",
      "0               0.0        0.0             0.0              0.0  \n",
      "1               0.0      100.0           100.0              0.0  \n",
      "2               2.4       75.6            75.6              2.4  \n",
      "3               0.0      100.0           100.0              0.0  \n",
      "4               NaN        NaN             NaN              NaN  \n",
      "5               NaN        NaN             NaN              NaN  \n",
      "6               0.0      100.0           100.0              0.0  \n",
      "7               NaN        NaN             NaN              NaN  \n",
      "8               2.4       97.6            97.6              2.4  \n",
      "\u001b[92mAnnual and timeseries tables are verified to have the same number of buildings.\u001b[0m\n"
     ]
    },
    {
     "name": "stderr",
     "output_type": "stream",
     "text": [
      "INFO:buildstock_query.query_core:12 queries cache saved to .bsq_cache/res_n250_hrly_v19_query_cache.pkl\n"
     ]
    },
    {
     "name": "stdout",
     "output_type": "stream",
     "text": [
      "\u001b[92mAll buildings are verified to have the same number of (8760) timeseries rows.\u001b[0m\n"
     ]
    }
   ],
   "source": [
    "my_run = BuildStockQuery(db_name='buildstock_testing',\n",
    "                        table_name='res_n250_hrly_v19',\n",
    "                        workgroup='eulp',\n",
    "                        buildstock_type='resstock',\n",
    "                        skip_reports=False)"
   ]
  },
  {
   "cell_type": "code",
   "execution_count": 5,
   "id": "940c01be",
   "metadata": {},
   "outputs": [
    {
     "data": {
      "text/plain": [
       "'SELECT res_n250_hrly_v19_baseline.building_id \\nFROM res_n250_hrly_v19_baseline'"
      ]
     },
     "execution_count": 5,
     "metadata": {},
     "output_type": "execute_result"
    }
   ],
   "source": [
    "query = my_run.get_building_ids(get_query_only=True)\n",
    "query"
   ]
  },
  {
   "cell_type": "code",
   "execution_count": 6,
   "id": "afb0bdf2",
   "metadata": {},
   "outputs": [
    {
     "name": "stdout",
     "output_type": "stream",
     "text": [
      "  simple_bldg_type  sample_count  units_count  \\\n",
      "0               MF            30     0.000056   \n",
      "1               SF           206     0.000387   \n",
      "\n",
      "   fuel_use_electricity_total_m_btu  \n",
      "0                          0.001084  \n",
      "1                          0.012372  \n"
     ]
    }
   ],
   "source": [
    "building_type_map = {\"Mobile Home\": \"MH\", \"Single-Family Detached\": \"SF\",\n",
    "                     \"Single-Family Attached\": \"SF\", \"Multi-Family with 2 - 4 Units\": \"MF\",\n",
    "                     \"Multi-Family with 5+ Units\": \"MF\",}\n",
    "bldg_col = my_run._get_column('build_existing_model.geometry_building_type_recs')\n",
    "simple_bldg_col = MappedColumn(bsq=my_run, name='simple_bldg_type', mapping_dict=building_type_map,\n",
    "                               key=bldg_col)\n",
    "mapped_agg_query = my_run.agg.aggregate_annual(enduses=['fuel_use_electricity_total_m_btu'],\n",
    "                                       group_by=[simple_bldg_col],\n",
    "                                          get_query_only=False)\n",
    "print(mapped_agg_query)"
   ]
  },
  {
   "cell_type": "code",
   "execution_count": 7,
   "id": "855e1d4c",
   "metadata": {},
   "outputs": [
    {
     "name": "stdout",
     "output_type": "stream",
     "text": [
      "   sample_count  units_count  dryer_impact\n",
      "0           236     0.000443       0.00021\n"
     ]
    }
   ],
   "source": [
    "dryer_co2_impact = {\"Gas, 120% Usage\": 1.2 * 1.5, \n",
    "                    \"Gas, 100% Usage\": 1 * 1.5,\n",
    "                    \"Gas, 80% Usage\": 0.8 * 1.5,\n",
    "                    \"Electric, 120% Usage\": 1.2 * 0.5,\n",
    "                    \"Electric 100% Usage\": 1 * 0.5,\n",
    "                    \"Electric 80% Usage\": 0.8 * 0.5,\n",
    "                    \"None\": 0}\n",
    "bldg_col = my_run._get_column('build_existing_model.clothes_dryer')\n",
    "impact_col = MappedColumn(bsq=my_run, name='dryer_impact', mapping_dict=dryer_co2_impact,\n",
    "                               key=bldg_col)\n",
    "mapped_agg_query = my_run.agg.aggregate_annual(enduses=[impact_col],\n",
    "                                               get_query_only=False)\n",
    "print(mapped_agg_query)"
   ]
  },
  {
   "cell_type": "code",
   "execution_count": 8,
   "id": "5579f512",
   "metadata": {},
   "outputs": [
    {
     "name": "stdout",
     "output_type": "stream",
     "text": [
      "SELECT res_n250_hrly_v19_baseline.\"build_existing_model.geometry_building_type_recs\" AS geometry_building_type_recs, sum(1) AS sample_count, sum(res_n250_hrly_v19_baseline.\"build_existing_model.sample_weight\") AS units_count, sum(res_n250_hrly_v19_baseline.\"report_simulation_output.fuel_use_electricity_total_m_btu\" * res_n250_hrly_v19_baseline.\"build_existing_model.sample_weight\") AS fuel_use_electricity_total_m_btu \n",
      "FROM res_n250_hrly_v19_baseline \n",
      "WHERE res_n250_hrly_v19_baseline.completed_status = 'Success' GROUP BY 1 ORDER BY 1\n"
     ]
    }
   ],
   "source": [
    "baseline_agg_query = my_run.agg.aggregate_annual(enduses=['fuel_use_electricity_total_m_btu'],\n",
    "                                       group_by=['geometry_building_type_recs'],\n",
    "                                          get_query_only=True,\n",
    "                                          )\n",
    "print(baseline_agg_query)\n",
    "\n"
   ]
  },
  {
   "cell_type": "code",
   "execution_count": 10,
   "id": "89404c1c",
   "metadata": {},
   "outputs": [
    {
     "data": {
      "text/html": [
       "<div>\n",
       "<style scoped>\n",
       "    .dataframe tbody tr th:only-of-type {\n",
       "        vertical-align: middle;\n",
       "    }\n",
       "\n",
       "    .dataframe tbody tr th {\n",
       "        vertical-align: top;\n",
       "    }\n",
       "\n",
       "    .dataframe thead th {\n",
       "        text-align: right;\n",
       "    }\n",
       "</style>\n",
       "<table border=\"1\" class=\"dataframe\">\n",
       "  <thead>\n",
       "    <tr style=\"text-align: right;\">\n",
       "      <th></th>\n",
       "      <th>geometry_building_type_recs</th>\n",
       "      <th>sample_count</th>\n",
       "      <th>units_count</th>\n",
       "      <th>fuel_use_electricity_total_m_btu</th>\n",
       "    </tr>\n",
       "  </thead>\n",
       "  <tbody>\n",
       "    <tr>\n",
       "      <th>0</th>\n",
       "      <td>Multi-Family with 2 - 4 Units</td>\n",
       "      <td>6</td>\n",
       "      <td>0.000011</td>\n",
       "      <td>0.000219</td>\n",
       "    </tr>\n",
       "    <tr>\n",
       "      <th>1</th>\n",
       "      <td>Multi-Family with 5+ Units</td>\n",
       "      <td>24</td>\n",
       "      <td>0.000045</td>\n",
       "      <td>0.000864</td>\n",
       "    </tr>\n",
       "    <tr>\n",
       "      <th>2</th>\n",
       "      <td>Single-Family Attached</td>\n",
       "      <td>3</td>\n",
       "      <td>0.000006</td>\n",
       "      <td>0.000114</td>\n",
       "    </tr>\n",
       "    <tr>\n",
       "      <th>3</th>\n",
       "      <td>Single-Family Detached</td>\n",
       "      <td>203</td>\n",
       "      <td>0.000381</td>\n",
       "      <td>0.012258</td>\n",
       "    </tr>\n",
       "  </tbody>\n",
       "</table>\n",
       "</div>"
      ],
      "text/plain": [
       "     geometry_building_type_recs  sample_count  units_count  \\\n",
       "0  Multi-Family with 2 - 4 Units             6     0.000011   \n",
       "1     Multi-Family with 5+ Units            24     0.000045   \n",
       "2         Single-Family Attached             3     0.000006   \n",
       "3         Single-Family Detached           203     0.000381   \n",
       "\n",
       "   fuel_use_electricity_total_m_btu  \n",
       "0                          0.000219  \n",
       "1                          0.000864  \n",
       "2                          0.000114  \n",
       "3                          0.012258  "
      ]
     },
     "execution_count": 10,
     "metadata": {},
     "output_type": "execute_result"
    }
   ],
   "source": [
    "baseline_agg = my_run.execute(baseline_agg_query)\n",
    "baseline_agg"
   ]
  },
  {
   "cell_type": "code",
   "execution_count": 11,
   "id": "df0688ba",
   "metadata": {},
   "outputs": [
    {
     "name": "stdout",
     "output_type": "stream",
     "text": [
      "SELECT res_n250_hrly_v19_baseline.\"build_existing_model.geometry_building_type_recs\" AS geometry_building_type_recs, sum(1) AS sample_count, sum(res_n250_hrly_v19_baseline.\"build_existing_model.sample_weight\") AS units_count, sum(res_n250_hrly_v19_baseline.\"report_simulation_output.fuel_use_natural_gas_total_m_btu\" * res_n250_hrly_v19_baseline.\"build_existing_model.sample_weight\") AS fuel_use_natural_gas_total_m_btu \n",
      "FROM res_n250_hrly_v19_baseline \n",
      "WHERE res_n250_hrly_v19_baseline.completed_status = 'Success' GROUP BY 1 ORDER BY 1\n"
     ]
    }
   ],
   "source": [
    "baseline_agg_query2 = my_run.agg.aggregate_annual(enduses=['fuel_use_natural_gas_total_m_btu'],\n",
    "                                       group_by=['geometry_building_type_recs'],\n",
    "                                          get_query_only=True)\n",
    "print(baseline_agg_query2)"
   ]
  },
  {
   "cell_type": "code",
   "execution_count": 12,
   "id": "4256cb11",
   "metadata": {},
   "outputs": [
    {
     "name": "stdout",
     "output_type": "stream",
     "text": [
      "1\n"
     ]
    },
    {
     "name": "stderr",
     "output_type": "stream",
     "text": [
      "INFO:buildstock_query.query_core:Submitted queries[0] (CACHED)\n"
     ]
    },
    {
     "data": {
      "text/plain": [
       "{'submitted': 0, 'running': 0, 'pending': 2, 'completed': 0, 'failed': 0}"
      ]
     },
     "execution_count": 12,
     "metadata": {},
     "output_type": "execute_result"
    },
    {
     "name": "stderr",
     "output_type": "stream",
     "text": [
      "INFO:botocore.tokens:Loading cached SSO token for nrel-sso\n",
      "INFO:buildstock_query.query_core:Submitted queries[1] (0ed33622-989f-44e5-b590-32493f804c37)\n"
     ]
    }
   ],
   "source": [
    "bq = my_run.submit_batch_query([baseline_agg_query, baseline_agg_query2])\n",
    "print(bq)\n",
    "my_run.get_batch_query_report(bq)"
   ]
  },
  {
   "cell_type": "code",
   "execution_count": 13,
   "id": "9dd3cb02",
   "metadata": {},
   "outputs": [
    {
     "name": "stderr",
     "output_type": "stream",
     "text": [
      "INFO:botocore.tokens:Loading cached SSO token for nrel-sso\n"
     ]
    },
    {
     "data": {
      "text/plain": [
       "{'submitted': 2, 'running': 0, 'pending': 0, 'completed': 2, 'failed': 0}"
      ]
     },
     "execution_count": 13,
     "metadata": {},
     "output_type": "execute_result"
    }
   ],
   "source": [
    "my_run.get_batch_query_report(bq)"
   ]
  },
  {
   "cell_type": "code",
   "execution_count": 14,
   "id": "68f8b5b4",
   "metadata": {},
   "outputs": [
    {
     "name": "stderr",
     "output_type": "stream",
     "text": [
      "INFO:buildstock_query.query_core:{'submitted': 2, 'running': 0, 'pending': 0, 'completed': 2, 'failed': 0}\n",
      "INFO:buildstock_query.query_core:Batch query completed. \n",
      "INFO:buildstock_query.query_core:Got result from Query [0] (CACHED)\n",
      "INFO:buildstock_query.query_core:Got result from Query [1] (0ed33622-989f-44e5-b590-32493f804c37)\n",
      "INFO:buildstock_query.query_core:0ed33622-989f-44e5-b590-32493f804c37 cost 0.0 GB ($0.0). Session total: 0.0 GB ($0.0)\n",
      "INFO:buildstock_query.query_core:Concatenating the results.\n"
     ]
    },
    {
     "data": {
      "text/html": [
       "<div>\n",
       "<style scoped>\n",
       "    .dataframe tbody tr th:only-of-type {\n",
       "        vertical-align: middle;\n",
       "    }\n",
       "\n",
       "    .dataframe tbody tr th {\n",
       "        vertical-align: top;\n",
       "    }\n",
       "\n",
       "    .dataframe thead th {\n",
       "        text-align: right;\n",
       "    }\n",
       "</style>\n",
       "<table border=\"1\" class=\"dataframe\">\n",
       "  <thead>\n",
       "    <tr style=\"text-align: right;\">\n",
       "      <th></th>\n",
       "      <th>geometry_building_type_recs</th>\n",
       "      <th>sample_count</th>\n",
       "      <th>units_count</th>\n",
       "      <th>fuel_use_electricity_total_m_btu</th>\n",
       "      <th>query_id</th>\n",
       "      <th>fuel_use_natural_gas_total_m_btu</th>\n",
       "    </tr>\n",
       "  </thead>\n",
       "  <tbody>\n",
       "    <tr>\n",
       "      <th>0</th>\n",
       "      <td>Multi-Family with 2 - 4 Units</td>\n",
       "      <td>6</td>\n",
       "      <td>0.000011</td>\n",
       "      <td>0.000219</td>\n",
       "      <td>0</td>\n",
       "      <td>NaN</td>\n",
       "    </tr>\n",
       "    <tr>\n",
       "      <th>1</th>\n",
       "      <td>Multi-Family with 5+ Units</td>\n",
       "      <td>24</td>\n",
       "      <td>0.000045</td>\n",
       "      <td>0.000864</td>\n",
       "      <td>0</td>\n",
       "      <td>NaN</td>\n",
       "    </tr>\n",
       "    <tr>\n",
       "      <th>2</th>\n",
       "      <td>Single-Family Attached</td>\n",
       "      <td>3</td>\n",
       "      <td>0.000006</td>\n",
       "      <td>0.000114</td>\n",
       "      <td>0</td>\n",
       "      <td>NaN</td>\n",
       "    </tr>\n",
       "    <tr>\n",
       "      <th>3</th>\n",
       "      <td>Single-Family Detached</td>\n",
       "      <td>203</td>\n",
       "      <td>0.000381</td>\n",
       "      <td>0.012258</td>\n",
       "      <td>0</td>\n",
       "      <td>NaN</td>\n",
       "    </tr>\n",
       "    <tr>\n",
       "      <th>0</th>\n",
       "      <td>Multi-Family with 2 - 4 Units</td>\n",
       "      <td>6</td>\n",
       "      <td>0.000011</td>\n",
       "      <td>NaN</td>\n",
       "      <td>1</td>\n",
       "      <td>0.001069</td>\n",
       "    </tr>\n",
       "    <tr>\n",
       "      <th>1</th>\n",
       "      <td>Multi-Family with 5+ Units</td>\n",
       "      <td>24</td>\n",
       "      <td>0.000045</td>\n",
       "      <td>NaN</td>\n",
       "      <td>1</td>\n",
       "      <td>0.000719</td>\n",
       "    </tr>\n",
       "    <tr>\n",
       "      <th>2</th>\n",
       "      <td>Single-Family Attached</td>\n",
       "      <td>3</td>\n",
       "      <td>0.000006</td>\n",
       "      <td>NaN</td>\n",
       "      <td>1</td>\n",
       "      <td>0.000373</td>\n",
       "    </tr>\n",
       "    <tr>\n",
       "      <th>3</th>\n",
       "      <td>Single-Family Detached</td>\n",
       "      <td>203</td>\n",
       "      <td>0.000381</td>\n",
       "      <td>NaN</td>\n",
       "      <td>1</td>\n",
       "      <td>0.027768</td>\n",
       "    </tr>\n",
       "  </tbody>\n",
       "</table>\n",
       "</div>"
      ],
      "text/plain": [
       "     geometry_building_type_recs  sample_count  units_count  \\\n",
       "0  Multi-Family with 2 - 4 Units             6     0.000011   \n",
       "1     Multi-Family with 5+ Units            24     0.000045   \n",
       "2         Single-Family Attached             3     0.000006   \n",
       "3         Single-Family Detached           203     0.000381   \n",
       "0  Multi-Family with 2 - 4 Units             6     0.000011   \n",
       "1     Multi-Family with 5+ Units            24     0.000045   \n",
       "2         Single-Family Attached             3     0.000006   \n",
       "3         Single-Family Detached           203     0.000381   \n",
       "\n",
       "   fuel_use_electricity_total_m_btu  query_id  \\\n",
       "0                          0.000219         0   \n",
       "1                          0.000864         0   \n",
       "2                          0.000114         0   \n",
       "3                          0.012258         0   \n",
       "0                               NaN         1   \n",
       "1                               NaN         1   \n",
       "2                               NaN         1   \n",
       "3                               NaN         1   \n",
       "\n",
       "   fuel_use_natural_gas_total_m_btu  \n",
       "0                               NaN  \n",
       "1                               NaN  \n",
       "2                               NaN  \n",
       "3                               NaN  \n",
       "0                          0.001069  \n",
       "1                          0.000719  \n",
       "2                          0.000373  \n",
       "3                          0.027768  "
      ]
     },
     "execution_count": 14,
     "metadata": {},
     "output_type": "execute_result"
    }
   ],
   "source": [
    "result_df = my_run.get_batch_query_result(bq, combine=True)\n",
    "result_df"
   ]
  },
  {
   "cell_type": "code",
   "execution_count": 15,
   "id": "eae0cd83",
   "metadata": {},
   "outputs": [
    {
     "data": {
      "text/plain": [
       "'s3://eulp/athena_query_results/cc974c2f-98fd-4657-bc21-45663f30beb3.csv'"
      ]
     },
     "execution_count": 15,
     "metadata": {},
     "output_type": "execute_result"
    }
   ],
   "source": [
    "query1 = my_run.agg.aggregate_annual(enduses=['fuel_use_natural_gas_total_m_btu'], group_by=['state'],\n",
    "                                              get_query_only=True)\n",
    "query2 = my_run.agg.aggregate_annual(enduses=['fuel_use_electricity_total_m_btu'],\n",
    "                                              group_by=['state'],\n",
    "                                              get_query_only=True)\n",
    "exe_id1, future1 = my_run.execute(query1, run_async=True)\n",
    "exe_id2, future2 = my_run.execute(query2, run_async=True)\n",
    "\n",
    "assert exe_id1 != \"CACHED\"  # Commenting this line will cause the type checker to complain on the next line\n",
    "my_run.get_query_output_location(exe_id1)"
   ]
  },
  {
   "cell_type": "code",
   "execution_count": 16,
   "id": "3f596274",
   "metadata": {},
   "outputs": [
    {
     "data": {
      "text/html": [
       "<div>\n",
       "<style scoped>\n",
       "    .dataframe tbody tr th:only-of-type {\n",
       "        vertical-align: middle;\n",
       "    }\n",
       "\n",
       "    .dataframe tbody tr th {\n",
       "        vertical-align: top;\n",
       "    }\n",
       "\n",
       "    .dataframe thead th {\n",
       "        text-align: right;\n",
       "    }\n",
       "</style>\n",
       "<table border=\"1\" class=\"dataframe\">\n",
       "  <thead>\n",
       "    <tr style=\"text-align: right;\">\n",
       "      <th></th>\n",
       "      <th>state</th>\n",
       "      <th>sample_count</th>\n",
       "      <th>units_count</th>\n",
       "      <th>fuel_use_natural_gas_total_m_btu</th>\n",
       "    </tr>\n",
       "  </thead>\n",
       "  <tbody>\n",
       "    <tr>\n",
       "      <th>0</th>\n",
       "      <td>AL</td>\n",
       "      <td>2</td>\n",
       "      <td>0.000004</td>\n",
       "      <td>0.000074</td>\n",
       "    </tr>\n",
       "    <tr>\n",
       "      <th>1</th>\n",
       "      <td>AR</td>\n",
       "      <td>1</td>\n",
       "      <td>0.000002</td>\n",
       "      <td>0.000065</td>\n",
       "    </tr>\n",
       "    <tr>\n",
       "      <th>2</th>\n",
       "      <td>AZ</td>\n",
       "      <td>6</td>\n",
       "      <td>0.000011</td>\n",
       "      <td>0.000107</td>\n",
       "    </tr>\n",
       "    <tr>\n",
       "      <th>3</th>\n",
       "      <td>CA</td>\n",
       "      <td>23</td>\n",
       "      <td>0.000043</td>\n",
       "      <td>0.001449</td>\n",
       "    </tr>\n",
       "    <tr>\n",
       "      <th>4</th>\n",
       "      <td>CO</td>\n",
       "      <td>4</td>\n",
       "      <td>0.000008</td>\n",
       "      <td>0.000704</td>\n",
       "    </tr>\n",
       "    <tr>\n",
       "      <th>5</th>\n",
       "      <td>CT</td>\n",
       "      <td>3</td>\n",
       "      <td>0.000006</td>\n",
       "      <td>0.000296</td>\n",
       "    </tr>\n",
       "    <tr>\n",
       "      <th>6</th>\n",
       "      <td>DC</td>\n",
       "      <td>1</td>\n",
       "      <td>0.000002</td>\n",
       "      <td>0.000000</td>\n",
       "    </tr>\n",
       "    <tr>\n",
       "      <th>7</th>\n",
       "      <td>DE</td>\n",
       "      <td>1</td>\n",
       "      <td>0.000002</td>\n",
       "      <td>0.000267</td>\n",
       "    </tr>\n",
       "    <tr>\n",
       "      <th>8</th>\n",
       "      <td>FL</td>\n",
       "      <td>18</td>\n",
       "      <td>0.000034</td>\n",
       "      <td>0.000110</td>\n",
       "    </tr>\n",
       "    <tr>\n",
       "      <th>9</th>\n",
       "      <td>GA</td>\n",
       "      <td>5</td>\n",
       "      <td>0.000009</td>\n",
       "      <td>0.000410</td>\n",
       "    </tr>\n",
       "    <tr>\n",
       "      <th>10</th>\n",
       "      <td>IA</td>\n",
       "      <td>1</td>\n",
       "      <td>0.000002</td>\n",
       "      <td>0.000284</td>\n",
       "    </tr>\n",
       "    <tr>\n",
       "      <th>11</th>\n",
       "      <td>ID</td>\n",
       "      <td>1</td>\n",
       "      <td>0.000002</td>\n",
       "      <td>0.000129</td>\n",
       "    </tr>\n",
       "    <tr>\n",
       "      <th>12</th>\n",
       "      <td>IL</td>\n",
       "      <td>11</td>\n",
       "      <td>0.000021</td>\n",
       "      <td>0.001603</td>\n",
       "    </tr>\n",
       "    <tr>\n",
       "      <th>13</th>\n",
       "      <td>IN</td>\n",
       "      <td>2</td>\n",
       "      <td>0.000004</td>\n",
       "      <td>0.000514</td>\n",
       "    </tr>\n",
       "    <tr>\n",
       "      <th>14</th>\n",
       "      <td>KS</td>\n",
       "      <td>2</td>\n",
       "      <td>0.000004</td>\n",
       "      <td>0.000334</td>\n",
       "    </tr>\n",
       "    <tr>\n",
       "      <th>15</th>\n",
       "      <td>KY</td>\n",
       "      <td>1</td>\n",
       "      <td>0.000002</td>\n",
       "      <td>0.000140</td>\n",
       "    </tr>\n",
       "    <tr>\n",
       "      <th>16</th>\n",
       "      <td>LA</td>\n",
       "      <td>4</td>\n",
       "      <td>0.000008</td>\n",
       "      <td>0.000437</td>\n",
       "    </tr>\n",
       "    <tr>\n",
       "      <th>17</th>\n",
       "      <td>MA</td>\n",
       "      <td>10</td>\n",
       "      <td>0.000019</td>\n",
       "      <td>0.001640</td>\n",
       "    </tr>\n",
       "    <tr>\n",
       "      <th>18</th>\n",
       "      <td>MD</td>\n",
       "      <td>5</td>\n",
       "      <td>0.000009</td>\n",
       "      <td>0.000765</td>\n",
       "    </tr>\n",
       "    <tr>\n",
       "      <th>19</th>\n",
       "      <td>ME</td>\n",
       "      <td>2</td>\n",
       "      <td>0.000004</td>\n",
       "      <td>0.000028</td>\n",
       "    </tr>\n",
       "    <tr>\n",
       "      <th>20</th>\n",
       "      <td>MI</td>\n",
       "      <td>8</td>\n",
       "      <td>0.000015</td>\n",
       "      <td>0.002145</td>\n",
       "    </tr>\n",
       "    <tr>\n",
       "      <th>21</th>\n",
       "      <td>MN</td>\n",
       "      <td>7</td>\n",
       "      <td>0.000013</td>\n",
       "      <td>0.002592</td>\n",
       "    </tr>\n",
       "    <tr>\n",
       "      <th>22</th>\n",
       "      <td>MO</td>\n",
       "      <td>3</td>\n",
       "      <td>0.000006</td>\n",
       "      <td>0.000688</td>\n",
       "    </tr>\n",
       "    <tr>\n",
       "      <th>23</th>\n",
       "      <td>MT</td>\n",
       "      <td>2</td>\n",
       "      <td>0.000004</td>\n",
       "      <td>0.000287</td>\n",
       "    </tr>\n",
       "    <tr>\n",
       "      <th>24</th>\n",
       "      <td>NC</td>\n",
       "      <td>5</td>\n",
       "      <td>0.000009</td>\n",
       "      <td>0.000371</td>\n",
       "    </tr>\n",
       "    <tr>\n",
       "      <th>25</th>\n",
       "      <td>ND</td>\n",
       "      <td>1</td>\n",
       "      <td>0.000002</td>\n",
       "      <td>0.000179</td>\n",
       "    </tr>\n",
       "    <tr>\n",
       "      <th>26</th>\n",
       "      <td>NE</td>\n",
       "      <td>1</td>\n",
       "      <td>0.000002</td>\n",
       "      <td>0.000192</td>\n",
       "    </tr>\n",
       "    <tr>\n",
       "      <th>27</th>\n",
       "      <td>NH</td>\n",
       "      <td>1</td>\n",
       "      <td>0.000002</td>\n",
       "      <td>0.000164</td>\n",
       "    </tr>\n",
       "    <tr>\n",
       "      <th>28</th>\n",
       "      <td>NJ</td>\n",
       "      <td>11</td>\n",
       "      <td>0.000021</td>\n",
       "      <td>0.001999</td>\n",
       "    </tr>\n",
       "    <tr>\n",
       "      <th>29</th>\n",
       "      <td>NM</td>\n",
       "      <td>1</td>\n",
       "      <td>0.000002</td>\n",
       "      <td>0.000102</td>\n",
       "    </tr>\n",
       "    <tr>\n",
       "      <th>30</th>\n",
       "      <td>NV</td>\n",
       "      <td>3</td>\n",
       "      <td>0.000006</td>\n",
       "      <td>0.000188</td>\n",
       "    </tr>\n",
       "    <tr>\n",
       "      <th>31</th>\n",
       "      <td>NY</td>\n",
       "      <td>21</td>\n",
       "      <td>0.000039</td>\n",
       "      <td>0.002663</td>\n",
       "    </tr>\n",
       "    <tr>\n",
       "      <th>32</th>\n",
       "      <td>OH</td>\n",
       "      <td>9</td>\n",
       "      <td>0.000017</td>\n",
       "      <td>0.002766</td>\n",
       "    </tr>\n",
       "    <tr>\n",
       "      <th>33</th>\n",
       "      <td>OK</td>\n",
       "      <td>3</td>\n",
       "      <td>0.000006</td>\n",
       "      <td>0.000370</td>\n",
       "    </tr>\n",
       "    <tr>\n",
       "      <th>34</th>\n",
       "      <td>OR</td>\n",
       "      <td>2</td>\n",
       "      <td>0.000004</td>\n",
       "      <td>0.000337</td>\n",
       "    </tr>\n",
       "    <tr>\n",
       "      <th>35</th>\n",
       "      <td>PA</td>\n",
       "      <td>12</td>\n",
       "      <td>0.000023</td>\n",
       "      <td>0.001595</td>\n",
       "    </tr>\n",
       "    <tr>\n",
       "      <th>36</th>\n",
       "      <td>RI</td>\n",
       "      <td>1</td>\n",
       "      <td>0.000002</td>\n",
       "      <td>0.000203</td>\n",
       "    </tr>\n",
       "    <tr>\n",
       "      <th>37</th>\n",
       "      <td>SC</td>\n",
       "      <td>6</td>\n",
       "      <td>0.000011</td>\n",
       "      <td>0.000091</td>\n",
       "    </tr>\n",
       "    <tr>\n",
       "      <th>38</th>\n",
       "      <td>TN</td>\n",
       "      <td>5</td>\n",
       "      <td>0.000009</td>\n",
       "      <td>0.000342</td>\n",
       "    </tr>\n",
       "    <tr>\n",
       "      <th>39</th>\n",
       "      <td>TX</td>\n",
       "      <td>18</td>\n",
       "      <td>0.000034</td>\n",
       "      <td>0.000844</td>\n",
       "    </tr>\n",
       "    <tr>\n",
       "      <th>40</th>\n",
       "      <td>UT</td>\n",
       "      <td>2</td>\n",
       "      <td>0.000004</td>\n",
       "      <td>0.000441</td>\n",
       "    </tr>\n",
       "    <tr>\n",
       "      <th>41</th>\n",
       "      <td>WA</td>\n",
       "      <td>6</td>\n",
       "      <td>0.000011</td>\n",
       "      <td>0.000880</td>\n",
       "    </tr>\n",
       "    <tr>\n",
       "      <th>42</th>\n",
       "      <td>WI</td>\n",
       "      <td>5</td>\n",
       "      <td>0.000009</td>\n",
       "      <td>0.001135</td>\n",
       "    </tr>\n",
       "  </tbody>\n",
       "</table>\n",
       "</div>"
      ],
      "text/plain": [
       "   state  sample_count  units_count  fuel_use_natural_gas_total_m_btu\n",
       "0     AL             2     0.000004                          0.000074\n",
       "1     AR             1     0.000002                          0.000065\n",
       "2     AZ             6     0.000011                          0.000107\n",
       "3     CA            23     0.000043                          0.001449\n",
       "4     CO             4     0.000008                          0.000704\n",
       "5     CT             3     0.000006                          0.000296\n",
       "6     DC             1     0.000002                          0.000000\n",
       "7     DE             1     0.000002                          0.000267\n",
       "8     FL            18     0.000034                          0.000110\n",
       "9     GA             5     0.000009                          0.000410\n",
       "10    IA             1     0.000002                          0.000284\n",
       "11    ID             1     0.000002                          0.000129\n",
       "12    IL            11     0.000021                          0.001603\n",
       "13    IN             2     0.000004                          0.000514\n",
       "14    KS             2     0.000004                          0.000334\n",
       "15    KY             1     0.000002                          0.000140\n",
       "16    LA             4     0.000008                          0.000437\n",
       "17    MA            10     0.000019                          0.001640\n",
       "18    MD             5     0.000009                          0.000765\n",
       "19    ME             2     0.000004                          0.000028\n",
       "20    MI             8     0.000015                          0.002145\n",
       "21    MN             7     0.000013                          0.002592\n",
       "22    MO             3     0.000006                          0.000688\n",
       "23    MT             2     0.000004                          0.000287\n",
       "24    NC             5     0.000009                          0.000371\n",
       "25    ND             1     0.000002                          0.000179\n",
       "26    NE             1     0.000002                          0.000192\n",
       "27    NH             1     0.000002                          0.000164\n",
       "28    NJ            11     0.000021                          0.001999\n",
       "29    NM             1     0.000002                          0.000102\n",
       "30    NV             3     0.000006                          0.000188\n",
       "31    NY            21     0.000039                          0.002663\n",
       "32    OH             9     0.000017                          0.002766\n",
       "33    OK             3     0.000006                          0.000370\n",
       "34    OR             2     0.000004                          0.000337\n",
       "35    PA            12     0.000023                          0.001595\n",
       "36    RI             1     0.000002                          0.000203\n",
       "37    SC             6     0.000011                          0.000091\n",
       "38    TN             5     0.000009                          0.000342\n",
       "39    TX            18     0.000034                          0.000844\n",
       "40    UT             2     0.000004                          0.000441\n",
       "41    WA             6     0.000011                          0.000880\n",
       "42    WI             5     0.000009                          0.001135"
      ]
     },
     "execution_count": 16,
     "metadata": {},
     "output_type": "execute_result"
    }
   ],
   "source": [
    "future1.as_pandas()"
   ]
  },
  {
   "cell_type": "code",
   "execution_count": 17,
   "id": "20174916",
   "metadata": {},
   "outputs": [
    {
     "data": {
      "text/plain": [
       "'SUCCEEDED'"
      ]
     },
     "execution_count": 17,
     "metadata": {},
     "output_type": "execute_result"
    }
   ],
   "source": [
    "my_run.get_query_status(ExeId(exe_id1))"
   ]
  },
  {
   "cell_type": "code",
   "execution_count": 17,
   "id": "64be07ec",
   "metadata": {},
   "outputs": [],
   "source": [
    "# my_run.get_athena_query_result(exe_id1)\n"
   ]
  },
  {
   "cell_type": "code",
   "execution_count": 18,
   "id": "7e7e9a80",
   "metadata": {},
   "outputs": [
    {
     "data": {
      "text/plain": [
       "[]"
      ]
     },
     "execution_count": 18,
     "metadata": {},
     "output_type": "execute_result"
    }
   ],
   "source": [
    "my_run.get_all_running_queries()"
   ]
  },
  {
   "cell_type": "code",
   "execution_count": 19,
   "id": "66cc777b",
   "metadata": {},
   "outputs": [
    {
     "name": "stderr",
     "output_type": "stream",
     "text": [
      "INFO:buildstock_query.query_core:Stopped 0 queries\n"
     ]
    }
   ],
   "source": [
    "my_run.stop_all_queries()"
   ]
  },
  {
   "cell_type": "code",
   "execution_count": 20,
   "id": "17c81ab0",
   "metadata": {},
   "outputs": [
    {
     "data": {
      "text/plain": [
       "{'ResponseMetadata': {'RequestId': '2b34fdc1-3a41-4904-b09b-6185bee959cb',\n",
       "  'HTTPStatusCode': 200,\n",
       "  'HTTPHeaders': {'date': 'Wed, 08 May 2024 22:03:02 GMT',\n",
       "   'content-type': 'application/x-amz-json-1.1',\n",
       "   'content-length': '2',\n",
       "   'connection': 'keep-alive',\n",
       "   'x-amzn-requestid': '2b34fdc1-3a41-4904-b09b-6185bee959cb'},\n",
       "  'RetryAttempts': 0}}"
      ]
     },
     "execution_count": 20,
     "metadata": {},
     "output_type": "execute_result"
    }
   ],
   "source": [
    "my_run.stop_query(ExeId(exe_id1))"
   ]
  },
  {
   "cell_type": "code",
   "execution_count": 23,
   "id": "bd4547e7",
   "metadata": {},
   "outputs": [
    {
     "name": "stdout",
     "output_type": "stream",
     "text": [
      "Will delete the following tables ['res_test_03_2018_10k_20220607_baseline', 'res_test_03_2018_10k_20220607_timeseries', 'res_test_03_2018_10k_20220607_upgrades'] and the s3:/euss/tests/res_test_03_2018_10k_20220607 folder\n",
      "Abandoned the idea.\n"
     ]
    }
   ],
   "source": [
    "my_run.delete_everything()"
   ]
  },
  {
   "cell_type": "code",
   "execution_count": 20,
   "id": "b784d674",
   "metadata": {},
   "outputs": [
    {
     "name": "stderr",
     "output_type": "stream",
     "text": [
      "INFO:buildstock_query.query_core:Loading ('baseline_20230525_baseline', 'cateory_2_20230525_timeseries', 'cateory_2_20230525_upgrades') ...\n",
      "INFO:botocore.tokens:Loading cached SSO token for nrel-sso\n",
      "INFO:buildstock_query.main:Getting Success counts...\n",
      "INFO:botocore.tokens:Loading cached SSO token for nrel-sso\n",
      "INFO:buildstock_query.report_query:Checking integrity with ts_tables ...\n"
     ]
    },
    {
     "name": "stdout",
     "output_type": "stream",
     "text": [
      "         fail  unapplicable  success   Sum  Applied %  no-chng  bad-chng  \\\n",
      "upgrade                                                                    \n",
      "0           7             0     9931  9938        0.0        0         0   \n",
      "1           0             0     9931  9931      100.0        4       149   \n",
      "2           0             0     9931  9931      100.0        3       391   \n",
      "3           0          1793     8138  9931       81.9        4        16   \n",
      "4           0           322     9609  9931       96.8      123        17   \n",
      "5           0             0     9931  9931      100.0        2       222   \n",
      "\n",
      "         ok-chng  true-bad-chng  true-ok-chng  null   any  no-chng %  \\\n",
      "upgrade                                                                \n",
      "0              0              0             0     0     0        0.0   \n",
      "1           9778            112          9815     0  9931        0.0   \n",
      "2           9537            292          9637     0  9931        0.0   \n",
      "3           8118              6          8129     0  8138        0.0   \n",
      "4           9469              7          9479     0  9609        1.3   \n",
      "5           9707             98          9832     0  9931        0.0   \n",
      "\n",
      "         bad-chng %  ok-chng %  true-ok-chng %  true-bad-chng %  \n",
      "upgrade                                                          \n",
      "0               0.0        0.0             0.0              0.0  \n",
      "1               1.5       98.5            98.8              1.1  \n",
      "2               3.9       96.0            97.0              2.9  \n",
      "3               0.2       99.8            99.9              0.1  \n",
      "4               0.2       98.5            98.6              0.1  \n",
      "5               2.2       97.7            99.0              1.0  \n",
      "\u001b[92mAnnual and timeseries tables are verified to have the same number of buildings.\u001b[0m\n"
     ]
    },
    {
     "name": "stderr",
     "output_type": "stream",
     "text": [
      "INFO:buildstock_query.query_core:12 queries cache saved to .bsq_cache/8d909ebc61709306982e1f11763d1184dfe3750c16c62b6aa305c9171b71760e_query_cache.pkl\n"
     ]
    },
    {
     "name": "stdout",
     "output_type": "stream",
     "text": [
      "\u001b[92mAll buildings are verified to have the same number of (8760) timeseries rows.\u001b[0m\n"
     ]
    }
   ],
   "source": [
    "# Mix and match: baseline from a different run from upgrades\n",
    "my_run2 = BuildStockQuery(db_name='largeee_test_runs',\n",
    "                          workgroup='largeee',\n",
    "                          table_name=(\"baseline_20230525_baseline\",\"cateory_2_20230525_timeseries\",\"cateory_2_20230525_upgrades\"),\n",
    "                          buildstock_type='resstock',\n",
    "                          skip_reports=False)\n"
   ]
  }
 ],
 "metadata": {
  "kernelspec": {
   "display_name": "Python 3.10.6 ('buildstock_query')",
   "language": "python",
   "name": "python3"
  },
  "language_info": {
   "codemirror_mode": {
    "name": "ipython",
    "version": 3
   },
   "file_extension": ".py",
   "mimetype": "text/x-python",
   "name": "python",
   "nbconvert_exporter": "python",
   "pygments_lexer": "ipython3",
   "version": "3.10.6"
  },
  "vscode": {
   "interpreter": {
    "hash": "35ba3cc7519d35147a8e5461e917527371cd03213f16caf8b9adad162c9e25ef"
   }
  }
 },
 "nbformat": 4,
 "nbformat_minor": 5
}
