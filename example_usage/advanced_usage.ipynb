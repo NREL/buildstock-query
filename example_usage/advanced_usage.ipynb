{
 "cells": [
  {
   "cell_type": "code",
   "execution_count": 1,
   "id": "c7608e32",
   "metadata": {},
   "outputs": [],
   "source": [
    "from buildstock_query import BuildStockQuery, ExeId, MappedColumn\n",
    "import pandas as pd\n",
    "import sqlalchemy as sa"
   ]
  },
  {
   "cell_type": "code",
   "execution_count": 2,
   "id": "17701803",
   "metadata": {},
   "outputs": [
    {
     "name": "stderr",
     "output_type": "stream",
     "text": [
      "INFO:buildstock_query.query_core:Loading res_test_03_2018_10k_20220607 ...\n",
      "INFO:buildstock_query.query_core:14 queries cache read from res_test_03_2018_10k_20220607_query_cache.pkl.\n",
      "INFO:buildstock_query.query_core:14 queries cache is updated.\n"
     ]
    }
   ],
   "source": [
    "my_run = BuildStockQuery(db_name='euss-tests',\n",
    "                        table_name='res_test_03_2018_10k_20220607',\n",
    "                        workgroup='eulp',\n",
    "                        buildstock_type='resstock',\n",
    "                        skip_reports=True)"
   ]
  },
  {
   "cell_type": "code",
   "execution_count": 3,
   "id": "940c01be",
   "metadata": {},
   "outputs": [
    {
     "data": {
      "text/plain": [
       "'SELECT res_test_03_2018_10k_20220607_baseline.building_id \\nFROM res_test_03_2018_10k_20220607_baseline'"
      ]
     },
     "execution_count": 3,
     "metadata": {},
     "output_type": "execute_result"
    }
   ],
   "source": [
    "query = my_run.get_building_ids(get_query_only=True)\n",
    "query"
   ]
  },
  {
   "cell_type": "code",
   "execution_count": 4,
   "id": "afb0bdf2",
   "metadata": {},
   "outputs": [
    {
     "name": "stdout",
     "output_type": "stream",
     "text": [
      "  simple_bldg_type  sample_count   units_count  \\\n",
      "0               MF          1635  2.177363e+07   \n",
      "1               MH           703  9.361996e+06   \n",
      "2               SF          7651  1.018899e+08   \n",
      "\n",
      "   fuel_use_electricity_total_m_btu  \n",
      "0                      5.484767e+08  \n",
      "1                      4.506122e+08  \n",
      "2                      4.623009e+09  \n"
     ]
    }
   ],
   "source": [
    "building_type_map = {\"Mobile Home\": \"MH\", \"Single-Family Detached\": \"SF\",\n",
    "                     \"Single-Family Attached\": \"SF\", \"Multi-Family with 2 - 4 Units\": \"MF\",\n",
    "                     \"Multi-Family with 5+ Units\": \"MF\",}\n",
    "bldg_col = my_run.get_column('build_existing_model.geometry_building_type_recs')\n",
    "simple_bldg_col = MappedColumn(bsq=my_run, name='simple_bldg_type', mapping_dict=building_type_map,\n",
    "                               key=bldg_col)\n",
    "mapped_agg_query = my_run.agg.aggregate_annual(enduses=['fuel_use_electricity_total_m_btu'],\n",
    "                                       group_by=[simple_bldg_col],\n",
    "                                          get_query_only=False)\n",
    "print(mapped_agg_query)"
   ]
  },
  {
   "cell_type": "code",
   "execution_count": 7,
   "id": "855e1d4c",
   "metadata": {},
   "outputs": [
    {
     "name": "stdout",
     "output_type": "stream",
     "text": [
      "   sample_count   units_count  dryer_impact\n",
      "0          9989  1.330256e+08  5.397863e+07\n"
     ]
    }
   ],
   "source": [
    "dryer_co2_impact = {\"Gas, 120% Usage\": 1.2 * 1.5, \n",
    "                    \"Gas, 100% Usage\": 1 * 1.5,\n",
    "                    \"Gas, 80% Usage\": 0.8 * 1.5,\n",
    "                    \"Electric, 120% Usage\": 1.2 * 0.5,\n",
    "                    \"Electric 100% Usage\": 1 * 0.5,\n",
    "                    \"Electric 80% Usage\": 0.8 * 0.5,\n",
    "                    \"None\": 0}\n",
    "bldg_col = my_run.get_column('build_existing_model.clothes_dryer')\n",
    "impact_col = MappedColumn(bsq=my_run, name='dryer_impact', mapping_dict=dryer_co2_impact,\n",
    "                               key=bldg_col)\n",
    "mapped_agg_query = my_run.agg.aggregate_annual(enduses=[impact_col],\n",
    "                                               get_query_only=False)\n",
    "print(mapped_agg_query)"
   ]
  },
  {
   "cell_type": "code",
   "execution_count": 10,
   "id": "5579f512",
   "metadata": {},
   "outputs": [
    {
     "name": "stdout",
     "output_type": "stream",
     "text": [
      "SELECT res_test_03_2018_10k_20220607_baseline.\"build_existing_model.geometry_building_type_recs\" AS geometry_building_type_recs, sum(1) AS sample_count, sum(res_test_03_2018_10k_20220607_baseline.\"build_existing_model.sample_weight\") AS units_count, sum(res_test_03_2018_10k_20220607_baseline.\"report_simulation_output.fuel_use_electricity_total_m_btu\" * res_test_03_2018_10k_20220607_baseline.\"build_existing_model.sample_weight\") AS fuel_use_electricity_total_m_btu \n",
      "FROM res_test_03_2018_10k_20220607_baseline \n",
      "WHERE res_test_03_2018_10k_20220607_baseline.completed_status = 'Success' GROUP BY 1 ORDER BY 1\n"
     ]
    }
   ],
   "source": [
    "baseline_agg_query = my_run.agg.aggregate_annual(enduses=['fuel_use_electricity_total_m_btu'],\n",
    "                                       group_by=['geometry_building_type_recs'],\n",
    "                                          get_query_only=True,\n",
    "                                          )\n",
    "print(baseline_agg_query)\n",
    "\n"
   ]
  },
  {
   "cell_type": "code",
   "execution_count": 11,
   "id": "89404c1c",
   "metadata": {},
   "outputs": [
    {
     "data": {
      "text/html": [
       "<div>\n",
       "<style scoped>\n",
       "    .dataframe tbody tr th:only-of-type {\n",
       "        vertical-align: middle;\n",
       "    }\n",
       "\n",
       "    .dataframe tbody tr th {\n",
       "        vertical-align: top;\n",
       "    }\n",
       "\n",
       "    .dataframe thead th {\n",
       "        text-align: right;\n",
       "    }\n",
       "</style>\n",
       "<table border=\"1\" class=\"dataframe\">\n",
       "  <thead>\n",
       "    <tr style=\"text-align: right;\">\n",
       "      <th></th>\n",
       "      <th>geometry_building_type_recs</th>\n",
       "      <th>sample_count</th>\n",
       "      <th>units_count</th>\n",
       "      <th>fuel_use_electricity_total_m_btu</th>\n",
       "    </tr>\n",
       "  </thead>\n",
       "  <tbody>\n",
       "    <tr>\n",
       "      <th>0</th>\n",
       "      <td>Multi-Family with 5+ Units</td>\n",
       "      <td>1189</td>\n",
       "      <td>1.583416e+07</td>\n",
       "      <td>4.099084e+08</td>\n",
       "    </tr>\n",
       "    <tr>\n",
       "      <th>1</th>\n",
       "      <td>Single-Family Attached</td>\n",
       "      <td>530</td>\n",
       "      <td>7.058119e+06</td>\n",
       "      <td>2.094629e+08</td>\n",
       "    </tr>\n",
       "    <tr>\n",
       "      <th>2</th>\n",
       "      <td>Single-Family Detached</td>\n",
       "      <td>7121</td>\n",
       "      <td>9.483182e+07</td>\n",
       "      <td>4.413546e+09</td>\n",
       "    </tr>\n",
       "    <tr>\n",
       "      <th>3</th>\n",
       "      <td>Mobile Home</td>\n",
       "      <td>703</td>\n",
       "      <td>9.361996e+06</td>\n",
       "      <td>4.506122e+08</td>\n",
       "    </tr>\n",
       "    <tr>\n",
       "      <th>4</th>\n",
       "      <td>Multi-Family with 2 - 4 Units</td>\n",
       "      <td>446</td>\n",
       "      <td>5.939474e+06</td>\n",
       "      <td>1.385683e+08</td>\n",
       "    </tr>\n",
       "  </tbody>\n",
       "</table>\n",
       "</div>"
      ],
      "text/plain": [
       "     geometry_building_type_recs  sample_count   units_count  \\\n",
       "0     Multi-Family with 5+ Units          1189  1.583416e+07   \n",
       "1         Single-Family Attached           530  7.058119e+06   \n",
       "2         Single-Family Detached          7121  9.483182e+07   \n",
       "3                    Mobile Home           703  9.361996e+06   \n",
       "4  Multi-Family with 2 - 4 Units           446  5.939474e+06   \n",
       "\n",
       "   fuel_use_electricity_total_m_btu  \n",
       "0                      4.099084e+08  \n",
       "1                      2.094629e+08  \n",
       "2                      4.413546e+09  \n",
       "3                      4.506122e+08  \n",
       "4                      1.385683e+08  "
      ]
     },
     "execution_count": 11,
     "metadata": {},
     "output_type": "execute_result"
    }
   ],
   "source": [
    "baseline_agg = my_run.execute(\"\"\"\n",
    "SELECT \"res_test_03_2018_10k_20220607_baseline\".\"build_existing_model.geometry_building_type_recs\" AS \"geometry_building_type_recs\", sum(1) AS \"sample_count\", sum(\"res_test_03_2018_10k_20220607_baseline\".\"build_existing_model.sample_weight\") AS \"units_count\", sum(\"res_test_03_2018_10k_20220607_baseline\".\"report_simulation_output.fuel_use_electricity_total_m_btu\" * \"res_test_03_2018_10k_20220607_baseline\".\"build_existing_model.sample_weight\") AS \"fuel_use_electricity_total_m_btu\" \n",
    "FROM \"res_test_03_2018_10k_20220607_baseline\" \n",
    "WHERE \"res_test_03_2018_10k_20220607_baseline\".\"completed_status\" = 'Success' GROUP BY 1\n",
    "\"\"\")\n",
    "baseline_agg"
   ]
  },
  {
   "cell_type": "code",
   "execution_count": 12,
   "id": "df0688ba",
   "metadata": {},
   "outputs": [
    {
     "name": "stdout",
     "output_type": "stream",
     "text": [
      "SELECT res_test_03_2018_10k_20220607_baseline.\"build_existing_model.geometry_building_type_recs\" AS geometry_building_type_recs, sum(1) AS sample_count, sum(res_test_03_2018_10k_20220607_baseline.\"build_existing_model.sample_weight\") AS units_count, sum(res_test_03_2018_10k_20220607_baseline.\"report_simulation_output.fuel_use_natural_gas_total_m_btu\" * res_test_03_2018_10k_20220607_baseline.\"build_existing_model.sample_weight\") AS fuel_use_natural_gas_total_m_btu \n",
      "FROM res_test_03_2018_10k_20220607_baseline \n",
      "WHERE res_test_03_2018_10k_20220607_baseline.completed_status = 'Success' GROUP BY 1 ORDER BY 1\n"
     ]
    }
   ],
   "source": [
    "baseline_agg_query2 = my_run.agg.aggregate_annual(enduses=['fuel_use_natural_gas_total_m_btu'],\n",
    "                                       group_by=['geometry_building_type_recs'],\n",
    "                                          get_query_only=True)\n",
    "print(baseline_agg_query2)"
   ]
  },
  {
   "cell_type": "code",
   "execution_count": 13,
   "id": "4256cb11",
   "metadata": {},
   "outputs": [
    {
     "name": "stdout",
     "output_type": "stream",
     "text": [
      "1\n"
     ]
    },
    {
     "data": {
      "text/plain": [
       "{'submitted': 0, 'running': 0, 'pending': 2, 'completed': 0, 'failed': 0}"
      ]
     },
     "execution_count": 13,
     "metadata": {},
     "output_type": "execute_result"
    }
   ],
   "source": [
    "bq = my_run.submit_batch_query([baseline_agg_query, baseline_agg_query2])\n",
    "print(bq)\n",
    "my_run.get_batch_query_report(bq)"
   ]
  },
  {
   "cell_type": "code",
   "execution_count": 14,
   "id": "9dd3cb02",
   "metadata": {},
   "outputs": [
    {
     "data": {
      "text/plain": [
       "{'submitted': 0, 'running': 0, 'pending': 2, 'completed': 0, 'failed': 0}"
      ]
     },
     "execution_count": 14,
     "metadata": {},
     "output_type": "execute_result"
    }
   ],
   "source": [
    "my_run.get_batch_query_report(bq)"
   ]
  },
  {
   "cell_type": "code",
   "execution_count": 15,
   "id": "68f8b5b4",
   "metadata": {},
   "outputs": [
    {
     "name": "stderr",
     "output_type": "stream",
     "text": [
      "INFO:buildstock_query.query_core:{'submitted': 0, 'running': 0, 'pending': 2, 'completed': 0, 'failed': 0}\n",
      "INFO:buildstock_query.query_core:{'submitted': 0, 'running': 0, 'pending': 2, 'completed': 0, 'failed': 0}\n",
      "INFO:buildstock_query.query_core:Submitted queries[0] (e86299b8-442f-45c8-a132-d9fb2ee37b53)\n",
      "INFO:buildstock_query.query_core:Submitted queries[1] (629084ff-5c02-43f6-8694-ed805e5024fc)\n",
      "INFO:buildstock_query.query_core:{'submitted': 2, 'running': 0, 'pending': 0, 'completed': 2, 'failed': 0}\n",
      "INFO:buildstock_query.query_core:Batch query completed. \n",
      "INFO:buildstock_query.query_core:Got result from Query [0] (e86299b8-442f-45c8-a132-d9fb2ee37b53)\n",
      "INFO:buildstock_query.query_core:Got result from Query [1] (629084ff-5c02-43f6-8694-ed805e5024fc)\n",
      "INFO:buildstock_query.query_core:Concatenating the results.\n"
     ]
    },
    {
     "data": {
      "text/html": [
       "<div>\n",
       "<style scoped>\n",
       "    .dataframe tbody tr th:only-of-type {\n",
       "        vertical-align: middle;\n",
       "    }\n",
       "\n",
       "    .dataframe tbody tr th {\n",
       "        vertical-align: top;\n",
       "    }\n",
       "\n",
       "    .dataframe thead th {\n",
       "        text-align: right;\n",
       "    }\n",
       "</style>\n",
       "<table border=\"1\" class=\"dataframe\">\n",
       "  <thead>\n",
       "    <tr style=\"text-align: right;\">\n",
       "      <th></th>\n",
       "      <th>geometry_building_type_recs</th>\n",
       "      <th>sample_count</th>\n",
       "      <th>units_count</th>\n",
       "      <th>fuel_use_electricity_total_m_btu</th>\n",
       "      <th>query_id</th>\n",
       "      <th>fuel_use_natural_gas_total_m_btu</th>\n",
       "    </tr>\n",
       "  </thead>\n",
       "  <tbody>\n",
       "    <tr>\n",
       "      <th>0</th>\n",
       "      <td>Mobile Home</td>\n",
       "      <td>703</td>\n",
       "      <td>9.361996e+06</td>\n",
       "      <td>4.506122e+08</td>\n",
       "      <td>0</td>\n",
       "      <td>NaN</td>\n",
       "    </tr>\n",
       "    <tr>\n",
       "      <th>1</th>\n",
       "      <td>Multi-Family with 2 - 4 Units</td>\n",
       "      <td>446</td>\n",
       "      <td>5.939474e+06</td>\n",
       "      <td>1.385683e+08</td>\n",
       "      <td>0</td>\n",
       "      <td>NaN</td>\n",
       "    </tr>\n",
       "    <tr>\n",
       "      <th>2</th>\n",
       "      <td>Multi-Family with 5+ Units</td>\n",
       "      <td>1189</td>\n",
       "      <td>1.583416e+07</td>\n",
       "      <td>4.099084e+08</td>\n",
       "      <td>0</td>\n",
       "      <td>NaN</td>\n",
       "    </tr>\n",
       "    <tr>\n",
       "      <th>3</th>\n",
       "      <td>Single-Family Attached</td>\n",
       "      <td>530</td>\n",
       "      <td>7.058119e+06</td>\n",
       "      <td>2.094629e+08</td>\n",
       "      <td>0</td>\n",
       "      <td>NaN</td>\n",
       "    </tr>\n",
       "    <tr>\n",
       "      <th>4</th>\n",
       "      <td>Single-Family Detached</td>\n",
       "      <td>7121</td>\n",
       "      <td>9.483182e+07</td>\n",
       "      <td>4.413546e+09</td>\n",
       "      <td>0</td>\n",
       "      <td>NaN</td>\n",
       "    </tr>\n",
       "    <tr>\n",
       "      <th>0</th>\n",
       "      <td>Mobile Home</td>\n",
       "      <td>703</td>\n",
       "      <td>9.361996e+06</td>\n",
       "      <td>NaN</td>\n",
       "      <td>1</td>\n",
       "      <td>1.467286e+08</td>\n",
       "    </tr>\n",
       "    <tr>\n",
       "      <th>1</th>\n",
       "      <td>Multi-Family with 2 - 4 Units</td>\n",
       "      <td>446</td>\n",
       "      <td>5.939474e+06</td>\n",
       "      <td>NaN</td>\n",
       "      <td>1</td>\n",
       "      <td>3.638842e+08</td>\n",
       "    </tr>\n",
       "    <tr>\n",
       "      <th>2</th>\n",
       "      <td>Multi-Family with 5+ Units</td>\n",
       "      <td>1189</td>\n",
       "      <td>1.583416e+07</td>\n",
       "      <td>NaN</td>\n",
       "      <td>1</td>\n",
       "      <td>2.137026e+08</td>\n",
       "    </tr>\n",
       "    <tr>\n",
       "      <th>3</th>\n",
       "      <td>Single-Family Attached</td>\n",
       "      <td>530</td>\n",
       "      <td>7.058119e+06</td>\n",
       "      <td>NaN</td>\n",
       "      <td>1</td>\n",
       "      <td>3.356744e+08</td>\n",
       "    </tr>\n",
       "    <tr>\n",
       "      <th>4</th>\n",
       "      <td>Single-Family Detached</td>\n",
       "      <td>7121</td>\n",
       "      <td>9.483182e+07</td>\n",
       "      <td>NaN</td>\n",
       "      <td>1</td>\n",
       "      <td>6.115350e+09</td>\n",
       "    </tr>\n",
       "  </tbody>\n",
       "</table>\n",
       "</div>"
      ],
      "text/plain": [
       "     geometry_building_type_recs  sample_count   units_count  \\\n",
       "0                    Mobile Home           703  9.361996e+06   \n",
       "1  Multi-Family with 2 - 4 Units           446  5.939474e+06   \n",
       "2     Multi-Family with 5+ Units          1189  1.583416e+07   \n",
       "3         Single-Family Attached           530  7.058119e+06   \n",
       "4         Single-Family Detached          7121  9.483182e+07   \n",
       "0                    Mobile Home           703  9.361996e+06   \n",
       "1  Multi-Family with 2 - 4 Units           446  5.939474e+06   \n",
       "2     Multi-Family with 5+ Units          1189  1.583416e+07   \n",
       "3         Single-Family Attached           530  7.058119e+06   \n",
       "4         Single-Family Detached          7121  9.483182e+07   \n",
       "\n",
       "   fuel_use_electricity_total_m_btu  query_id  \\\n",
       "0                      4.506122e+08         0   \n",
       "1                      1.385683e+08         0   \n",
       "2                      4.099084e+08         0   \n",
       "3                      2.094629e+08         0   \n",
       "4                      4.413546e+09         0   \n",
       "0                               NaN         1   \n",
       "1                               NaN         1   \n",
       "2                               NaN         1   \n",
       "3                               NaN         1   \n",
       "4                               NaN         1   \n",
       "\n",
       "   fuel_use_natural_gas_total_m_btu  \n",
       "0                               NaN  \n",
       "1                               NaN  \n",
       "2                               NaN  \n",
       "3                               NaN  \n",
       "4                               NaN  \n",
       "0                      1.467286e+08  \n",
       "1                      3.638842e+08  \n",
       "2                      2.137026e+08  \n",
       "3                      3.356744e+08  \n",
       "4                      6.115350e+09  "
      ]
     },
     "execution_count": 15,
     "metadata": {},
     "output_type": "execute_result"
    }
   ],
   "source": [
    "result_df = my_run.get_batch_query_result(bq, combine=True)\n",
    "result_df"
   ]
  },
  {
   "cell_type": "code",
   "execution_count": 16,
   "id": "eae0cd83",
   "metadata": {},
   "outputs": [
    {
     "data": {
      "text/plain": [
       "'s3://eulp/athena_query_results/6e3daed0-a652-47f5-8e61-5d919b46740a.csv'"
      ]
     },
     "execution_count": 16,
     "metadata": {},
     "output_type": "execute_result"
    }
   ],
   "source": [
    "query1 = my_run.agg.aggregate_annual(enduses=['fuel_use_natural_gas_total_m_btu'], group_by=['state'],\n",
    "                                              get_query_only=True)\n",
    "query2 = my_run.agg.aggregate_annual(enduses=['fuel_use_electricity_total_m_btu'],\n",
    "                                              group_by=['state'],\n",
    "                                              get_query_only=True)\n",
    "exe_id1, future1 = my_run.execute(query1, run_async=True)\n",
    "exe_id2, future2 = my_run.execute(query2, run_async=True)\n",
    "\n",
    "assert exe_id1 != \"CACHED\"  # Commenting this line will cause the type checker to complain on the next line\n",
    "my_run.get_query_output_location(exe_id1)"
   ]
  },
  {
   "cell_type": "code",
   "execution_count": 17,
   "id": "3f596274",
   "metadata": {},
   "outputs": [
    {
     "data": {
      "text/html": [
       "<div>\n",
       "<style scoped>\n",
       "    .dataframe tbody tr th:only-of-type {\n",
       "        vertical-align: middle;\n",
       "    }\n",
       "\n",
       "    .dataframe tbody tr th {\n",
       "        vertical-align: top;\n",
       "    }\n",
       "\n",
       "    .dataframe thead th {\n",
       "        text-align: right;\n",
       "    }\n",
       "</style>\n",
       "<table border=\"1\" class=\"dataframe\">\n",
       "  <thead>\n",
       "    <tr style=\"text-align: right;\">\n",
       "      <th></th>\n",
       "      <th>state</th>\n",
       "      <th>sample_count</th>\n",
       "      <th>units_count</th>\n",
       "      <th>fuel_use_natural_gas_total_m_btu</th>\n",
       "    </tr>\n",
       "  </thead>\n",
       "  <tbody>\n",
       "    <tr>\n",
       "      <th>0</th>\n",
       "      <td>AL</td>\n",
       "      <td>173</td>\n",
       "      <td>2.303877e+06</td>\n",
       "      <td>2.746831e+07</td>\n",
       "    </tr>\n",
       "    <tr>\n",
       "      <th>1</th>\n",
       "      <td>AR</td>\n",
       "      <td>100</td>\n",
       "      <td>1.331721e+06</td>\n",
       "      <td>3.919417e+07</td>\n",
       "    </tr>\n",
       "    <tr>\n",
       "      <th>2</th>\n",
       "      <td>AZ</td>\n",
       "      <td>217</td>\n",
       "      <td>2.889834e+06</td>\n",
       "      <td>3.297230e+07</td>\n",
       "    </tr>\n",
       "    <tr>\n",
       "      <th>3</th>\n",
       "      <td>CA</td>\n",
       "      <td>1051</td>\n",
       "      <td>1.399638e+07</td>\n",
       "      <td>4.360101e+08</td>\n",
       "    </tr>\n",
       "    <tr>\n",
       "      <th>4</th>\n",
       "      <td>CO</td>\n",
       "      <td>171</td>\n",
       "      <td>2.277242e+06</td>\n",
       "      <td>1.805907e+08</td>\n",
       "    </tr>\n",
       "    <tr>\n",
       "      <th>5</th>\n",
       "      <td>CT</td>\n",
       "      <td>115</td>\n",
       "      <td>1.531479e+06</td>\n",
       "      <td>5.755829e+07</td>\n",
       "    </tr>\n",
       "    <tr>\n",
       "      <th>6</th>\n",
       "      <td>DC</td>\n",
       "      <td>22</td>\n",
       "      <td>2.929785e+05</td>\n",
       "      <td>1.760066e+07</td>\n",
       "    </tr>\n",
       "    <tr>\n",
       "      <th>7</th>\n",
       "      <td>DE</td>\n",
       "      <td>32</td>\n",
       "      <td>4.261506e+05</td>\n",
       "      <td>2.158285e+07</td>\n",
       "    </tr>\n",
       "    <tr>\n",
       "      <th>8</th>\n",
       "      <td>FL</td>\n",
       "      <td>689</td>\n",
       "      <td>9.175555e+06</td>\n",
       "      <td>1.611552e+07</td>\n",
       "    </tr>\n",
       "    <tr>\n",
       "      <th>9</th>\n",
       "      <td>GA</td>\n",
       "      <td>308</td>\n",
       "      <td>4.101699e+06</td>\n",
       "      <td>1.151046e+08</td>\n",
       "    </tr>\n",
       "    <tr>\n",
       "      <th>10</th>\n",
       "      <td>IA</td>\n",
       "      <td>100</td>\n",
       "      <td>1.331721e+06</td>\n",
       "      <td>1.534700e+08</td>\n",
       "    </tr>\n",
       "    <tr>\n",
       "      <th>11</th>\n",
       "      <td>ID</td>\n",
       "      <td>51</td>\n",
       "      <td>6.791775e+05</td>\n",
       "      <td>3.877768e+07</td>\n",
       "    </tr>\n",
       "    <tr>\n",
       "      <th>12</th>\n",
       "      <td>IL</td>\n",
       "      <td>400</td>\n",
       "      <td>5.326882e+06</td>\n",
       "      <td>6.126589e+08</td>\n",
       "    </tr>\n",
       "    <tr>\n",
       "      <th>13</th>\n",
       "      <td>IN</td>\n",
       "      <td>216</td>\n",
       "      <td>2.876516e+06</td>\n",
       "      <td>2.677683e+08</td>\n",
       "    </tr>\n",
       "    <tr>\n",
       "      <th>14</th>\n",
       "      <td>KS</td>\n",
       "      <td>83</td>\n",
       "      <td>1.105328e+06</td>\n",
       "      <td>1.317082e+08</td>\n",
       "    </tr>\n",
       "    <tr>\n",
       "      <th>15</th>\n",
       "      <td>KY</td>\n",
       "      <td>143</td>\n",
       "      <td>1.904360e+06</td>\n",
       "      <td>6.927400e+07</td>\n",
       "    </tr>\n",
       "    <tr>\n",
       "      <th>16</th>\n",
       "      <td>LA</td>\n",
       "      <td>150</td>\n",
       "      <td>1.997581e+06</td>\n",
       "      <td>3.462422e+07</td>\n",
       "    </tr>\n",
       "    <tr>\n",
       "      <th>17</th>\n",
       "      <td>MA</td>\n",
       "      <td>216</td>\n",
       "      <td>2.876516e+06</td>\n",
       "      <td>2.187055e+08</td>\n",
       "    </tr>\n",
       "    <tr>\n",
       "      <th>18</th>\n",
       "      <td>MD</td>\n",
       "      <td>184</td>\n",
       "      <td>2.450366e+06</td>\n",
       "      <td>1.111341e+08</td>\n",
       "    </tr>\n",
       "    <tr>\n",
       "      <th>19</th>\n",
       "      <td>ME</td>\n",
       "      <td>57</td>\n",
       "      <td>7.590807e+05</td>\n",
       "      <td>2.920716e+06</td>\n",
       "    </tr>\n",
       "    <tr>\n",
       "      <th>20</th>\n",
       "      <td>MI</td>\n",
       "      <td>347</td>\n",
       "      <td>4.621070e+06</td>\n",
       "      <td>5.414411e+08</td>\n",
       "    </tr>\n",
       "    <tr>\n",
       "      <th>21</th>\n",
       "      <td>MN</td>\n",
       "      <td>179</td>\n",
       "      <td>2.383780e+06</td>\n",
       "      <td>2.770797e+08</td>\n",
       "    </tr>\n",
       "    <tr>\n",
       "      <th>22</th>\n",
       "      <td>MO</td>\n",
       "      <td>196</td>\n",
       "      <td>2.610172e+06</td>\n",
       "      <td>1.730022e+08</td>\n",
       "    </tr>\n",
       "    <tr>\n",
       "      <th>23</th>\n",
       "      <td>MS</td>\n",
       "      <td>100</td>\n",
       "      <td>1.331721e+06</td>\n",
       "      <td>2.096886e+07</td>\n",
       "    </tr>\n",
       "    <tr>\n",
       "      <th>24</th>\n",
       "      <td>MT</td>\n",
       "      <td>35</td>\n",
       "      <td>4.661022e+05</td>\n",
       "      <td>5.312573e+07</td>\n",
       "    </tr>\n",
       "    <tr>\n",
       "      <th>25</th>\n",
       "      <td>NC</td>\n",
       "      <td>334</td>\n",
       "      <td>4.447947e+06</td>\n",
       "      <td>7.374580e+07</td>\n",
       "    </tr>\n",
       "    <tr>\n",
       "      <th>26</th>\n",
       "      <td>ND</td>\n",
       "      <td>21</td>\n",
       "      <td>2.796613e+05</td>\n",
       "      <td>3.853286e+07</td>\n",
       "    </tr>\n",
       "    <tr>\n",
       "      <th>27</th>\n",
       "      <td>NE</td>\n",
       "      <td>49</td>\n",
       "      <td>6.525431e+05</td>\n",
       "      <td>8.051306e+07</td>\n",
       "    </tr>\n",
       "    <tr>\n",
       "      <th>28</th>\n",
       "      <td>NH</td>\n",
       "      <td>49</td>\n",
       "      <td>6.525431e+05</td>\n",
       "      <td>1.012797e+07</td>\n",
       "    </tr>\n",
       "    <tr>\n",
       "      <th>29</th>\n",
       "      <td>NJ</td>\n",
       "      <td>272</td>\n",
       "      <td>3.622280e+06</td>\n",
       "      <td>3.732421e+08</td>\n",
       "    </tr>\n",
       "    <tr>\n",
       "      <th>30</th>\n",
       "      <td>NM</td>\n",
       "      <td>73</td>\n",
       "      <td>9.721560e+05</td>\n",
       "      <td>5.857340e+07</td>\n",
       "    </tr>\n",
       "    <tr>\n",
       "      <th>31</th>\n",
       "      <td>NV</td>\n",
       "      <td>91</td>\n",
       "      <td>1.211866e+06</td>\n",
       "      <td>3.558269e+07</td>\n",
       "    </tr>\n",
       "    <tr>\n",
       "      <th>32</th>\n",
       "      <td>NY</td>\n",
       "      <td>619</td>\n",
       "      <td>8.243350e+06</td>\n",
       "      <td>6.678062e+08</td>\n",
       "    </tr>\n",
       "    <tr>\n",
       "      <th>33</th>\n",
       "      <td>OH</td>\n",
       "      <td>385</td>\n",
       "      <td>5.127124e+06</td>\n",
       "      <td>5.512474e+08</td>\n",
       "    </tr>\n",
       "    <tr>\n",
       "      <th>34</th>\n",
       "      <td>OK</td>\n",
       "      <td>125</td>\n",
       "      <td>1.664651e+06</td>\n",
       "      <td>1.029016e+08</td>\n",
       "    </tr>\n",
       "    <tr>\n",
       "      <th>35</th>\n",
       "      <td>OR</td>\n",
       "      <td>130</td>\n",
       "      <td>1.731237e+06</td>\n",
       "      <td>6.487875e+07</td>\n",
       "    </tr>\n",
       "    <tr>\n",
       "      <th>36</th>\n",
       "      <td>PA</td>\n",
       "      <td>425</td>\n",
       "      <td>5.659812e+06</td>\n",
       "      <td>4.202414e+08</td>\n",
       "    </tr>\n",
       "    <tr>\n",
       "      <th>37</th>\n",
       "      <td>RI</td>\n",
       "      <td>36</td>\n",
       "      <td>4.794194e+05</td>\n",
       "      <td>3.129952e+07</td>\n",
       "    </tr>\n",
       "    <tr>\n",
       "      <th>38</th>\n",
       "      <td>SC</td>\n",
       "      <td>165</td>\n",
       "      <td>2.197339e+06</td>\n",
       "      <td>1.790657e+07</td>\n",
       "    </tr>\n",
       "    <tr>\n",
       "      <th>39</th>\n",
       "      <td>SD</td>\n",
       "      <td>22</td>\n",
       "      <td>2.929785e+05</td>\n",
       "      <td>3.252329e+07</td>\n",
       "    </tr>\n",
       "    <tr>\n",
       "      <th>40</th>\n",
       "      <td>TN</td>\n",
       "      <td>216</td>\n",
       "      <td>2.876516e+06</td>\n",
       "      <td>6.512873e+07</td>\n",
       "    </tr>\n",
       "    <tr>\n",
       "      <th>41</th>\n",
       "      <td>TX</td>\n",
       "      <td>768</td>\n",
       "      <td>1.022761e+07</td>\n",
       "      <td>2.248134e+08</td>\n",
       "    </tr>\n",
       "    <tr>\n",
       "      <th>42</th>\n",
       "      <td>UT</td>\n",
       "      <td>75</td>\n",
       "      <td>9.987904e+05</td>\n",
       "      <td>7.601536e+07</td>\n",
       "    </tr>\n",
       "    <tr>\n",
       "      <th>43</th>\n",
       "      <td>VA</td>\n",
       "      <td>261</td>\n",
       "      <td>3.475791e+06</td>\n",
       "      <td>1.028949e+08</td>\n",
       "    </tr>\n",
       "    <tr>\n",
       "      <th>44</th>\n",
       "      <td>VT</td>\n",
       "      <td>24</td>\n",
       "      <td>3.196129e+05</td>\n",
       "      <td>7.980043e+06</td>\n",
       "    </tr>\n",
       "    <tr>\n",
       "      <th>45</th>\n",
       "      <td>WA</td>\n",
       "      <td>221</td>\n",
       "      <td>2.943102e+06</td>\n",
       "      <td>1.243266e+08</td>\n",
       "    </tr>\n",
       "    <tr>\n",
       "      <th>46</th>\n",
       "      <td>WI</td>\n",
       "      <td>204</td>\n",
       "      <td>2.716710e+06</td>\n",
       "      <td>2.759891e+08</td>\n",
       "    </tr>\n",
       "    <tr>\n",
       "      <th>47</th>\n",
       "      <td>WV</td>\n",
       "      <td>67</td>\n",
       "      <td>8.922528e+05</td>\n",
       "      <td>5.069070e+07</td>\n",
       "    </tr>\n",
       "    <tr>\n",
       "      <th>48</th>\n",
       "      <td>WY</td>\n",
       "      <td>22</td>\n",
       "      <td>2.929785e+05</td>\n",
       "      <td>3.752161e+07</td>\n",
       "    </tr>\n",
       "  </tbody>\n",
       "</table>\n",
       "</div>"
      ],
      "text/plain": [
       "   state  sample_count   units_count  fuel_use_natural_gas_total_m_btu\n",
       "0     AL           173  2.303877e+06                      2.746831e+07\n",
       "1     AR           100  1.331721e+06                      3.919417e+07\n",
       "2     AZ           217  2.889834e+06                      3.297230e+07\n",
       "3     CA          1051  1.399638e+07                      4.360101e+08\n",
       "4     CO           171  2.277242e+06                      1.805907e+08\n",
       "5     CT           115  1.531479e+06                      5.755829e+07\n",
       "6     DC            22  2.929785e+05                      1.760066e+07\n",
       "7     DE            32  4.261506e+05                      2.158285e+07\n",
       "8     FL           689  9.175555e+06                      1.611552e+07\n",
       "9     GA           308  4.101699e+06                      1.151046e+08\n",
       "10    IA           100  1.331721e+06                      1.534700e+08\n",
       "11    ID            51  6.791775e+05                      3.877768e+07\n",
       "12    IL           400  5.326882e+06                      6.126589e+08\n",
       "13    IN           216  2.876516e+06                      2.677683e+08\n",
       "14    KS            83  1.105328e+06                      1.317082e+08\n",
       "15    KY           143  1.904360e+06                      6.927400e+07\n",
       "16    LA           150  1.997581e+06                      3.462422e+07\n",
       "17    MA           216  2.876516e+06                      2.187055e+08\n",
       "18    MD           184  2.450366e+06                      1.111341e+08\n",
       "19    ME            57  7.590807e+05                      2.920716e+06\n",
       "20    MI           347  4.621070e+06                      5.414411e+08\n",
       "21    MN           179  2.383780e+06                      2.770797e+08\n",
       "22    MO           196  2.610172e+06                      1.730022e+08\n",
       "23    MS           100  1.331721e+06                      2.096886e+07\n",
       "24    MT            35  4.661022e+05                      5.312573e+07\n",
       "25    NC           334  4.447947e+06                      7.374580e+07\n",
       "26    ND            21  2.796613e+05                      3.853286e+07\n",
       "27    NE            49  6.525431e+05                      8.051306e+07\n",
       "28    NH            49  6.525431e+05                      1.012797e+07\n",
       "29    NJ           272  3.622280e+06                      3.732421e+08\n",
       "30    NM            73  9.721560e+05                      5.857340e+07\n",
       "31    NV            91  1.211866e+06                      3.558269e+07\n",
       "32    NY           619  8.243350e+06                      6.678062e+08\n",
       "33    OH           385  5.127124e+06                      5.512474e+08\n",
       "34    OK           125  1.664651e+06                      1.029016e+08\n",
       "35    OR           130  1.731237e+06                      6.487875e+07\n",
       "36    PA           425  5.659812e+06                      4.202414e+08\n",
       "37    RI            36  4.794194e+05                      3.129952e+07\n",
       "38    SC           165  2.197339e+06                      1.790657e+07\n",
       "39    SD            22  2.929785e+05                      3.252329e+07\n",
       "40    TN           216  2.876516e+06                      6.512873e+07\n",
       "41    TX           768  1.022761e+07                      2.248134e+08\n",
       "42    UT            75  9.987904e+05                      7.601536e+07\n",
       "43    VA           261  3.475791e+06                      1.028949e+08\n",
       "44    VT            24  3.196129e+05                      7.980043e+06\n",
       "45    WA           221  2.943102e+06                      1.243266e+08\n",
       "46    WI           204  2.716710e+06                      2.759891e+08\n",
       "47    WV            67  8.922528e+05                      5.069070e+07\n",
       "48    WY            22  2.929785e+05                      3.752161e+07"
      ]
     },
     "execution_count": 17,
     "metadata": {},
     "output_type": "execute_result"
    }
   ],
   "source": [
    "future1.as_pandas()"
   ]
  },
  {
   "cell_type": "code",
   "execution_count": 18,
   "id": "20174916",
   "metadata": {},
   "outputs": [
    {
     "data": {
      "text/plain": [
       "'SUCCEEDED'"
      ]
     },
     "execution_count": 18,
     "metadata": {},
     "output_type": "execute_result"
    }
   ],
   "source": [
    "my_run.get_query_status(ExeId(exe_id1))"
   ]
  },
  {
   "cell_type": "code",
   "execution_count": 19,
   "id": "64be07ec",
   "metadata": {},
   "outputs": [],
   "source": [
    "# my_run.get_athena_query_result(exe_id1)\n"
   ]
  },
  {
   "cell_type": "code",
   "execution_count": 20,
   "id": "7e7e9a80",
   "metadata": {},
   "outputs": [
    {
     "data": {
      "text/plain": [
       "[]"
      ]
     },
     "execution_count": 20,
     "metadata": {},
     "output_type": "execute_result"
    }
   ],
   "source": [
    "my_run.get_all_running_queries()"
   ]
  },
  {
   "cell_type": "code",
   "execution_count": 21,
   "id": "66cc777b",
   "metadata": {},
   "outputs": [
    {
     "name": "stderr",
     "output_type": "stream",
     "text": [
      "INFO:buildstock_query.query_core:Stopped 0 queries\n"
     ]
    }
   ],
   "source": [
    "my_run.stop_all_queries()"
   ]
  },
  {
   "cell_type": "code",
   "execution_count": 22,
   "id": "17c81ab0",
   "metadata": {},
   "outputs": [
    {
     "data": {
      "text/plain": [
       "{'ResponseMetadata': {'RequestId': '3f6d2809-1ff7-46ba-a455-dd3cdfbc54fb',\n",
       "  'HTTPStatusCode': 200,\n",
       "  'HTTPHeaders': {'date': 'Fri, 14 Apr 2023 15:56:16 GMT',\n",
       "   'content-type': 'application/x-amz-json-1.1',\n",
       "   'content-length': '2',\n",
       "   'connection': 'keep-alive',\n",
       "   'x-amzn-requestid': '3f6d2809-1ff7-46ba-a455-dd3cdfbc54fb'},\n",
       "  'RetryAttempts': 0}}"
      ]
     },
     "execution_count": 22,
     "metadata": {},
     "output_type": "execute_result"
    }
   ],
   "source": [
    "my_run.stop_query(ExeId(exe_id1))"
   ]
  },
  {
   "cell_type": "code",
   "execution_count": 23,
   "id": "bd4547e7",
   "metadata": {},
   "outputs": [
    {
     "name": "stdout",
     "output_type": "stream",
     "text": [
      "Will delete the following tables ['res_test_03_2018_10k_20220607_baseline', 'res_test_03_2018_10k_20220607_timeseries', 'res_test_03_2018_10k_20220607_upgrades'] and the s3:/euss/tests/res_test_03_2018_10k_20220607 folder\n",
      "Abandoned the idea.\n"
     ]
    }
   ],
   "source": [
    "my_run.delete_everything()"
   ]
  },
  {
   "cell_type": "code",
   "execution_count": 6,
   "id": "b784d674",
   "metadata": {},
   "outputs": [
    {
     "name": "stderr",
     "output_type": "stream",
     "text": [
      "INFO:buildstock_query.query_core:Loading ('baseline_20230525_baseline', 'cateory_2_20230525_timeseries', 'cateory_2_20230525_upgrades') ...\n",
      "INFO:buildstock_query.main:Getting Success counts...\n",
      "INFO:buildstock_query.report_query:Checking integrity with ts_tables ...\n"
     ]
    },
    {
     "name": "stdout",
     "output_type": "stream",
     "text": [
      "         Fail  Unapplicaple  Success     Sum  Applied %  no-chng  bad-chng  \\\n",
      "upgrade                                                                      \n",
      "0           7             0     9931  9938.0        0.0        0         0   \n",
      "1           0             0     9931  9931.0      100.0        4       149   \n",
      "2           0             0     9931  9931.0      100.0        3       391   \n",
      "3           0          1793     8138  9931.0       81.9        4        16   \n",
      "4           0           322     9609  9931.0       96.8      123        17   \n",
      "5           0             0     9931  9931.0      100.0        2       222   \n",
      "\n",
      "         ok-chng  true-bad-chng  true-ok-chng  null   any  no-chng %  \\\n",
      "upgrade                                                                \n",
      "0              0              0             0     0     0        0.0   \n",
      "1           9778            112          9815     0  9931        0.0   \n",
      "2           9537            292          9637     0  9931        0.0   \n",
      "3           8118              6          8129     0  8138        0.0   \n",
      "4           9469              7          9479     0  9609        1.3   \n",
      "5           9707             98          9832     0  9931        0.0   \n",
      "\n",
      "         bad-chng %  ok-chng %  true-ok-chng %  true-bad-chng %  \n",
      "upgrade                                                          \n",
      "0               0.0        0.0             0.0              0.0  \n",
      "1               1.5       98.5            98.8              1.1  \n",
      "2               3.9       96.0            97.0              2.9  \n",
      "3               0.2       99.8            99.9              0.1  \n",
      "4               0.2       98.5            98.6              0.1  \n",
      "5               2.2       97.7            99.0              1.0  \n",
      "\u001b[92mAnnual and timeseries tables are verified to have the same number of buildings.\u001b[0m\n"
     ]
    },
    {
     "name": "stderr",
     "output_type": "stream",
     "text": [
      "INFO:buildstock_query.query_core:12 queries cache saved to ('baseline_20230525_baseline', 'cateory_2_20230525_timeseries', 'cateory_2_20230525_upgrades')_query_cache.pkl\n"
     ]
    },
    {
     "name": "stdout",
     "output_type": "stream",
     "text": [
      "\u001b[92mAll buildings are verified to have the same number of (8760) timeseries rows.\u001b[0m\n"
     ]
    }
   ],
   "source": [
    "# Mix and match: baseline from a different run from upgrades\n",
    "my_run2 = BuildStockQuery(db_name='largeee_test_runs',\n",
    "                          workgroup='largeee',\n",
    "                          table_name=(baseline_20230525_baseline,cateory_2_20230525_timeseries,cateory_2_20230525_upgrades\"),\n",
    "                          buildstock_type='resstock',\n",
    "                          skip_reports=False)\n"
   ]
  },
  {
   "cell_type": "code",
   "execution_count": null,
   "id": "4acc82f9",
   "metadata": {},
   "outputs": [],
   "source": []
  }
 ],
 "metadata": {
  "kernelspec": {
   "display_name": "Python 3.10.6 ('buildstock_query')",
   "language": "python",
   "name": "python3"
  },
  "language_info": {
   "codemirror_mode": {
    "name": "ipython",
    "version": 3
   },
   "file_extension": ".py",
   "mimetype": "text/x-python",
   "name": "python",
   "nbconvert_exporter": "python",
   "pygments_lexer": "ipython3",
   "version": "3.10.6"
  },
  "vscode": {
   "interpreter": {
    "hash": "35ba3cc7519d35147a8e5461e917527371cd03213f16caf8b9adad162c9e25ef"
   }
  }
 },
 "nbformat": 4,
 "nbformat_minor": 5
}
