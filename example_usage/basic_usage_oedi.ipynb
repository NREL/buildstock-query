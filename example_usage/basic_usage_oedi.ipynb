{
 "cells": [
  {
   "cell_type": "markdown",
   "id": "74b58599",
   "metadata": {},
   "source": [
    "# Examples for a basic query against OEDI for ResStock\n",
    "\n",
    "## Import modules"
   ]
  },
  {
   "cell_type": "code",
   "execution_count": 1,
   "id": "0f584d48",
   "metadata": {},
   "outputs": [],
   "source": [
    "from buildstock_query import BuildStockQuery\n",
    "import pandas as pd"
   ]
  },
  {
   "cell_type": "markdown",
   "id": "2e8cd3ae",
   "metadata": {},
   "source": [
    "## Reload changes\n",
    "If you are a developer and are making changes to the code, signal to reload changes each time a block is executed"
   ]
  },
  {
   "cell_type": "code",
   "execution_count": 2,
   "id": "42087420",
   "metadata": {},
   "outputs": [],
   "source": [
    "# auto reload\n",
    "%load_ext autoreload\n",
    "%autoreload 2\n"
   ]
  },
  {
   "cell_type": "markdown",
   "id": "b18f07b5",
   "metadata": {},
   "source": [
    "## Initialize BuildStock Query Object\n",
    "Connect to the database, setup the tables, set the source schema, and set project workgroup"
   ]
  },
  {
   "cell_type": "code",
   "execution_count": 3,
   "id": "a287cd2d",
   "metadata": {},
   "outputs": [
    {
     "name": "stderr",
     "output_type": "stream",
     "text": [
      "INFO:buildstock_query.query_core:Loading ('resstock_2024_amy2018_release_2_metadata_state_vu', 'resstock_2024_amy2018_release_2_by_state_vu', 'resstock_2024_amy2018_release_2_metadata_state_vu') ...\n",
      "INFO:botocore.tokens:Loading cached SSO token for nrel-sso\n"
     ]
    }
   ],
   "source": [
    "my_run = BuildStockQuery(\n",
    "    'rescore', # Change to your project working group\n",
    "    'buildstock_sdr',\n",
    "    (\n",
    "        \"resstock_2024_amy2018_release_2_metadata_state_vu\", # Baseline metadata view\n",
    "        \"resstock_2024_amy2018_release_2_by_state_vu\", # Timeseries view\n",
    "        \"resstock_2024_amy2018_release_2_metadata_state_vu\" # Upgrade metadata view (same as Baseline for OEDI)\n",
    "    ),\n",
    "    db_schema=\"resstock_oedi\",\n",
    "    skip_reports=True\n",
    ")"
   ]
  },
  {
   "cell_type": "markdown",
   "id": "fdce1fa9",
   "metadata": {},
   "source": [
    "## Simple annual query"
   ]
  },
  {
   "cell_type": "code",
   "execution_count": 4,
   "id": "103988e5",
   "metadata": {},
   "outputs": [
    {
     "name": "stderr",
     "output_type": "stream",
     "text": [
      "WARNING:buildstock_query.query_core:Column in.geometry_building_type_recs found in multiple tables ['baseline', 'upgrade'].Using baseline\n",
      "INFO:botocore.tokens:Loading cached SSO token for nrel-sso\n"
     ]
    },
    {
     "data": {
      "text/html": [
       "<div>\n",
       "<style scoped>\n",
       "    .dataframe tbody tr th:only-of-type {\n",
       "        vertical-align: middle;\n",
       "    }\n",
       "\n",
       "    .dataframe tbody tr th {\n",
       "        vertical-align: top;\n",
       "    }\n",
       "\n",
       "    .dataframe thead th {\n",
       "        text-align: right;\n",
       "    }\n",
       "</style>\n",
       "<table border=\"1\" class=\"dataframe\">\n",
       "  <thead>\n",
       "    <tr style=\"text-align: right;\">\n",
       "      <th></th>\n",
       "      <th>geometry_building_type_recs</th>\n",
       "      <th>sample_count</th>\n",
       "      <th>units_count</th>\n",
       "      <th>electricity.total.energy_consumption</th>\n",
       "    </tr>\n",
       "  </thead>\n",
       "  <tbody>\n",
       "    <tr>\n",
       "      <th>0</th>\n",
       "      <td>Mobile Home</td>\n",
       "      <td>34492</td>\n",
       "      <td>8.702388e+06</td>\n",
       "      <td>9.781267e+10</td>\n",
       "    </tr>\n",
       "    <tr>\n",
       "      <th>1</th>\n",
       "      <td>Multi-Family with 2 - 4 Units</td>\n",
       "      <td>43991</td>\n",
       "      <td>1.109900e+07</td>\n",
       "      <td>8.643677e+10</td>\n",
       "    </tr>\n",
       "    <tr>\n",
       "      <th>2</th>\n",
       "      <td>Multi-Family with 5+ Units</td>\n",
       "      <td>101069</td>\n",
       "      <td>2.549987e+07</td>\n",
       "      <td>1.807385e+11</td>\n",
       "    </tr>\n",
       "    <tr>\n",
       "      <th>3</th>\n",
       "      <td>Single-Family Attached</td>\n",
       "      <td>32134</td>\n",
       "      <td>8.107461e+06</td>\n",
       "      <td>7.740386e+10</td>\n",
       "    </tr>\n",
       "    <tr>\n",
       "      <th>4</th>\n",
       "      <td>Single-Family Detached</td>\n",
       "      <td>338032</td>\n",
       "      <td>8.528603e+07</td>\n",
       "      <td>1.168146e+12</td>\n",
       "    </tr>\n",
       "  </tbody>\n",
       "</table>\n",
       "</div>"
      ],
      "text/plain": [
       "     geometry_building_type_recs  sample_count   units_count  \\\n",
       "0                    Mobile Home         34492  8.702388e+06   \n",
       "1  Multi-Family with 2 - 4 Units         43991  1.109900e+07   \n",
       "2     Multi-Family with 5+ Units        101069  2.549987e+07   \n",
       "3         Single-Family Attached         32134  8.107461e+06   \n",
       "4         Single-Family Detached        338032  8.528603e+07   \n",
       "\n",
       "   electricity.total.energy_consumption  \n",
       "0                          9.781267e+10  \n",
       "1                          8.643677e+10  \n",
       "2                          1.807385e+11  \n",
       "3                          7.740386e+10  \n",
       "4                          1.168146e+12  "
      ]
     },
     "execution_count": 4,
     "metadata": {},
     "output_type": "execute_result"
    }
   ],
   "source": [
    "baseline_agg = my_run.agg.aggregate_annual(\n",
    "    enduses=['electricity.total.energy_consumption'],\n",
    "    group_by=['geometry_building_type_recs']\n",
    ")\n",
    "baseline_agg"
   ]
  },
  {
   "cell_type": "markdown",
   "id": "e220f4ed",
   "metadata": {},
   "source": [
    "## Simple timeseries query"
   ]
  },
  {
   "cell_type": "code",
   "execution_count": 5,
   "id": "b8cb6751",
   "metadata": {},
   "outputs": [
    {
     "name": "stderr",
     "output_type": "stream",
     "text": [
      "WARNING:buildstock_query.query_core:Column in.geometry_building_type_recs found in multiple tables ['baseline', 'upgrade'].Using baseline\n",
      "WARNING:buildstock_query.query_core:Column state found in multiple tables ['baseline', 'upgrade', 'resstock_2024_amy2018_release_2_by_state_vu'].Using baseline\n",
      "INFO:buildstock_query.aggregate_query:Restricting query to Upgrade 0.\n",
      "WARNING:buildstock_query.query_core:Column state found in multiple tables ['baseline', 'upgrade', 'resstock_2024_amy2018_release_2_by_state_vu'].Using baseline\n"
     ]
    },
    {
     "name": "stdout",
     "output_type": "stream",
     "text": [
      "      geometry_building_type_recs state  timestamp  sample_count  \\\n",
      "0                     Mobile Home    CO 2018-01-01           391   \n",
      "1                     Mobile Home    CO 2018-02-01           391   \n",
      "2                     Mobile Home    CO 2018-03-01           391   \n",
      "3                     Mobile Home    CO 2018-04-01           391   \n",
      "4                     Mobile Home    CO 2018-05-01           391   \n",
      "5                     Mobile Home    CO 2018-06-01           391   \n",
      "6                     Mobile Home    CO 2018-07-01           391   \n",
      "7                     Mobile Home    CO 2018-08-01           391   \n",
      "8                     Mobile Home    CO 2018-09-01           391   \n",
      "9                     Mobile Home    CO 2018-10-01           391   \n",
      "10                    Mobile Home    CO 2018-11-01           391   \n",
      "11                    Mobile Home    CO 2018-12-01           391   \n",
      "12  Multi-Family with 2 - 4 Units    CO 2018-01-01           469   \n",
      "13  Multi-Family with 2 - 4 Units    CO 2018-02-01           469   \n",
      "14  Multi-Family with 2 - 4 Units    CO 2018-03-01           469   \n",
      "15  Multi-Family with 2 - 4 Units    CO 2018-04-01           469   \n",
      "16  Multi-Family with 2 - 4 Units    CO 2018-05-01           469   \n",
      "17  Multi-Family with 2 - 4 Units    CO 2018-06-01           469   \n",
      "18  Multi-Family with 2 - 4 Units    CO 2018-07-01           469   \n",
      "19  Multi-Family with 2 - 4 Units    CO 2018-08-01           469   \n",
      "20  Multi-Family with 2 - 4 Units    CO 2018-09-01           469   \n",
      "21  Multi-Family with 2 - 4 Units    CO 2018-10-01           469   \n",
      "22  Multi-Family with 2 - 4 Units    CO 2018-11-01           469   \n",
      "23  Multi-Family with 2 - 4 Units    CO 2018-12-01           469   \n",
      "24     Multi-Family with 5+ Units    CO 2018-01-01          2001   \n",
      "25     Multi-Family with 5+ Units    CO 2018-02-01          2001   \n",
      "26     Multi-Family with 5+ Units    CO 2018-03-01          2001   \n",
      "27     Multi-Family with 5+ Units    CO 2018-04-01          2001   \n",
      "28     Multi-Family with 5+ Units    CO 2018-05-01          2001   \n",
      "29     Multi-Family with 5+ Units    CO 2018-06-01          2001   \n",
      "30     Multi-Family with 5+ Units    CO 2018-07-01          2001   \n",
      "31     Multi-Family with 5+ Units    CO 2018-08-01          2001   \n",
      "32     Multi-Family with 5+ Units    CO 2018-09-01          2001   \n",
      "33     Multi-Family with 5+ Units    CO 2018-10-01          2001   \n",
      "34     Multi-Family with 5+ Units    CO 2018-11-01          2001   \n",
      "35     Multi-Family with 5+ Units    CO 2018-12-01          2001   \n",
      "36         Single-Family Attached    CO 2018-01-01           664   \n",
      "37         Single-Family Attached    CO 2018-02-01           664   \n",
      "38         Single-Family Attached    CO 2018-03-01           664   \n",
      "39         Single-Family Attached    CO 2018-04-01           664   \n",
      "40         Single-Family Attached    CO 2018-05-01           664   \n",
      "41         Single-Family Attached    CO 2018-06-01           664   \n",
      "42         Single-Family Attached    CO 2018-07-01           664   \n",
      "43         Single-Family Attached    CO 2018-08-01           664   \n",
      "44         Single-Family Attached    CO 2018-09-01           664   \n",
      "45         Single-Family Attached    CO 2018-10-01           664   \n",
      "46         Single-Family Attached    CO 2018-11-01           664   \n",
      "47         Single-Family Attached    CO 2018-12-01           664   \n",
      "48         Single-Family Detached    CO 2018-01-01          5900   \n",
      "49         Single-Family Detached    CO 2018-02-01          5900   \n",
      "50         Single-Family Detached    CO 2018-03-01          5900   \n",
      "51         Single-Family Detached    CO 2018-04-01          5900   \n",
      "52         Single-Family Detached    CO 2018-05-01          5900   \n",
      "53         Single-Family Detached    CO 2018-06-01          5900   \n",
      "54         Single-Family Detached    CO 2018-07-01          5900   \n",
      "55         Single-Family Detached    CO 2018-08-01          5900   \n",
      "56         Single-Family Detached    CO 2018-09-01          5900   \n",
      "57         Single-Family Detached    CO 2018-10-01          5900   \n",
      "58         Single-Family Detached    CO 2018-11-01          5900   \n",
      "59         Single-Family Detached    CO 2018-12-01          5900   \n",
      "\n",
      "     units_count  rows_per_sample  electricity.total.energy_consumption  \n",
      "0   9.864994e+04             2976                          8.204234e+07  \n",
      "1   9.864994e+04             2688                          7.427992e+07  \n",
      "2   9.864994e+04             2976                          6.740720e+07  \n",
      "3   9.864994e+04             2880                          6.014728e+07  \n",
      "4   9.864994e+04             2976                          5.758652e+07  \n",
      "5   9.864994e+04             2880                          5.869215e+07  \n",
      "6   9.864994e+04             2976                          6.254132e+07  \n",
      "7   9.864994e+04             2976                          5.804220e+07  \n",
      "8   9.864994e+04             2880                          5.427531e+07  \n",
      "9   9.864994e+04             2976                          6.017484e+07  \n",
      "10  9.864994e+04             2880                          7.048321e+07  \n",
      "11  9.864994e+04             2976                          8.414951e+07  \n",
      "12  1.183295e+05             2976                          1.026954e+08  \n",
      "13  1.183295e+05             2688                          9.349600e+07  \n",
      "14  1.183295e+05             2976                          7.374387e+07  \n",
      "15  1.183295e+05             2880                          6.253658e+07  \n",
      "16  1.183295e+05             2976                          5.441667e+07  \n",
      "17  1.183295e+05             2880                          5.547078e+07  \n",
      "18  1.183295e+05             2976                          5.976581e+07  \n",
      "19  1.183295e+05             2976                          5.591522e+07  \n",
      "20  1.183295e+05             2880                          5.219899e+07  \n",
      "21  1.183295e+05             2976                          6.215280e+07  \n",
      "22  1.183295e+05             2880                          8.017299e+07  \n",
      "23  1.183295e+05             2976                          1.021781e+08  \n",
      "24  5.048556e+05             2976                          3.772846e+08  \n",
      "25  5.048556e+05             2688                          3.549817e+08  \n",
      "26  5.048556e+05             2976                          2.838094e+08  \n",
      "27  5.048556e+05             2880                          2.448436e+08  \n",
      "28  5.048556e+05             2976                          2.141945e+08  \n",
      "29  5.048556e+05             2880                          2.106380e+08  \n",
      "30  5.048556e+05             2976                          2.237192e+08  \n",
      "31  5.048556e+05             2976                          2.127418e+08  \n",
      "32  5.048556e+05             2880                          2.026115e+08  \n",
      "33  5.048556e+05             2976                          2.420550e+08  \n",
      "34  5.048556e+05             2880                          3.032146e+08  \n",
      "35  5.048556e+05             2976                          3.792284e+08  \n",
      "36  1.675283e+05             2976                          1.506320e+08  \n",
      "37  1.675283e+05             2688                          1.411792e+08  \n",
      "38  1.675283e+05             2976                          1.133255e+08  \n",
      "39  1.675283e+05             2880                          9.701187e+07  \n",
      "40  1.675283e+05             2976                          8.843976e+07  \n",
      "41  1.675283e+05             2880                          9.705201e+07  \n",
      "42  1.675283e+05             2976                          1.069971e+08  \n",
      "43  1.675283e+05             2976                          9.932021e+07  \n",
      "44  1.675283e+05             2880                          9.096123e+07  \n",
      "45  1.675283e+05             2976                          9.496582e+07  \n",
      "46  1.675283e+05             2880                          1.180021e+08  \n",
      "47  1.675283e+05             2976                          1.477230e+08  \n",
      "48  1.488580e+06             2976                          1.816823e+09  \n",
      "49  1.488580e+06             2688                          1.671747e+09  \n",
      "50  1.488580e+06             2976                          1.311112e+09  \n",
      "51  1.488580e+06             2880                          1.123638e+09  \n",
      "52  1.488580e+06             2976                          1.063117e+09  \n",
      "53  1.488580e+06             2880                          1.259420e+09  \n",
      "54  1.488580e+06             2976                          1.415243e+09  \n",
      "55  1.488580e+06             2976                          1.277025e+09  \n",
      "56  1.488580e+06             2880                          1.136400e+09  \n",
      "57  1.488580e+06             2976                          1.109659e+09  \n",
      "58  1.488580e+06             2880                          1.397369e+09  \n",
      "59  1.488580e+06             2976                          1.772806e+09  \n"
     ]
    }
   ],
   "source": [
    "ts_agg = my_run.agg.aggregate_timeseries(\n",
    "    enduses=['out.electricity.total.energy_consumption'],\n",
    "    restrict=[('state', ['CO'])],\n",
    "    upgrade_id=0,\n",
    "    timestamp_grouping_func='month',\n",
    "    group_by=['geometry_building_type_recs', 'state'],\n",
    "    get_query_only=False\n",
    ")\n",
    "print(ts_agg)"
   ]
  },
  {
   "cell_type": "markdown",
   "id": "8a2c7b1c",
   "metadata": {},
   "source": [
    "## Utility unit count query"
   ]
  },
  {
   "cell_type": "code",
   "execution_count": 6,
   "id": "cc57a94e",
   "metadata": {},
   "outputs": [
    {
     "name": "stderr",
     "output_type": "stream",
     "text": [
      "INFO:buildstock_query.utility_query:Aggregating unit counts by eiaid\n",
      "WARNING:buildstock_query.query_core:Column weight found in multiple tables ['baseline', 'upgrade'].Using baseline\n"
     ]
    },
    {
     "name": "stdout",
     "output_type": "stream",
     "text": [
      "   eiaid  sample_count   units_count\n",
      "0  14328         28730  1.828840e+09\n",
      "1   4110         15880  1.010859e+09\n"
     ]
    }
   ],
   "source": [
    "units = my_run.utility.aggregate_unit_counts_by_eiaid(\n",
    "    eiaid_list=['4110', '14328'], # ComEd and PG&E,\n",
    "    get_query_only=False\n",
    ")\n",
    "print(units)\n",
    "units.to_csv(\"utility_units.csv\")"
   ]
  },
  {
   "cell_type": "markdown",
   "id": "6114fb6f",
   "metadata": {},
   "source": [
    "## Utility annual query"
   ]
  },
  {
   "cell_type": "code",
   "execution_count": 7,
   "id": "19d6273a",
   "metadata": {},
   "outputs": [
    {
     "name": "stderr",
     "output_type": "stream",
     "text": [
      "WARNING:buildstock_query.query_core:Column weight found in multiple tables ['baseline', 'upgrade'].Using baseline\n"
     ]
    },
    {
     "name": "stdout",
     "output_type": "stream",
     "text": [
      "      eiaid  sample_count   units_count  site_energy.net.energy_consumption  \\\n",
      "0     10000          4227  2.690744e+08                        9.389554e+12   \n",
      "1     10005          1801  1.146447e+08                        3.853915e+12   \n",
      "2     10009          3206  2.040815e+08                        3.782175e+12   \n",
      "3     10012           319  2.030630e+07                        6.944541e+11   \n",
      "4     10019           630  4.010335e+07                        1.411753e+12   \n",
      "...     ...           ...           ...                                 ...   \n",
      "1754   9964           658  4.188572e+07                        1.232310e+12   \n",
      "1755    998           108  6.874861e+06                        2.305716e+11   \n",
      "1756   9991           385  2.450761e+07                        1.057302e+12   \n",
      "1757   9996           278  1.769640e+07                        5.840864e+11   \n",
      "1758   9999          1976  1.257845e+08                        4.618860e+12   \n",
      "\n",
      "      site_energy.total.energy_consumption  \n",
      "0                             9.395409e+12  \n",
      "1                             3.853915e+12  \n",
      "2                             3.807804e+12  \n",
      "3                             6.944541e+11  \n",
      "4                             1.411753e+12  \n",
      "...                                    ...  \n",
      "1754                          1.232310e+12  \n",
      "1755                          2.305716e+11  \n",
      "1756                          1.057302e+12  \n",
      "1757                          5.840864e+11  \n",
      "1758                          4.619201e+12  \n",
      "\n",
      "[1759 rows x 5 columns]\n"
     ]
    }
   ],
   "source": [
    "enduses = [\n",
    "    'out.site_energy.net.energy_consumption',\n",
    "    'out.site_energy.total.energy_consumption'\n",
    "]\n",
    "\n",
    "# By default just does all the eiaids\n",
    "ts_utility_agg = my_run.utility.aggregate_annual_by_eiaid(\n",
    "    enduses=enduses,\n",
    "    get_query_only=False\n",
    ")\n",
    "print(ts_utility_agg)\n",
    "ts_utility_agg.to_csv(\"utility_annual_agg.csv\")"
   ]
  },
  {
   "cell_type": "markdown",
   "id": "ed636788",
   "metadata": {},
   "source": [
    "## Utility timeseries query"
   ]
  },
  {
   "cell_type": "code",
   "execution_count": 8,
   "id": "d7ee33fb",
   "metadata": {},
   "outputs": [
    {
     "name": "stderr",
     "output_type": "stream",
     "text": [
      "INFO:buildstock_query.utility_query:Will submit request for ['4110', '14328']\n",
      "INFO:buildstock_query.utility_query:Submitting query for ['4110', '14328']\n",
      "INFO:buildstock_query.aggregate_query:Restricting query to Upgrade 0.\n",
      "INFO:buildstock_query.query_core:{'submitted': 0, 'running': 0, 'pending': 1, 'completed': 0, 'failed': 0}\n",
      "INFO:botocore.tokens:Loading cached SSO token for nrel-sso\n",
      "INFO:buildstock_query.query_core:{'submitted': 0, 'running': 0, 'pending': 1, 'completed': 0, 'failed': 0}\n",
      "INFO:buildstock_query.query_core:Submitted queries[0] (5a9041e3-6a79-45cc-ad9d-571ebbb78084)\n",
      "INFO:botocore.tokens:Loading cached SSO token for nrel-sso\n",
      "INFO:buildstock_query.query_core:{'submitted': 1, 'running': 1, 'pending': 0, 'completed': 0, 'failed': 0}\n",
      "INFO:buildstock_query.query_core:{'submitted': 1, 'running': 1, 'pending': 0, 'completed': 0, 'failed': 0}\n",
      "INFO:buildstock_query.query_core:{'submitted': 1, 'running': 1, 'pending': 0, 'completed': 0, 'failed': 0}\n",
      "INFO:buildstock_query.query_core:{'submitted': 1, 'running': 1, 'pending': 0, 'completed': 0, 'failed': 0}\n",
      "INFO:buildstock_query.query_core:{'submitted': 1, 'running': 1, 'pending': 0, 'completed': 0, 'failed': 0}\n",
      "INFO:buildstock_query.query_core:{'submitted': 1, 'running': 1, 'pending': 0, 'completed': 0, 'failed': 0}\n",
      "INFO:buildstock_query.query_core:{'submitted': 1, 'running': 1, 'pending': 0, 'completed': 0, 'failed': 0}\n",
      "INFO:buildstock_query.query_core:{'submitted': 1, 'running': 1, 'pending': 0, 'completed': 0, 'failed': 0}\n",
      "INFO:buildstock_query.query_core:{'submitted': 1, 'running': 0, 'pending': 0, 'completed': 1, 'failed': 0}\n",
      "INFO:buildstock_query.query_core:Batch query completed. \n",
      "INFO:buildstock_query.query_core:Got result from Query [0] (5a9041e3-6a79-45cc-ad9d-571ebbb78084)\n",
      "INFO:buildstock_query.query_core:5a9041e3-6a79-45cc-ad9d-571ebbb78084 cost 350.8 GB ($1.8). Session total: 350.8 GB ($1.8)\n",
      "INFO:buildstock_query.query_core:Concatenating the results.\n"
     ]
    },
    {
     "name": "stdout",
     "output_type": "stream",
     "text": [
      "       eiaid           timestamp  sample_count   units_count  \\\n",
      "0      14328 2018-01-01 00:15:00         28730  3.417140e+06   \n",
      "1      14328 2018-01-01 00:30:00         28730  3.417140e+06   \n",
      "2      14328 2018-01-01 00:45:00         28730  3.417140e+06   \n",
      "3      14328 2018-01-01 01:00:00         28730  3.417140e+06   \n",
      "4      14328 2018-01-01 01:15:00         28730  3.417140e+06   \n",
      "...      ...                 ...           ...           ...   \n",
      "70075   4110 2018-12-31 23:00:00         15880  2.563967e+06   \n",
      "70076   4110 2018-12-31 23:15:00         15880  2.563967e+06   \n",
      "70077   4110 2018-12-31 23:30:00         15880  2.563967e+06   \n",
      "70078   4110 2018-12-31 23:45:00         15880  2.563967e+06   \n",
      "70079   4110 2019-01-01 00:00:00         15880  2.563967e+06   \n",
      "\n",
      "       site_energy.net.energy_consumption  \\\n",
      "0                            2.730670e+06   \n",
      "1                            2.796730e+06   \n",
      "2                            2.832369e+06   \n",
      "3                            2.909646e+06   \n",
      "4                            2.794881e+06   \n",
      "...                                   ...   \n",
      "70075                        4.080111e+06   \n",
      "70076                        3.936924e+06   \n",
      "70077                        3.981187e+06   \n",
      "70078                        3.945891e+06   \n",
      "70079                        3.937726e+06   \n",
      "\n",
      "       site_energy.total.energy_consumption  query_id  \n",
      "0                              2.730670e+06         0  \n",
      "1                              2.796730e+06         0  \n",
      "2                              2.832369e+06         0  \n",
      "3                              2.909646e+06         0  \n",
      "4                              2.794881e+06         0  \n",
      "...                                     ...       ...  \n",
      "70075                          4.080111e+06         0  \n",
      "70076                          3.936924e+06         0  \n",
      "70077                          3.981187e+06         0  \n",
      "70078                          3.945891e+06         0  \n",
      "70079                          3.937726e+06         0  \n",
      "\n",
      "[70080 rows x 7 columns]\n"
     ]
    }
   ],
   "source": [
    "enduses = [\n",
    "    'out.site_energy.net.energy_consumption',\n",
    "    'out.site_energy.total.energy_consumption'\n",
    "]\n",
    "group_by=['timestamp'] # If no timestamp, then annual values will be returned\n",
    "\n",
    "ts_utility_agg = my_run.utility.aggregate_ts_by_eiaid(\n",
    "    eiaid_list=['4110', '14328'], # ComEd and PG&E\n",
    "    enduses=enduses,\n",
    "    group_by=group_by,\n",
    "    get_query_only=False\n",
    ")\n",
    "print(ts_utility_agg)\n",
    "ts_utility_agg.to_csv(\"utility_ts_agg.csv\")"
   ]
  }
 ],
 "metadata": {
  "kernelspec": {
   "display_name": "bsq_env",
   "language": "python",
   "name": "python3"
  },
  "language_info": {
   "codemirror_mode": {
    "name": "ipython",
    "version": 3
   },
   "file_extension": ".py",
   "mimetype": "text/x-python",
   "name": "python",
   "nbconvert_exporter": "python",
   "pygments_lexer": "ipython3",
   "version": "3.10.16"
  }
 },
 "nbformat": 4,
 "nbformat_minor": 5
}
