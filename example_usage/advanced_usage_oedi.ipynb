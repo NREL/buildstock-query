{
 "cells": [
  {
   "cell_type": "code",
   "execution_count": 11,
   "id": "c7608e32",
   "metadata": {},
   "outputs": [],
   "source": [
    "from buildstock_query import BuildStockQuery, ExeId, MappedColumn\n",
    "import pandas as pd\n",
    "import sqlalchemy as sa"
   ]
  },
  {
   "cell_type": "code",
   "execution_count": 12,
   "id": "17701803",
   "metadata": {},
   "outputs": [
    {
     "name": "stderr",
     "output_type": "stream",
     "text": [
      "INFO:buildstock_query.query_core:Loading resstock_amy2018_release_2022_1 ...\n",
      "INFO:botocore.tokens:Loading cached SSO token for nrel-sso\n",
      "INFO:buildstock_query.query_core:17 queries cache read from None.\n",
      "INFO:buildstock_query.query_core:17 queries cache is updated.\n",
      "INFO:buildstock_query.main:Getting Success counts...\n",
      "INFO:buildstock_query.report_query:Checking integrity with ts_tables ...\n",
      "INFO:buildstock_query.query_core:No new queries to save.\n"
     ]
    },
    {
     "name": "stdout",
     "output_type": "stream",
     "text": [
      "         success  unapplicable  fail     Sum  Applied %  no-chng  bad-chng  \\\n",
      "upgrade                                                                      \n",
      "0         548916             0     0  548916        0.0        0         0   \n",
      "1         531823         17093     0  548916       96.9     6027       957   \n",
      "2         536797         12119     0  548916       97.8     6462       888   \n",
      "3         548260           656     0  548916       99.9      780     29877   \n",
      "4         548260           656     0  548916       99.9        3     20678   \n",
      "5         532156         16760     0  548916       96.9      793     47736   \n",
      "6         545331          3585     0  548916       99.3       15      2765   \n",
      "7         400579        148337     0  548916       73.0     4161      7604   \n",
      "8         548913             3     0  548916      100.0        1      6457   \n",
      "9         548916             0     0  548916      100.0        0      5443   \n",
      "10        548916             0     0  548916      100.0        0      5310   \n",
      "\n",
      "         ok-chng  true-bad-chng  true-ok-chng  null     any  no-chng %  \\\n",
      "upgrade                                                                  \n",
      "0              0              0             0     0       0        0.0   \n",
      "1         524839            957        524839     0  531823        1.1   \n",
      "2         529447            888        529447     0  536797        1.2   \n",
      "3         517603          29877        517603     0  548260        0.1   \n",
      "4         527579          20678        527579     0  548260        0.0   \n",
      "5         483627          47736        483627     0  532156        0.1   \n",
      "6         542551           2765        542551     0  545331        0.0   \n",
      "7         388814           7604        388814     0  400579        1.0   \n",
      "8         542455           6457        542455     0  548913        0.0   \n",
      "9         543473           5443        543473     0  548916        0.0   \n",
      "10        543606           5310        543606     0  548916        0.0   \n",
      "\n",
      "         bad-chng %  ok-chng %  true-ok-chng %  true-bad-chng %  \n",
      "upgrade                                                          \n",
      "0               0.0        0.0             0.0              0.0  \n",
      "1               0.2       98.7            98.7              0.2  \n",
      "2               0.2       98.6            98.6              0.2  \n",
      "3               5.4       94.4            94.4              5.4  \n",
      "4               3.8       96.2            96.2              3.8  \n",
      "5               9.0       90.9            90.9              9.0  \n",
      "6               0.5       99.5            99.5              0.5  \n",
      "7               1.9       97.1            97.1              1.9  \n",
      "8               1.2       98.8            98.8              1.2  \n",
      "9               1.0       99.0            99.0              1.0  \n",
      "10              1.0       99.0            99.0              1.0  \n",
      "\u001b[92mAnnual and timeseries tables are verified to have the same number of buildings.\u001b[0m\n",
      "\u001b[92mAll buildings are verified to have the same number of (35040) timeseries rows.\u001b[0m\n"
     ]
    }
   ],
   "source": [
    "my_run = BuildStockQuery('rescore','euss-oedi',\n",
    "                                \"resstock_amy2018_release_2022_1\",\n",
    "                                db_schema=\"resstock_oedi\",\n",
    "                                skip_reports=False)"
   ]
  },
  {
   "cell_type": "code",
   "execution_count": 13,
   "id": "940c01be",
   "metadata": {},
   "outputs": [
    {
     "name": "stdout",
     "output_type": "stream",
     "text": [
      "SELECT baseline.bldg_id \n",
      "FROM (SELECT resstock_amy2018_release_2022_1_metadata.applicability AS applicability, resstock_amy2018_release_2022_1_metadata.\"in.sqft\" AS \"in.sqft\", resstock_amy2018_release_2022_1_metadata.weight AS weight, resstock_amy2018_release_2022_1_metadata.\"in.ahs_region\" AS \"in.ahs_region\", resstock_amy2018_release_2022_1_metadata.\"in.ashrae_iecc_climate_zone_2004\" AS \"in.ashrae_iecc_climate_zone_2004\", resstock_amy2018_release_2022_1_metadata.\"in.ashrae_iecc_climate_zone_2004_2_a_split\" AS \"in.ashrae_iecc_climate_zone_2004_2_a_split\", resstock_amy2018_release_2022_1_metadata.\"in.bathroom_spot_vent_hour\" AS \"in.bathroom_spot_vent_hour\", resstock_amy2018_release_2022_1_metadata.\"in.bedrooms\" AS \"in.bedrooms\", resstock_amy2018_release_2022_1_metadata.\"in.building_america_climate_zone\" AS \"in.building_america_climate_zone\", resstock_amy2018_release_2022_1_metadata.\"in.cec_climate_zone\" AS \"in.cec_climate_zone\", resstock_amy2018_release_2022_1_metadata.\"in.ceiling_fan\" AS \"in.ceiling_fan\", resstock_amy2018_release_2022_1_metadata.\"in.census_division\" AS \"in.census_division\", resstock_amy2018_release_2022_1_metadata.\"in.census_division_recs\" AS \"in.census_division_recs\", resstock_amy2018_release_2022_1_metadata.\"in.census_region\" AS \"in.census_region\", resstock_amy2018_release_2022_1_metadata.\"in.city\" AS \"in.city\", resstock_amy2018_release_2022_1_metadata.\"in.clothes_dryer\" AS \"in.clothes_dryer\", resstock_amy2018_release_2022_1_metadata.\"in.clothes_washer\" AS \"in.clothes_washer\", resstock_amy2018_release_2022_1_metadata.\"in.clothes_washer_presence\" AS \"in.clothes_washer_presence\", resstock_amy2018_release_2022_1_metadata.\"in.cooking_range\" AS \"in.cooking_range\", resstock_amy2018_release_2022_1_metadata.\"in.cooling_setpoint\" AS \"in.cooling_setpoint\", resstock_amy2018_release_2022_1_metadata.\"in.cooling_setpoint_has_offset\" AS \"in.cooling_setpoint_has_offset\", resstock_amy2018_release_2022_1_metadata.\"in.cooling_setpoint_offset_magnitude\" AS \"in.cooling_setpoint_offset_magnitude\", resstock_amy2018_release_2022_1_metadata.\"in.cooling_setpoint_offset_period\" AS \"in.cooling_setpoint_offset_period\", resstock_amy2018_release_2022_1_metadata.\"in.corridor\" AS \"in.corridor\", resstock_amy2018_release_2022_1_metadata.\"in.county\" AS \"in.county\", resstock_amy2018_release_2022_1_metadata.\"in.county_and_puma\" AS \"in.county_and_puma\", resstock_amy2018_release_2022_1_metadata.\"in.dehumidifier\" AS \"in.dehumidifier\", resstock_amy2018_release_2022_1_metadata.\"in.dishwasher\" AS \"in.dishwasher\", resstock_amy2018_release_2022_1_metadata.\"in.door_area\" AS \"in.door_area\", resstock_amy2018_release_2022_1_metadata.\"in.doors\" AS \"in.doors\", resstock_amy2018_release_2022_1_metadata.\"in.ducts\" AS \"in.ducts\", resstock_amy2018_release_2022_1_metadata.\"in.eaves\" AS \"in.eaves\", resstock_amy2018_release_2022_1_metadata.\"in.electric_vehicle\" AS \"in.electric_vehicle\", resstock_amy2018_release_2022_1_metadata.\"in.emissions_electricity_folders\" AS \"in.emissions_electricity_folders\", resstock_amy2018_release_2022_1_metadata.\"in.emissions_electricity_units\" AS \"in.emissions_electricity_units\", resstock_amy2018_release_2022_1_metadata.\"in.emissions_electricity_values_or_filepaths\" AS \"in.emissions_electricity_values_or_filepaths\", resstock_amy2018_release_2022_1_metadata.\"in.emissions_fossil_fuel_units\" AS \"in.emissions_fossil_fuel_units\", resstock_amy2018_release_2022_1_metadata.\"in.emissions_fuel_oil_values\" AS \"in.emissions_fuel_oil_values\", resstock_amy2018_release_2022_1_metadata.\"in.emissions_natural_gas_values\" AS \"in.emissions_natural_gas_values\", resstock_amy2018_release_2022_1_metadata.\"in.emissions_propane_values\" AS \"in.emissions_propane_values\", resstock_amy2018_release_2022_1_metadata.\"in.emissions_scenario_names\" AS \"in.emissions_scenario_names\", resstock_amy2018_release_2022_1_metadata.\"in.emissions_types\" AS \"in.emissions_types\", resstock_amy2018_release_2022_1_metadata.\"in.emissions_wood_values\" AS \"in.emissions_wood_values\", resstock_amy2018_release_2022_1_metadata.\"in.federal_poverty_level\" AS \"in.federal_poverty_level\", resstock_amy2018_release_2022_1_metadata.\"in.generation_and_emissions_assessment_region\" AS \"in.generation_and_emissions_assessment_region\", resstock_amy2018_release_2022_1_metadata.\"in.geometry_attic_type\" AS \"in.geometry_attic_type\", resstock_amy2018_release_2022_1_metadata.\"in.geometry_building_horizontal_location_mf\" AS \"in.geometry_building_horizontal_location_mf\", resstock_amy2018_release_2022_1_metadata.\"in.geometry_building_horizontal_location_sfa\" AS \"in.geometry_building_horizontal_location_sfa\", resstock_amy2018_release_2022_1_metadata.\"in.geometry_building_level_mf\" AS \"in.geometry_building_level_mf\", resstock_amy2018_release_2022_1_metadata.\"in.geometry_building_number_units_mf\" AS \"in.geometry_building_number_units_mf\", resstock_amy2018_release_2022_1_metadata.\"in.geometry_building_number_units_sfa\" AS \"in.geometry_building_number_units_sfa\", resstock_amy2018_release_2022_1_metadata.\"in.geometry_building_type_acs\" AS \"in.geometry_building_type_acs\", resstock_amy2018_release_2022_1_metadata.\"in.geometry_building_type_height\" AS \"in.geometry_building_type_height\", resstock_amy2018_release_2022_1_metadata.\"in.geometry_building_type_recs\" AS \"in.geometry_building_type_recs\", resstock_amy2018_release_2022_1_metadata.\"in.geometry_floor_area\" AS \"in.geometry_floor_area\", resstock_amy2018_release_2022_1_metadata.\"in.geometry_floor_area_bin\" AS \"in.geometry_floor_area_bin\", resstock_amy2018_release_2022_1_metadata.\"in.geometry_foundation_type\" AS \"in.geometry_foundation_type\", resstock_amy2018_release_2022_1_metadata.\"in.geometry_garage\" AS \"in.geometry_garage\", resstock_amy2018_release_2022_1_metadata.\"in.geometry_stories\" AS \"in.geometry_stories\", resstock_amy2018_release_2022_1_metadata.\"in.geometry_stories_low_rise\" AS \"in.geometry_stories_low_rise\", resstock_amy2018_release_2022_1_metadata.\"in.geometry_story_bin\" AS \"in.geometry_story_bin\", resstock_amy2018_release_2022_1_metadata.\"in.geometry_wall_exterior_finish\" AS \"in.geometry_wall_exterior_finish\", resstock_amy2018_release_2022_1_metadata.\"in.geometry_wall_type\" AS \"in.geometry_wall_type\", resstock_amy2018_release_2022_1_metadata.\"in.has_pv\" AS \"in.has_pv\", resstock_amy2018_release_2022_1_metadata.\"in.heating_fuel\" AS \"in.heating_fuel\", resstock_amy2018_release_2022_1_metadata.\"in.heating_setpoint\" AS \"in.heating_setpoint\", resstock_amy2018_release_2022_1_metadata.\"in.heating_setpoint_has_offset\" AS \"in.heating_setpoint_has_offset\", resstock_amy2018_release_2022_1_metadata.\"in.heating_setpoint_offset_magnitude\" AS \"in.heating_setpoint_offset_magnitude\", resstock_amy2018_release_2022_1_metadata.\"in.heating_setpoint_offset_period\" AS \"in.heating_setpoint_offset_period\", resstock_amy2018_release_2022_1_metadata.\"in.holiday_lighting\" AS \"in.holiday_lighting\", resstock_amy2018_release_2022_1_metadata.\"in.hot_water_distribution\" AS \"in.hot_water_distribution\", resstock_amy2018_release_2022_1_metadata.\"in.hot_water_fixtures\" AS \"in.hot_water_fixtures\", resstock_amy2018_release_2022_1_metadata.\"in.hvac_cooling_efficiency\" AS \"in.hvac_cooling_efficiency\", resstock_amy2018_release_2022_1_metadata.\"in.hvac_cooling_partial_space_conditioning\" AS \"in.hvac_cooling_partial_space_conditioning\", resstock_amy2018_release_2022_1_metadata.\"in.hvac_cooling_type\" AS \"in.hvac_cooling_type\", resstock_amy2018_release_2022_1_metadata.\"in.hvac_has_ducts\" AS \"in.hvac_has_ducts\", resstock_amy2018_release_2022_1_metadata.\"in.hvac_has_shared_system\" AS \"in.hvac_has_shared_system\", resstock_amy2018_release_2022_1_metadata.\"in.hvac_has_zonal_electric_heating\" AS \"in.hvac_has_zonal_electric_heating\", resstock_amy2018_release_2022_1_metadata.\"in.hvac_heating_efficiency\" AS \"in.hvac_heating_efficiency\", resstock_amy2018_release_2022_1_metadata.\"in.hvac_heating_type\" AS \"in.hvac_heating_type\", resstock_amy2018_release_2022_1_metadata.\"in.hvac_heating_type_and_fuel\" AS \"in.hvac_heating_type_and_fuel\", resstock_amy2018_release_2022_1_metadata.\"in.hvac_secondary_heating_efficiency\" AS \"in.hvac_secondary_heating_efficiency\", resstock_amy2018_release_2022_1_metadata.\"in.hvac_secondary_heating_type_and_fuel\" AS \"in.hvac_secondary_heating_type_and_fuel\", resstock_amy2018_release_2022_1_metadata.\"in.hvac_shared_efficiencies\" AS \"in.hvac_shared_efficiencies\", resstock_amy2018_release_2022_1_metadata.\"in.hvac_system_is_faulted\" AS \"in.hvac_system_is_faulted\", resstock_amy2018_release_2022_1_metadata.\"in.hvac_system_single_speed_ac_airflow\" AS \"in.hvac_system_single_speed_ac_airflow\", resstock_amy2018_release_2022_1_metadata.\"in.hvac_system_single_speed_ac_charge\" AS \"in.hvac_system_single_speed_ac_charge\", resstock_amy2018_release_2022_1_metadata.\"in.hvac_system_single_speed_ashp_airflow\" AS \"in.hvac_system_single_speed_ashp_airflow\", resstock_amy2018_release_2022_1_metadata.\"in.hvac_system_single_speed_ashp_charge\" AS \"in.hvac_system_single_speed_ashp_charge\", resstock_amy2018_release_2022_1_metadata.\"in.income\" AS \"in.income\", resstock_amy2018_release_2022_1_metadata.\"in.income_recs_2015\" AS \"in.income_recs_2015\", resstock_amy2018_release_2022_1_metadata.\"in.income_recs_2020\" AS \"in.income_recs_2020\", resstock_amy2018_release_2022_1_metadata.\"in.infiltration\" AS \"in.infiltration\", resstock_amy2018_release_2022_1_metadata.\"in.insulation_ceiling\" AS \"in.insulation_ceiling\", resstock_amy2018_release_2022_1_metadata.\"in.insulation_floor\" AS \"in.insulation_floor\", resstock_amy2018_release_2022_1_metadata.\"in.insulation_foundation_wall\" AS \"in.insulation_foundation_wall\", resstock_amy2018_release_2022_1_metadata.\"in.insulation_rim_joist\" AS \"in.insulation_rim_joist\", resstock_amy2018_release_2022_1_metadata.\"in.insulation_roof\" AS \"in.insulation_roof\", resstock_amy2018_release_2022_1_metadata.\"in.insulation_slab\" AS \"in.insulation_slab\", resstock_amy2018_release_2022_1_metadata.\"in.insulation_wall\" AS \"in.insulation_wall\", resstock_amy2018_release_2022_1_metadata.\"in.interior_shading\" AS \"in.interior_shading\", resstock_amy2018_release_2022_1_metadata.\"in.iso_rto_region\" AS \"in.iso_rto_region\", resstock_amy2018_release_2022_1_metadata.\"in.lighting\" AS \"in.lighting\", resstock_amy2018_release_2022_1_metadata.\"in.lighting_interior_use\" AS \"in.lighting_interior_use\", resstock_amy2018_release_2022_1_metadata.\"in.lighting_other_use\" AS \"in.lighting_other_use\", resstock_amy2018_release_2022_1_metadata.\"in.location_region\" AS \"in.location_region\", resstock_amy2018_release_2022_1_metadata.\"in.mechanical_ventilation\" AS \"in.mechanical_ventilation\", resstock_amy2018_release_2022_1_metadata.\"in.misc_extra_refrigerator\" AS \"in.misc_extra_refrigerator\", resstock_amy2018_release_2022_1_metadata.\"in.misc_freezer\" AS \"in.misc_freezer\", resstock_amy2018_release_2022_1_metadata.\"in.misc_gas_fireplace\" AS \"in.misc_gas_fireplace\", resstock_amy2018_release_2022_1_metadata.\"in.misc_gas_grill\" AS \"in.misc_gas_grill\", resstock_amy2018_release_2022_1_metadata.\"in.misc_gas_lighting\" AS \"in.misc_gas_lighting\", resstock_amy2018_release_2022_1_metadata.\"in.misc_hot_tub_spa\" AS \"in.misc_hot_tub_spa\", resstock_amy2018_release_2022_1_metadata.\"in.misc_pool\" AS \"in.misc_pool\", resstock_amy2018_release_2022_1_metadata.\"in.misc_pool_heater\" AS \"in.misc_pool_heater\", resstock_amy2018_release_2022_1_metadata.\"in.misc_pool_pump\" AS \"in.misc_pool_pump\", resstock_amy2018_release_2022_1_metadata.\"in.misc_well_pump\" AS \"in.misc_well_pump\", resstock_amy2018_release_2022_1_metadata.\"in.natural_ventilation\" AS \"in.natural_ventilation\", resstock_amy2018_release_2022_1_metadata.\"in.neighbors\" AS \"in.neighbors\", resstock_amy2018_release_2022_1_metadata.\"in.occupants\" AS \"in.occupants\", resstock_amy2018_release_2022_1_metadata.\"in.orientation\" AS \"in.orientation\", resstock_amy2018_release_2022_1_metadata.\"in.overhangs\" AS \"in.overhangs\", resstock_amy2018_release_2022_1_metadata.\"in.plug_load_diversity\" AS \"in.plug_load_diversity\", resstock_amy2018_release_2022_1_metadata.\"in.plug_loads\" AS \"in.plug_loads\", resstock_amy2018_release_2022_1_metadata.\"in.puma\" AS \"in.puma\", resstock_amy2018_release_2022_1_metadata.\"in.puma_metro_status\" AS \"in.puma_metro_status\", resstock_amy2018_release_2022_1_metadata.\"in.pv_orientation\" AS \"in.pv_orientation\", resstock_amy2018_release_2022_1_metadata.\"in.pv_system_size\" AS \"in.pv_system_size\", resstock_amy2018_release_2022_1_metadata.\"in.radiant_barrier\" AS \"in.radiant_barrier\", resstock_amy2018_release_2022_1_metadata.\"in.range_spot_vent_hour\" AS \"in.range_spot_vent_hour\", resstock_amy2018_release_2022_1_metadata.\"in.reeds_balancing_area\" AS \"in.reeds_balancing_area\", resstock_amy2018_release_2022_1_metadata.\"in.refrigerator\" AS \"in.refrigerator\", resstock_amy2018_release_2022_1_metadata.\"in.roof_material\" AS \"in.roof_material\", resstock_amy2018_release_2022_1_metadata.\"in.schedules\" AS \"in.schedules\", resstock_amy2018_release_2022_1_metadata.\"in.simulation_control_run_period_begin_day_of_month\" AS \"in.simulation_control_run_period_begin_day_of_month\", resstock_amy2018_release_2022_1_metadata.\"in.simulation_control_run_period_begin_month\" AS \"in.simulation_control_run_period_begin_month\", resstock_amy2018_release_2022_1_metadata.\"in.simulation_control_run_period_calendar_year\" AS \"in.simulation_control_run_period_calendar_year\", resstock_amy2018_release_2022_1_metadata.\"in.simulation_control_run_period_end_day_of_month\" AS \"in.simulation_control_run_period_end_day_of_month\", resstock_amy2018_release_2022_1_metadata.\"in.simulation_control_run_period_end_month\" AS \"in.simulation_control_run_period_end_month\", resstock_amy2018_release_2022_1_metadata.\"in.simulation_control_timestep\" AS \"in.simulation_control_timestep\", resstock_amy2018_release_2022_1_metadata.\"in.solar_hot_water\" AS \"in.solar_hot_water\", resstock_amy2018_release_2022_1_metadata.\"in.state\" AS \"in.state\", resstock_amy2018_release_2022_1_metadata.\"in.tenure\" AS \"in.tenure\", resstock_amy2018_release_2022_1_metadata.\"in.units_represented\" AS \"in.units_represented\", resstock_amy2018_release_2022_1_metadata.\"in.usage_level\" AS \"in.usage_level\", resstock_amy2018_release_2022_1_metadata.\"in.vacancy_status\" AS \"in.vacancy_status\", resstock_amy2018_release_2022_1_metadata.\"in.vintage\" AS \"in.vintage\", resstock_amy2018_release_2022_1_metadata.\"in.vintage_acs\" AS \"in.vintage_acs\", resstock_amy2018_release_2022_1_metadata.\"in.water_heater_efficiency\" AS \"in.water_heater_efficiency\", resstock_amy2018_release_2022_1_metadata.\"in.water_heater_fuel\" AS \"in.water_heater_fuel\", resstock_amy2018_release_2022_1_metadata.\"in.water_heater_in_unit\" AS \"in.water_heater_in_unit\", resstock_amy2018_release_2022_1_metadata.\"in.weather_file_city\" AS \"in.weather_file_city\", resstock_amy2018_release_2022_1_metadata.\"in.weather_file_latitude\" AS \"in.weather_file_latitude\", resstock_amy2018_release_2022_1_metadata.\"in.weather_file_longitude\" AS \"in.weather_file_longitude\", resstock_amy2018_release_2022_1_metadata.\"in.window_areas\" AS \"in.window_areas\", resstock_amy2018_release_2022_1_metadata.\"in.windows\" AS \"in.windows\", resstock_amy2018_release_2022_1_metadata.\"out.electricity.total.lrmer_95_decarb_by_2035_15_2025_start.co2e_kg\" AS \"out.electricity.total.lrmer_95_decarb_by_2035_15_2025_start.co2e_kg\", resstock_amy2018_release_2022_1_metadata.\"out.fuel_oil.total.lrmer_95_decarb_by_2035_15_2025_start.co2e_kg\" AS \"out.fuel_oil.total.lrmer_95_decarb_by_2035_15_2025_start.co2e_kg\", resstock_amy2018_release_2022_1_metadata.\"out.natural_gas.total.lrmer_95_decarb_by_2035_15_2025_start.co2e_kg\" AS \"out.natural_gas.total.lrmer_95_decarb_by_2035_15_2025_start.co2e_kg\", resstock_amy2018_release_2022_1_metadata.\"out.propane.total.lrmer_95_decarb_by_2035_15_2025_start.co2e_kg\" AS \"out.propane.total.lrmer_95_decarb_by_2035_15_2025_start.co2e_kg\", resstock_amy2018_release_2022_1_metadata.\"out.electricity.total.lrmer_low_re_cost_15_2025_start.co2e_kg\" AS \"out.electricity.total.lrmer_low_re_cost_15_2025_start.co2e_kg\", resstock_amy2018_release_2022_1_metadata.\"out.fuel_oil.total.lrmer_low_re_cost_15_2025_start.co2e_kg\" AS \"out.fuel_oil.total.lrmer_low_re_cost_15_2025_start.co2e_kg\", resstock_amy2018_release_2022_1_metadata.\"out.natural_gas.total.lrmer_low_re_cost_15_2025_start.co2e_kg\" AS \"out.natural_gas.total.lrmer_low_re_cost_15_2025_start.co2e_kg\", resstock_amy2018_release_2022_1_metadata.\"out.propane.total.lrmer_low_re_cost_15_2025_start.co2e_kg\" AS \"out.propane.total.lrmer_low_re_cost_15_2025_start.co2e_kg\", resstock_amy2018_release_2022_1_metadata.\"out.electricity.total.lrmer_low_re_cost_25_2025_start.co2e_kg\" AS \"out.electricity.total.lrmer_low_re_cost_25_2025_start.co2e_kg\", resstock_amy2018_release_2022_1_metadata.\"out.fuel_oil.total.lrmer_low_re_cost_25_2025_start.co2e_kg\" AS \"out.fuel_oil.total.lrmer_low_re_cost_25_2025_start.co2e_kg\", resstock_amy2018_release_2022_1_metadata.\"out.natural_gas.total.lrmer_low_re_cost_25_2025_start.co2e_kg\" AS \"out.natural_gas.total.lrmer_low_re_cost_25_2025_start.co2e_kg\", resstock_amy2018_release_2022_1_metadata.\"out.propane.total.lrmer_low_re_cost_25_2025_start.co2e_kg\" AS \"out.propane.total.lrmer_low_re_cost_25_2025_start.co2e_kg\", resstock_amy2018_release_2022_1_metadata.\"out.electricity.total.lrmer_mid_case_15_2025_start.co2e_kg\" AS \"out.electricity.total.lrmer_mid_case_15_2025_start.co2e_kg\", resstock_amy2018_release_2022_1_metadata.\"out.fuel_oil.total.lrmer_mid_case_15_2025_start.co2e_kg\" AS \"out.fuel_oil.total.lrmer_mid_case_15_2025_start.co2e_kg\", resstock_amy2018_release_2022_1_metadata.\"out.natural_gas.total.lrmer_mid_case_15_2025_start.co2e_kg\" AS \"out.natural_gas.total.lrmer_mid_case_15_2025_start.co2e_kg\", resstock_amy2018_release_2022_1_metadata.\"out.propane.total.lrmer_mid_case_15_2025_start.co2e_kg\" AS \"out.propane.total.lrmer_mid_case_15_2025_start.co2e_kg\", resstock_amy2018_release_2022_1_metadata.\"out.electricity.ceiling_fan.energy_consumption\" AS \"out.electricity.ceiling_fan.energy_consumption\", resstock_amy2018_release_2022_1_metadata.\"out.electricity.ceiling_fan.energy_consumption_intensity\" AS \"out.electricity.ceiling_fan.energy_consumption_intensity\", resstock_amy2018_release_2022_1_metadata.\"out.electricity.clothes_dryer.energy_consumption\" AS \"out.electricity.clothes_dryer.energy_consumption\", resstock_amy2018_release_2022_1_metadata.\"out.electricity.clothes_dryer.energy_consumption_intensity\" AS \"out.electricity.clothes_dryer.energy_consumption_intensity\", resstock_amy2018_release_2022_1_metadata.\"out.electricity.clothes_washer.energy_consumption\" AS \"out.electricity.clothes_washer.energy_consumption\", resstock_amy2018_release_2022_1_metadata.\"out.electricity.clothes_washer.energy_consumption_intensity\" AS \"out.electricity.clothes_washer.energy_consumption_intensity\", resstock_amy2018_release_2022_1_metadata.\"out.electricity.cooling_fans_pumps.energy_consumption\" AS \"out.electricity.cooling_fans_pumps.energy_consumption\", resstock_amy2018_release_2022_1_metadata.\"out.electricity.cooling_fans_pumps.energy_consumption_intensity\" AS \"out.electricity.cooling_fans_pumps.energy_consumption_intensity\", resstock_amy2018_release_2022_1_metadata.\"out.electricity.cooling.energy_consumption\" AS \"out.electricity.cooling.energy_consumption\", resstock_amy2018_release_2022_1_metadata.\"out.electricity.cooling.energy_consumption_intensity\" AS \"out.electricity.cooling.energy_consumption_intensity\", resstock_amy2018_release_2022_1_metadata.\"out.electricity.dishwasher.energy_consumption\" AS \"out.electricity.dishwasher.energy_consumption\", resstock_amy2018_release_2022_1_metadata.\"out.electricity.dishwasher.energy_consumption_intensity\" AS \"out.electricity.dishwasher.energy_consumption_intensity\", resstock_amy2018_release_2022_1_metadata.\"out.electricity.freezer.energy_consumption\" AS \"out.electricity.freezer.energy_consumption\", resstock_amy2018_release_2022_1_metadata.\"out.electricity.freezer.energy_consumption_intensity\" AS \"out.electricity.freezer.energy_consumption_intensity\", resstock_amy2018_release_2022_1_metadata.\"out.electricity.heating_fans_pumps.energy_consumption\" AS \"out.electricity.heating_fans_pumps.energy_consumption\", resstock_amy2018_release_2022_1_metadata.\"out.electricity.heating_fans_pumps.energy_consumption_intensity\" AS \"out.electricity.heating_fans_pumps.energy_consumption_intensity\", resstock_amy2018_release_2022_1_metadata.\"out.electricity.heating_hp_bkup.energy_consumption\" AS \"out.electricity.heating_hp_bkup.energy_consumption\", resstock_amy2018_release_2022_1_metadata.\"out.electricity.heating_hp_bkup.energy_consumption_intensity\" AS \"out.electricity.heating_hp_bkup.energy_consumption_intensity\", resstock_amy2018_release_2022_1_metadata.\"out.electricity.heating.energy_consumption\" AS \"out.electricity.heating.energy_consumption\", resstock_amy2018_release_2022_1_metadata.\"out.electricity.heating.energy_consumption_intensity\" AS \"out.electricity.heating.energy_consumption_intensity\", resstock_amy2018_release_2022_1_metadata.\"out.electricity.hot_tub_heater.energy_consumption\" AS \"out.electricity.hot_tub_heater.energy_consumption\", resstock_amy2018_release_2022_1_metadata.\"out.electricity.hot_tub_heater.energy_consumption_intensity\" AS \"out.electricity.hot_tub_heater.energy_consumption_intensity\", resstock_amy2018_release_2022_1_metadata.\"out.electricity.hot_tub_pump.energy_consumption\" AS \"out.electricity.hot_tub_pump.energy_consumption\", resstock_amy2018_release_2022_1_metadata.\"out.electricity.hot_tub_pump.energy_consumption_intensity\" AS \"out.electricity.hot_tub_pump.energy_consumption_intensity\", resstock_amy2018_release_2022_1_metadata.\"out.electricity.hot_water.energy_consumption\" AS \"out.electricity.hot_water.energy_consumption\", resstock_amy2018_release_2022_1_metadata.\"out.electricity.hot_water.energy_consumption_intensity\" AS \"out.electricity.hot_water.energy_consumption_intensity\", resstock_amy2018_release_2022_1_metadata.\"out.electricity.lighting_exterior.energy_consumption\" AS \"out.electricity.lighting_exterior.energy_consumption\", resstock_amy2018_release_2022_1_metadata.\"out.electricity.lighting_exterior.energy_consumption_intensity\" AS \"out.electricity.lighting_exterior.energy_consumption_intensity\", resstock_amy2018_release_2022_1_metadata.\"out.electricity.lighting_garage.energy_consumption\" AS \"out.electricity.lighting_garage.energy_consumption\", resstock_amy2018_release_2022_1_metadata.\"out.electricity.lighting_garage.energy_consumption_intensity\" AS \"out.electricity.lighting_garage.energy_consumption_intensity\", resstock_amy2018_release_2022_1_metadata.\"out.electricity.lighting_interior.energy_consumption\" AS \"out.electricity.lighting_interior.energy_consumption\", resstock_amy2018_release_2022_1_metadata.\"out.electricity.lighting_interior.energy_consumption_intensity\" AS \"out.electricity.lighting_interior.energy_consumption_intensity\", resstock_amy2018_release_2022_1_metadata.\"out.electricity.mech_vent.energy_consumption\" AS \"out.electricity.mech_vent.energy_consumption\", resstock_amy2018_release_2022_1_metadata.\"out.electricity.mech_vent.energy_consumption_intensity\" AS \"out.electricity.mech_vent.energy_consumption_intensity\", resstock_amy2018_release_2022_1_metadata.\"out.electricity.plug_loads.energy_consumption\" AS \"out.electricity.plug_loads.energy_consumption\", resstock_amy2018_release_2022_1_metadata.\"out.electricity.plug_loads.energy_consumption_intensity\" AS \"out.electricity.plug_loads.energy_consumption_intensity\", resstock_amy2018_release_2022_1_metadata.\"out.electricity.pool_heater.energy_consumption\" AS \"out.electricity.pool_heater.energy_consumption\", resstock_amy2018_release_2022_1_metadata.\"out.electricity.pool_heater.energy_consumption_intensity\" AS \"out.electricity.pool_heater.energy_consumption_intensity\", resstock_amy2018_release_2022_1_metadata.\"out.electricity.pool_pump.energy_consumption\" AS \"out.electricity.pool_pump.energy_consumption\", resstock_amy2018_release_2022_1_metadata.\"out.electricity.pool_pump.energy_consumption_intensity\" AS \"out.electricity.pool_pump.energy_consumption_intensity\", resstock_amy2018_release_2022_1_metadata.\"out.electricity.pv.energy_consumption\" AS \"out.electricity.pv.energy_consumption\", resstock_amy2018_release_2022_1_metadata.\"out.electricity.pv.energy_consumption_intensity\" AS \"out.electricity.pv.energy_consumption_intensity\", resstock_amy2018_release_2022_1_metadata.\"out.electricity.range_oven.energy_consumption\" AS \"out.electricity.range_oven.energy_consumption\", resstock_amy2018_release_2022_1_metadata.\"out.electricity.range_oven.energy_consumption_intensity\" AS \"out.electricity.range_oven.energy_consumption_intensity\", resstock_amy2018_release_2022_1_metadata.\"out.electricity.refrigerator.energy_consumption\" AS \"out.electricity.refrigerator.energy_consumption\", resstock_amy2018_release_2022_1_metadata.\"out.electricity.refrigerator.energy_consumption_intensity\" AS \"out.electricity.refrigerator.energy_consumption_intensity\", resstock_amy2018_release_2022_1_metadata.\"out.electricity.well_pump.energy_consumption\" AS \"out.electricity.well_pump.energy_consumption\", resstock_amy2018_release_2022_1_metadata.\"out.electricity.well_pump.energy_consumption_intensity\" AS \"out.electricity.well_pump.energy_consumption_intensity\", resstock_amy2018_release_2022_1_metadata.\"out.fuel_oil.heating_hp_bkup.energy_consumption\" AS \"out.fuel_oil.heating_hp_bkup.energy_consumption\", resstock_amy2018_release_2022_1_metadata.\"out.fuel_oil.heating_hp_bkup.energy_consumption_intensity\" AS \"out.fuel_oil.heating_hp_bkup.energy_consumption_intensity\", resstock_amy2018_release_2022_1_metadata.\"out.fuel_oil.heating.energy_consumption\" AS \"out.fuel_oil.heating.energy_consumption\", resstock_amy2018_release_2022_1_metadata.\"out.fuel_oil.heating.energy_consumption_intensity\" AS \"out.fuel_oil.heating.energy_consumption_intensity\", resstock_amy2018_release_2022_1_metadata.\"out.fuel_oil.hot_water.energy_consumption\" AS \"out.fuel_oil.hot_water.energy_consumption\", resstock_amy2018_release_2022_1_metadata.\"out.fuel_oil.hot_water.energy_consumption_intensity\" AS \"out.fuel_oil.hot_water.energy_consumption_intensity\", resstock_amy2018_release_2022_1_metadata.\"out.natural_gas.clothes_dryer.energy_consumption\" AS \"out.natural_gas.clothes_dryer.energy_consumption\", resstock_amy2018_release_2022_1_metadata.\"out.natural_gas.clothes_dryer.energy_consumption_intensity\" AS \"out.natural_gas.clothes_dryer.energy_consumption_intensity\", resstock_amy2018_release_2022_1_metadata.\"out.natural_gas.fireplace.energy_consumption\" AS \"out.natural_gas.fireplace.energy_consumption\", resstock_amy2018_release_2022_1_metadata.\"out.natural_gas.fireplace.energy_consumption_intensity\" AS \"out.natural_gas.fireplace.energy_consumption_intensity\", resstock_amy2018_release_2022_1_metadata.\"out.natural_gas.grill.energy_consumption\" AS \"out.natural_gas.grill.energy_consumption\", resstock_amy2018_release_2022_1_metadata.\"out.natural_gas.grill.energy_consumption_intensity\" AS \"out.natural_gas.grill.energy_consumption_intensity\", resstock_amy2018_release_2022_1_metadata.\"out.natural_gas.heating_hp_bkup.energy_consumption\" AS \"out.natural_gas.heating_hp_bkup.energy_consumption\", resstock_amy2018_release_2022_1_metadata.\"out.natural_gas.heating_hp_bkup.energy_consumption_intensity\" AS \"out.natural_gas.heating_hp_bkup.energy_consumption_intensity\", resstock_amy2018_release_2022_1_metadata.\"out.natural_gas.heating.energy_consumption\" AS \"out.natural_gas.heating.energy_consumption\", resstock_amy2018_release_2022_1_metadata.\"out.natural_gas.heating.energy_consumption_intensity\" AS \"out.natural_gas.heating.energy_consumption_intensity\", resstock_amy2018_release_2022_1_metadata.\"out.natural_gas.hot_tub_heater.energy_consumption\" AS \"out.natural_gas.hot_tub_heater.energy_consumption\", resstock_amy2018_release_2022_1_metadata.\"out.natural_gas.hot_tub_heater.energy_consumption_intensity\" AS \"out.natural_gas.hot_tub_heater.energy_consumption_intensity\", resstock_amy2018_release_2022_1_metadata.\"out.natural_gas.hot_water.energy_consumption\" AS \"out.natural_gas.hot_water.energy_consumption\", resstock_amy2018_release_2022_1_metadata.\"out.natural_gas.hot_water.energy_consumption_intensity\" AS \"out.natural_gas.hot_water.energy_consumption_intensity\", resstock_amy2018_release_2022_1_metadata.\"out.natural_gas.lighting.energy_consumption\" AS \"out.natural_gas.lighting.energy_consumption\", resstock_amy2018_release_2022_1_metadata.\"out.natural_gas.lighting.energy_consumption_intensity\" AS \"out.natural_gas.lighting.energy_consumption_intensity\", resstock_amy2018_release_2022_1_metadata.\"out.natural_gas.pool_heater.energy_consumption\" AS \"out.natural_gas.pool_heater.energy_consumption\", resstock_amy2018_release_2022_1_metadata.\"out.natural_gas.pool_heater.energy_consumption_intensity\" AS \"out.natural_gas.pool_heater.energy_consumption_intensity\", resstock_amy2018_release_2022_1_metadata.\"out.natural_gas.range_oven.energy_consumption\" AS \"out.natural_gas.range_oven.energy_consumption\", resstock_amy2018_release_2022_1_metadata.\"out.natural_gas.range_oven.energy_consumption_intensity\" AS \"out.natural_gas.range_oven.energy_consumption_intensity\", resstock_amy2018_release_2022_1_metadata.\"out.propane.clothes_dryer.energy_consumption\" AS \"out.propane.clothes_dryer.energy_consumption\", resstock_amy2018_release_2022_1_metadata.\"out.propane.clothes_dryer.energy_consumption_intensity\" AS \"out.propane.clothes_dryer.energy_consumption_intensity\", resstock_amy2018_release_2022_1_metadata.\"out.propane.heating_hp_bkup.energy_consumption\" AS \"out.propane.heating_hp_bkup.energy_consumption\", resstock_amy2018_release_2022_1_metadata.\"out.propane.heating_hp_bkup.energy_consumption_intensity\" AS \"out.propane.heating_hp_bkup.energy_consumption_intensity\", resstock_amy2018_release_2022_1_metadata.\"out.propane.heating.energy_consumption\" AS \"out.propane.heating.energy_consumption\", resstock_amy2018_release_2022_1_metadata.\"out.propane.heating.energy_consumption_intensity\" AS \"out.propane.heating.energy_consumption_intensity\", resstock_amy2018_release_2022_1_metadata.\"out.propane.hot_water.energy_consumption\" AS \"out.propane.hot_water.energy_consumption\", resstock_amy2018_release_2022_1_metadata.\"out.propane.hot_water.energy_consumption_intensity\" AS \"out.propane.hot_water.energy_consumption_intensity\", resstock_amy2018_release_2022_1_metadata.\"out.propane.range_oven.energy_consumption\" AS \"out.propane.range_oven.energy_consumption\", resstock_amy2018_release_2022_1_metadata.\"out.propane.range_oven.energy_consumption_intensity\" AS \"out.propane.range_oven.energy_consumption_intensity\", resstock_amy2018_release_2022_1_metadata.\"out.site_energy.net.energy_consumption\" AS \"out.site_energy.net.energy_consumption\", resstock_amy2018_release_2022_1_metadata.\"out.site_energy.net.energy_consumption_intensity\" AS \"out.site_energy.net.energy_consumption_intensity\", resstock_amy2018_release_2022_1_metadata.\"out.site_energy.total.energy_consumption\" AS \"out.site_energy.total.energy_consumption\", resstock_amy2018_release_2022_1_metadata.\"out.site_energy.total.energy_consumption_intensity\" AS \"out.site_energy.total.energy_consumption_intensity\", resstock_amy2018_release_2022_1_metadata.\"out.electricity.net.energy_consumption\" AS \"out.electricity.net.energy_consumption\", resstock_amy2018_release_2022_1_metadata.\"out.electricity.net.energy_consumption_intensity\" AS \"out.electricity.net.energy_consumption_intensity\", resstock_amy2018_release_2022_1_metadata.\"out.electricity.total.energy_consumption\" AS \"out.electricity.total.energy_consumption\", resstock_amy2018_release_2022_1_metadata.\"out.electricity.total.energy_consumption_intensity\" AS \"out.electricity.total.energy_consumption_intensity\", resstock_amy2018_release_2022_1_metadata.\"out.fuel_oil.total.energy_consumption\" AS \"out.fuel_oil.total.energy_consumption\", resstock_amy2018_release_2022_1_metadata.\"out.fuel_oil.total.energy_consumption_intensity\" AS \"out.fuel_oil.total.energy_consumption_intensity\", resstock_amy2018_release_2022_1_metadata.\"out.natural_gas.total.energy_consumption\" AS \"out.natural_gas.total.energy_consumption\", resstock_amy2018_release_2022_1_metadata.\"out.natural_gas.total.energy_consumption_intensity\" AS \"out.natural_gas.total.energy_consumption_intensity\", resstock_amy2018_release_2022_1_metadata.\"out.propane.total.energy_consumption\" AS \"out.propane.total.energy_consumption\", resstock_amy2018_release_2022_1_metadata.\"out.propane.total.energy_consumption_intensity\" AS \"out.propane.total.energy_consumption_intensity\", resstock_amy2018_release_2022_1_metadata.upgrade AS upgrade, resstock_amy2018_release_2022_1_metadata.metadata_index AS metadata_index, resstock_amy2018_release_2022_1_metadata.bldg_id AS bldg_id \n",
      "FROM resstock_amy2018_release_2022_1_metadata \n",
      "WHERE CAST(resstock_amy2018_release_2022_1_metadata.upgrade AS VARCHAR) = '0') AS baseline\n"
     ]
    }
   ],
   "source": [
    "query = my_run.get_building_ids(get_query_only=True)\n",
    "print(query)"
   ]
  },
  {
   "cell_type": "code",
   "execution_count": 15,
   "id": "afb0bdf2",
   "metadata": {},
   "outputs": [
    {
     "name": "stderr",
     "output_type": "stream",
     "text": [
      "WARNING:buildstock_query.query_core:Column in.geometry_building_type_recs found in multiple tables ['baseline', 'upgrade'].Using baseline\n",
      "INFO:botocore.tokens:Loading cached SSO token for nrel-sso\n"
     ]
    },
    {
     "name": "stdout",
     "output_type": "stream",
     "text": [
      "  simple_bldg_type  sample_count   units_count  \\\n",
      "0               MF        144213  3.491844e+07   \n",
      "1               MH         34491  8.351341e+06   \n",
      "2               SF        370212  8.963981e+07   \n",
      "\n",
      "   electricity.total.energy_consumption  \n",
      "0                          2.632233e+11  \n",
      "1                          9.934359e+10  \n",
      "2                          1.188864e+12  \n"
     ]
    }
   ],
   "source": [
    "building_type_map = {\"Mobile Home\": \"MH\", \"Single-Family Detached\": \"SF\",\n",
    "                     \"Single-Family Attached\": \"SF\", \"Multi-Family with 2 - 4 Units\": \"MF\",\n",
    "                     \"Multi-Family with 5+ Units\": \"MF\",}\n",
    "bldg_col = my_run._get_column('in.geometry_building_type_recs')\n",
    "simple_bldg_col = MappedColumn(bsq=my_run, name='simple_bldg_type', mapping_dict=building_type_map,\n",
    "                               key=bldg_col)\n",
    "mapped_agg_query = my_run.agg.aggregate_annual(enduses=['electricity.total.energy_consumption'],\n",
    "                                       group_by=[simple_bldg_col],\n",
    "                                          get_query_only=False)\n",
    "print(mapped_agg_query)"
   ]
  },
  {
   "cell_type": "code",
   "execution_count": 16,
   "id": "855e1d4c",
   "metadata": {},
   "outputs": [
    {
     "name": "stderr",
     "output_type": "stream",
     "text": [
      "WARNING:buildstock_query.query_core:Column in.clothes_dryer found in multiple tables ['baseline', 'upgrade'].Using baseline\n"
     ]
    },
    {
     "name": "stdout",
     "output_type": "stream",
     "text": [
      "   sample_count   units_count  dryer_impact\n",
      "0        548916  1.329096e+08  4.579291e+07\n"
     ]
    }
   ],
   "source": [
    "dryer_co2_impact = {\"Gas, 120% Usage\": 1.2 * 1.5, \n",
    "                    \"Gas, 100% Usage\": 1 * 1.5,\n",
    "                    \"Gas, 80% Usage\": 0.8 * 1.5,\n",
    "                    \"Electric, 120% Usage\": 1.2 * 0.5,\n",
    "                    \"Electric 100% Usage\": 1 * 0.5,\n",
    "                    \"Electric 80% Usage\": 0.8 * 0.5,\n",
    "                    \"None\": 0}\n",
    "bldg_col = my_run._get_column('in.clothes_dryer')\n",
    "impact_col = MappedColumn(bsq=my_run, name='dryer_impact', mapping_dict=dryer_co2_impact,\n",
    "                               key=bldg_col)\n",
    "mapped_agg_query = my_run.agg.aggregate_annual(enduses=[impact_col],\n",
    "                                               get_query_only=False)\n",
    "print(mapped_agg_query)"
   ]
  },
  {
   "cell_type": "code",
   "execution_count": 18,
   "id": "5579f512",
   "metadata": {},
   "outputs": [
    {
     "name": "stderr",
     "output_type": "stream",
     "text": [
      "WARNING:buildstock_query.query_core:Column in.geometry_building_type_recs found in multiple tables ['baseline', 'upgrade'].Using baseline\n"
     ]
    },
    {
     "name": "stdout",
     "output_type": "stream",
     "text": [
      "SELECT baseline.\"in.geometry_building_type_recs\" AS geometry_building_type_recs, sum(1) AS sample_count, sum(baseline.weight) AS units_count, sum(baseline.\"out.electricity.total.energy_consumption\" * baseline.weight) AS \"electricity.total.energy_consumption\" \n",
      "FROM (SELECT resstock_amy2018_release_2022_1_metadata.applicability AS applicability, resstock_amy2018_release_2022_1_metadata.\"in.sqft\" AS \"in.sqft\", resstock_amy2018_release_2022_1_metadata.weight AS weight, resstock_amy2018_release_2022_1_metadata.\"in.ahs_region\" AS \"in.ahs_region\", resstock_amy2018_release_2022_1_metadata.\"in.ashrae_iecc_climate_zone_2004\" AS \"in.ashrae_iecc_climate_zone_2004\", resstock_amy2018_release_2022_1_metadata.\"in.ashrae_iecc_climate_zone_2004_2_a_split\" AS \"in.ashrae_iecc_climate_zone_2004_2_a_split\", resstock_amy2018_release_2022_1_metadata.\"in.bathroom_spot_vent_hour\" AS \"in.bathroom_spot_vent_hour\", resstock_amy2018_release_2022_1_metadata.\"in.bedrooms\" AS \"in.bedrooms\", resstock_amy2018_release_2022_1_metadata.\"in.building_america_climate_zone\" AS \"in.building_america_climate_zone\", resstock_amy2018_release_2022_1_metadata.\"in.cec_climate_zone\" AS \"in.cec_climate_zone\", resstock_amy2018_release_2022_1_metadata.\"in.ceiling_fan\" AS \"in.ceiling_fan\", resstock_amy2018_release_2022_1_metadata.\"in.census_division\" AS \"in.census_division\", resstock_amy2018_release_2022_1_metadata.\"in.census_division_recs\" AS \"in.census_division_recs\", resstock_amy2018_release_2022_1_metadata.\"in.census_region\" AS \"in.census_region\", resstock_amy2018_release_2022_1_metadata.\"in.city\" AS \"in.city\", resstock_amy2018_release_2022_1_metadata.\"in.clothes_dryer\" AS \"in.clothes_dryer\", resstock_amy2018_release_2022_1_metadata.\"in.clothes_washer\" AS \"in.clothes_washer\", resstock_amy2018_release_2022_1_metadata.\"in.clothes_washer_presence\" AS \"in.clothes_washer_presence\", resstock_amy2018_release_2022_1_metadata.\"in.cooking_range\" AS \"in.cooking_range\", resstock_amy2018_release_2022_1_metadata.\"in.cooling_setpoint\" AS \"in.cooling_setpoint\", resstock_amy2018_release_2022_1_metadata.\"in.cooling_setpoint_has_offset\" AS \"in.cooling_setpoint_has_offset\", resstock_amy2018_release_2022_1_metadata.\"in.cooling_setpoint_offset_magnitude\" AS \"in.cooling_setpoint_offset_magnitude\", resstock_amy2018_release_2022_1_metadata.\"in.cooling_setpoint_offset_period\" AS \"in.cooling_setpoint_offset_period\", resstock_amy2018_release_2022_1_metadata.\"in.corridor\" AS \"in.corridor\", resstock_amy2018_release_2022_1_metadata.\"in.county\" AS \"in.county\", resstock_amy2018_release_2022_1_metadata.\"in.county_and_puma\" AS \"in.county_and_puma\", resstock_amy2018_release_2022_1_metadata.\"in.dehumidifier\" AS \"in.dehumidifier\", resstock_amy2018_release_2022_1_metadata.\"in.dishwasher\" AS \"in.dishwasher\", resstock_amy2018_release_2022_1_metadata.\"in.door_area\" AS \"in.door_area\", resstock_amy2018_release_2022_1_metadata.\"in.doors\" AS \"in.doors\", resstock_amy2018_release_2022_1_metadata.\"in.ducts\" AS \"in.ducts\", resstock_amy2018_release_2022_1_metadata.\"in.eaves\" AS \"in.eaves\", resstock_amy2018_release_2022_1_metadata.\"in.electric_vehicle\" AS \"in.electric_vehicle\", resstock_amy2018_release_2022_1_metadata.\"in.emissions_electricity_folders\" AS \"in.emissions_electricity_folders\", resstock_amy2018_release_2022_1_metadata.\"in.emissions_electricity_units\" AS \"in.emissions_electricity_units\", resstock_amy2018_release_2022_1_metadata.\"in.emissions_electricity_values_or_filepaths\" AS \"in.emissions_electricity_values_or_filepaths\", resstock_amy2018_release_2022_1_metadata.\"in.emissions_fossil_fuel_units\" AS \"in.emissions_fossil_fuel_units\", resstock_amy2018_release_2022_1_metadata.\"in.emissions_fuel_oil_values\" AS \"in.emissions_fuel_oil_values\", resstock_amy2018_release_2022_1_metadata.\"in.emissions_natural_gas_values\" AS \"in.emissions_natural_gas_values\", resstock_amy2018_release_2022_1_metadata.\"in.emissions_propane_values\" AS \"in.emissions_propane_values\", resstock_amy2018_release_2022_1_metadata.\"in.emissions_scenario_names\" AS \"in.emissions_scenario_names\", resstock_amy2018_release_2022_1_metadata.\"in.emissions_types\" AS \"in.emissions_types\", resstock_amy2018_release_2022_1_metadata.\"in.emissions_wood_values\" AS \"in.emissions_wood_values\", resstock_amy2018_release_2022_1_metadata.\"in.federal_poverty_level\" AS \"in.federal_poverty_level\", resstock_amy2018_release_2022_1_metadata.\"in.generation_and_emissions_assessment_region\" AS \"in.generation_and_emissions_assessment_region\", resstock_amy2018_release_2022_1_metadata.\"in.geometry_attic_type\" AS \"in.geometry_attic_type\", resstock_amy2018_release_2022_1_metadata.\"in.geometry_building_horizontal_location_mf\" AS \"in.geometry_building_horizontal_location_mf\", resstock_amy2018_release_2022_1_metadata.\"in.geometry_building_horizontal_location_sfa\" AS \"in.geometry_building_horizontal_location_sfa\", resstock_amy2018_release_2022_1_metadata.\"in.geometry_building_level_mf\" AS \"in.geometry_building_level_mf\", resstock_amy2018_release_2022_1_metadata.\"in.geometry_building_number_units_mf\" AS \"in.geometry_building_number_units_mf\", resstock_amy2018_release_2022_1_metadata.\"in.geometry_building_number_units_sfa\" AS \"in.geometry_building_number_units_sfa\", resstock_amy2018_release_2022_1_metadata.\"in.geometry_building_type_acs\" AS \"in.geometry_building_type_acs\", resstock_amy2018_release_2022_1_metadata.\"in.geometry_building_type_height\" AS \"in.geometry_building_type_height\", resstock_amy2018_release_2022_1_metadata.\"in.geometry_building_type_recs\" AS \"in.geometry_building_type_recs\", resstock_amy2018_release_2022_1_metadata.\"in.geometry_floor_area\" AS \"in.geometry_floor_area\", resstock_amy2018_release_2022_1_metadata.\"in.geometry_floor_area_bin\" AS \"in.geometry_floor_area_bin\", resstock_amy2018_release_2022_1_metadata.\"in.geometry_foundation_type\" AS \"in.geometry_foundation_type\", resstock_amy2018_release_2022_1_metadata.\"in.geometry_garage\" AS \"in.geometry_garage\", resstock_amy2018_release_2022_1_metadata.\"in.geometry_stories\" AS \"in.geometry_stories\", resstock_amy2018_release_2022_1_metadata.\"in.geometry_stories_low_rise\" AS \"in.geometry_stories_low_rise\", resstock_amy2018_release_2022_1_metadata.\"in.geometry_story_bin\" AS \"in.geometry_story_bin\", resstock_amy2018_release_2022_1_metadata.\"in.geometry_wall_exterior_finish\" AS \"in.geometry_wall_exterior_finish\", resstock_amy2018_release_2022_1_metadata.\"in.geometry_wall_type\" AS \"in.geometry_wall_type\", resstock_amy2018_release_2022_1_metadata.\"in.has_pv\" AS \"in.has_pv\", resstock_amy2018_release_2022_1_metadata.\"in.heating_fuel\" AS \"in.heating_fuel\", resstock_amy2018_release_2022_1_metadata.\"in.heating_setpoint\" AS \"in.heating_setpoint\", resstock_amy2018_release_2022_1_metadata.\"in.heating_setpoint_has_offset\" AS \"in.heating_setpoint_has_offset\", resstock_amy2018_release_2022_1_metadata.\"in.heating_setpoint_offset_magnitude\" AS \"in.heating_setpoint_offset_magnitude\", resstock_amy2018_release_2022_1_metadata.\"in.heating_setpoint_offset_period\" AS \"in.heating_setpoint_offset_period\", resstock_amy2018_release_2022_1_metadata.\"in.holiday_lighting\" AS \"in.holiday_lighting\", resstock_amy2018_release_2022_1_metadata.\"in.hot_water_distribution\" AS \"in.hot_water_distribution\", resstock_amy2018_release_2022_1_metadata.\"in.hot_water_fixtures\" AS \"in.hot_water_fixtures\", resstock_amy2018_release_2022_1_metadata.\"in.hvac_cooling_efficiency\" AS \"in.hvac_cooling_efficiency\", resstock_amy2018_release_2022_1_metadata.\"in.hvac_cooling_partial_space_conditioning\" AS \"in.hvac_cooling_partial_space_conditioning\", resstock_amy2018_release_2022_1_metadata.\"in.hvac_cooling_type\" AS \"in.hvac_cooling_type\", resstock_amy2018_release_2022_1_metadata.\"in.hvac_has_ducts\" AS \"in.hvac_has_ducts\", resstock_amy2018_release_2022_1_metadata.\"in.hvac_has_shared_system\" AS \"in.hvac_has_shared_system\", resstock_amy2018_release_2022_1_metadata.\"in.hvac_has_zonal_electric_heating\" AS \"in.hvac_has_zonal_electric_heating\", resstock_amy2018_release_2022_1_metadata.\"in.hvac_heating_efficiency\" AS \"in.hvac_heating_efficiency\", resstock_amy2018_release_2022_1_metadata.\"in.hvac_heating_type\" AS \"in.hvac_heating_type\", resstock_amy2018_release_2022_1_metadata.\"in.hvac_heating_type_and_fuel\" AS \"in.hvac_heating_type_and_fuel\", resstock_amy2018_release_2022_1_metadata.\"in.hvac_secondary_heating_efficiency\" AS \"in.hvac_secondary_heating_efficiency\", resstock_amy2018_release_2022_1_metadata.\"in.hvac_secondary_heating_type_and_fuel\" AS \"in.hvac_secondary_heating_type_and_fuel\", resstock_amy2018_release_2022_1_metadata.\"in.hvac_shared_efficiencies\" AS \"in.hvac_shared_efficiencies\", resstock_amy2018_release_2022_1_metadata.\"in.hvac_system_is_faulted\" AS \"in.hvac_system_is_faulted\", resstock_amy2018_release_2022_1_metadata.\"in.hvac_system_single_speed_ac_airflow\" AS \"in.hvac_system_single_speed_ac_airflow\", resstock_amy2018_release_2022_1_metadata.\"in.hvac_system_single_speed_ac_charge\" AS \"in.hvac_system_single_speed_ac_charge\", resstock_amy2018_release_2022_1_metadata.\"in.hvac_system_single_speed_ashp_airflow\" AS \"in.hvac_system_single_speed_ashp_airflow\", resstock_amy2018_release_2022_1_metadata.\"in.hvac_system_single_speed_ashp_charge\" AS \"in.hvac_system_single_speed_ashp_charge\", resstock_amy2018_release_2022_1_metadata.\"in.income\" AS \"in.income\", resstock_amy2018_release_2022_1_metadata.\"in.income_recs_2015\" AS \"in.income_recs_2015\", resstock_amy2018_release_2022_1_metadata.\"in.income_recs_2020\" AS \"in.income_recs_2020\", resstock_amy2018_release_2022_1_metadata.\"in.infiltration\" AS \"in.infiltration\", resstock_amy2018_release_2022_1_metadata.\"in.insulation_ceiling\" AS \"in.insulation_ceiling\", resstock_amy2018_release_2022_1_metadata.\"in.insulation_floor\" AS \"in.insulation_floor\", resstock_amy2018_release_2022_1_metadata.\"in.insulation_foundation_wall\" AS \"in.insulation_foundation_wall\", resstock_amy2018_release_2022_1_metadata.\"in.insulation_rim_joist\" AS \"in.insulation_rim_joist\", resstock_amy2018_release_2022_1_metadata.\"in.insulation_roof\" AS \"in.insulation_roof\", resstock_amy2018_release_2022_1_metadata.\"in.insulation_slab\" AS \"in.insulation_slab\", resstock_amy2018_release_2022_1_metadata.\"in.insulation_wall\" AS \"in.insulation_wall\", resstock_amy2018_release_2022_1_metadata.\"in.interior_shading\" AS \"in.interior_shading\", resstock_amy2018_release_2022_1_metadata.\"in.iso_rto_region\" AS \"in.iso_rto_region\", resstock_amy2018_release_2022_1_metadata.\"in.lighting\" AS \"in.lighting\", resstock_amy2018_release_2022_1_metadata.\"in.lighting_interior_use\" AS \"in.lighting_interior_use\", resstock_amy2018_release_2022_1_metadata.\"in.lighting_other_use\" AS \"in.lighting_other_use\", resstock_amy2018_release_2022_1_metadata.\"in.location_region\" AS \"in.location_region\", resstock_amy2018_release_2022_1_metadata.\"in.mechanical_ventilation\" AS \"in.mechanical_ventilation\", resstock_amy2018_release_2022_1_metadata.\"in.misc_extra_refrigerator\" AS \"in.misc_extra_refrigerator\", resstock_amy2018_release_2022_1_metadata.\"in.misc_freezer\" AS \"in.misc_freezer\", resstock_amy2018_release_2022_1_metadata.\"in.misc_gas_fireplace\" AS \"in.misc_gas_fireplace\", resstock_amy2018_release_2022_1_metadata.\"in.misc_gas_grill\" AS \"in.misc_gas_grill\", resstock_amy2018_release_2022_1_metadata.\"in.misc_gas_lighting\" AS \"in.misc_gas_lighting\", resstock_amy2018_release_2022_1_metadata.\"in.misc_hot_tub_spa\" AS \"in.misc_hot_tub_spa\", resstock_amy2018_release_2022_1_metadata.\"in.misc_pool\" AS \"in.misc_pool\", resstock_amy2018_release_2022_1_metadata.\"in.misc_pool_heater\" AS \"in.misc_pool_heater\", resstock_amy2018_release_2022_1_metadata.\"in.misc_pool_pump\" AS \"in.misc_pool_pump\", resstock_amy2018_release_2022_1_metadata.\"in.misc_well_pump\" AS \"in.misc_well_pump\", resstock_amy2018_release_2022_1_metadata.\"in.natural_ventilation\" AS \"in.natural_ventilation\", resstock_amy2018_release_2022_1_metadata.\"in.neighbors\" AS \"in.neighbors\", resstock_amy2018_release_2022_1_metadata.\"in.occupants\" AS \"in.occupants\", resstock_amy2018_release_2022_1_metadata.\"in.orientation\" AS \"in.orientation\", resstock_amy2018_release_2022_1_metadata.\"in.overhangs\" AS \"in.overhangs\", resstock_amy2018_release_2022_1_metadata.\"in.plug_load_diversity\" AS \"in.plug_load_diversity\", resstock_amy2018_release_2022_1_metadata.\"in.plug_loads\" AS \"in.plug_loads\", resstock_amy2018_release_2022_1_metadata.\"in.puma\" AS \"in.puma\", resstock_amy2018_release_2022_1_metadata.\"in.puma_metro_status\" AS \"in.puma_metro_status\", resstock_amy2018_release_2022_1_metadata.\"in.pv_orientation\" AS \"in.pv_orientation\", resstock_amy2018_release_2022_1_metadata.\"in.pv_system_size\" AS \"in.pv_system_size\", resstock_amy2018_release_2022_1_metadata.\"in.radiant_barrier\" AS \"in.radiant_barrier\", resstock_amy2018_release_2022_1_metadata.\"in.range_spot_vent_hour\" AS \"in.range_spot_vent_hour\", resstock_amy2018_release_2022_1_metadata.\"in.reeds_balancing_area\" AS \"in.reeds_balancing_area\", resstock_amy2018_release_2022_1_metadata.\"in.refrigerator\" AS \"in.refrigerator\", resstock_amy2018_release_2022_1_metadata.\"in.roof_material\" AS \"in.roof_material\", resstock_amy2018_release_2022_1_metadata.\"in.schedules\" AS \"in.schedules\", resstock_amy2018_release_2022_1_metadata.\"in.simulation_control_run_period_begin_day_of_month\" AS \"in.simulation_control_run_period_begin_day_of_month\", resstock_amy2018_release_2022_1_metadata.\"in.simulation_control_run_period_begin_month\" AS \"in.simulation_control_run_period_begin_month\", resstock_amy2018_release_2022_1_metadata.\"in.simulation_control_run_period_calendar_year\" AS \"in.simulation_control_run_period_calendar_year\", resstock_amy2018_release_2022_1_metadata.\"in.simulation_control_run_period_end_day_of_month\" AS \"in.simulation_control_run_period_end_day_of_month\", resstock_amy2018_release_2022_1_metadata.\"in.simulation_control_run_period_end_month\" AS \"in.simulation_control_run_period_end_month\", resstock_amy2018_release_2022_1_metadata.\"in.simulation_control_timestep\" AS \"in.simulation_control_timestep\", resstock_amy2018_release_2022_1_metadata.\"in.solar_hot_water\" AS \"in.solar_hot_water\", resstock_amy2018_release_2022_1_metadata.\"in.state\" AS \"in.state\", resstock_amy2018_release_2022_1_metadata.\"in.tenure\" AS \"in.tenure\", resstock_amy2018_release_2022_1_metadata.\"in.units_represented\" AS \"in.units_represented\", resstock_amy2018_release_2022_1_metadata.\"in.usage_level\" AS \"in.usage_level\", resstock_amy2018_release_2022_1_metadata.\"in.vacancy_status\" AS \"in.vacancy_status\", resstock_amy2018_release_2022_1_metadata.\"in.vintage\" AS \"in.vintage\", resstock_amy2018_release_2022_1_metadata.\"in.vintage_acs\" AS \"in.vintage_acs\", resstock_amy2018_release_2022_1_metadata.\"in.water_heater_efficiency\" AS \"in.water_heater_efficiency\", resstock_amy2018_release_2022_1_metadata.\"in.water_heater_fuel\" AS \"in.water_heater_fuel\", resstock_amy2018_release_2022_1_metadata.\"in.water_heater_in_unit\" AS \"in.water_heater_in_unit\", resstock_amy2018_release_2022_1_metadata.\"in.weather_file_city\" AS \"in.weather_file_city\", resstock_amy2018_release_2022_1_metadata.\"in.weather_file_latitude\" AS \"in.weather_file_latitude\", resstock_amy2018_release_2022_1_metadata.\"in.weather_file_longitude\" AS \"in.weather_file_longitude\", resstock_amy2018_release_2022_1_metadata.\"in.window_areas\" AS \"in.window_areas\", resstock_amy2018_release_2022_1_metadata.\"in.windows\" AS \"in.windows\", resstock_amy2018_release_2022_1_metadata.\"out.electricity.total.lrmer_95_decarb_by_2035_15_2025_start.co2e_kg\" AS \"out.electricity.total.lrmer_95_decarb_by_2035_15_2025_start.co2e_kg\", resstock_amy2018_release_2022_1_metadata.\"out.fuel_oil.total.lrmer_95_decarb_by_2035_15_2025_start.co2e_kg\" AS \"out.fuel_oil.total.lrmer_95_decarb_by_2035_15_2025_start.co2e_kg\", resstock_amy2018_release_2022_1_metadata.\"out.natural_gas.total.lrmer_95_decarb_by_2035_15_2025_start.co2e_kg\" AS \"out.natural_gas.total.lrmer_95_decarb_by_2035_15_2025_start.co2e_kg\", resstock_amy2018_release_2022_1_metadata.\"out.propane.total.lrmer_95_decarb_by_2035_15_2025_start.co2e_kg\" AS \"out.propane.total.lrmer_95_decarb_by_2035_15_2025_start.co2e_kg\", resstock_amy2018_release_2022_1_metadata.\"out.electricity.total.lrmer_low_re_cost_15_2025_start.co2e_kg\" AS \"out.electricity.total.lrmer_low_re_cost_15_2025_start.co2e_kg\", resstock_amy2018_release_2022_1_metadata.\"out.fuel_oil.total.lrmer_low_re_cost_15_2025_start.co2e_kg\" AS \"out.fuel_oil.total.lrmer_low_re_cost_15_2025_start.co2e_kg\", resstock_amy2018_release_2022_1_metadata.\"out.natural_gas.total.lrmer_low_re_cost_15_2025_start.co2e_kg\" AS \"out.natural_gas.total.lrmer_low_re_cost_15_2025_start.co2e_kg\", resstock_amy2018_release_2022_1_metadata.\"out.propane.total.lrmer_low_re_cost_15_2025_start.co2e_kg\" AS \"out.propane.total.lrmer_low_re_cost_15_2025_start.co2e_kg\", resstock_amy2018_release_2022_1_metadata.\"out.electricity.total.lrmer_low_re_cost_25_2025_start.co2e_kg\" AS \"out.electricity.total.lrmer_low_re_cost_25_2025_start.co2e_kg\", resstock_amy2018_release_2022_1_metadata.\"out.fuel_oil.total.lrmer_low_re_cost_25_2025_start.co2e_kg\" AS \"out.fuel_oil.total.lrmer_low_re_cost_25_2025_start.co2e_kg\", resstock_amy2018_release_2022_1_metadata.\"out.natural_gas.total.lrmer_low_re_cost_25_2025_start.co2e_kg\" AS \"out.natural_gas.total.lrmer_low_re_cost_25_2025_start.co2e_kg\", resstock_amy2018_release_2022_1_metadata.\"out.propane.total.lrmer_low_re_cost_25_2025_start.co2e_kg\" AS \"out.propane.total.lrmer_low_re_cost_25_2025_start.co2e_kg\", resstock_amy2018_release_2022_1_metadata.\"out.electricity.total.lrmer_mid_case_15_2025_start.co2e_kg\" AS \"out.electricity.total.lrmer_mid_case_15_2025_start.co2e_kg\", resstock_amy2018_release_2022_1_metadata.\"out.fuel_oil.total.lrmer_mid_case_15_2025_start.co2e_kg\" AS \"out.fuel_oil.total.lrmer_mid_case_15_2025_start.co2e_kg\", resstock_amy2018_release_2022_1_metadata.\"out.natural_gas.total.lrmer_mid_case_15_2025_start.co2e_kg\" AS \"out.natural_gas.total.lrmer_mid_case_15_2025_start.co2e_kg\", resstock_amy2018_release_2022_1_metadata.\"out.propane.total.lrmer_mid_case_15_2025_start.co2e_kg\" AS \"out.propane.total.lrmer_mid_case_15_2025_start.co2e_kg\", resstock_amy2018_release_2022_1_metadata.\"out.electricity.ceiling_fan.energy_consumption\" AS \"out.electricity.ceiling_fan.energy_consumption\", resstock_amy2018_release_2022_1_metadata.\"out.electricity.ceiling_fan.energy_consumption_intensity\" AS \"out.electricity.ceiling_fan.energy_consumption_intensity\", resstock_amy2018_release_2022_1_metadata.\"out.electricity.clothes_dryer.energy_consumption\" AS \"out.electricity.clothes_dryer.energy_consumption\", resstock_amy2018_release_2022_1_metadata.\"out.electricity.clothes_dryer.energy_consumption_intensity\" AS \"out.electricity.clothes_dryer.energy_consumption_intensity\", resstock_amy2018_release_2022_1_metadata.\"out.electricity.clothes_washer.energy_consumption\" AS \"out.electricity.clothes_washer.energy_consumption\", resstock_amy2018_release_2022_1_metadata.\"out.electricity.clothes_washer.energy_consumption_intensity\" AS \"out.electricity.clothes_washer.energy_consumption_intensity\", resstock_amy2018_release_2022_1_metadata.\"out.electricity.cooling_fans_pumps.energy_consumption\" AS \"out.electricity.cooling_fans_pumps.energy_consumption\", resstock_amy2018_release_2022_1_metadata.\"out.electricity.cooling_fans_pumps.energy_consumption_intensity\" AS \"out.electricity.cooling_fans_pumps.energy_consumption_intensity\", resstock_amy2018_release_2022_1_metadata.\"out.electricity.cooling.energy_consumption\" AS \"out.electricity.cooling.energy_consumption\", resstock_amy2018_release_2022_1_metadata.\"out.electricity.cooling.energy_consumption_intensity\" AS \"out.electricity.cooling.energy_consumption_intensity\", resstock_amy2018_release_2022_1_metadata.\"out.electricity.dishwasher.energy_consumption\" AS \"out.electricity.dishwasher.energy_consumption\", resstock_amy2018_release_2022_1_metadata.\"out.electricity.dishwasher.energy_consumption_intensity\" AS \"out.electricity.dishwasher.energy_consumption_intensity\", resstock_amy2018_release_2022_1_metadata.\"out.electricity.freezer.energy_consumption\" AS \"out.electricity.freezer.energy_consumption\", resstock_amy2018_release_2022_1_metadata.\"out.electricity.freezer.energy_consumption_intensity\" AS \"out.electricity.freezer.energy_consumption_intensity\", resstock_amy2018_release_2022_1_metadata.\"out.electricity.heating_fans_pumps.energy_consumption\" AS \"out.electricity.heating_fans_pumps.energy_consumption\", resstock_amy2018_release_2022_1_metadata.\"out.electricity.heating_fans_pumps.energy_consumption_intensity\" AS \"out.electricity.heating_fans_pumps.energy_consumption_intensity\", resstock_amy2018_release_2022_1_metadata.\"out.electricity.heating_hp_bkup.energy_consumption\" AS \"out.electricity.heating_hp_bkup.energy_consumption\", resstock_amy2018_release_2022_1_metadata.\"out.electricity.heating_hp_bkup.energy_consumption_intensity\" AS \"out.electricity.heating_hp_bkup.energy_consumption_intensity\", resstock_amy2018_release_2022_1_metadata.\"out.electricity.heating.energy_consumption\" AS \"out.electricity.heating.energy_consumption\", resstock_amy2018_release_2022_1_metadata.\"out.electricity.heating.energy_consumption_intensity\" AS \"out.electricity.heating.energy_consumption_intensity\", resstock_amy2018_release_2022_1_metadata.\"out.electricity.hot_tub_heater.energy_consumption\" AS \"out.electricity.hot_tub_heater.energy_consumption\", resstock_amy2018_release_2022_1_metadata.\"out.electricity.hot_tub_heater.energy_consumption_intensity\" AS \"out.electricity.hot_tub_heater.energy_consumption_intensity\", resstock_amy2018_release_2022_1_metadata.\"out.electricity.hot_tub_pump.energy_consumption\" AS \"out.electricity.hot_tub_pump.energy_consumption\", resstock_amy2018_release_2022_1_metadata.\"out.electricity.hot_tub_pump.energy_consumption_intensity\" AS \"out.electricity.hot_tub_pump.energy_consumption_intensity\", resstock_amy2018_release_2022_1_metadata.\"out.electricity.hot_water.energy_consumption\" AS \"out.electricity.hot_water.energy_consumption\", resstock_amy2018_release_2022_1_metadata.\"out.electricity.hot_water.energy_consumption_intensity\" AS \"out.electricity.hot_water.energy_consumption_intensity\", resstock_amy2018_release_2022_1_metadata.\"out.electricity.lighting_exterior.energy_consumption\" AS \"out.electricity.lighting_exterior.energy_consumption\", resstock_amy2018_release_2022_1_metadata.\"out.electricity.lighting_exterior.energy_consumption_intensity\" AS \"out.electricity.lighting_exterior.energy_consumption_intensity\", resstock_amy2018_release_2022_1_metadata.\"out.electricity.lighting_garage.energy_consumption\" AS \"out.electricity.lighting_garage.energy_consumption\", resstock_amy2018_release_2022_1_metadata.\"out.electricity.lighting_garage.energy_consumption_intensity\" AS \"out.electricity.lighting_garage.energy_consumption_intensity\", resstock_amy2018_release_2022_1_metadata.\"out.electricity.lighting_interior.energy_consumption\" AS \"out.electricity.lighting_interior.energy_consumption\", resstock_amy2018_release_2022_1_metadata.\"out.electricity.lighting_interior.energy_consumption_intensity\" AS \"out.electricity.lighting_interior.energy_consumption_intensity\", resstock_amy2018_release_2022_1_metadata.\"out.electricity.mech_vent.energy_consumption\" AS \"out.electricity.mech_vent.energy_consumption\", resstock_amy2018_release_2022_1_metadata.\"out.electricity.mech_vent.energy_consumption_intensity\" AS \"out.electricity.mech_vent.energy_consumption_intensity\", resstock_amy2018_release_2022_1_metadata.\"out.electricity.plug_loads.energy_consumption\" AS \"out.electricity.plug_loads.energy_consumption\", resstock_amy2018_release_2022_1_metadata.\"out.electricity.plug_loads.energy_consumption_intensity\" AS \"out.electricity.plug_loads.energy_consumption_intensity\", resstock_amy2018_release_2022_1_metadata.\"out.electricity.pool_heater.energy_consumption\" AS \"out.electricity.pool_heater.energy_consumption\", resstock_amy2018_release_2022_1_metadata.\"out.electricity.pool_heater.energy_consumption_intensity\" AS \"out.electricity.pool_heater.energy_consumption_intensity\", resstock_amy2018_release_2022_1_metadata.\"out.electricity.pool_pump.energy_consumption\" AS \"out.electricity.pool_pump.energy_consumption\", resstock_amy2018_release_2022_1_metadata.\"out.electricity.pool_pump.energy_consumption_intensity\" AS \"out.electricity.pool_pump.energy_consumption_intensity\", resstock_amy2018_release_2022_1_metadata.\"out.electricity.pv.energy_consumption\" AS \"out.electricity.pv.energy_consumption\", resstock_amy2018_release_2022_1_metadata.\"out.electricity.pv.energy_consumption_intensity\" AS \"out.electricity.pv.energy_consumption_intensity\", resstock_amy2018_release_2022_1_metadata.\"out.electricity.range_oven.energy_consumption\" AS \"out.electricity.range_oven.energy_consumption\", resstock_amy2018_release_2022_1_metadata.\"out.electricity.range_oven.energy_consumption_intensity\" AS \"out.electricity.range_oven.energy_consumption_intensity\", resstock_amy2018_release_2022_1_metadata.\"out.electricity.refrigerator.energy_consumption\" AS \"out.electricity.refrigerator.energy_consumption\", resstock_amy2018_release_2022_1_metadata.\"out.electricity.refrigerator.energy_consumption_intensity\" AS \"out.electricity.refrigerator.energy_consumption_intensity\", resstock_amy2018_release_2022_1_metadata.\"out.electricity.well_pump.energy_consumption\" AS \"out.electricity.well_pump.energy_consumption\", resstock_amy2018_release_2022_1_metadata.\"out.electricity.well_pump.energy_consumption_intensity\" AS \"out.electricity.well_pump.energy_consumption_intensity\", resstock_amy2018_release_2022_1_metadata.\"out.fuel_oil.heating_hp_bkup.energy_consumption\" AS \"out.fuel_oil.heating_hp_bkup.energy_consumption\", resstock_amy2018_release_2022_1_metadata.\"out.fuel_oil.heating_hp_bkup.energy_consumption_intensity\" AS \"out.fuel_oil.heating_hp_bkup.energy_consumption_intensity\", resstock_amy2018_release_2022_1_metadata.\"out.fuel_oil.heating.energy_consumption\" AS \"out.fuel_oil.heating.energy_consumption\", resstock_amy2018_release_2022_1_metadata.\"out.fuel_oil.heating.energy_consumption_intensity\" AS \"out.fuel_oil.heating.energy_consumption_intensity\", resstock_amy2018_release_2022_1_metadata.\"out.fuel_oil.hot_water.energy_consumption\" AS \"out.fuel_oil.hot_water.energy_consumption\", resstock_amy2018_release_2022_1_metadata.\"out.fuel_oil.hot_water.energy_consumption_intensity\" AS \"out.fuel_oil.hot_water.energy_consumption_intensity\", resstock_amy2018_release_2022_1_metadata.\"out.natural_gas.clothes_dryer.energy_consumption\" AS \"out.natural_gas.clothes_dryer.energy_consumption\", resstock_amy2018_release_2022_1_metadata.\"out.natural_gas.clothes_dryer.energy_consumption_intensity\" AS \"out.natural_gas.clothes_dryer.energy_consumption_intensity\", resstock_amy2018_release_2022_1_metadata.\"out.natural_gas.fireplace.energy_consumption\" AS \"out.natural_gas.fireplace.energy_consumption\", resstock_amy2018_release_2022_1_metadata.\"out.natural_gas.fireplace.energy_consumption_intensity\" AS \"out.natural_gas.fireplace.energy_consumption_intensity\", resstock_amy2018_release_2022_1_metadata.\"out.natural_gas.grill.energy_consumption\" AS \"out.natural_gas.grill.energy_consumption\", resstock_amy2018_release_2022_1_metadata.\"out.natural_gas.grill.energy_consumption_intensity\" AS \"out.natural_gas.grill.energy_consumption_intensity\", resstock_amy2018_release_2022_1_metadata.\"out.natural_gas.heating_hp_bkup.energy_consumption\" AS \"out.natural_gas.heating_hp_bkup.energy_consumption\", resstock_amy2018_release_2022_1_metadata.\"out.natural_gas.heating_hp_bkup.energy_consumption_intensity\" AS \"out.natural_gas.heating_hp_bkup.energy_consumption_intensity\", resstock_amy2018_release_2022_1_metadata.\"out.natural_gas.heating.energy_consumption\" AS \"out.natural_gas.heating.energy_consumption\", resstock_amy2018_release_2022_1_metadata.\"out.natural_gas.heating.energy_consumption_intensity\" AS \"out.natural_gas.heating.energy_consumption_intensity\", resstock_amy2018_release_2022_1_metadata.\"out.natural_gas.hot_tub_heater.energy_consumption\" AS \"out.natural_gas.hot_tub_heater.energy_consumption\", resstock_amy2018_release_2022_1_metadata.\"out.natural_gas.hot_tub_heater.energy_consumption_intensity\" AS \"out.natural_gas.hot_tub_heater.energy_consumption_intensity\", resstock_amy2018_release_2022_1_metadata.\"out.natural_gas.hot_water.energy_consumption\" AS \"out.natural_gas.hot_water.energy_consumption\", resstock_amy2018_release_2022_1_metadata.\"out.natural_gas.hot_water.energy_consumption_intensity\" AS \"out.natural_gas.hot_water.energy_consumption_intensity\", resstock_amy2018_release_2022_1_metadata.\"out.natural_gas.lighting.energy_consumption\" AS \"out.natural_gas.lighting.energy_consumption\", resstock_amy2018_release_2022_1_metadata.\"out.natural_gas.lighting.energy_consumption_intensity\" AS \"out.natural_gas.lighting.energy_consumption_intensity\", resstock_amy2018_release_2022_1_metadata.\"out.natural_gas.pool_heater.energy_consumption\" AS \"out.natural_gas.pool_heater.energy_consumption\", resstock_amy2018_release_2022_1_metadata.\"out.natural_gas.pool_heater.energy_consumption_intensity\" AS \"out.natural_gas.pool_heater.energy_consumption_intensity\", resstock_amy2018_release_2022_1_metadata.\"out.natural_gas.range_oven.energy_consumption\" AS \"out.natural_gas.range_oven.energy_consumption\", resstock_amy2018_release_2022_1_metadata.\"out.natural_gas.range_oven.energy_consumption_intensity\" AS \"out.natural_gas.range_oven.energy_consumption_intensity\", resstock_amy2018_release_2022_1_metadata.\"out.propane.clothes_dryer.energy_consumption\" AS \"out.propane.clothes_dryer.energy_consumption\", resstock_amy2018_release_2022_1_metadata.\"out.propane.clothes_dryer.energy_consumption_intensity\" AS \"out.propane.clothes_dryer.energy_consumption_intensity\", resstock_amy2018_release_2022_1_metadata.\"out.propane.heating_hp_bkup.energy_consumption\" AS \"out.propane.heating_hp_bkup.energy_consumption\", resstock_amy2018_release_2022_1_metadata.\"out.propane.heating_hp_bkup.energy_consumption_intensity\" AS \"out.propane.heating_hp_bkup.energy_consumption_intensity\", resstock_amy2018_release_2022_1_metadata.\"out.propane.heating.energy_consumption\" AS \"out.propane.heating.energy_consumption\", resstock_amy2018_release_2022_1_metadata.\"out.propane.heating.energy_consumption_intensity\" AS \"out.propane.heating.energy_consumption_intensity\", resstock_amy2018_release_2022_1_metadata.\"out.propane.hot_water.energy_consumption\" AS \"out.propane.hot_water.energy_consumption\", resstock_amy2018_release_2022_1_metadata.\"out.propane.hot_water.energy_consumption_intensity\" AS \"out.propane.hot_water.energy_consumption_intensity\", resstock_amy2018_release_2022_1_metadata.\"out.propane.range_oven.energy_consumption\" AS \"out.propane.range_oven.energy_consumption\", resstock_amy2018_release_2022_1_metadata.\"out.propane.range_oven.energy_consumption_intensity\" AS \"out.propane.range_oven.energy_consumption_intensity\", resstock_amy2018_release_2022_1_metadata.\"out.site_energy.net.energy_consumption\" AS \"out.site_energy.net.energy_consumption\", resstock_amy2018_release_2022_1_metadata.\"out.site_energy.net.energy_consumption_intensity\" AS \"out.site_energy.net.energy_consumption_intensity\", resstock_amy2018_release_2022_1_metadata.\"out.site_energy.total.energy_consumption\" AS \"out.site_energy.total.energy_consumption\", resstock_amy2018_release_2022_1_metadata.\"out.site_energy.total.energy_consumption_intensity\" AS \"out.site_energy.total.energy_consumption_intensity\", resstock_amy2018_release_2022_1_metadata.\"out.electricity.net.energy_consumption\" AS \"out.electricity.net.energy_consumption\", resstock_amy2018_release_2022_1_metadata.\"out.electricity.net.energy_consumption_intensity\" AS \"out.electricity.net.energy_consumption_intensity\", resstock_amy2018_release_2022_1_metadata.\"out.electricity.total.energy_consumption\" AS \"out.electricity.total.energy_consumption\", resstock_amy2018_release_2022_1_metadata.\"out.electricity.total.energy_consumption_intensity\" AS \"out.electricity.total.energy_consumption_intensity\", resstock_amy2018_release_2022_1_metadata.\"out.fuel_oil.total.energy_consumption\" AS \"out.fuel_oil.total.energy_consumption\", resstock_amy2018_release_2022_1_metadata.\"out.fuel_oil.total.energy_consumption_intensity\" AS \"out.fuel_oil.total.energy_consumption_intensity\", resstock_amy2018_release_2022_1_metadata.\"out.natural_gas.total.energy_consumption\" AS \"out.natural_gas.total.energy_consumption\", resstock_amy2018_release_2022_1_metadata.\"out.natural_gas.total.energy_consumption_intensity\" AS \"out.natural_gas.total.energy_consumption_intensity\", resstock_amy2018_release_2022_1_metadata.\"out.propane.total.energy_consumption\" AS \"out.propane.total.energy_consumption\", resstock_amy2018_release_2022_1_metadata.\"out.propane.total.energy_consumption_intensity\" AS \"out.propane.total.energy_consumption_intensity\", resstock_amy2018_release_2022_1_metadata.upgrade AS upgrade, resstock_amy2018_release_2022_1_metadata.metadata_index AS metadata_index, resstock_amy2018_release_2022_1_metadata.bldg_id AS bldg_id \n",
      "FROM resstock_amy2018_release_2022_1_metadata \n",
      "WHERE CAST(resstock_amy2018_release_2022_1_metadata.upgrade AS VARCHAR) = '0') AS baseline \n",
      "WHERE CAST(baseline.applicability AS VARCHAR) = 'true' GROUP BY 1 ORDER BY 1\n"
     ]
    }
   ],
   "source": [
    "baseline_agg_query = my_run.agg.aggregate_annual(enduses=['electricity.total.energy_consumption'],\n",
    "                                       group_by=['geometry_building_type_recs'],\n",
    "                                          get_query_only=True,\n",
    "                                          )\n",
    "print(baseline_agg_query)\n",
    "\n"
   ]
  },
  {
   "cell_type": "code",
   "execution_count": 19,
   "id": "89404c1c",
   "metadata": {},
   "outputs": [
    {
     "data": {
      "text/html": [
       "<div>\n",
       "<style scoped>\n",
       "    .dataframe tbody tr th:only-of-type {\n",
       "        vertical-align: middle;\n",
       "    }\n",
       "\n",
       "    .dataframe tbody tr th {\n",
       "        vertical-align: top;\n",
       "    }\n",
       "\n",
       "    .dataframe thead th {\n",
       "        text-align: right;\n",
       "    }\n",
       "</style>\n",
       "<table border=\"1\" class=\"dataframe\">\n",
       "  <thead>\n",
       "    <tr style=\"text-align: right;\">\n",
       "      <th></th>\n",
       "      <th>geometry_building_type_recs</th>\n",
       "      <th>sample_count</th>\n",
       "      <th>units_count</th>\n",
       "      <th>electricitytotalenergy_consumption</th>\n",
       "    </tr>\n",
       "  </thead>\n",
       "  <tbody>\n",
       "    <tr>\n",
       "      <th>0</th>\n",
       "      <td>Mobile Home</td>\n",
       "      <td>34491</td>\n",
       "      <td>8.351341e+06</td>\n",
       "      <td>9.934359e+10</td>\n",
       "    </tr>\n",
       "    <tr>\n",
       "      <th>1</th>\n",
       "      <td>Multi-Family with 2 - 4 Units</td>\n",
       "      <td>43868</td>\n",
       "      <td>1.062180e+07</td>\n",
       "      <td>8.623094e+10</td>\n",
       "    </tr>\n",
       "    <tr>\n",
       "      <th>2</th>\n",
       "      <td>Multi-Family with 5+ Units</td>\n",
       "      <td>100345</td>\n",
       "      <td>2.429664e+07</td>\n",
       "      <td>1.769924e+11</td>\n",
       "    </tr>\n",
       "    <tr>\n",
       "      <th>3</th>\n",
       "      <td>Single-Family Attached</td>\n",
       "      <td>32125</td>\n",
       "      <td>7.778459e+06</td>\n",
       "      <td>7.379245e+10</td>\n",
       "    </tr>\n",
       "    <tr>\n",
       "      <th>4</th>\n",
       "      <td>Single-Family Detached</td>\n",
       "      <td>338087</td>\n",
       "      <td>8.186135e+07</td>\n",
       "      <td>1.115071e+12</td>\n",
       "    </tr>\n",
       "  </tbody>\n",
       "</table>\n",
       "</div>"
      ],
      "text/plain": [
       "     geometry_building_type_recs  sample_count   units_count  \\\n",
       "0                    Mobile Home         34491  8.351341e+06   \n",
       "1  Multi-Family with 2 - 4 Units         43868  1.062180e+07   \n",
       "2     Multi-Family with 5+ Units        100345  2.429664e+07   \n",
       "3         Single-Family Attached         32125  7.778459e+06   \n",
       "4         Single-Family Detached        338087  8.186135e+07   \n",
       "\n",
       "   electricitytotalenergy_consumption  \n",
       "0                        9.934359e+10  \n",
       "1                        8.623094e+10  \n",
       "2                        1.769924e+11  \n",
       "3                        7.379245e+10  \n",
       "4                        1.115071e+12  "
      ]
     },
     "execution_count": 19,
     "metadata": {},
     "output_type": "execute_result"
    }
   ],
   "source": [
    "baseline_agg = my_run.execute(\"\"\"\n",
    "SELECT baseline.\"in.geometry_building_type_recs\" AS geometry_building_type_recs, sum(1) AS sample_count, sum(baseline.weight) AS units_count, sum(baseline.\"out.electricity.total.energy_consumption\" * baseline.weight) AS electricitytotalenergy_consumption \n",
    "FROM (SELECT resstock_amy2018_release_2022_1_metadata.applicability AS applicability, resstock_amy2018_release_2022_1_metadata.\"in.sqft\" AS \"in.sqft\", resstock_amy2018_release_2022_1_metadata.weight AS weight, resstock_amy2018_release_2022_1_metadata.\"in.ahs_region\" AS \"in.ahs_region\", resstock_amy2018_release_2022_1_metadata.\"in.ashrae_iecc_climate_zone_2004\" AS \"in.ashrae_iecc_climate_zone_2004\", resstock_amy2018_release_2022_1_metadata.\"in.ashrae_iecc_climate_zone_2004_2_a_split\" AS \"in.ashrae_iecc_climate_zone_2004_2_a_split\", resstock_amy2018_release_2022_1_metadata.\"in.bathroom_spot_vent_hour\" AS \"in.bathroom_spot_vent_hour\", resstock_amy2018_release_2022_1_metadata.\"in.bedrooms\" AS \"in.bedrooms\", resstock_amy2018_release_2022_1_metadata.\"in.building_america_climate_zone\" AS \"in.building_america_climate_zone\", resstock_amy2018_release_2022_1_metadata.\"in.cec_climate_zone\" AS \"in.cec_climate_zone\", resstock_amy2018_release_2022_1_metadata.\"in.ceiling_fan\" AS \"in.ceiling_fan\", resstock_amy2018_release_2022_1_metadata.\"in.census_division\" AS \"in.census_division\", resstock_amy2018_release_2022_1_metadata.\"in.census_division_recs\" AS \"in.census_division_recs\", resstock_amy2018_release_2022_1_metadata.\"in.census_region\" AS \"in.census_region\", resstock_amy2018_release_2022_1_metadata.\"in.city\" AS \"in.city\", resstock_amy2018_release_2022_1_metadata.\"in.clothes_dryer\" AS \"in.clothes_dryer\", resstock_amy2018_release_2022_1_metadata.\"in.clothes_washer\" AS \"in.clothes_washer\", resstock_amy2018_release_2022_1_metadata.\"in.clothes_washer_presence\" AS \"in.clothes_washer_presence\", resstock_amy2018_release_2022_1_metadata.\"in.cooking_range\" AS \"in.cooking_range\", resstock_amy2018_release_2022_1_metadata.\"in.cooling_setpoint\" AS \"in.cooling_setpoint\", resstock_amy2018_release_2022_1_metadata.\"in.cooling_setpoint_has_offset\" AS \"in.cooling_setpoint_has_offset\", resstock_amy2018_release_2022_1_metadata.\"in.cooling_setpoint_offset_magnitude\" AS \"in.cooling_setpoint_offset_magnitude\", resstock_amy2018_release_2022_1_metadata.\"in.cooling_setpoint_offset_period\" AS \"in.cooling_setpoint_offset_period\", resstock_amy2018_release_2022_1_metadata.\"in.corridor\" AS \"in.corridor\", resstock_amy2018_release_2022_1_metadata.\"in.county\" AS \"in.county\", resstock_amy2018_release_2022_1_metadata.\"in.county_and_puma\" AS \"in.county_and_puma\", resstock_amy2018_release_2022_1_metadata.\"in.dehumidifier\" AS \"in.dehumidifier\", resstock_amy2018_release_2022_1_metadata.\"in.dishwasher\" AS \"in.dishwasher\", resstock_amy2018_release_2022_1_metadata.\"in.door_area\" AS \"in.door_area\", resstock_amy2018_release_2022_1_metadata.\"in.doors\" AS \"in.doors\", resstock_amy2018_release_2022_1_metadata.\"in.ducts\" AS \"in.ducts\", resstock_amy2018_release_2022_1_metadata.\"in.eaves\" AS \"in.eaves\", resstock_amy2018_release_2022_1_metadata.\"in.electric_vehicle\" AS \"in.electric_vehicle\", resstock_amy2018_release_2022_1_metadata.\"in.emissions_electricity_folders\" AS \"in.emissions_electricity_folders\", resstock_amy2018_release_2022_1_metadata.\"in.emissions_electricity_units\" AS \"in.emissions_electricity_units\", resstock_amy2018_release_2022_1_metadata.\"in.emissions_electricity_values_or_filepaths\" AS \"in.emissions_electricity_values_or_filepaths\", resstock_amy2018_release_2022_1_metadata.\"in.emissions_fossil_fuel_units\" AS \"in.emissions_fossil_fuel_units\", resstock_amy2018_release_2022_1_metadata.\"in.emissions_fuel_oil_values\" AS \"in.emissions_fuel_oil_values\", resstock_amy2018_release_2022_1_metadata.\"in.emissions_natural_gas_values\" AS \"in.emissions_natural_gas_values\", resstock_amy2018_release_2022_1_metadata.\"in.emissions_propane_values\" AS \"in.emissions_propane_values\", resstock_amy2018_release_2022_1_metadata.\"in.emissions_scenario_names\" AS \"in.emissions_scenario_names\", resstock_amy2018_release_2022_1_metadata.\"in.emissions_types\" AS \"in.emissions_types\", resstock_amy2018_release_2022_1_metadata.\"in.emissions_wood_values\" AS \"in.emissions_wood_values\", resstock_amy2018_release_2022_1_metadata.\"in.federal_poverty_level\" AS \"in.federal_poverty_level\", resstock_amy2018_release_2022_1_metadata.\"in.generation_and_emissions_assessment_region\" AS \"in.generation_and_emissions_assessment_region\", resstock_amy2018_release_2022_1_metadata.\"in.geometry_attic_type\" AS \"in.geometry_attic_type\", resstock_amy2018_release_2022_1_metadata.\"in.geometry_building_horizontal_location_mf\" AS \"in.geometry_building_horizontal_location_mf\", resstock_amy2018_release_2022_1_metadata.\"in.geometry_building_horizontal_location_sfa\" AS \"in.geometry_building_horizontal_location_sfa\", resstock_amy2018_release_2022_1_metadata.\"in.geometry_building_level_mf\" AS \"in.geometry_building_level_mf\", resstock_amy2018_release_2022_1_metadata.\"in.geometry_building_number_units_mf\" AS \"in.geometry_building_number_units_mf\", resstock_amy2018_release_2022_1_metadata.\"in.geometry_building_number_units_sfa\" AS \"in.geometry_building_number_units_sfa\", resstock_amy2018_release_2022_1_metadata.\"in.geometry_building_type_acs\" AS \"in.geometry_building_type_acs\", resstock_amy2018_release_2022_1_metadata.\"in.geometry_building_type_height\" AS \"in.geometry_building_type_height\", resstock_amy2018_release_2022_1_metadata.\"in.geometry_building_type_recs\" AS \"in.geometry_building_type_recs\", resstock_amy2018_release_2022_1_metadata.\"in.geometry_floor_area\" AS \"in.geometry_floor_area\", resstock_amy2018_release_2022_1_metadata.\"in.geometry_floor_area_bin\" AS \"in.geometry_floor_area_bin\", resstock_amy2018_release_2022_1_metadata.\"in.geometry_foundation_type\" AS \"in.geometry_foundation_type\", resstock_amy2018_release_2022_1_metadata.\"in.geometry_garage\" AS \"in.geometry_garage\", resstock_amy2018_release_2022_1_metadata.\"in.geometry_stories\" AS \"in.geometry_stories\", resstock_amy2018_release_2022_1_metadata.\"in.geometry_stories_low_rise\" AS \"in.geometry_stories_low_rise\", resstock_amy2018_release_2022_1_metadata.\"in.geometry_story_bin\" AS \"in.geometry_story_bin\", resstock_amy2018_release_2022_1_metadata.\"in.geometry_wall_exterior_finish\" AS \"in.geometry_wall_exterior_finish\", resstock_amy2018_release_2022_1_metadata.\"in.geometry_wall_type\" AS \"in.geometry_wall_type\", resstock_amy2018_release_2022_1_metadata.\"in.has_pv\" AS \"in.has_pv\", resstock_amy2018_release_2022_1_metadata.\"in.heating_fuel\" AS \"in.heating_fuel\", resstock_amy2018_release_2022_1_metadata.\"in.heating_setpoint\" AS \"in.heating_setpoint\", resstock_amy2018_release_2022_1_metadata.\"in.heating_setpoint_has_offset\" AS \"in.heating_setpoint_has_offset\", resstock_amy2018_release_2022_1_metadata.\"in.heating_setpoint_offset_magnitude\" AS \"in.heating_setpoint_offset_magnitude\", resstock_amy2018_release_2022_1_metadata.\"in.heating_setpoint_offset_period\" AS \"in.heating_setpoint_offset_period\", resstock_amy2018_release_2022_1_metadata.\"in.holiday_lighting\" AS \"in.holiday_lighting\", resstock_amy2018_release_2022_1_metadata.\"in.hot_water_distribution\" AS \"in.hot_water_distribution\", resstock_amy2018_release_2022_1_metadata.\"in.hot_water_fixtures\" AS \"in.hot_water_fixtures\", resstock_amy2018_release_2022_1_metadata.\"in.hvac_cooling_efficiency\" AS \"in.hvac_cooling_efficiency\", resstock_amy2018_release_2022_1_metadata.\"in.hvac_cooling_partial_space_conditioning\" AS \"in.hvac_cooling_partial_space_conditioning\", resstock_amy2018_release_2022_1_metadata.\"in.hvac_cooling_type\" AS \"in.hvac_cooling_type\", resstock_amy2018_release_2022_1_metadata.\"in.hvac_has_ducts\" AS \"in.hvac_has_ducts\", resstock_amy2018_release_2022_1_metadata.\"in.hvac_has_shared_system\" AS \"in.hvac_has_shared_system\", resstock_amy2018_release_2022_1_metadata.\"in.hvac_has_zonal_electric_heating\" AS \"in.hvac_has_zonal_electric_heating\", resstock_amy2018_release_2022_1_metadata.\"in.hvac_heating_efficiency\" AS \"in.hvac_heating_efficiency\", resstock_amy2018_release_2022_1_metadata.\"in.hvac_heating_type\" AS \"in.hvac_heating_type\", resstock_amy2018_release_2022_1_metadata.\"in.hvac_heating_type_and_fuel\" AS \"in.hvac_heating_type_and_fuel\", resstock_amy2018_release_2022_1_metadata.\"in.hvac_secondary_heating_efficiency\" AS \"in.hvac_secondary_heating_efficiency\", resstock_amy2018_release_2022_1_metadata.\"in.hvac_secondary_heating_type_and_fuel\" AS \"in.hvac_secondary_heating_type_and_fuel\", resstock_amy2018_release_2022_1_metadata.\"in.hvac_shared_efficiencies\" AS \"in.hvac_shared_efficiencies\", resstock_amy2018_release_2022_1_metadata.\"in.hvac_system_is_faulted\" AS \"in.hvac_system_is_faulted\", resstock_amy2018_release_2022_1_metadata.\"in.hvac_system_single_speed_ac_airflow\" AS \"in.hvac_system_single_speed_ac_airflow\", resstock_amy2018_release_2022_1_metadata.\"in.hvac_system_single_speed_ac_charge\" AS \"in.hvac_system_single_speed_ac_charge\", resstock_amy2018_release_2022_1_metadata.\"in.hvac_system_single_speed_ashp_airflow\" AS \"in.hvac_system_single_speed_ashp_airflow\", resstock_amy2018_release_2022_1_metadata.\"in.hvac_system_single_speed_ashp_charge\" AS \"in.hvac_system_single_speed_ashp_charge\", resstock_amy2018_release_2022_1_metadata.\"in.income\" AS \"in.income\", resstock_amy2018_release_2022_1_metadata.\"in.income_recs_2015\" AS \"in.income_recs_2015\", resstock_amy2018_release_2022_1_metadata.\"in.income_recs_2020\" AS \"in.income_recs_2020\", resstock_amy2018_release_2022_1_metadata.\"in.infiltration\" AS \"in.infiltration\", resstock_amy2018_release_2022_1_metadata.\"in.insulation_ceiling\" AS \"in.insulation_ceiling\", resstock_amy2018_release_2022_1_metadata.\"in.insulation_floor\" AS \"in.insulation_floor\", resstock_amy2018_release_2022_1_metadata.\"in.insulation_foundation_wall\" AS \"in.insulation_foundation_wall\", resstock_amy2018_release_2022_1_metadata.\"in.insulation_rim_joist\" AS \"in.insulation_rim_joist\", resstock_amy2018_release_2022_1_metadata.\"in.insulation_roof\" AS \"in.insulation_roof\", resstock_amy2018_release_2022_1_metadata.\"in.insulation_slab\" AS \"in.insulation_slab\", resstock_amy2018_release_2022_1_metadata.\"in.insulation_wall\" AS \"in.insulation_wall\", resstock_amy2018_release_2022_1_metadata.\"in.interior_shading\" AS \"in.interior_shading\", resstock_amy2018_release_2022_1_metadata.\"in.iso_rto_region\" AS \"in.iso_rto_region\", resstock_amy2018_release_2022_1_metadata.\"in.lighting\" AS \"in.lighting\", resstock_amy2018_release_2022_1_metadata.\"in.lighting_interior_use\" AS \"in.lighting_interior_use\", resstock_amy2018_release_2022_1_metadata.\"in.lighting_other_use\" AS \"in.lighting_other_use\", resstock_amy2018_release_2022_1_metadata.\"in.location_region\" AS \"in.location_region\", resstock_amy2018_release_2022_1_metadata.\"in.mechanical_ventilation\" AS \"in.mechanical_ventilation\", resstock_amy2018_release_2022_1_metadata.\"in.misc_extra_refrigerator\" AS \"in.misc_extra_refrigerator\", resstock_amy2018_release_2022_1_metadata.\"in.misc_freezer\" AS \"in.misc_freezer\", resstock_amy2018_release_2022_1_metadata.\"in.misc_gas_fireplace\" AS \"in.misc_gas_fireplace\", resstock_amy2018_release_2022_1_metadata.\"in.misc_gas_grill\" AS \"in.misc_gas_grill\", resstock_amy2018_release_2022_1_metadata.\"in.misc_gas_lighting\" AS \"in.misc_gas_lighting\", resstock_amy2018_release_2022_1_metadata.\"in.misc_hot_tub_spa\" AS \"in.misc_hot_tub_spa\", resstock_amy2018_release_2022_1_metadata.\"in.misc_pool\" AS \"in.misc_pool\", resstock_amy2018_release_2022_1_metadata.\"in.misc_pool_heater\" AS \"in.misc_pool_heater\", resstock_amy2018_release_2022_1_metadata.\"in.misc_pool_pump\" AS \"in.misc_pool_pump\", resstock_amy2018_release_2022_1_metadata.\"in.misc_well_pump\" AS \"in.misc_well_pump\", resstock_amy2018_release_2022_1_metadata.\"in.natural_ventilation\" AS \"in.natural_ventilation\", resstock_amy2018_release_2022_1_metadata.\"in.neighbors\" AS \"in.neighbors\", resstock_amy2018_release_2022_1_metadata.\"in.occupants\" AS \"in.occupants\", resstock_amy2018_release_2022_1_metadata.\"in.orientation\" AS \"in.orientation\", resstock_amy2018_release_2022_1_metadata.\"in.overhangs\" AS \"in.overhangs\", resstock_amy2018_release_2022_1_metadata.\"in.plug_load_diversity\" AS \"in.plug_load_diversity\", resstock_amy2018_release_2022_1_metadata.\"in.plug_loads\" AS \"in.plug_loads\", resstock_amy2018_release_2022_1_metadata.\"in.puma\" AS \"in.puma\", resstock_amy2018_release_2022_1_metadata.\"in.puma_metro_status\" AS \"in.puma_metro_status\", resstock_amy2018_release_2022_1_metadata.\"in.pv_orientation\" AS \"in.pv_orientation\", resstock_amy2018_release_2022_1_metadata.\"in.pv_system_size\" AS \"in.pv_system_size\", resstock_amy2018_release_2022_1_metadata.\"in.radiant_barrier\" AS \"in.radiant_barrier\", resstock_amy2018_release_2022_1_metadata.\"in.range_spot_vent_hour\" AS \"in.range_spot_vent_hour\", resstock_amy2018_release_2022_1_metadata.\"in.reeds_balancing_area\" AS \"in.reeds_balancing_area\", resstock_amy2018_release_2022_1_metadata.\"in.refrigerator\" AS \"in.refrigerator\", resstock_amy2018_release_2022_1_metadata.\"in.roof_material\" AS \"in.roof_material\", resstock_amy2018_release_2022_1_metadata.\"in.schedules\" AS \"in.schedules\", resstock_amy2018_release_2022_1_metadata.\"in.simulation_control_run_period_begin_day_of_month\" AS \"in.simulation_control_run_period_begin_day_of_month\", resstock_amy2018_release_2022_1_metadata.\"in.simulation_control_run_period_begin_month\" AS \"in.simulation_control_run_period_begin_month\", resstock_amy2018_release_2022_1_metadata.\"in.simulation_control_run_period_calendar_year\" AS \"in.simulation_control_run_period_calendar_year\", resstock_amy2018_release_2022_1_metadata.\"in.simulation_control_run_period_end_day_of_month\" AS \"in.simulation_control_run_period_end_day_of_month\", resstock_amy2018_release_2022_1_metadata.\"in.simulation_control_run_period_end_month\" AS \"in.simulation_control_run_period_end_month\", resstock_amy2018_release_2022_1_metadata.\"in.simulation_control_timestep\" AS \"in.simulation_control_timestep\", resstock_amy2018_release_2022_1_metadata.\"in.solar_hot_water\" AS \"in.solar_hot_water\", resstock_amy2018_release_2022_1_metadata.\"in.state\" AS \"in.state\", resstock_amy2018_release_2022_1_metadata.\"in.tenure\" AS \"in.tenure\", resstock_amy2018_release_2022_1_metadata.\"in.units_represented\" AS \"in.units_represented\", resstock_amy2018_release_2022_1_metadata.\"in.usage_level\" AS \"in.usage_level\", resstock_amy2018_release_2022_1_metadata.\"in.vacancy_status\" AS \"in.vacancy_status\", resstock_amy2018_release_2022_1_metadata.\"in.vintage\" AS \"in.vintage\", resstock_amy2018_release_2022_1_metadata.\"in.vintage_acs\" AS \"in.vintage_acs\", resstock_amy2018_release_2022_1_metadata.\"in.water_heater_efficiency\" AS \"in.water_heater_efficiency\", resstock_amy2018_release_2022_1_metadata.\"in.water_heater_fuel\" AS \"in.water_heater_fuel\", resstock_amy2018_release_2022_1_metadata.\"in.water_heater_in_unit\" AS \"in.water_heater_in_unit\", resstock_amy2018_release_2022_1_metadata.\"in.weather_file_city\" AS \"in.weather_file_city\", resstock_amy2018_release_2022_1_metadata.\"in.weather_file_latitude\" AS \"in.weather_file_latitude\", resstock_amy2018_release_2022_1_metadata.\"in.weather_file_longitude\" AS \"in.weather_file_longitude\", resstock_amy2018_release_2022_1_metadata.\"in.window_areas\" AS \"in.window_areas\", resstock_amy2018_release_2022_1_metadata.\"in.windows\" AS \"in.windows\", resstock_amy2018_release_2022_1_metadata.\"out.electricity.total.lrmer_95_decarb_by_2035_15_2025_start.co2e_kg\" AS \"out.electricity.total.lrmer_95_decarb_by_2035_15_2025_start.co2e_kg\", resstock_amy2018_release_2022_1_metadata.\"out.fuel_oil.total.lrmer_95_decarb_by_2035_15_2025_start.co2e_kg\" AS \"out.fuel_oil.total.lrmer_95_decarb_by_2035_15_2025_start.co2e_kg\", resstock_amy2018_release_2022_1_metadata.\"out.natural_gas.total.lrmer_95_decarb_by_2035_15_2025_start.co2e_kg\" AS \"out.natural_gas.total.lrmer_95_decarb_by_2035_15_2025_start.co2e_kg\", resstock_amy2018_release_2022_1_metadata.\"out.propane.total.lrmer_95_decarb_by_2035_15_2025_start.co2e_kg\" AS \"out.propane.total.lrmer_95_decarb_by_2035_15_2025_start.co2e_kg\", resstock_amy2018_release_2022_1_metadata.\"out.electricity.total.lrmer_low_re_cost_15_2025_start.co2e_kg\" AS \"out.electricity.total.lrmer_low_re_cost_15_2025_start.co2e_kg\", resstock_amy2018_release_2022_1_metadata.\"out.fuel_oil.total.lrmer_low_re_cost_15_2025_start.co2e_kg\" AS \"out.fuel_oil.total.lrmer_low_re_cost_15_2025_start.co2e_kg\", resstock_amy2018_release_2022_1_metadata.\"out.natural_gas.total.lrmer_low_re_cost_15_2025_start.co2e_kg\" AS \"out.natural_gas.total.lrmer_low_re_cost_15_2025_start.co2e_kg\", resstock_amy2018_release_2022_1_metadata.\"out.propane.total.lrmer_low_re_cost_15_2025_start.co2e_kg\" AS \"out.propane.total.lrmer_low_re_cost_15_2025_start.co2e_kg\", resstock_amy2018_release_2022_1_metadata.\"out.electricity.total.lrmer_low_re_cost_25_2025_start.co2e_kg\" AS \"out.electricity.total.lrmer_low_re_cost_25_2025_start.co2e_kg\", resstock_amy2018_release_2022_1_metadata.\"out.fuel_oil.total.lrmer_low_re_cost_25_2025_start.co2e_kg\" AS \"out.fuel_oil.total.lrmer_low_re_cost_25_2025_start.co2e_kg\", resstock_amy2018_release_2022_1_metadata.\"out.natural_gas.total.lrmer_low_re_cost_25_2025_start.co2e_kg\" AS \"out.natural_gas.total.lrmer_low_re_cost_25_2025_start.co2e_kg\", resstock_amy2018_release_2022_1_metadata.\"out.propane.total.lrmer_low_re_cost_25_2025_start.co2e_kg\" AS \"out.propane.total.lrmer_low_re_cost_25_2025_start.co2e_kg\", resstock_amy2018_release_2022_1_metadata.\"out.electricity.total.lrmer_mid_case_15_2025_start.co2e_kg\" AS \"out.electricity.total.lrmer_mid_case_15_2025_start.co2e_kg\", resstock_amy2018_release_2022_1_metadata.\"out.fuel_oil.total.lrmer_mid_case_15_2025_start.co2e_kg\" AS \"out.fuel_oil.total.lrmer_mid_case_15_2025_start.co2e_kg\", resstock_amy2018_release_2022_1_metadata.\"out.natural_gas.total.lrmer_mid_case_15_2025_start.co2e_kg\" AS \"out.natural_gas.total.lrmer_mid_case_15_2025_start.co2e_kg\", resstock_amy2018_release_2022_1_metadata.\"out.propane.total.lrmer_mid_case_15_2025_start.co2e_kg\" AS \"out.propane.total.lrmer_mid_case_15_2025_start.co2e_kg\", resstock_amy2018_release_2022_1_metadata.\"out.electricity.ceiling_fan.energy_consumption\" AS \"out.electricity.ceiling_fan.energy_consumption\", resstock_amy2018_release_2022_1_metadata.\"out.electricity.ceiling_fan.energy_consumption_intensity\" AS \"out.electricity.ceiling_fan.energy_consumption_intensity\", resstock_amy2018_release_2022_1_metadata.\"out.electricity.clothes_dryer.energy_consumption\" AS \"out.electricity.clothes_dryer.energy_consumption\", resstock_amy2018_release_2022_1_metadata.\"out.electricity.clothes_dryer.energy_consumption_intensity\" AS \"out.electricity.clothes_dryer.energy_consumption_intensity\", resstock_amy2018_release_2022_1_metadata.\"out.electricity.clothes_washer.energy_consumption\" AS \"out.electricity.clothes_washer.energy_consumption\", resstock_amy2018_release_2022_1_metadata.\"out.electricity.clothes_washer.energy_consumption_intensity\" AS \"out.electricity.clothes_washer.energy_consumption_intensity\", resstock_amy2018_release_2022_1_metadata.\"out.electricity.cooling_fans_pumps.energy_consumption\" AS \"out.electricity.cooling_fans_pumps.energy_consumption\", resstock_amy2018_release_2022_1_metadata.\"out.electricity.cooling_fans_pumps.energy_consumption_intensity\" AS \"out.electricity.cooling_fans_pumps.energy_consumption_intensity\", resstock_amy2018_release_2022_1_metadata.\"out.electricity.cooling.energy_consumption\" AS \"out.electricity.cooling.energy_consumption\", resstock_amy2018_release_2022_1_metadata.\"out.electricity.cooling.energy_consumption_intensity\" AS \"out.electricity.cooling.energy_consumption_intensity\", resstock_amy2018_release_2022_1_metadata.\"out.electricity.dishwasher.energy_consumption\" AS \"out.electricity.dishwasher.energy_consumption\", resstock_amy2018_release_2022_1_metadata.\"out.electricity.dishwasher.energy_consumption_intensity\" AS \"out.electricity.dishwasher.energy_consumption_intensity\", resstock_amy2018_release_2022_1_metadata.\"out.electricity.freezer.energy_consumption\" AS \"out.electricity.freezer.energy_consumption\", resstock_amy2018_release_2022_1_metadata.\"out.electricity.freezer.energy_consumption_intensity\" AS \"out.electricity.freezer.energy_consumption_intensity\", resstock_amy2018_release_2022_1_metadata.\"out.electricity.heating_fans_pumps.energy_consumption\" AS \"out.electricity.heating_fans_pumps.energy_consumption\", resstock_amy2018_release_2022_1_metadata.\"out.electricity.heating_fans_pumps.energy_consumption_intensity\" AS \"out.electricity.heating_fans_pumps.energy_consumption_intensity\", resstock_amy2018_release_2022_1_metadata.\"out.electricity.heating_hp_bkup.energy_consumption\" AS \"out.electricity.heating_hp_bkup.energy_consumption\", resstock_amy2018_release_2022_1_metadata.\"out.electricity.heating_hp_bkup.energy_consumption_intensity\" AS \"out.electricity.heating_hp_bkup.energy_consumption_intensity\", resstock_amy2018_release_2022_1_metadata.\"out.electricity.heating.energy_consumption\" AS \"out.electricity.heating.energy_consumption\", resstock_amy2018_release_2022_1_metadata.\"out.electricity.heating.energy_consumption_intensity\" AS \"out.electricity.heating.energy_consumption_intensity\", resstock_amy2018_release_2022_1_metadata.\"out.electricity.hot_tub_heater.energy_consumption\" AS \"out.electricity.hot_tub_heater.energy_consumption\", resstock_amy2018_release_2022_1_metadata.\"out.electricity.hot_tub_heater.energy_consumption_intensity\" AS \"out.electricity.hot_tub_heater.energy_consumption_intensity\", resstock_amy2018_release_2022_1_metadata.\"out.electricity.hot_tub_pump.energy_consumption\" AS \"out.electricity.hot_tub_pump.energy_consumption\", resstock_amy2018_release_2022_1_metadata.\"out.electricity.hot_tub_pump.energy_consumption_intensity\" AS \"out.electricity.hot_tub_pump.energy_consumption_intensity\", resstock_amy2018_release_2022_1_metadata.\"out.electricity.hot_water.energy_consumption\" AS \"out.electricity.hot_water.energy_consumption\", resstock_amy2018_release_2022_1_metadata.\"out.electricity.hot_water.energy_consumption_intensity\" AS \"out.electricity.hot_water.energy_consumption_intensity\", resstock_amy2018_release_2022_1_metadata.\"out.electricity.lighting_exterior.energy_consumption\" AS \"out.electricity.lighting_exterior.energy_consumption\", resstock_amy2018_release_2022_1_metadata.\"out.electricity.lighting_exterior.energy_consumption_intensity\" AS \"out.electricity.lighting_exterior.energy_consumption_intensity\", resstock_amy2018_release_2022_1_metadata.\"out.electricity.lighting_garage.energy_consumption\" AS \"out.electricity.lighting_garage.energy_consumption\", resstock_amy2018_release_2022_1_metadata.\"out.electricity.lighting_garage.energy_consumption_intensity\" AS \"out.electricity.lighting_garage.energy_consumption_intensity\", resstock_amy2018_release_2022_1_metadata.\"out.electricity.lighting_interior.energy_consumption\" AS \"out.electricity.lighting_interior.energy_consumption\", resstock_amy2018_release_2022_1_metadata.\"out.electricity.lighting_interior.energy_consumption_intensity\" AS \"out.electricity.lighting_interior.energy_consumption_intensity\", resstock_amy2018_release_2022_1_metadata.\"out.electricity.mech_vent.energy_consumption\" AS \"out.electricity.mech_vent.energy_consumption\", resstock_amy2018_release_2022_1_metadata.\"out.electricity.mech_vent.energy_consumption_intensity\" AS \"out.electricity.mech_vent.energy_consumption_intensity\", resstock_amy2018_release_2022_1_metadata.\"out.electricity.plug_loads.energy_consumption\" AS \"out.electricity.plug_loads.energy_consumption\", resstock_amy2018_release_2022_1_metadata.\"out.electricity.plug_loads.energy_consumption_intensity\" AS \"out.electricity.plug_loads.energy_consumption_intensity\", resstock_amy2018_release_2022_1_metadata.\"out.electricity.pool_heater.energy_consumption\" AS \"out.electricity.pool_heater.energy_consumption\", resstock_amy2018_release_2022_1_metadata.\"out.electricity.pool_heater.energy_consumption_intensity\" AS \"out.electricity.pool_heater.energy_consumption_intensity\", resstock_amy2018_release_2022_1_metadata.\"out.electricity.pool_pump.energy_consumption\" AS \"out.electricity.pool_pump.energy_consumption\", resstock_amy2018_release_2022_1_metadata.\"out.electricity.pool_pump.energy_consumption_intensity\" AS \"out.electricity.pool_pump.energy_consumption_intensity\", resstock_amy2018_release_2022_1_metadata.\"out.electricity.pv.energy_consumption\" AS \"out.electricity.pv.energy_consumption\", resstock_amy2018_release_2022_1_metadata.\"out.electricity.pv.energy_consumption_intensity\" AS \"out.electricity.pv.energy_consumption_intensity\", resstock_amy2018_release_2022_1_metadata.\"out.electricity.range_oven.energy_consumption\" AS \"out.electricity.range_oven.energy_consumption\", resstock_amy2018_release_2022_1_metadata.\"out.electricity.range_oven.energy_consumption_intensity\" AS \"out.electricity.range_oven.energy_consumption_intensity\", resstock_amy2018_release_2022_1_metadata.\"out.electricity.refrigerator.energy_consumption\" AS \"out.electricity.refrigerator.energy_consumption\", resstock_amy2018_release_2022_1_metadata.\"out.electricity.refrigerator.energy_consumption_intensity\" AS \"out.electricity.refrigerator.energy_consumption_intensity\", resstock_amy2018_release_2022_1_metadata.\"out.electricity.well_pump.energy_consumption\" AS \"out.electricity.well_pump.energy_consumption\", resstock_amy2018_release_2022_1_metadata.\"out.electricity.well_pump.energy_consumption_intensity\" AS \"out.electricity.well_pump.energy_consumption_intensity\", resstock_amy2018_release_2022_1_metadata.\"out.fuel_oil.heating_hp_bkup.energy_consumption\" AS \"out.fuel_oil.heating_hp_bkup.energy_consumption\", resstock_amy2018_release_2022_1_metadata.\"out.fuel_oil.heating_hp_bkup.energy_consumption_intensity\" AS \"out.fuel_oil.heating_hp_bkup.energy_consumption_intensity\", resstock_amy2018_release_2022_1_metadata.\"out.fuel_oil.heating.energy_consumption\" AS \"out.fuel_oil.heating.energy_consumption\", resstock_amy2018_release_2022_1_metadata.\"out.fuel_oil.heating.energy_consumption_intensity\" AS \"out.fuel_oil.heating.energy_consumption_intensity\", resstock_amy2018_release_2022_1_metadata.\"out.fuel_oil.hot_water.energy_consumption\" AS \"out.fuel_oil.hot_water.energy_consumption\", resstock_amy2018_release_2022_1_metadata.\"out.fuel_oil.hot_water.energy_consumption_intensity\" AS \"out.fuel_oil.hot_water.energy_consumption_intensity\", resstock_amy2018_release_2022_1_metadata.\"out.natural_gas.clothes_dryer.energy_consumption\" AS \"out.natural_gas.clothes_dryer.energy_consumption\", resstock_amy2018_release_2022_1_metadata.\"out.natural_gas.clothes_dryer.energy_consumption_intensity\" AS \"out.natural_gas.clothes_dryer.energy_consumption_intensity\", resstock_amy2018_release_2022_1_metadata.\"out.natural_gas.fireplace.energy_consumption\" AS \"out.natural_gas.fireplace.energy_consumption\", resstock_amy2018_release_2022_1_metadata.\"out.natural_gas.fireplace.energy_consumption_intensity\" AS \"out.natural_gas.fireplace.energy_consumption_intensity\", resstock_amy2018_release_2022_1_metadata.\"out.natural_gas.grill.energy_consumption\" AS \"out.natural_gas.grill.energy_consumption\", resstock_amy2018_release_2022_1_metadata.\"out.natural_gas.grill.energy_consumption_intensity\" AS \"out.natural_gas.grill.energy_consumption_intensity\", resstock_amy2018_release_2022_1_metadata.\"out.natural_gas.heating_hp_bkup.energy_consumption\" AS \"out.natural_gas.heating_hp_bkup.energy_consumption\", resstock_amy2018_release_2022_1_metadata.\"out.natural_gas.heating_hp_bkup.energy_consumption_intensity\" AS \"out.natural_gas.heating_hp_bkup.energy_consumption_intensity\", resstock_amy2018_release_2022_1_metadata.\"out.natural_gas.heating.energy_consumption\" AS \"out.natural_gas.heating.energy_consumption\", resstock_amy2018_release_2022_1_metadata.\"out.natural_gas.heating.energy_consumption_intensity\" AS \"out.natural_gas.heating.energy_consumption_intensity\", resstock_amy2018_release_2022_1_metadata.\"out.natural_gas.hot_tub_heater.energy_consumption\" AS \"out.natural_gas.hot_tub_heater.energy_consumption\", resstock_amy2018_release_2022_1_metadata.\"out.natural_gas.hot_tub_heater.energy_consumption_intensity\" AS \"out.natural_gas.hot_tub_heater.energy_consumption_intensity\", resstock_amy2018_release_2022_1_metadata.\"out.natural_gas.hot_water.energy_consumption\" AS \"out.natural_gas.hot_water.energy_consumption\", resstock_amy2018_release_2022_1_metadata.\"out.natural_gas.hot_water.energy_consumption_intensity\" AS \"out.natural_gas.hot_water.energy_consumption_intensity\", resstock_amy2018_release_2022_1_metadata.\"out.natural_gas.lighting.energy_consumption\" AS \"out.natural_gas.lighting.energy_consumption\", resstock_amy2018_release_2022_1_metadata.\"out.natural_gas.lighting.energy_consumption_intensity\" AS \"out.natural_gas.lighting.energy_consumption_intensity\", resstock_amy2018_release_2022_1_metadata.\"out.natural_gas.pool_heater.energy_consumption\" AS \"out.natural_gas.pool_heater.energy_consumption\", resstock_amy2018_release_2022_1_metadata.\"out.natural_gas.pool_heater.energy_consumption_intensity\" AS \"out.natural_gas.pool_heater.energy_consumption_intensity\", resstock_amy2018_release_2022_1_metadata.\"out.natural_gas.range_oven.energy_consumption\" AS \"out.natural_gas.range_oven.energy_consumption\", resstock_amy2018_release_2022_1_metadata.\"out.natural_gas.range_oven.energy_consumption_intensity\" AS \"out.natural_gas.range_oven.energy_consumption_intensity\", resstock_amy2018_release_2022_1_metadata.\"out.propane.clothes_dryer.energy_consumption\" AS \"out.propane.clothes_dryer.energy_consumption\", resstock_amy2018_release_2022_1_metadata.\"out.propane.clothes_dryer.energy_consumption_intensity\" AS \"out.propane.clothes_dryer.energy_consumption_intensity\", resstock_amy2018_release_2022_1_metadata.\"out.propane.heating_hp_bkup.energy_consumption\" AS \"out.propane.heating_hp_bkup.energy_consumption\", resstock_amy2018_release_2022_1_metadata.\"out.propane.heating_hp_bkup.energy_consumption_intensity\" AS \"out.propane.heating_hp_bkup.energy_consumption_intensity\", resstock_amy2018_release_2022_1_metadata.\"out.propane.heating.energy_consumption\" AS \"out.propane.heating.energy_consumption\", resstock_amy2018_release_2022_1_metadata.\"out.propane.heating.energy_consumption_intensity\" AS \"out.propane.heating.energy_consumption_intensity\", resstock_amy2018_release_2022_1_metadata.\"out.propane.hot_water.energy_consumption\" AS \"out.propane.hot_water.energy_consumption\", resstock_amy2018_release_2022_1_metadata.\"out.propane.hot_water.energy_consumption_intensity\" AS \"out.propane.hot_water.energy_consumption_intensity\", resstock_amy2018_release_2022_1_metadata.\"out.propane.range_oven.energy_consumption\" AS \"out.propane.range_oven.energy_consumption\", resstock_amy2018_release_2022_1_metadata.\"out.propane.range_oven.energy_consumption_intensity\" AS \"out.propane.range_oven.energy_consumption_intensity\", resstock_amy2018_release_2022_1_metadata.\"out.site_energy.net.energy_consumption\" AS \"out.site_energy.net.energy_consumption\", resstock_amy2018_release_2022_1_metadata.\"out.site_energy.net.energy_consumption_intensity\" AS \"out.site_energy.net.energy_consumption_intensity\", resstock_amy2018_release_2022_1_metadata.\"out.site_energy.total.energy_consumption\" AS \"out.site_energy.total.energy_consumption\", resstock_amy2018_release_2022_1_metadata.\"out.site_energy.total.energy_consumption_intensity\" AS \"out.site_energy.total.energy_consumption_intensity\", resstock_amy2018_release_2022_1_metadata.\"out.electricity.net.energy_consumption\" AS \"out.electricity.net.energy_consumption\", resstock_amy2018_release_2022_1_metadata.\"out.electricity.net.energy_consumption_intensity\" AS \"out.electricity.net.energy_consumption_intensity\", resstock_amy2018_release_2022_1_metadata.\"out.electricity.total.energy_consumption\" AS \"out.electricity.total.energy_consumption\", resstock_amy2018_release_2022_1_metadata.\"out.electricity.total.energy_consumption_intensity\" AS \"out.electricity.total.energy_consumption_intensity\", resstock_amy2018_release_2022_1_metadata.\"out.fuel_oil.total.energy_consumption\" AS \"out.fuel_oil.total.energy_consumption\", resstock_amy2018_release_2022_1_metadata.\"out.fuel_oil.total.energy_consumption_intensity\" AS \"out.fuel_oil.total.energy_consumption_intensity\", resstock_amy2018_release_2022_1_metadata.\"out.natural_gas.total.energy_consumption\" AS \"out.natural_gas.total.energy_consumption\", resstock_amy2018_release_2022_1_metadata.\"out.natural_gas.total.energy_consumption_intensity\" AS \"out.natural_gas.total.energy_consumption_intensity\", resstock_amy2018_release_2022_1_metadata.\"out.propane.total.energy_consumption\" AS \"out.propane.total.energy_consumption\", resstock_amy2018_release_2022_1_metadata.\"out.propane.total.energy_consumption_intensity\" AS \"out.propane.total.energy_consumption_intensity\", resstock_amy2018_release_2022_1_metadata.upgrade AS upgrade, resstock_amy2018_release_2022_1_metadata.metadata_index AS metadata_index, resstock_amy2018_release_2022_1_metadata.bldg_id AS bldg_id \n",
    "FROM resstock_amy2018_release_2022_1_metadata \n",
    "WHERE CAST(resstock_amy2018_release_2022_1_metadata.upgrade AS VARCHAR) = '0') AS baseline \n",
    "WHERE CAST(baseline.applicability AS VARCHAR) = 'true' GROUP BY 1 ORDER BY 1\n",
    "\"\"\")\n",
    "baseline_agg"
   ]
  },
  {
   "cell_type": "code",
   "execution_count": 20,
   "id": "df0688ba",
   "metadata": {},
   "outputs": [
    {
     "name": "stderr",
     "output_type": "stream",
     "text": [
      "WARNING:buildstock_query.query_core:Column in.geometry_building_type_recs found in multiple tables ['baseline', 'upgrade'].Using baseline\n"
     ]
    },
    {
     "name": "stdout",
     "output_type": "stream",
     "text": [
      "SELECT baseline.\"in.geometry_building_type_recs\" AS geometry_building_type_recs, sum(1) AS sample_count, sum(baseline.weight) AS units_count, sum(baseline.\"out.electricity.total.energy_consumption\" * baseline.weight) AS \"electricity.total.energy_consumption\" \n",
      "FROM (SELECT resstock_amy2018_release_2022_1_metadata.applicability AS applicability, resstock_amy2018_release_2022_1_metadata.\"in.sqft\" AS \"in.sqft\", resstock_amy2018_release_2022_1_metadata.weight AS weight, resstock_amy2018_release_2022_1_metadata.\"in.ahs_region\" AS \"in.ahs_region\", resstock_amy2018_release_2022_1_metadata.\"in.ashrae_iecc_climate_zone_2004\" AS \"in.ashrae_iecc_climate_zone_2004\", resstock_amy2018_release_2022_1_metadata.\"in.ashrae_iecc_climate_zone_2004_2_a_split\" AS \"in.ashrae_iecc_climate_zone_2004_2_a_split\", resstock_amy2018_release_2022_1_metadata.\"in.bathroom_spot_vent_hour\" AS \"in.bathroom_spot_vent_hour\", resstock_amy2018_release_2022_1_metadata.\"in.bedrooms\" AS \"in.bedrooms\", resstock_amy2018_release_2022_1_metadata.\"in.building_america_climate_zone\" AS \"in.building_america_climate_zone\", resstock_amy2018_release_2022_1_metadata.\"in.cec_climate_zone\" AS \"in.cec_climate_zone\", resstock_amy2018_release_2022_1_metadata.\"in.ceiling_fan\" AS \"in.ceiling_fan\", resstock_amy2018_release_2022_1_metadata.\"in.census_division\" AS \"in.census_division\", resstock_amy2018_release_2022_1_metadata.\"in.census_division_recs\" AS \"in.census_division_recs\", resstock_amy2018_release_2022_1_metadata.\"in.census_region\" AS \"in.census_region\", resstock_amy2018_release_2022_1_metadata.\"in.city\" AS \"in.city\", resstock_amy2018_release_2022_1_metadata.\"in.clothes_dryer\" AS \"in.clothes_dryer\", resstock_amy2018_release_2022_1_metadata.\"in.clothes_washer\" AS \"in.clothes_washer\", resstock_amy2018_release_2022_1_metadata.\"in.clothes_washer_presence\" AS \"in.clothes_washer_presence\", resstock_amy2018_release_2022_1_metadata.\"in.cooking_range\" AS \"in.cooking_range\", resstock_amy2018_release_2022_1_metadata.\"in.cooling_setpoint\" AS \"in.cooling_setpoint\", resstock_amy2018_release_2022_1_metadata.\"in.cooling_setpoint_has_offset\" AS \"in.cooling_setpoint_has_offset\", resstock_amy2018_release_2022_1_metadata.\"in.cooling_setpoint_offset_magnitude\" AS \"in.cooling_setpoint_offset_magnitude\", resstock_amy2018_release_2022_1_metadata.\"in.cooling_setpoint_offset_period\" AS \"in.cooling_setpoint_offset_period\", resstock_amy2018_release_2022_1_metadata.\"in.corridor\" AS \"in.corridor\", resstock_amy2018_release_2022_1_metadata.\"in.county\" AS \"in.county\", resstock_amy2018_release_2022_1_metadata.\"in.county_and_puma\" AS \"in.county_and_puma\", resstock_amy2018_release_2022_1_metadata.\"in.dehumidifier\" AS \"in.dehumidifier\", resstock_amy2018_release_2022_1_metadata.\"in.dishwasher\" AS \"in.dishwasher\", resstock_amy2018_release_2022_1_metadata.\"in.door_area\" AS \"in.door_area\", resstock_amy2018_release_2022_1_metadata.\"in.doors\" AS \"in.doors\", resstock_amy2018_release_2022_1_metadata.\"in.ducts\" AS \"in.ducts\", resstock_amy2018_release_2022_1_metadata.\"in.eaves\" AS \"in.eaves\", resstock_amy2018_release_2022_1_metadata.\"in.electric_vehicle\" AS \"in.electric_vehicle\", resstock_amy2018_release_2022_1_metadata.\"in.emissions_electricity_folders\" AS \"in.emissions_electricity_folders\", resstock_amy2018_release_2022_1_metadata.\"in.emissions_electricity_units\" AS \"in.emissions_electricity_units\", resstock_amy2018_release_2022_1_metadata.\"in.emissions_electricity_values_or_filepaths\" AS \"in.emissions_electricity_values_or_filepaths\", resstock_amy2018_release_2022_1_metadata.\"in.emissions_fossil_fuel_units\" AS \"in.emissions_fossil_fuel_units\", resstock_amy2018_release_2022_1_metadata.\"in.emissions_fuel_oil_values\" AS \"in.emissions_fuel_oil_values\", resstock_amy2018_release_2022_1_metadata.\"in.emissions_natural_gas_values\" AS \"in.emissions_natural_gas_values\", resstock_amy2018_release_2022_1_metadata.\"in.emissions_propane_values\" AS \"in.emissions_propane_values\", resstock_amy2018_release_2022_1_metadata.\"in.emissions_scenario_names\" AS \"in.emissions_scenario_names\", resstock_amy2018_release_2022_1_metadata.\"in.emissions_types\" AS \"in.emissions_types\", resstock_amy2018_release_2022_1_metadata.\"in.emissions_wood_values\" AS \"in.emissions_wood_values\", resstock_amy2018_release_2022_1_metadata.\"in.federal_poverty_level\" AS \"in.federal_poverty_level\", resstock_amy2018_release_2022_1_metadata.\"in.generation_and_emissions_assessment_region\" AS \"in.generation_and_emissions_assessment_region\", resstock_amy2018_release_2022_1_metadata.\"in.geometry_attic_type\" AS \"in.geometry_attic_type\", resstock_amy2018_release_2022_1_metadata.\"in.geometry_building_horizontal_location_mf\" AS \"in.geometry_building_horizontal_location_mf\", resstock_amy2018_release_2022_1_metadata.\"in.geometry_building_horizontal_location_sfa\" AS \"in.geometry_building_horizontal_location_sfa\", resstock_amy2018_release_2022_1_metadata.\"in.geometry_building_level_mf\" AS \"in.geometry_building_level_mf\", resstock_amy2018_release_2022_1_metadata.\"in.geometry_building_number_units_mf\" AS \"in.geometry_building_number_units_mf\", resstock_amy2018_release_2022_1_metadata.\"in.geometry_building_number_units_sfa\" AS \"in.geometry_building_number_units_sfa\", resstock_amy2018_release_2022_1_metadata.\"in.geometry_building_type_acs\" AS \"in.geometry_building_type_acs\", resstock_amy2018_release_2022_1_metadata.\"in.geometry_building_type_height\" AS \"in.geometry_building_type_height\", resstock_amy2018_release_2022_1_metadata.\"in.geometry_building_type_recs\" AS \"in.geometry_building_type_recs\", resstock_amy2018_release_2022_1_metadata.\"in.geometry_floor_area\" AS \"in.geometry_floor_area\", resstock_amy2018_release_2022_1_metadata.\"in.geometry_floor_area_bin\" AS \"in.geometry_floor_area_bin\", resstock_amy2018_release_2022_1_metadata.\"in.geometry_foundation_type\" AS \"in.geometry_foundation_type\", resstock_amy2018_release_2022_1_metadata.\"in.geometry_garage\" AS \"in.geometry_garage\", resstock_amy2018_release_2022_1_metadata.\"in.geometry_stories\" AS \"in.geometry_stories\", resstock_amy2018_release_2022_1_metadata.\"in.geometry_stories_low_rise\" AS \"in.geometry_stories_low_rise\", resstock_amy2018_release_2022_1_metadata.\"in.geometry_story_bin\" AS \"in.geometry_story_bin\", resstock_amy2018_release_2022_1_metadata.\"in.geometry_wall_exterior_finish\" AS \"in.geometry_wall_exterior_finish\", resstock_amy2018_release_2022_1_metadata.\"in.geometry_wall_type\" AS \"in.geometry_wall_type\", resstock_amy2018_release_2022_1_metadata.\"in.has_pv\" AS \"in.has_pv\", resstock_amy2018_release_2022_1_metadata.\"in.heating_fuel\" AS \"in.heating_fuel\", resstock_amy2018_release_2022_1_metadata.\"in.heating_setpoint\" AS \"in.heating_setpoint\", resstock_amy2018_release_2022_1_metadata.\"in.heating_setpoint_has_offset\" AS \"in.heating_setpoint_has_offset\", resstock_amy2018_release_2022_1_metadata.\"in.heating_setpoint_offset_magnitude\" AS \"in.heating_setpoint_offset_magnitude\", resstock_amy2018_release_2022_1_metadata.\"in.heating_setpoint_offset_period\" AS \"in.heating_setpoint_offset_period\", resstock_amy2018_release_2022_1_metadata.\"in.holiday_lighting\" AS \"in.holiday_lighting\", resstock_amy2018_release_2022_1_metadata.\"in.hot_water_distribution\" AS \"in.hot_water_distribution\", resstock_amy2018_release_2022_1_metadata.\"in.hot_water_fixtures\" AS \"in.hot_water_fixtures\", resstock_amy2018_release_2022_1_metadata.\"in.hvac_cooling_efficiency\" AS \"in.hvac_cooling_efficiency\", resstock_amy2018_release_2022_1_metadata.\"in.hvac_cooling_partial_space_conditioning\" AS \"in.hvac_cooling_partial_space_conditioning\", resstock_amy2018_release_2022_1_metadata.\"in.hvac_cooling_type\" AS \"in.hvac_cooling_type\", resstock_amy2018_release_2022_1_metadata.\"in.hvac_has_ducts\" AS \"in.hvac_has_ducts\", resstock_amy2018_release_2022_1_metadata.\"in.hvac_has_shared_system\" AS \"in.hvac_has_shared_system\", resstock_amy2018_release_2022_1_metadata.\"in.hvac_has_zonal_electric_heating\" AS \"in.hvac_has_zonal_electric_heating\", resstock_amy2018_release_2022_1_metadata.\"in.hvac_heating_efficiency\" AS \"in.hvac_heating_efficiency\", resstock_amy2018_release_2022_1_metadata.\"in.hvac_heating_type\" AS \"in.hvac_heating_type\", resstock_amy2018_release_2022_1_metadata.\"in.hvac_heating_type_and_fuel\" AS \"in.hvac_heating_type_and_fuel\", resstock_amy2018_release_2022_1_metadata.\"in.hvac_secondary_heating_efficiency\" AS \"in.hvac_secondary_heating_efficiency\", resstock_amy2018_release_2022_1_metadata.\"in.hvac_secondary_heating_type_and_fuel\" AS \"in.hvac_secondary_heating_type_and_fuel\", resstock_amy2018_release_2022_1_metadata.\"in.hvac_shared_efficiencies\" AS \"in.hvac_shared_efficiencies\", resstock_amy2018_release_2022_1_metadata.\"in.hvac_system_is_faulted\" AS \"in.hvac_system_is_faulted\", resstock_amy2018_release_2022_1_metadata.\"in.hvac_system_single_speed_ac_airflow\" AS \"in.hvac_system_single_speed_ac_airflow\", resstock_amy2018_release_2022_1_metadata.\"in.hvac_system_single_speed_ac_charge\" AS \"in.hvac_system_single_speed_ac_charge\", resstock_amy2018_release_2022_1_metadata.\"in.hvac_system_single_speed_ashp_airflow\" AS \"in.hvac_system_single_speed_ashp_airflow\", resstock_amy2018_release_2022_1_metadata.\"in.hvac_system_single_speed_ashp_charge\" AS \"in.hvac_system_single_speed_ashp_charge\", resstock_amy2018_release_2022_1_metadata.\"in.income\" AS \"in.income\", resstock_amy2018_release_2022_1_metadata.\"in.income_recs_2015\" AS \"in.income_recs_2015\", resstock_amy2018_release_2022_1_metadata.\"in.income_recs_2020\" AS \"in.income_recs_2020\", resstock_amy2018_release_2022_1_metadata.\"in.infiltration\" AS \"in.infiltration\", resstock_amy2018_release_2022_1_metadata.\"in.insulation_ceiling\" AS \"in.insulation_ceiling\", resstock_amy2018_release_2022_1_metadata.\"in.insulation_floor\" AS \"in.insulation_floor\", resstock_amy2018_release_2022_1_metadata.\"in.insulation_foundation_wall\" AS \"in.insulation_foundation_wall\", resstock_amy2018_release_2022_1_metadata.\"in.insulation_rim_joist\" AS \"in.insulation_rim_joist\", resstock_amy2018_release_2022_1_metadata.\"in.insulation_roof\" AS \"in.insulation_roof\", resstock_amy2018_release_2022_1_metadata.\"in.insulation_slab\" AS \"in.insulation_slab\", resstock_amy2018_release_2022_1_metadata.\"in.insulation_wall\" AS \"in.insulation_wall\", resstock_amy2018_release_2022_1_metadata.\"in.interior_shading\" AS \"in.interior_shading\", resstock_amy2018_release_2022_1_metadata.\"in.iso_rto_region\" AS \"in.iso_rto_region\", resstock_amy2018_release_2022_1_metadata.\"in.lighting\" AS \"in.lighting\", resstock_amy2018_release_2022_1_metadata.\"in.lighting_interior_use\" AS \"in.lighting_interior_use\", resstock_amy2018_release_2022_1_metadata.\"in.lighting_other_use\" AS \"in.lighting_other_use\", resstock_amy2018_release_2022_1_metadata.\"in.location_region\" AS \"in.location_region\", resstock_amy2018_release_2022_1_metadata.\"in.mechanical_ventilation\" AS \"in.mechanical_ventilation\", resstock_amy2018_release_2022_1_metadata.\"in.misc_extra_refrigerator\" AS \"in.misc_extra_refrigerator\", resstock_amy2018_release_2022_1_metadata.\"in.misc_freezer\" AS \"in.misc_freezer\", resstock_amy2018_release_2022_1_metadata.\"in.misc_gas_fireplace\" AS \"in.misc_gas_fireplace\", resstock_amy2018_release_2022_1_metadata.\"in.misc_gas_grill\" AS \"in.misc_gas_grill\", resstock_amy2018_release_2022_1_metadata.\"in.misc_gas_lighting\" AS \"in.misc_gas_lighting\", resstock_amy2018_release_2022_1_metadata.\"in.misc_hot_tub_spa\" AS \"in.misc_hot_tub_spa\", resstock_amy2018_release_2022_1_metadata.\"in.misc_pool\" AS \"in.misc_pool\", resstock_amy2018_release_2022_1_metadata.\"in.misc_pool_heater\" AS \"in.misc_pool_heater\", resstock_amy2018_release_2022_1_metadata.\"in.misc_pool_pump\" AS \"in.misc_pool_pump\", resstock_amy2018_release_2022_1_metadata.\"in.misc_well_pump\" AS \"in.misc_well_pump\", resstock_amy2018_release_2022_1_metadata.\"in.natural_ventilation\" AS \"in.natural_ventilation\", resstock_amy2018_release_2022_1_metadata.\"in.neighbors\" AS \"in.neighbors\", resstock_amy2018_release_2022_1_metadata.\"in.occupants\" AS \"in.occupants\", resstock_amy2018_release_2022_1_metadata.\"in.orientation\" AS \"in.orientation\", resstock_amy2018_release_2022_1_metadata.\"in.overhangs\" AS \"in.overhangs\", resstock_amy2018_release_2022_1_metadata.\"in.plug_load_diversity\" AS \"in.plug_load_diversity\", resstock_amy2018_release_2022_1_metadata.\"in.plug_loads\" AS \"in.plug_loads\", resstock_amy2018_release_2022_1_metadata.\"in.puma\" AS \"in.puma\", resstock_amy2018_release_2022_1_metadata.\"in.puma_metro_status\" AS \"in.puma_metro_status\", resstock_amy2018_release_2022_1_metadata.\"in.pv_orientation\" AS \"in.pv_orientation\", resstock_amy2018_release_2022_1_metadata.\"in.pv_system_size\" AS \"in.pv_system_size\", resstock_amy2018_release_2022_1_metadata.\"in.radiant_barrier\" AS \"in.radiant_barrier\", resstock_amy2018_release_2022_1_metadata.\"in.range_spot_vent_hour\" AS \"in.range_spot_vent_hour\", resstock_amy2018_release_2022_1_metadata.\"in.reeds_balancing_area\" AS \"in.reeds_balancing_area\", resstock_amy2018_release_2022_1_metadata.\"in.refrigerator\" AS \"in.refrigerator\", resstock_amy2018_release_2022_1_metadata.\"in.roof_material\" AS \"in.roof_material\", resstock_amy2018_release_2022_1_metadata.\"in.schedules\" AS \"in.schedules\", resstock_amy2018_release_2022_1_metadata.\"in.simulation_control_run_period_begin_day_of_month\" AS \"in.simulation_control_run_period_begin_day_of_month\", resstock_amy2018_release_2022_1_metadata.\"in.simulation_control_run_period_begin_month\" AS \"in.simulation_control_run_period_begin_month\", resstock_amy2018_release_2022_1_metadata.\"in.simulation_control_run_period_calendar_year\" AS \"in.simulation_control_run_period_calendar_year\", resstock_amy2018_release_2022_1_metadata.\"in.simulation_control_run_period_end_day_of_month\" AS \"in.simulation_control_run_period_end_day_of_month\", resstock_amy2018_release_2022_1_metadata.\"in.simulation_control_run_period_end_month\" AS \"in.simulation_control_run_period_end_month\", resstock_amy2018_release_2022_1_metadata.\"in.simulation_control_timestep\" AS \"in.simulation_control_timestep\", resstock_amy2018_release_2022_1_metadata.\"in.solar_hot_water\" AS \"in.solar_hot_water\", resstock_amy2018_release_2022_1_metadata.\"in.state\" AS \"in.state\", resstock_amy2018_release_2022_1_metadata.\"in.tenure\" AS \"in.tenure\", resstock_amy2018_release_2022_1_metadata.\"in.units_represented\" AS \"in.units_represented\", resstock_amy2018_release_2022_1_metadata.\"in.usage_level\" AS \"in.usage_level\", resstock_amy2018_release_2022_1_metadata.\"in.vacancy_status\" AS \"in.vacancy_status\", resstock_amy2018_release_2022_1_metadata.\"in.vintage\" AS \"in.vintage\", resstock_amy2018_release_2022_1_metadata.\"in.vintage_acs\" AS \"in.vintage_acs\", resstock_amy2018_release_2022_1_metadata.\"in.water_heater_efficiency\" AS \"in.water_heater_efficiency\", resstock_amy2018_release_2022_1_metadata.\"in.water_heater_fuel\" AS \"in.water_heater_fuel\", resstock_amy2018_release_2022_1_metadata.\"in.water_heater_in_unit\" AS \"in.water_heater_in_unit\", resstock_amy2018_release_2022_1_metadata.\"in.weather_file_city\" AS \"in.weather_file_city\", resstock_amy2018_release_2022_1_metadata.\"in.weather_file_latitude\" AS \"in.weather_file_latitude\", resstock_amy2018_release_2022_1_metadata.\"in.weather_file_longitude\" AS \"in.weather_file_longitude\", resstock_amy2018_release_2022_1_metadata.\"in.window_areas\" AS \"in.window_areas\", resstock_amy2018_release_2022_1_metadata.\"in.windows\" AS \"in.windows\", resstock_amy2018_release_2022_1_metadata.\"out.electricity.total.lrmer_95_decarb_by_2035_15_2025_start.co2e_kg\" AS \"out.electricity.total.lrmer_95_decarb_by_2035_15_2025_start.co2e_kg\", resstock_amy2018_release_2022_1_metadata.\"out.fuel_oil.total.lrmer_95_decarb_by_2035_15_2025_start.co2e_kg\" AS \"out.fuel_oil.total.lrmer_95_decarb_by_2035_15_2025_start.co2e_kg\", resstock_amy2018_release_2022_1_metadata.\"out.natural_gas.total.lrmer_95_decarb_by_2035_15_2025_start.co2e_kg\" AS \"out.natural_gas.total.lrmer_95_decarb_by_2035_15_2025_start.co2e_kg\", resstock_amy2018_release_2022_1_metadata.\"out.propane.total.lrmer_95_decarb_by_2035_15_2025_start.co2e_kg\" AS \"out.propane.total.lrmer_95_decarb_by_2035_15_2025_start.co2e_kg\", resstock_amy2018_release_2022_1_metadata.\"out.electricity.total.lrmer_low_re_cost_15_2025_start.co2e_kg\" AS \"out.electricity.total.lrmer_low_re_cost_15_2025_start.co2e_kg\", resstock_amy2018_release_2022_1_metadata.\"out.fuel_oil.total.lrmer_low_re_cost_15_2025_start.co2e_kg\" AS \"out.fuel_oil.total.lrmer_low_re_cost_15_2025_start.co2e_kg\", resstock_amy2018_release_2022_1_metadata.\"out.natural_gas.total.lrmer_low_re_cost_15_2025_start.co2e_kg\" AS \"out.natural_gas.total.lrmer_low_re_cost_15_2025_start.co2e_kg\", resstock_amy2018_release_2022_1_metadata.\"out.propane.total.lrmer_low_re_cost_15_2025_start.co2e_kg\" AS \"out.propane.total.lrmer_low_re_cost_15_2025_start.co2e_kg\", resstock_amy2018_release_2022_1_metadata.\"out.electricity.total.lrmer_low_re_cost_25_2025_start.co2e_kg\" AS \"out.electricity.total.lrmer_low_re_cost_25_2025_start.co2e_kg\", resstock_amy2018_release_2022_1_metadata.\"out.fuel_oil.total.lrmer_low_re_cost_25_2025_start.co2e_kg\" AS \"out.fuel_oil.total.lrmer_low_re_cost_25_2025_start.co2e_kg\", resstock_amy2018_release_2022_1_metadata.\"out.natural_gas.total.lrmer_low_re_cost_25_2025_start.co2e_kg\" AS \"out.natural_gas.total.lrmer_low_re_cost_25_2025_start.co2e_kg\", resstock_amy2018_release_2022_1_metadata.\"out.propane.total.lrmer_low_re_cost_25_2025_start.co2e_kg\" AS \"out.propane.total.lrmer_low_re_cost_25_2025_start.co2e_kg\", resstock_amy2018_release_2022_1_metadata.\"out.electricity.total.lrmer_mid_case_15_2025_start.co2e_kg\" AS \"out.electricity.total.lrmer_mid_case_15_2025_start.co2e_kg\", resstock_amy2018_release_2022_1_metadata.\"out.fuel_oil.total.lrmer_mid_case_15_2025_start.co2e_kg\" AS \"out.fuel_oil.total.lrmer_mid_case_15_2025_start.co2e_kg\", resstock_amy2018_release_2022_1_metadata.\"out.natural_gas.total.lrmer_mid_case_15_2025_start.co2e_kg\" AS \"out.natural_gas.total.lrmer_mid_case_15_2025_start.co2e_kg\", resstock_amy2018_release_2022_1_metadata.\"out.propane.total.lrmer_mid_case_15_2025_start.co2e_kg\" AS \"out.propane.total.lrmer_mid_case_15_2025_start.co2e_kg\", resstock_amy2018_release_2022_1_metadata.\"out.electricity.ceiling_fan.energy_consumption\" AS \"out.electricity.ceiling_fan.energy_consumption\", resstock_amy2018_release_2022_1_metadata.\"out.electricity.ceiling_fan.energy_consumption_intensity\" AS \"out.electricity.ceiling_fan.energy_consumption_intensity\", resstock_amy2018_release_2022_1_metadata.\"out.electricity.clothes_dryer.energy_consumption\" AS \"out.electricity.clothes_dryer.energy_consumption\", resstock_amy2018_release_2022_1_metadata.\"out.electricity.clothes_dryer.energy_consumption_intensity\" AS \"out.electricity.clothes_dryer.energy_consumption_intensity\", resstock_amy2018_release_2022_1_metadata.\"out.electricity.clothes_washer.energy_consumption\" AS \"out.electricity.clothes_washer.energy_consumption\", resstock_amy2018_release_2022_1_metadata.\"out.electricity.clothes_washer.energy_consumption_intensity\" AS \"out.electricity.clothes_washer.energy_consumption_intensity\", resstock_amy2018_release_2022_1_metadata.\"out.electricity.cooling_fans_pumps.energy_consumption\" AS \"out.electricity.cooling_fans_pumps.energy_consumption\", resstock_amy2018_release_2022_1_metadata.\"out.electricity.cooling_fans_pumps.energy_consumption_intensity\" AS \"out.electricity.cooling_fans_pumps.energy_consumption_intensity\", resstock_amy2018_release_2022_1_metadata.\"out.electricity.cooling.energy_consumption\" AS \"out.electricity.cooling.energy_consumption\", resstock_amy2018_release_2022_1_metadata.\"out.electricity.cooling.energy_consumption_intensity\" AS \"out.electricity.cooling.energy_consumption_intensity\", resstock_amy2018_release_2022_1_metadata.\"out.electricity.dishwasher.energy_consumption\" AS \"out.electricity.dishwasher.energy_consumption\", resstock_amy2018_release_2022_1_metadata.\"out.electricity.dishwasher.energy_consumption_intensity\" AS \"out.electricity.dishwasher.energy_consumption_intensity\", resstock_amy2018_release_2022_1_metadata.\"out.electricity.freezer.energy_consumption\" AS \"out.electricity.freezer.energy_consumption\", resstock_amy2018_release_2022_1_metadata.\"out.electricity.freezer.energy_consumption_intensity\" AS \"out.electricity.freezer.energy_consumption_intensity\", resstock_amy2018_release_2022_1_metadata.\"out.electricity.heating_fans_pumps.energy_consumption\" AS \"out.electricity.heating_fans_pumps.energy_consumption\", resstock_amy2018_release_2022_1_metadata.\"out.electricity.heating_fans_pumps.energy_consumption_intensity\" AS \"out.electricity.heating_fans_pumps.energy_consumption_intensity\", resstock_amy2018_release_2022_1_metadata.\"out.electricity.heating_hp_bkup.energy_consumption\" AS \"out.electricity.heating_hp_bkup.energy_consumption\", resstock_amy2018_release_2022_1_metadata.\"out.electricity.heating_hp_bkup.energy_consumption_intensity\" AS \"out.electricity.heating_hp_bkup.energy_consumption_intensity\", resstock_amy2018_release_2022_1_metadata.\"out.electricity.heating.energy_consumption\" AS \"out.electricity.heating.energy_consumption\", resstock_amy2018_release_2022_1_metadata.\"out.electricity.heating.energy_consumption_intensity\" AS \"out.electricity.heating.energy_consumption_intensity\", resstock_amy2018_release_2022_1_metadata.\"out.electricity.hot_tub_heater.energy_consumption\" AS \"out.electricity.hot_tub_heater.energy_consumption\", resstock_amy2018_release_2022_1_metadata.\"out.electricity.hot_tub_heater.energy_consumption_intensity\" AS \"out.electricity.hot_tub_heater.energy_consumption_intensity\", resstock_amy2018_release_2022_1_metadata.\"out.electricity.hot_tub_pump.energy_consumption\" AS \"out.electricity.hot_tub_pump.energy_consumption\", resstock_amy2018_release_2022_1_metadata.\"out.electricity.hot_tub_pump.energy_consumption_intensity\" AS \"out.electricity.hot_tub_pump.energy_consumption_intensity\", resstock_amy2018_release_2022_1_metadata.\"out.electricity.hot_water.energy_consumption\" AS \"out.electricity.hot_water.energy_consumption\", resstock_amy2018_release_2022_1_metadata.\"out.electricity.hot_water.energy_consumption_intensity\" AS \"out.electricity.hot_water.energy_consumption_intensity\", resstock_amy2018_release_2022_1_metadata.\"out.electricity.lighting_exterior.energy_consumption\" AS \"out.electricity.lighting_exterior.energy_consumption\", resstock_amy2018_release_2022_1_metadata.\"out.electricity.lighting_exterior.energy_consumption_intensity\" AS \"out.electricity.lighting_exterior.energy_consumption_intensity\", resstock_amy2018_release_2022_1_metadata.\"out.electricity.lighting_garage.energy_consumption\" AS \"out.electricity.lighting_garage.energy_consumption\", resstock_amy2018_release_2022_1_metadata.\"out.electricity.lighting_garage.energy_consumption_intensity\" AS \"out.electricity.lighting_garage.energy_consumption_intensity\", resstock_amy2018_release_2022_1_metadata.\"out.electricity.lighting_interior.energy_consumption\" AS \"out.electricity.lighting_interior.energy_consumption\", resstock_amy2018_release_2022_1_metadata.\"out.electricity.lighting_interior.energy_consumption_intensity\" AS \"out.electricity.lighting_interior.energy_consumption_intensity\", resstock_amy2018_release_2022_1_metadata.\"out.electricity.mech_vent.energy_consumption\" AS \"out.electricity.mech_vent.energy_consumption\", resstock_amy2018_release_2022_1_metadata.\"out.electricity.mech_vent.energy_consumption_intensity\" AS \"out.electricity.mech_vent.energy_consumption_intensity\", resstock_amy2018_release_2022_1_metadata.\"out.electricity.plug_loads.energy_consumption\" AS \"out.electricity.plug_loads.energy_consumption\", resstock_amy2018_release_2022_1_metadata.\"out.electricity.plug_loads.energy_consumption_intensity\" AS \"out.electricity.plug_loads.energy_consumption_intensity\", resstock_amy2018_release_2022_1_metadata.\"out.electricity.pool_heater.energy_consumption\" AS \"out.electricity.pool_heater.energy_consumption\", resstock_amy2018_release_2022_1_metadata.\"out.electricity.pool_heater.energy_consumption_intensity\" AS \"out.electricity.pool_heater.energy_consumption_intensity\", resstock_amy2018_release_2022_1_metadata.\"out.electricity.pool_pump.energy_consumption\" AS \"out.electricity.pool_pump.energy_consumption\", resstock_amy2018_release_2022_1_metadata.\"out.electricity.pool_pump.energy_consumption_intensity\" AS \"out.electricity.pool_pump.energy_consumption_intensity\", resstock_amy2018_release_2022_1_metadata.\"out.electricity.pv.energy_consumption\" AS \"out.electricity.pv.energy_consumption\", resstock_amy2018_release_2022_1_metadata.\"out.electricity.pv.energy_consumption_intensity\" AS \"out.electricity.pv.energy_consumption_intensity\", resstock_amy2018_release_2022_1_metadata.\"out.electricity.range_oven.energy_consumption\" AS \"out.electricity.range_oven.energy_consumption\", resstock_amy2018_release_2022_1_metadata.\"out.electricity.range_oven.energy_consumption_intensity\" AS \"out.electricity.range_oven.energy_consumption_intensity\", resstock_amy2018_release_2022_1_metadata.\"out.electricity.refrigerator.energy_consumption\" AS \"out.electricity.refrigerator.energy_consumption\", resstock_amy2018_release_2022_1_metadata.\"out.electricity.refrigerator.energy_consumption_intensity\" AS \"out.electricity.refrigerator.energy_consumption_intensity\", resstock_amy2018_release_2022_1_metadata.\"out.electricity.well_pump.energy_consumption\" AS \"out.electricity.well_pump.energy_consumption\", resstock_amy2018_release_2022_1_metadata.\"out.electricity.well_pump.energy_consumption_intensity\" AS \"out.electricity.well_pump.energy_consumption_intensity\", resstock_amy2018_release_2022_1_metadata.\"out.fuel_oil.heating_hp_bkup.energy_consumption\" AS \"out.fuel_oil.heating_hp_bkup.energy_consumption\", resstock_amy2018_release_2022_1_metadata.\"out.fuel_oil.heating_hp_bkup.energy_consumption_intensity\" AS \"out.fuel_oil.heating_hp_bkup.energy_consumption_intensity\", resstock_amy2018_release_2022_1_metadata.\"out.fuel_oil.heating.energy_consumption\" AS \"out.fuel_oil.heating.energy_consumption\", resstock_amy2018_release_2022_1_metadata.\"out.fuel_oil.heating.energy_consumption_intensity\" AS \"out.fuel_oil.heating.energy_consumption_intensity\", resstock_amy2018_release_2022_1_metadata.\"out.fuel_oil.hot_water.energy_consumption\" AS \"out.fuel_oil.hot_water.energy_consumption\", resstock_amy2018_release_2022_1_metadata.\"out.fuel_oil.hot_water.energy_consumption_intensity\" AS \"out.fuel_oil.hot_water.energy_consumption_intensity\", resstock_amy2018_release_2022_1_metadata.\"out.natural_gas.clothes_dryer.energy_consumption\" AS \"out.natural_gas.clothes_dryer.energy_consumption\", resstock_amy2018_release_2022_1_metadata.\"out.natural_gas.clothes_dryer.energy_consumption_intensity\" AS \"out.natural_gas.clothes_dryer.energy_consumption_intensity\", resstock_amy2018_release_2022_1_metadata.\"out.natural_gas.fireplace.energy_consumption\" AS \"out.natural_gas.fireplace.energy_consumption\", resstock_amy2018_release_2022_1_metadata.\"out.natural_gas.fireplace.energy_consumption_intensity\" AS \"out.natural_gas.fireplace.energy_consumption_intensity\", resstock_amy2018_release_2022_1_metadata.\"out.natural_gas.grill.energy_consumption\" AS \"out.natural_gas.grill.energy_consumption\", resstock_amy2018_release_2022_1_metadata.\"out.natural_gas.grill.energy_consumption_intensity\" AS \"out.natural_gas.grill.energy_consumption_intensity\", resstock_amy2018_release_2022_1_metadata.\"out.natural_gas.heating_hp_bkup.energy_consumption\" AS \"out.natural_gas.heating_hp_bkup.energy_consumption\", resstock_amy2018_release_2022_1_metadata.\"out.natural_gas.heating_hp_bkup.energy_consumption_intensity\" AS \"out.natural_gas.heating_hp_bkup.energy_consumption_intensity\", resstock_amy2018_release_2022_1_metadata.\"out.natural_gas.heating.energy_consumption\" AS \"out.natural_gas.heating.energy_consumption\", resstock_amy2018_release_2022_1_metadata.\"out.natural_gas.heating.energy_consumption_intensity\" AS \"out.natural_gas.heating.energy_consumption_intensity\", resstock_amy2018_release_2022_1_metadata.\"out.natural_gas.hot_tub_heater.energy_consumption\" AS \"out.natural_gas.hot_tub_heater.energy_consumption\", resstock_amy2018_release_2022_1_metadata.\"out.natural_gas.hot_tub_heater.energy_consumption_intensity\" AS \"out.natural_gas.hot_tub_heater.energy_consumption_intensity\", resstock_amy2018_release_2022_1_metadata.\"out.natural_gas.hot_water.energy_consumption\" AS \"out.natural_gas.hot_water.energy_consumption\", resstock_amy2018_release_2022_1_metadata.\"out.natural_gas.hot_water.energy_consumption_intensity\" AS \"out.natural_gas.hot_water.energy_consumption_intensity\", resstock_amy2018_release_2022_1_metadata.\"out.natural_gas.lighting.energy_consumption\" AS \"out.natural_gas.lighting.energy_consumption\", resstock_amy2018_release_2022_1_metadata.\"out.natural_gas.lighting.energy_consumption_intensity\" AS \"out.natural_gas.lighting.energy_consumption_intensity\", resstock_amy2018_release_2022_1_metadata.\"out.natural_gas.pool_heater.energy_consumption\" AS \"out.natural_gas.pool_heater.energy_consumption\", resstock_amy2018_release_2022_1_metadata.\"out.natural_gas.pool_heater.energy_consumption_intensity\" AS \"out.natural_gas.pool_heater.energy_consumption_intensity\", resstock_amy2018_release_2022_1_metadata.\"out.natural_gas.range_oven.energy_consumption\" AS \"out.natural_gas.range_oven.energy_consumption\", resstock_amy2018_release_2022_1_metadata.\"out.natural_gas.range_oven.energy_consumption_intensity\" AS \"out.natural_gas.range_oven.energy_consumption_intensity\", resstock_amy2018_release_2022_1_metadata.\"out.propane.clothes_dryer.energy_consumption\" AS \"out.propane.clothes_dryer.energy_consumption\", resstock_amy2018_release_2022_1_metadata.\"out.propane.clothes_dryer.energy_consumption_intensity\" AS \"out.propane.clothes_dryer.energy_consumption_intensity\", resstock_amy2018_release_2022_1_metadata.\"out.propane.heating_hp_bkup.energy_consumption\" AS \"out.propane.heating_hp_bkup.energy_consumption\", resstock_amy2018_release_2022_1_metadata.\"out.propane.heating_hp_bkup.energy_consumption_intensity\" AS \"out.propane.heating_hp_bkup.energy_consumption_intensity\", resstock_amy2018_release_2022_1_metadata.\"out.propane.heating.energy_consumption\" AS \"out.propane.heating.energy_consumption\", resstock_amy2018_release_2022_1_metadata.\"out.propane.heating.energy_consumption_intensity\" AS \"out.propane.heating.energy_consumption_intensity\", resstock_amy2018_release_2022_1_metadata.\"out.propane.hot_water.energy_consumption\" AS \"out.propane.hot_water.energy_consumption\", resstock_amy2018_release_2022_1_metadata.\"out.propane.hot_water.energy_consumption_intensity\" AS \"out.propane.hot_water.energy_consumption_intensity\", resstock_amy2018_release_2022_1_metadata.\"out.propane.range_oven.energy_consumption\" AS \"out.propane.range_oven.energy_consumption\", resstock_amy2018_release_2022_1_metadata.\"out.propane.range_oven.energy_consumption_intensity\" AS \"out.propane.range_oven.energy_consumption_intensity\", resstock_amy2018_release_2022_1_metadata.\"out.site_energy.net.energy_consumption\" AS \"out.site_energy.net.energy_consumption\", resstock_amy2018_release_2022_1_metadata.\"out.site_energy.net.energy_consumption_intensity\" AS \"out.site_energy.net.energy_consumption_intensity\", resstock_amy2018_release_2022_1_metadata.\"out.site_energy.total.energy_consumption\" AS \"out.site_energy.total.energy_consumption\", resstock_amy2018_release_2022_1_metadata.\"out.site_energy.total.energy_consumption_intensity\" AS \"out.site_energy.total.energy_consumption_intensity\", resstock_amy2018_release_2022_1_metadata.\"out.electricity.net.energy_consumption\" AS \"out.electricity.net.energy_consumption\", resstock_amy2018_release_2022_1_metadata.\"out.electricity.net.energy_consumption_intensity\" AS \"out.electricity.net.energy_consumption_intensity\", resstock_amy2018_release_2022_1_metadata.\"out.electricity.total.energy_consumption\" AS \"out.electricity.total.energy_consumption\", resstock_amy2018_release_2022_1_metadata.\"out.electricity.total.energy_consumption_intensity\" AS \"out.electricity.total.energy_consumption_intensity\", resstock_amy2018_release_2022_1_metadata.\"out.fuel_oil.total.energy_consumption\" AS \"out.fuel_oil.total.energy_consumption\", resstock_amy2018_release_2022_1_metadata.\"out.fuel_oil.total.energy_consumption_intensity\" AS \"out.fuel_oil.total.energy_consumption_intensity\", resstock_amy2018_release_2022_1_metadata.\"out.natural_gas.total.energy_consumption\" AS \"out.natural_gas.total.energy_consumption\", resstock_amy2018_release_2022_1_metadata.\"out.natural_gas.total.energy_consumption_intensity\" AS \"out.natural_gas.total.energy_consumption_intensity\", resstock_amy2018_release_2022_1_metadata.\"out.propane.total.energy_consumption\" AS \"out.propane.total.energy_consumption\", resstock_amy2018_release_2022_1_metadata.\"out.propane.total.energy_consumption_intensity\" AS \"out.propane.total.energy_consumption_intensity\", resstock_amy2018_release_2022_1_metadata.upgrade AS upgrade, resstock_amy2018_release_2022_1_metadata.metadata_index AS metadata_index, resstock_amy2018_release_2022_1_metadata.bldg_id AS bldg_id \n",
      "FROM resstock_amy2018_release_2022_1_metadata \n",
      "WHERE CAST(resstock_amy2018_release_2022_1_metadata.upgrade AS VARCHAR) = '0') AS baseline \n",
      "WHERE CAST(baseline.applicability AS VARCHAR) = 'true' GROUP BY 1 ORDER BY 1\n"
     ]
    }
   ],
   "source": [
    "baseline_agg_query2 = my_run.agg.aggregate_annual(enduses=['electricity.total.energy_consumption'],\n",
    "                                       group_by=['geometry_building_type_recs'],\n",
    "                                          get_query_only=True)\n",
    "print(baseline_agg_query2)"
   ]
  },
  {
   "cell_type": "code",
   "execution_count": 21,
   "id": "4256cb11",
   "metadata": {},
   "outputs": [
    {
     "name": "stderr",
     "output_type": "stream",
     "text": [
      "INFO:buildstock_query.query_core:Submitted queries[0] (CACHED)\n"
     ]
    },
    {
     "name": "stdout",
     "output_type": "stream",
     "text": [
      "1\n"
     ]
    },
    {
     "name": "stderr",
     "output_type": "stream",
     "text": [
      "INFO:buildstock_query.query_core:Submitted queries[1] (CACHED)\n"
     ]
    },
    {
     "data": {
      "text/plain": [
       "{'submitted': 0, 'running': 0, 'pending': 2, 'completed': 0, 'failed': 0}"
      ]
     },
     "execution_count": 21,
     "metadata": {},
     "output_type": "execute_result"
    }
   ],
   "source": [
    "bq = my_run.submit_batch_query([baseline_agg_query, baseline_agg_query2])\n",
    "print(bq)\n",
    "my_run.get_batch_query_report(bq)"
   ]
  },
  {
   "cell_type": "code",
   "execution_count": 22,
   "id": "9dd3cb02",
   "metadata": {},
   "outputs": [
    {
     "data": {
      "text/plain": [
       "{'submitted': 2, 'running': 0, 'pending': 0, 'completed': 2, 'failed': 0}"
      ]
     },
     "execution_count": 22,
     "metadata": {},
     "output_type": "execute_result"
    }
   ],
   "source": [
    "my_run.get_batch_query_report(bq)"
   ]
  },
  {
   "cell_type": "code",
   "execution_count": 23,
   "id": "68f8b5b4",
   "metadata": {},
   "outputs": [
    {
     "name": "stderr",
     "output_type": "stream",
     "text": [
      "INFO:buildstock_query.query_core:{'submitted': 2, 'running': 0, 'pending': 0, 'completed': 2, 'failed': 0}\n",
      "INFO:buildstock_query.query_core:Batch query completed. \n",
      "INFO:buildstock_query.query_core:Got result from Query [0] (CACHED)\n",
      "INFO:buildstock_query.query_core:Got result from Query [1] (CACHED)\n",
      "INFO:buildstock_query.query_core:Concatenating the results.\n"
     ]
    },
    {
     "data": {
      "text/html": [
       "<div>\n",
       "<style scoped>\n",
       "    .dataframe tbody tr th:only-of-type {\n",
       "        vertical-align: middle;\n",
       "    }\n",
       "\n",
       "    .dataframe tbody tr th {\n",
       "        vertical-align: top;\n",
       "    }\n",
       "\n",
       "    .dataframe thead th {\n",
       "        text-align: right;\n",
       "    }\n",
       "</style>\n",
       "<table border=\"1\" class=\"dataframe\">\n",
       "  <thead>\n",
       "    <tr style=\"text-align: right;\">\n",
       "      <th></th>\n",
       "      <th>geometry_building_type_recs</th>\n",
       "      <th>sample_count</th>\n",
       "      <th>units_count</th>\n",
       "      <th>electricity.total.energy_consumption</th>\n",
       "      <th>query_id</th>\n",
       "    </tr>\n",
       "  </thead>\n",
       "  <tbody>\n",
       "    <tr>\n",
       "      <th>0</th>\n",
       "      <td>Mobile Home</td>\n",
       "      <td>34491</td>\n",
       "      <td>8.351341e+06</td>\n",
       "      <td>9.934359e+10</td>\n",
       "      <td>0</td>\n",
       "    </tr>\n",
       "    <tr>\n",
       "      <th>1</th>\n",
       "      <td>Multi-Family with 2 - 4 Units</td>\n",
       "      <td>43868</td>\n",
       "      <td>1.062180e+07</td>\n",
       "      <td>8.623094e+10</td>\n",
       "      <td>0</td>\n",
       "    </tr>\n",
       "    <tr>\n",
       "      <th>2</th>\n",
       "      <td>Multi-Family with 5+ Units</td>\n",
       "      <td>100345</td>\n",
       "      <td>2.429664e+07</td>\n",
       "      <td>1.769924e+11</td>\n",
       "      <td>0</td>\n",
       "    </tr>\n",
       "    <tr>\n",
       "      <th>3</th>\n",
       "      <td>Single-Family Attached</td>\n",
       "      <td>32125</td>\n",
       "      <td>7.778459e+06</td>\n",
       "      <td>7.379245e+10</td>\n",
       "      <td>0</td>\n",
       "    </tr>\n",
       "    <tr>\n",
       "      <th>4</th>\n",
       "      <td>Single-Family Detached</td>\n",
       "      <td>338087</td>\n",
       "      <td>8.186135e+07</td>\n",
       "      <td>1.115071e+12</td>\n",
       "      <td>0</td>\n",
       "    </tr>\n",
       "    <tr>\n",
       "      <th>0</th>\n",
       "      <td>Mobile Home</td>\n",
       "      <td>34491</td>\n",
       "      <td>8.351341e+06</td>\n",
       "      <td>9.934359e+10</td>\n",
       "      <td>1</td>\n",
       "    </tr>\n",
       "    <tr>\n",
       "      <th>1</th>\n",
       "      <td>Multi-Family with 2 - 4 Units</td>\n",
       "      <td>43868</td>\n",
       "      <td>1.062180e+07</td>\n",
       "      <td>8.623094e+10</td>\n",
       "      <td>1</td>\n",
       "    </tr>\n",
       "    <tr>\n",
       "      <th>2</th>\n",
       "      <td>Multi-Family with 5+ Units</td>\n",
       "      <td>100345</td>\n",
       "      <td>2.429664e+07</td>\n",
       "      <td>1.769924e+11</td>\n",
       "      <td>1</td>\n",
       "    </tr>\n",
       "    <tr>\n",
       "      <th>3</th>\n",
       "      <td>Single-Family Attached</td>\n",
       "      <td>32125</td>\n",
       "      <td>7.778459e+06</td>\n",
       "      <td>7.379245e+10</td>\n",
       "      <td>1</td>\n",
       "    </tr>\n",
       "    <tr>\n",
       "      <th>4</th>\n",
       "      <td>Single-Family Detached</td>\n",
       "      <td>338087</td>\n",
       "      <td>8.186135e+07</td>\n",
       "      <td>1.115071e+12</td>\n",
       "      <td>1</td>\n",
       "    </tr>\n",
       "  </tbody>\n",
       "</table>\n",
       "</div>"
      ],
      "text/plain": [
       "     geometry_building_type_recs  sample_count   units_count  \\\n",
       "0                    Mobile Home         34491  8.351341e+06   \n",
       "1  Multi-Family with 2 - 4 Units         43868  1.062180e+07   \n",
       "2     Multi-Family with 5+ Units        100345  2.429664e+07   \n",
       "3         Single-Family Attached         32125  7.778459e+06   \n",
       "4         Single-Family Detached        338087  8.186135e+07   \n",
       "0                    Mobile Home         34491  8.351341e+06   \n",
       "1  Multi-Family with 2 - 4 Units         43868  1.062180e+07   \n",
       "2     Multi-Family with 5+ Units        100345  2.429664e+07   \n",
       "3         Single-Family Attached         32125  7.778459e+06   \n",
       "4         Single-Family Detached        338087  8.186135e+07   \n",
       "\n",
       "   electricity.total.energy_consumption  query_id  \n",
       "0                          9.934359e+10         0  \n",
       "1                          8.623094e+10         0  \n",
       "2                          1.769924e+11         0  \n",
       "3                          7.379245e+10         0  \n",
       "4                          1.115071e+12         0  \n",
       "0                          9.934359e+10         1  \n",
       "1                          8.623094e+10         1  \n",
       "2                          1.769924e+11         1  \n",
       "3                          7.379245e+10         1  \n",
       "4                          1.115071e+12         1  "
      ]
     },
     "execution_count": 23,
     "metadata": {},
     "output_type": "execute_result"
    }
   ],
   "source": [
    "result_df = my_run.get_batch_query_result(bq, combine=True)\n",
    "result_df"
   ]
  },
  {
   "cell_type": "code",
   "execution_count": 24,
   "id": "eae0cd83",
   "metadata": {},
   "outputs": [
    {
     "name": "stderr",
     "output_type": "stream",
     "text": [
      "WARNING:buildstock_query.query_core:Column in.state found in multiple tables ['baseline', 'upgrade'].Using baseline\n",
      "WARNING:buildstock_query.query_core:Column in.state found in multiple tables ['baseline', 'upgrade'].Using baseline\n",
      "INFO:botocore.tokens:Loading cached SSO token for nrel-sso\n",
      "INFO:botocore.tokens:Loading cached SSO token for nrel-sso\n"
     ]
    },
    {
     "data": {
      "text/plain": [
       "'s3://resstock-core/athena_query_results/5da6db8d-351c-4d95-99bf-4b219818f690.csv'"
      ]
     },
     "execution_count": 24,
     "metadata": {},
     "output_type": "execute_result"
    }
   ],
   "source": [
    "query1 = my_run.agg.aggregate_annual(enduses=['electricity.total.energy_consumption'], group_by=['state'],\n",
    "                                              get_query_only=True)\n",
    "query2 = my_run.agg.aggregate_annual(enduses=['electricity.total.energy_consumption'],\n",
    "                                              group_by=['state'],\n",
    "                                              get_query_only=True)\n",
    "exe_id1, future1 = my_run.execute(query1, run_async=True)\n",
    "exe_id2, future2 = my_run.execute(query2, run_async=True)\n",
    "\n",
    "assert exe_id1 != \"CACHED\"  # Commenting this line will cause the type checker to complain on the next line\n",
    "my_run.get_query_output_location(exe_id1)"
   ]
  },
  {
   "cell_type": "code",
   "execution_count": 25,
   "id": "3f596274",
   "metadata": {},
   "outputs": [
    {
     "data": {
      "text/html": [
       "<div>\n",
       "<style scoped>\n",
       "    .dataframe tbody tr th:only-of-type {\n",
       "        vertical-align: middle;\n",
       "    }\n",
       "\n",
       "    .dataframe tbody tr th {\n",
       "        vertical-align: top;\n",
       "    }\n",
       "\n",
       "    .dataframe thead th {\n",
       "        text-align: right;\n",
       "    }\n",
       "</style>\n",
       "<table border=\"1\" class=\"dataframe\">\n",
       "  <thead>\n",
       "    <tr style=\"text-align: right;\">\n",
       "      <th></th>\n",
       "      <th>state</th>\n",
       "      <th>sample_count</th>\n",
       "      <th>units_count</th>\n",
       "      <th>electricity.total.energy_consumption</th>\n",
       "    </tr>\n",
       "  </thead>\n",
       "  <tbody>\n",
       "    <tr>\n",
       "      <th>0</th>\n",
       "      <td>AL</td>\n",
       "      <td>9105</td>\n",
       "      <td>2.204603e+06</td>\n",
       "      <td>3.431544e+10</td>\n",
       "    </tr>\n",
       "    <tr>\n",
       "      <th>1</th>\n",
       "      <td>AR</td>\n",
       "      <td>5528</td>\n",
       "      <td>1.338500e+06</td>\n",
       "      <td>2.035367e+10</td>\n",
       "    </tr>\n",
       "    <tr>\n",
       "      <th>2</th>\n",
       "      <td>AZ</td>\n",
       "      <td>12004</td>\n",
       "      <td>2.906541e+06</td>\n",
       "      <td>4.111543e+10</td>\n",
       "    </tr>\n",
       "    <tr>\n",
       "      <th>3</th>\n",
       "      <td>CA</td>\n",
       "      <td>57367</td>\n",
       "      <td>1.389033e+07</td>\n",
       "      <td>1.057446e+11</td>\n",
       "    </tr>\n",
       "    <tr>\n",
       "      <th>4</th>\n",
       "      <td>CO</td>\n",
       "      <td>9415</td>\n",
       "      <td>2.279663e+06</td>\n",
       "      <td>2.090904e+10</td>\n",
       "    </tr>\n",
       "    <tr>\n",
       "      <th>5</th>\n",
       "      <td>CT</td>\n",
       "      <td>6162</td>\n",
       "      <td>1.492011e+06</td>\n",
       "      <td>1.370332e+10</td>\n",
       "    </tr>\n",
       "    <tr>\n",
       "      <th>6</th>\n",
       "      <td>DC</td>\n",
       "      <td>1264</td>\n",
       "      <td>3.060536e+05</td>\n",
       "      <td>2.918233e+09</td>\n",
       "    </tr>\n",
       "    <tr>\n",
       "      <th>7</th>\n",
       "      <td>DE</td>\n",
       "      <td>1723</td>\n",
       "      <td>4.171917e+05</td>\n",
       "      <td>5.036565e+09</td>\n",
       "    </tr>\n",
       "    <tr>\n",
       "      <th>8</th>\n",
       "      <td>FL</td>\n",
       "      <td>37658</td>\n",
       "      <td>9.118170e+06</td>\n",
       "      <td>1.254417e+11</td>\n",
       "    </tr>\n",
       "    <tr>\n",
       "      <th>9</th>\n",
       "      <td>GA</td>\n",
       "      <td>17127</td>\n",
       "      <td>4.146978e+06</td>\n",
       "      <td>5.762675e+10</td>\n",
       "    </tr>\n",
       "    <tr>\n",
       "      <th>10</th>\n",
       "      <td>IA</td>\n",
       "      <td>5616</td>\n",
       "      <td>1.359808e+06</td>\n",
       "      <td>1.605912e+10</td>\n",
       "    </tr>\n",
       "    <tr>\n",
       "      <th>11</th>\n",
       "      <td>ID</td>\n",
       "      <td>2828</td>\n",
       "      <td>6.847465e+05</td>\n",
       "      <td>7.859681e+09</td>\n",
       "    </tr>\n",
       "    <tr>\n",
       "      <th>12</th>\n",
       "      <td>IL</td>\n",
       "      <td>21870</td>\n",
       "      <td>5.295405e+06</td>\n",
       "      <td>4.978103e+10</td>\n",
       "    </tr>\n",
       "    <tr>\n",
       "      <th>13</th>\n",
       "      <td>IN</td>\n",
       "      <td>11672</td>\n",
       "      <td>2.826153e+06</td>\n",
       "      <td>3.338154e+10</td>\n",
       "    </tr>\n",
       "    <tr>\n",
       "      <th>14</th>\n",
       "      <td>KS</td>\n",
       "      <td>5147</td>\n",
       "      <td>1.246248e+06</td>\n",
       "      <td>1.591508e+10</td>\n",
       "    </tr>\n",
       "    <tr>\n",
       "      <th>15</th>\n",
       "      <td>KY</td>\n",
       "      <td>8040</td>\n",
       "      <td>1.946733e+06</td>\n",
       "      <td>3.039305e+10</td>\n",
       "    </tr>\n",
       "    <tr>\n",
       "      <th>16</th>\n",
       "      <td>LA</td>\n",
       "      <td>8302</td>\n",
       "      <td>2.010172e+06</td>\n",
       "      <td>3.095360e+10</td>\n",
       "    </tr>\n",
       "    <tr>\n",
       "      <th>17</th>\n",
       "      <td>MA</td>\n",
       "      <td>11690</td>\n",
       "      <td>2.830512e+06</td>\n",
       "      <td>2.432609e+10</td>\n",
       "    </tr>\n",
       "    <tr>\n",
       "      <th>18</th>\n",
       "      <td>MD</td>\n",
       "      <td>9973</td>\n",
       "      <td>2.414773e+06</td>\n",
       "      <td>3.302985e+10</td>\n",
       "    </tr>\n",
       "    <tr>\n",
       "      <th>19</th>\n",
       "      <td>ME</td>\n",
       "      <td>2997</td>\n",
       "      <td>7.256666e+05</td>\n",
       "      <td>5.141257e+09</td>\n",
       "    </tr>\n",
       "    <tr>\n",
       "      <th>20</th>\n",
       "      <td>MI</td>\n",
       "      <td>18744</td>\n",
       "      <td>4.538504e+06</td>\n",
       "      <td>3.820236e+10</td>\n",
       "    </tr>\n",
       "    <tr>\n",
       "      <th>21</th>\n",
       "      <td>MN</td>\n",
       "      <td>9816</td>\n",
       "      <td>2.376758e+06</td>\n",
       "      <td>2.490357e+10</td>\n",
       "    </tr>\n",
       "    <tr>\n",
       "      <th>22</th>\n",
       "      <td>MO</td>\n",
       "      <td>11285</td>\n",
       "      <td>2.732448e+06</td>\n",
       "      <td>3.874516e+10</td>\n",
       "    </tr>\n",
       "    <tr>\n",
       "      <th>23</th>\n",
       "      <td>MS</td>\n",
       "      <td>5336</td>\n",
       "      <td>1.292011e+06</td>\n",
       "      <td>1.970122e+10</td>\n",
       "    </tr>\n",
       "    <tr>\n",
       "      <th>24</th>\n",
       "      <td>MT</td>\n",
       "      <td>2027</td>\n",
       "      <td>4.907996e+05</td>\n",
       "      <td>5.178428e+09</td>\n",
       "    </tr>\n",
       "    <tr>\n",
       "      <th>25</th>\n",
       "      <td>NC</td>\n",
       "      <td>18369</td>\n",
       "      <td>4.447705e+06</td>\n",
       "      <td>6.654330e+10</td>\n",
       "    </tr>\n",
       "    <tr>\n",
       "      <th>26</th>\n",
       "      <td>ND</td>\n",
       "      <td>1441</td>\n",
       "      <td>3.489108e+05</td>\n",
       "      <td>5.208391e+09</td>\n",
       "    </tr>\n",
       "    <tr>\n",
       "      <th>27</th>\n",
       "      <td>NE</td>\n",
       "      <td>3364</td>\n",
       "      <td>8.145287e+05</td>\n",
       "      <td>1.153555e+10</td>\n",
       "    </tr>\n",
       "    <tr>\n",
       "      <th>28</th>\n",
       "      <td>NH</td>\n",
       "      <td>2555</td>\n",
       "      <td>6.186447e+05</td>\n",
       "      <td>5.084624e+09</td>\n",
       "    </tr>\n",
       "    <tr>\n",
       "      <th>29</th>\n",
       "      <td>NJ</td>\n",
       "      <td>14783</td>\n",
       "      <td>3.579423e+06</td>\n",
       "      <td>3.146341e+10</td>\n",
       "    </tr>\n",
       "    <tr>\n",
       "      <th>30</th>\n",
       "      <td>NM</td>\n",
       "      <td>3762</td>\n",
       "      <td>9.108969e+05</td>\n",
       "      <td>8.528537e+09</td>\n",
       "    </tr>\n",
       "    <tr>\n",
       "      <th>31</th>\n",
       "      <td>NV</td>\n",
       "      <td>4946</td>\n",
       "      <td>1.197580e+06</td>\n",
       "      <td>1.401141e+10</td>\n",
       "    </tr>\n",
       "    <tr>\n",
       "      <th>32</th>\n",
       "      <td>NY</td>\n",
       "      <td>33676</td>\n",
       "      <td>8.154004e+06</td>\n",
       "      <td>6.469370e+10</td>\n",
       "    </tr>\n",
       "    <tr>\n",
       "      <th>33</th>\n",
       "      <td>OH</td>\n",
       "      <td>21219</td>\n",
       "      <td>5.137778e+06</td>\n",
       "      <td>5.479833e+10</td>\n",
       "    </tr>\n",
       "    <tr>\n",
       "      <th>34</th>\n",
       "      <td>OK</td>\n",
       "      <td>7007</td>\n",
       "      <td>1.696612e+06</td>\n",
       "      <td>2.610869e+10</td>\n",
       "    </tr>\n",
       "    <tr>\n",
       "      <th>35</th>\n",
       "      <td>OR</td>\n",
       "      <td>7025</td>\n",
       "      <td>1.700970e+06</td>\n",
       "      <td>1.820027e+10</td>\n",
       "    </tr>\n",
       "    <tr>\n",
       "      <th>36</th>\n",
       "      <td>PA</td>\n",
       "      <td>23052</td>\n",
       "      <td>5.581604e+06</td>\n",
       "      <td>5.916968e+10</td>\n",
       "    </tr>\n",
       "    <tr>\n",
       "      <th>37</th>\n",
       "      <td>RI</td>\n",
       "      <td>1910</td>\n",
       "      <td>4.624702e+05</td>\n",
       "      <td>3.747043e+09</td>\n",
       "    </tr>\n",
       "    <tr>\n",
       "      <th>38</th>\n",
       "      <td>SC</td>\n",
       "      <td>9029</td>\n",
       "      <td>2.186201e+06</td>\n",
       "      <td>3.335008e+10</td>\n",
       "    </tr>\n",
       "    <tr>\n",
       "      <th>39</th>\n",
       "      <td>SD</td>\n",
       "      <td>1546</td>\n",
       "      <td>3.743345e+05</td>\n",
       "      <td>4.945029e+09</td>\n",
       "    </tr>\n",
       "    <tr>\n",
       "      <th>40</th>\n",
       "      <td>TN</td>\n",
       "      <td>11834</td>\n",
       "      <td>2.865378e+06</td>\n",
       "      <td>4.558550e+10</td>\n",
       "    </tr>\n",
       "    <tr>\n",
       "      <th>41</th>\n",
       "      <td>TX</td>\n",
       "      <td>43058</td>\n",
       "      <td>1.042568e+07</td>\n",
       "      <td>1.620124e+11</td>\n",
       "    </tr>\n",
       "    <tr>\n",
       "      <th>42</th>\n",
       "      <td>UT</td>\n",
       "      <td>4224</td>\n",
       "      <td>1.022761e+06</td>\n",
       "      <td>8.810964e+09</td>\n",
       "    </tr>\n",
       "    <tr>\n",
       "      <th>43</th>\n",
       "      <td>VA</td>\n",
       "      <td>14180</td>\n",
       "      <td>3.433418e+06</td>\n",
       "      <td>5.204499e+10</td>\n",
       "    </tr>\n",
       "    <tr>\n",
       "      <th>44</th>\n",
       "      <td>VT</td>\n",
       "      <td>1345</td>\n",
       "      <td>3.256662e+05</td>\n",
       "      <td>2.320639e+09</td>\n",
       "    </tr>\n",
       "    <tr>\n",
       "      <th>45</th>\n",
       "      <td>WA</td>\n",
       "      <td>12224</td>\n",
       "      <td>2.959809e+06</td>\n",
       "      <td>3.496322e+10</td>\n",
       "    </tr>\n",
       "    <tr>\n",
       "      <th>46</th>\n",
       "      <td>WI</td>\n",
       "      <td>10917</td>\n",
       "      <td>2.643344e+06</td>\n",
       "      <td>2.306601e+10</td>\n",
       "    </tr>\n",
       "    <tr>\n",
       "      <th>47</th>\n",
       "      <td>WV</td>\n",
       "      <td>3648</td>\n",
       "      <td>8.832939e+05</td>\n",
       "      <td>1.176950e+10</td>\n",
       "    </tr>\n",
       "    <tr>\n",
       "      <th>48</th>\n",
       "      <td>WY</td>\n",
       "      <td>1106</td>\n",
       "      <td>2.677969e+05</td>\n",
       "      <td>2.733548e+09</td>\n",
       "    </tr>\n",
       "  </tbody>\n",
       "</table>\n",
       "</div>"
      ],
      "text/plain": [
       "   state  sample_count   units_count  electricity.total.energy_consumption\n",
       "0     AL          9105  2.204603e+06                          3.431544e+10\n",
       "1     AR          5528  1.338500e+06                          2.035367e+10\n",
       "2     AZ         12004  2.906541e+06                          4.111543e+10\n",
       "3     CA         57367  1.389033e+07                          1.057446e+11\n",
       "4     CO          9415  2.279663e+06                          2.090904e+10\n",
       "5     CT          6162  1.492011e+06                          1.370332e+10\n",
       "6     DC          1264  3.060536e+05                          2.918233e+09\n",
       "7     DE          1723  4.171917e+05                          5.036565e+09\n",
       "8     FL         37658  9.118170e+06                          1.254417e+11\n",
       "9     GA         17127  4.146978e+06                          5.762675e+10\n",
       "10    IA          5616  1.359808e+06                          1.605912e+10\n",
       "11    ID          2828  6.847465e+05                          7.859681e+09\n",
       "12    IL         21870  5.295405e+06                          4.978103e+10\n",
       "13    IN         11672  2.826153e+06                          3.338154e+10\n",
       "14    KS          5147  1.246248e+06                          1.591508e+10\n",
       "15    KY          8040  1.946733e+06                          3.039305e+10\n",
       "16    LA          8302  2.010172e+06                          3.095360e+10\n",
       "17    MA         11690  2.830512e+06                          2.432609e+10\n",
       "18    MD          9973  2.414773e+06                          3.302985e+10\n",
       "19    ME          2997  7.256666e+05                          5.141257e+09\n",
       "20    MI         18744  4.538504e+06                          3.820236e+10\n",
       "21    MN          9816  2.376758e+06                          2.490357e+10\n",
       "22    MO         11285  2.732448e+06                          3.874516e+10\n",
       "23    MS          5336  1.292011e+06                          1.970122e+10\n",
       "24    MT          2027  4.907996e+05                          5.178428e+09\n",
       "25    NC         18369  4.447705e+06                          6.654330e+10\n",
       "26    ND          1441  3.489108e+05                          5.208391e+09\n",
       "27    NE          3364  8.145287e+05                          1.153555e+10\n",
       "28    NH          2555  6.186447e+05                          5.084624e+09\n",
       "29    NJ         14783  3.579423e+06                          3.146341e+10\n",
       "30    NM          3762  9.108969e+05                          8.528537e+09\n",
       "31    NV          4946  1.197580e+06                          1.401141e+10\n",
       "32    NY         33676  8.154004e+06                          6.469370e+10\n",
       "33    OH         21219  5.137778e+06                          5.479833e+10\n",
       "34    OK          7007  1.696612e+06                          2.610869e+10\n",
       "35    OR          7025  1.700970e+06                          1.820027e+10\n",
       "36    PA         23052  5.581604e+06                          5.916968e+10\n",
       "37    RI          1910  4.624702e+05                          3.747043e+09\n",
       "38    SC          9029  2.186201e+06                          3.335008e+10\n",
       "39    SD          1546  3.743345e+05                          4.945029e+09\n",
       "40    TN         11834  2.865378e+06                          4.558550e+10\n",
       "41    TX         43058  1.042568e+07                          1.620124e+11\n",
       "42    UT          4224  1.022761e+06                          8.810964e+09\n",
       "43    VA         14180  3.433418e+06                          5.204499e+10\n",
       "44    VT          1345  3.256662e+05                          2.320639e+09\n",
       "45    WA         12224  2.959809e+06                          3.496322e+10\n",
       "46    WI         10917  2.643344e+06                          2.306601e+10\n",
       "47    WV          3648  8.832939e+05                          1.176950e+10\n",
       "48    WY          1106  2.677969e+05                          2.733548e+09"
      ]
     },
     "execution_count": 25,
     "metadata": {},
     "output_type": "execute_result"
    }
   ],
   "source": [
    "future1.as_pandas()"
   ]
  },
  {
   "cell_type": "code",
   "execution_count": 26,
   "id": "20174916",
   "metadata": {},
   "outputs": [
    {
     "data": {
      "text/plain": [
       "'SUCCEEDED'"
      ]
     },
     "execution_count": 26,
     "metadata": {},
     "output_type": "execute_result"
    }
   ],
   "source": [
    "my_run.get_query_status(ExeId(exe_id1))"
   ]
  },
  {
   "cell_type": "code",
   "execution_count": 27,
   "id": "64be07ec",
   "metadata": {},
   "outputs": [],
   "source": [
    "# my_run.get_athena_query_result(exe_id1)\n"
   ]
  },
  {
   "cell_type": "code",
   "execution_count": 28,
   "id": "7e7e9a80",
   "metadata": {},
   "outputs": [
    {
     "data": {
      "text/plain": [
       "[]"
      ]
     },
     "execution_count": 28,
     "metadata": {},
     "output_type": "execute_result"
    }
   ],
   "source": [
    "my_run.get_all_running_queries()"
   ]
  },
  {
   "cell_type": "code",
   "execution_count": 29,
   "id": "66cc777b",
   "metadata": {},
   "outputs": [
    {
     "name": "stderr",
     "output_type": "stream",
     "text": [
      "INFO:buildstock_query.query_core:Stopped 0 queries\n"
     ]
    }
   ],
   "source": [
    "my_run.stop_all_queries()"
   ]
  },
  {
   "cell_type": "code",
   "execution_count": 22,
   "id": "17c81ab0",
   "metadata": {},
   "outputs": [
    {
     "data": {
      "text/plain": [
       "{'ResponseMetadata': {'RequestId': '3f6d2809-1ff7-46ba-a455-dd3cdfbc54fb',\n",
       "  'HTTPStatusCode': 200,\n",
       "  'HTTPHeaders': {'date': 'Fri, 14 Apr 2023 15:56:16 GMT',\n",
       "   'content-type': 'application/x-amz-json-1.1',\n",
       "   'content-length': '2',\n",
       "   'connection': 'keep-alive',\n",
       "   'x-amzn-requestid': '3f6d2809-1ff7-46ba-a455-dd3cdfbc54fb'},\n",
       "  'RetryAttempts': 0}}"
      ]
     },
     "execution_count": 22,
     "metadata": {},
     "output_type": "execute_result"
    }
   ],
   "source": [
    "my_run.stop_query(ExeId(exe_id1))"
   ]
  },
  {
   "cell_type": "code",
   "execution_count": 23,
   "id": "bd4547e7",
   "metadata": {},
   "outputs": [
    {
     "name": "stdout",
     "output_type": "stream",
     "text": [
      "Will delete the following tables ['res_test_03_2018_10k_20220607_baseline', 'res_test_03_2018_10k_20220607_timeseries', 'res_test_03_2018_10k_20220607_upgrades'] and the s3:/euss/tests/res_test_03_2018_10k_20220607 folder\n",
      "Abandoned the idea.\n"
     ]
    }
   ],
   "source": [
    "my_run.delete_everything()"
   ]
  },
  {
   "cell_type": "code",
   "execution_count": null,
   "id": "4acc82f9",
   "metadata": {},
   "outputs": [],
   "source": []
  }
 ],
 "metadata": {
  "kernelspec": {
   "display_name": "Python 3.10.6 ('buildstock_query')",
   "language": "python",
   "name": "python3"
  },
  "language_info": {
   "codemirror_mode": {
    "name": "ipython",
    "version": 3
   },
   "file_extension": ".py",
   "mimetype": "text/x-python",
   "name": "python",
   "nbconvert_exporter": "python",
   "pygments_lexer": "ipython3",
   "version": "3.10.6"
  },
  "vscode": {
   "interpreter": {
    "hash": "35ba3cc7519d35147a8e5461e917527371cd03213f16caf8b9adad162c9e25ef"
   }
  }
 },
 "nbformat": 4,
 "nbformat_minor": 5
}
