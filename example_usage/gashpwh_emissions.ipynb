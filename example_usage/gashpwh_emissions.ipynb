{
 "cells": [
  {
   "cell_type": "code",
   "execution_count": 1,
   "id": "74b58599",
   "metadata": {},
   "outputs": [
    {
     "name": "stderr",
     "output_type": "stream",
     "text": [
      "c:\\Users\\pshrest2\\Anaconda3\\envs\\buildstock_query\\lib\\site-packages\\pydantic\\_internal\\_config.py:269: UserWarning: Valid config keys have changed in V2:\n",
      "* 'smart_union' has been removed\n",
      "  warnings.warn(message, UserWarning)\n",
      "c:\\Users\\pshrest2\\Anaconda3\\envs\\buildstock_query\\lib\\site-packages\\pydantic\\_internal\\_config.py:269: UserWarning: Valid config keys have changed in V2:\n",
      "* 'smart_union' has been removed\n",
      "  warnings.warn(message, UserWarning)\n",
      "c:\\Users\\pshrest2\\Anaconda3\\envs\\buildstock_query\\lib\\site-packages\\pydantic\\_internal\\_config.py:269: UserWarning: Valid config keys have changed in V2:\n",
      "* 'smart_union' has been removed\n",
      "  warnings.warn(message, UserWarning)\n"
     ]
    }
   ],
   "source": [
    "from buildstock_query import BuildStockQuery\n",
    "import pandas as pd\n",
    "import os\n",
    "os.environ['AWS_PROFILE'] = \"nrel-aws-resbldg\"\n",
    "os.environ['AWS_DEFAULT_REGION'] = \"us-west-2\"\n",
    "## annual table - from SQL\n",
    "## timeseries tables - from timeseries (8760)"
   ]
  },
  {
   "cell_type": "code",
   "execution_count": 2,
   "id": "a287cd2d",
   "metadata": {},
   "outputs": [
    {
     "name": "stderr",
     "output_type": "stream",
     "text": [
      "INFO:buildstock_query.query_core:Loading icf ...\n",
      "INFO:botocore.credentials:Found credentials in shared credentials file: ~/.aws/credentials\n",
      "INFO:botocore.credentials:Found credentials in shared credentials file: ~/.aws/credentials\n",
      "INFO:botocore.credentials:Found credentials in shared credentials file: ~/.aws/credentials\n",
      "INFO:botocore.credentials:Found credentials in shared credentials file: ~/.aws/credentials\n",
      "WARNING:buildstock_query.query_core:No icf_upgrades table is present.\n",
      "INFO:buildstock_query.query_core:3 queries cache read from icf_query_cache.pkl.\n",
      "INFO:buildstock_query.query_core:3 queries cache is updated.\n",
      "INFO:buildstock_query.main:Getting Success counts...\n",
      "INFO:buildstock_query.report_query:Checking integrity with ts_tables ...\n",
      "INFO:buildstock_query.query_core:3 queries cache saved to icf_query_cache.pkl\n"
     ]
    },
    {
     "name": "stdout",
     "output_type": "stream",
     "text": [
      "        Fail  Invalid Success    Sum\n",
      "upgrade                             \n",
      "0         42        0   15955  15997\n",
      "\u001b[92mAnnual and timeseries tables are verified to have the same number of buildings.\u001b[0m\n",
      "\u001b[92mAll buildings are verified to have the same number of (8760) timeseries rows.\u001b[0m\n"
     ]
    }
   ],
   "source": [
    "my_run = BuildStockQuery(db_name='gashpwh',\n",
    "                        table_name='icf',\n",
    "                        workgroup='gashpwh',\n",
    "                        buildstock_type='resstock')"
   ]
  },
  {
   "cell_type": "code",
   "execution_count": 3,
   "id": "2b1d7a4c",
   "metadata": {},
   "outputs": [
    {
     "name": "stderr",
     "output_type": "stream",
     "text": [
      "INFO:buildstock_query.main:Making results_csv query ...\n",
      "c:\\Users\\pshrest2\\Anaconda3\\envs\\buildstock_query\\lib\\site-packages\\pyathena\\pandas\\result_set.py:273: FutureWarning: The argument 'infer_datetime_format' is deprecated and will be removed in a future version. A strict version of it is now the default, see https://pandas.pydata.org/pdeps/0004-consistent-to-datetime-parsing.html. You can safely remove this argument.\n",
      "  return pd.read_csv(\n",
      "WARNING:urllib3.connectionpool:Connection pool is full, discarding connection: gas-hpwh.s3.us-west-2.amazonaws.com. Connection pool size: 10\n",
      "WARNING:urllib3.connectionpool:Connection pool is full, discarding connection: gas-hpwh.s3.us-west-2.amazonaws.com. Connection pool size: 10\n",
      "WARNING:urllib3.connectionpool:Connection pool is full, discarding connection: gas-hpwh.s3.us-west-2.amazonaws.com. Connection pool size: 10\n",
      "WARNING:urllib3.connectionpool:Connection pool is full, discarding connection: gas-hpwh.s3.us-west-2.amazonaws.com. Connection pool size: 10\n",
      "c:\\Users\\pshrest2\\Anaconda3\\envs\\buildstock_query\\lib\\site-packages\\pyathena\\pandas\\result_set.py:273: DtypeWarning: Columns (10,183,184,185,436,437,438,439,440,441,442,443,444,445,446,447,448,449,450,451,452,453,454,455,456,457,458,459,460,461,462,463,481,482,505,521) have mixed types. Specify dtype option on import or set low_memory=False.\n",
      "  return pd.read_csv(\n"
     ]
    },
    {
     "data": {
      "text/plain": [
       "Index(['job_id', 'started_at', 'completed_at', 'completed_status',\n",
       "       'apply_upgrade.applicable', 'apply_upgrade.upgrade_name',\n",
       "       'apply_upgrade.reference_scenario', 'build_existing_model.ahs_region',\n",
       "       'build_existing_model.aiannh_area', 'build_existing_model.applicable',\n",
       "       ...\n",
       "       'report_utility_bills.bills_propane_fixed_usd',\n",
       "       'report_utility_bills.bills_propane_total_usd',\n",
       "       'report_utility_bills.bills_total_usd',\n",
       "       'report_utility_bills.bills_wood_cord_energy_usd',\n",
       "       'report_utility_bills.bills_wood_cord_fixed_usd',\n",
       "       'report_utility_bills.bills_wood_cord_total_usd',\n",
       "       'report_utility_bills.bills_wood_pellets_energy_usd',\n",
       "       'report_utility_bills.bills_wood_pellets_fixed_usd',\n",
       "       'report_utility_bills.bills_wood_pellets_total_usd',\n",
       "       'report_utility_bills.output_format'],\n",
       "      dtype='object', length=545)"
      ]
     },
     "execution_count": 3,
     "metadata": {},
     "output_type": "execute_result"
    }
   ],
   "source": [
    "res_df = my_run.get_results_csv()\n",
    "res_df.columns"
   ]
  },
  {
   "cell_type": "markdown",
   "id": "dd20f700",
   "metadata": {},
   "source": [
    "Dataframe for emissions:"
   ]
  },
  {
   "cell_type": "code",
   "execution_count": 26,
   "id": "203e6ae8",
   "metadata": {},
   "outputs": [],
   "source": [
    "# Creating a list of columns to keep in the res_df dataframe:\n",
    "regex_patterns = ['report_simulation_output.emissions',\n",
    "'build_existing_model.cec_climate_zone',\n",
    "'build_existing_model.geometry_stories',\n",
    "'build_existing_model.heating_fuel'\n",
    "'build_existing_model.hot_water_distribution',\n",
    "'build_existing_model.hot_water_fixtures',\n",
    "'build_existing_model.hvac_heating_type_and_fuel',\n",
    "'build_existing_model.income_recs_2020',\n",
    "'build_existing_model.occupants',\n",
    "'build_existing_model.sample_weight',\n",
    "'build_existing_model.vacancy_status',\n",
    "'build_existing_model.vintage',\n",
    "'build_existing_model.water_heater_efficiency',\n",
    "'build_existing_model.water_heater_fuel',\n",
    "'build_existing_model.water_heater_in_unit',\n",
    "'report_simulation_output.fuel_use',\n",
    "'report_simulation_output.load_hot_water_tank_losses_m_btu'\n",
    "]"
   ]
  },
  {
   "cell_type": "code",
   "execution_count": 27,
   "id": "aab07fb1",
   "metadata": {},
   "outputs": [
    {
     "name": "stdout",
     "output_type": "stream",
     "text": [
      "Index(['report_simulation_output.emissions_co_2_e_lrmer_mid_case_15_coal_clothes_dryer_lb',\n",
      "       'report_simulation_output.emissions_co_2_e_lrmer_mid_case_15_coal_fireplace_lb',\n",
      "       'report_simulation_output.emissions_co_2_e_lrmer_mid_case_15_coal_generator_lb',\n",
      "       'report_simulation_output.emissions_co_2_e_lrmer_mid_case_15_coal_grill_lb',\n",
      "       'report_simulation_output.emissions_co_2_e_lrmer_mid_case_15_coal_heating_heat_pump_backup_lb',\n",
      "       'report_simulation_output.emissions_co_2_e_lrmer_mid_case_15_coal_heating_lb',\n",
      "       'report_simulation_output.emissions_co_2_e_lrmer_mid_case_15_coal_hot_water_lb',\n",
      "       'report_simulation_output.emissions_co_2_e_lrmer_mid_case_15_coal_lighting_lb',\n",
      "       'report_simulation_output.emissions_co_2_e_lrmer_mid_case_15_coal_mech_vent_preheating_lb',\n",
      "       'report_simulation_output.emissions_co_2_e_lrmer_mid_case_15_coal_range_oven_lb',\n",
      "       ...\n",
      "       'report_simulation_output.emissions_co_2_e_lrmer_mid_case_15_wood_pellets_fireplace_lb',\n",
      "       'report_simulation_output.emissions_co_2_e_lrmer_mid_case_15_wood_pellets_generator_lb',\n",
      "       'report_simulation_output.emissions_co_2_e_lrmer_mid_case_15_wood_pellets_grill_lb',\n",
      "       'report_simulation_output.emissions_co_2_e_lrmer_mid_case_15_wood_pellets_heating_heat_pump_backup_lb',\n",
      "       'report_simulation_output.emissions_co_2_e_lrmer_mid_case_15_wood_pellets_heating_lb',\n",
      "       'report_simulation_output.emissions_co_2_e_lrmer_mid_case_15_wood_pellets_hot_water_lb',\n",
      "       'report_simulation_output.emissions_co_2_e_lrmer_mid_case_15_wood_pellets_lighting_lb',\n",
      "       'report_simulation_output.emissions_co_2_e_lrmer_mid_case_15_wood_pellets_mech_vent_preheating_lb',\n",
      "       'report_simulation_output.emissions_co_2_e_lrmer_mid_case_15_wood_pellets_range_oven_lb',\n",
      "       'report_simulation_output.emissions_co_2_e_lrmer_mid_case_15_wood_pellets_total_lb'],\n",
      "      dtype='object', length=107)\n"
     ]
    }
   ],
   "source": [
    "# Basic filtering example:\n",
    "df = res_df.filter(regex='report_simulation_output.emissions')\n",
    "# df_total = df.filter(regex='total')\n",
    "print(df.columns)"
   ]
  },
  {
   "cell_type": "code",
   "execution_count": 38,
   "id": "216406eb",
   "metadata": {},
   "outputs": [
    {
     "name": "stdout",
     "output_type": "stream",
     "text": [
      "Index(['report_simulation_output.emissions_co_2_e_lrmer_mid_case_15_coal_clothes_dryer_lb',\n",
      "       'report_simulation_output.emissions_co_2_e_lrmer_mid_case_15_coal_fireplace_lb',\n",
      "       'report_simulation_output.emissions_co_2_e_lrmer_mid_case_15_coal_generator_lb',\n",
      "       'report_simulation_output.emissions_co_2_e_lrmer_mid_case_15_coal_grill_lb',\n",
      "       'report_simulation_output.emissions_co_2_e_lrmer_mid_case_15_coal_heating_heat_pump_backup_lb',\n",
      "       'report_simulation_output.emissions_co_2_e_lrmer_mid_case_15_coal_heating_lb',\n",
      "       'report_simulation_output.emissions_co_2_e_lrmer_mid_case_15_coal_hot_water_lb',\n",
      "       'report_simulation_output.emissions_co_2_e_lrmer_mid_case_15_coal_lighting_lb',\n",
      "       'report_simulation_output.emissions_co_2_e_lrmer_mid_case_15_coal_mech_vent_preheating_lb',\n",
      "       'report_simulation_output.emissions_co_2_e_lrmer_mid_case_15_coal_range_oven_lb',\n",
      "       ...\n",
      "       'build_existing_model.water_heater_in_unit',\n",
      "       'report_simulation_output.fuel_use_coal_total_m_btu',\n",
      "       'report_simulation_output.fuel_use_electricity_net_m_btu',\n",
      "       'report_simulation_output.fuel_use_electricity_total_m_btu',\n",
      "       'report_simulation_output.fuel_use_fuel_oil_total_m_btu',\n",
      "       'report_simulation_output.fuel_use_natural_gas_total_m_btu',\n",
      "       'report_simulation_output.fuel_use_propane_total_m_btu',\n",
      "       'report_simulation_output.fuel_use_wood_cord_total_m_btu',\n",
      "       'report_simulation_output.fuel_use_wood_pellets_total_m_btu',\n",
      "       'report_simulation_output.load_hot_water_tank_losses_m_btu'],\n",
      "      dtype='object', length=130)\n"
     ]
    }
   ],
   "source": [
    "filtered_dfs = [res_df.filter(regex=pattern) for pattern in regex_patterns]\n",
    "df = pd.concat(filtered_dfs, axis=1)\n",
    "# df.drop(df[df['build_existing_model.geometry_stories'] > 5].index, inplace=True) # TBD\n",
    "print(df.columns)"
   ]
  },
  {
   "cell_type": "code",
   "execution_count": 39,
   "id": "5f39f24e",
   "metadata": {},
   "outputs": [],
   "source": [
    "# Outputting the full emissions dataset for easy viewing:\n",
    "df.to_csv('emissions/df.csv', index=False)\n",
    "res_df.to_csv('emissions/res_df.csv', index=False)"
   ]
  },
  {
   "cell_type": "markdown",
   "id": "69993075",
   "metadata": {},
   "source": [
    "Sanity check plot"
   ]
  },
  {
   "cell_type": "code",
   "execution_count": 41,
   "id": "ea089b96",
   "metadata": {},
   "outputs": [
    {
     "data": {
      "image/png": "[encoded data removed]",
      "text/plain": [
       "<Figure size 640x480 with 1 Axes>"
      ]
     },
     "metadata": {},
     "output_type": "display_data"
    }
   ],
   "source": [
    "import matplotlib.pyplot as plt\n",
    "\n",
    "grouped = df.groupby('build_existing_model.occupants')['report_simulation_output.emissions_co_2_e_lrmer_mid_case_15_total_lb'].mean()\n",
    "\n",
    "# Sort the data based on the mean values in ascending order\n",
    "grouped_sorted = grouped.sort_values()\n",
    "\n",
    "# Generate bar graph for each group\n",
    "ax = grouped_sorted.plot(kind='bar')\n",
    "plt.ylabel('Mean CO2e, lb')\n",
    "plt.xlabel('# of Occupants')\n",
    "plt.title('Emissions by occupants')\n",
    "ax.set_xticklabels(grouped_sorted.index, rotation=0)\n",
    "plt.show()"
   ]
  },
  {
   "cell_type": "markdown",
   "id": "6b42eb2d",
   "metadata": {},
   "source": [
    "Actual plots"
   ]
  },
  {
   "cell_type": "code",
   "execution_count": 36,
   "id": "d8d48290",
   "metadata": {},
   "outputs": [
    {
     "data": {
      "image/png": "[encoded data removed]",
      "text/plain": [
       "<Figure size 640x480 with 1 Axes>"
      ]
     },
     "metadata": {},
     "output_type": "display_data"
    }
   ],
   "source": [
    "import matplotlib.pyplot as plt\n",
    "\n",
    "# df.plot(x='build_existing_model.cec_climate_zone', y= 'report_simulation_output.emissions_co_2_e_lrmer_mid_case_15_total_lb', kind='bar')\n",
    "\n",
    "grouped = df.groupby('build_existing_model.cec_climate_zone')['report_simulation_output.emissions_co_2_e_lrmer_mid_case_15_total_lb'].mean()\n",
    "\n",
    "# Sort the data based on the mean values in ascending order\n",
    "grouped_sorted = grouped.sort_values()\n",
    "\n",
    "# Generate bar graph for each group\n",
    "ax = grouped_sorted.plot(kind='bar')\n",
    "plt.ylabel('Mean CO2e, lb')\n",
    "plt.xlabel('CEC Climate Zone')\n",
    "plt.title('Emissions by CEC Climate Zone')\n",
    "ax.set_xticklabels(grouped_sorted.index, rotation=0)\n",
    "plt.show()\n"
   ]
  }
 ],
 "metadata": {
  "kernelspec": {
   "display_name": "Python 3 (ipykernel)",
   "language": "python",
   "name": "python3"
  },
  "language_info": {
   "codemirror_mode": {
    "name": "ipython",
    "version": 3
   },
   "file_extension": ".py",
   "mimetype": "text/x-python",
   "name": "python",
   "nbconvert_exporter": "python",
   "pygments_lexer": "ipython3",
   "version": "3.10.12"
  },
  "vscode": {
   "interpreter": {
    "hash": "35ba3cc7519d35147a8e5461e917527371cd03213f16caf8b9adad162c9e25ef"
   }
  }
 },
 "nbformat": 4,
 "nbformat_minor": 5
}
