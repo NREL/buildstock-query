{
 "cells": [
  {
   "cell_type": "code",
   "execution_count": 1,
   "id": "c7608e32",
   "metadata": {},
   "outputs": [],
   "source": [
    "from buildstock_query import BuildStockQuery"
   ]
  },
  {
   "cell_type": "code",
   "execution_count": 2,
   "id": "17701803",
   "metadata": {},
   "outputs": [
    {
     "name": "stderr",
     "output_type": "stream",
     "text": [
      "INFO:buildstock_query.query_core:Loading res_n550k_15min_v19 ...\n",
      "INFO:botocore.credentials:Found credentials in shared credentials file: ~/.aws/credentials\n",
      "INFO:botocore.credentials:Found credentials in shared credentials file: ~/.aws/credentials\n",
      "INFO:botocore.credentials:Found credentials in shared credentials file: ~/.aws/credentials\n",
      "INFO:botocore.credentials:Found credentials in shared credentials file: ~/.aws/credentials\n"
     ]
    }
   ],
   "source": [
    "my_run = BuildStockQuery(db_name='buildstock_testing',\n",
    "                        table_name='res_n550k_15min_v19',\n",
    "                        workgroup='factsheets',\n",
    "                        buildstock_type='resstock',\n",
    "                        skip_reports=True)"
   ]
  },
  {
   "cell_type": "code",
   "execution_count": 3,
   "id": "30ac3dd0",
   "metadata": {},
   "outputs": [
    {
     "name": "stderr",
     "output_type": "stream",
     "text": [
      "INFO:buildstock_query.aggregate_query:Restricting query to Upgrade 0.\n"
     ]
    },
    {
     "name": "stdout",
     "output_type": "stream",
     "text": [
      "      geometry_building_type_recs       time  sample_count  units_count  \\\n",
      "0   Multi-Family with 2 - 4 Units 2007-01-01             1   242.131013   \n",
      "1   Multi-Family with 2 - 4 Units 2007-02-01             1   242.131013   \n",
      "2   Multi-Family with 2 - 4 Units 2007-03-01             1   242.131013   \n",
      "3   Multi-Family with 2 - 4 Units 2007-04-01             1   242.131013   \n",
      "4   Multi-Family with 2 - 4 Units 2007-05-01             1   242.131013   \n",
      "5   Multi-Family with 2 - 4 Units 2007-06-01             1   242.131013   \n",
      "6   Multi-Family with 2 - 4 Units 2007-07-01             1   242.131013   \n",
      "7   Multi-Family with 2 - 4 Units 2007-08-01             1   242.131013   \n",
      "8   Multi-Family with 2 - 4 Units 2007-09-01             1   242.131013   \n",
      "9   Multi-Family with 2 - 4 Units 2007-10-01             1   242.131013   \n",
      "10  Multi-Family with 2 - 4 Units 2007-11-01             1   242.131013   \n",
      "11  Multi-Family with 2 - 4 Units 2007-12-01             1   242.131013   \n",
      "12     Multi-Family with 5+ Units 2007-01-01             2   484.262025   \n",
      "13     Multi-Family with 5+ Units 2007-02-01             2   484.262025   \n",
      "14     Multi-Family with 5+ Units 2007-03-01             2   484.262025   \n",
      "15     Multi-Family with 5+ Units 2007-04-01             2   484.262025   \n",
      "16     Multi-Family with 5+ Units 2007-05-01             2   484.262025   \n",
      "17     Multi-Family with 5+ Units 2007-06-01             2   484.262025   \n",
      "18     Multi-Family with 5+ Units 2007-07-01             2   484.262025   \n",
      "19     Multi-Family with 5+ Units 2007-08-01             2   484.262025   \n",
      "20     Multi-Family with 5+ Units 2007-09-01             2   484.262025   \n",
      "21     Multi-Family with 5+ Units 2007-10-01             2   484.262025   \n",
      "22     Multi-Family with 5+ Units 2007-11-01             2   484.262025   \n",
      "23     Multi-Family with 5+ Units 2007-12-01             2   484.262025   \n",
      "\n",
      "    rows_per_sample  fuel_use__electricity__total__kwh__TOU__dollars  \n",
      "0              2976                                     15387.362905  \n",
      "1              2688                                     10698.067271  \n",
      "2              2976                                     12224.187568  \n",
      "3              2880                                      9366.349123  \n",
      "4              2976                                      9868.371458  \n",
      "5              2880                                      8919.910383  \n",
      "6              2976                                     11429.162494  \n",
      "7              2976                                     10690.246440  \n",
      "8              2880                                     10621.941281  \n",
      "9              2976                                     11029.147533  \n",
      "10             2880                                     11546.378117  \n",
      "11             2976                                     10655.120494  \n",
      "12             2976                                     18944.344964  \n",
      "13             2688                                     17109.832082  \n",
      "14             2976                                     19873.747907  \n",
      "15             2880                                     21258.088389  \n",
      "16             2976                                     29451.867235  \n",
      "17             2880                                     33582.339018  \n",
      "18             2976                                     39988.474283  \n",
      "19             2976                                     42375.314639  \n",
      "20             2880                                     35728.946669  \n",
      "21             2976                                     23188.695805  \n",
      "22             2880                                     18519.121743  \n",
      "23             2976                                     18678.567436  \n"
     ]
    }
   ],
   "source": [
    "df = my_run.utility.calculate_tou_bill(\n",
    "    rate_map=(\"weekday_cost.csv\",\n",
    "              \"weekend_cost.csv\"),\n",
    "    group_by=[\"geometry_building_type_recs\"],\n",
    "    restrict=[(my_run.ts_bldgid_column, (1, 2, 3))],\n",
    "    collapse_ts=False,\n",
    ")\n",
    "print(df)\n"
   ]
  },
  {
   "cell_type": "code",
   "execution_count": 4,
   "id": "a15048f6",
   "metadata": {},
   "outputs": [
    {
     "name": "stderr",
     "output_type": "stream",
     "text": [
      "INFO:buildstock_query.aggregate_query:Aggregation done accross timestamps. Result no longer a timeseries.\n",
      "INFO:buildstock_query.aggregate_query:Restricting query to Upgrade 0.\n"
     ]
    },
    {
     "name": "stdout",
     "output_type": "stream",
     "text": [
      "     geometry_building_type_recs  sample_count  units_count  \\\n",
      "0  Multi-Family with 2 - 4 Units             1   242.131013   \n",
      "1     Multi-Family with 5+ Units             2   484.262025   \n",
      "\n",
      "   fuel_use__electricity__total__kwh__TOU__dollars  \n",
      "0                                    132436.245065  \n",
      "1                                    318699.340169  \n"
     ]
    }
   ],
   "source": [
    "df = my_run.utility.calculate_tou_bill(\n",
    "    rate_map=(\"weekday_cost.csv\",\n",
    "              \"weekend_cost.csv\"),\n",
    "    group_by=[\"geometry_building_type_recs\"],\n",
    "    restrict=[(my_run.ts_bldgid_column, (1, 2, 3))],\n",
    "    collapse_ts=True,\n",
    ")\n",
    "print(df)"
   ]
  },
  {
   "cell_type": "code",
   "execution_count": 5,
   "id": "c551aa2f",
   "metadata": {},
   "outputs": [
    {
     "name": "stderr",
     "output_type": "stream",
     "text": [
      "INFO:buildstock_query.aggregate_query:Aggregation done accross timestamps. Result no longer a timeseries.\n",
      "INFO:buildstock_query.aggregate_query:Restricting query to Upgrade 0.\n"
     ]
    },
    {
     "name": "stdout",
     "output_type": "stream",
     "text": [
      "     geometry_building_type_recs  sample_count  units_count  \\\n",
      "0  Multi-Family with 2 - 4 Units             1   242.131013   \n",
      "1     Multi-Family with 5+ Units             2   484.262025   \n",
      "\n",
      "   fuel_use__electricity__total__kwh__TOU__dollars  \n",
      "0                                    132436.245065  \n",
      "1                                    318699.340169  \n"
     ]
    }
   ],
   "source": [
    "df = my_run.utility.calculate_tou_bill(\n",
    "    meter_col='fuel_use__electricity__total__kwh',\n",
    "    rate_map=(\"weekday_cost.csv\",\n",
    "              \"weekend_cost.csv\"),\n",
    "    group_by=[\"geometry_building_type_recs\"],\n",
    "    restrict=[(my_run.ts_bldgid_column, (1, 2, 3))],\n",
    "    collapse_ts=True,\n",
    ")\n",
    "print(df)"
   ]
  },
  {
   "cell_type": "code",
   "execution_count": 3,
   "id": "a8ecf634",
   "metadata": {},
   "outputs": [
    {
     "name": "stderr",
     "output_type": "stream",
     "text": [
      "INFO:buildstock_query.aggregate_query:Aggregation done accross timestamps. Result no longer a timeseries.\n",
      "INFO:buildstock_query.aggregate_query:Restricting query to Upgrade 0.\n"
     ]
    },
    {
     "name": "stdout",
     "output_type": "stream",
     "text": [
      "     geometry_building_type_recs  sample_count  units_count  \\\n",
      "0  Multi-Family with 2 - 4 Units             1   242.131013   \n",
      "1     Multi-Family with 5+ Units             2   484.262025   \n",
      "\n",
      "   end_use__electricity__clothes_dryer__kwh__TOU__dollars  \\\n",
      "0                                       17091.657728        \n",
      "1                                       17449.009204        \n",
      "\n",
      "   fuel_use__electricity__total__kwh__TOU__dollars  \n",
      "0                                    132436.245065  \n",
      "1                                    318699.340169  \n"
     ]
    }
   ],
   "source": [
    "df = my_run.utility.calculate_tou_bill(\n",
    "    meter_col=['end_use__electricity__clothes_dryer__kwh','fuel_use__electricity__total__kwh'],\n",
    "    rate_map=(\"weekday_cost.csv\",\n",
    "              \"weekend_cost.csv\"),\n",
    "    group_by=[\"geometry_building_type_recs\"],\n",
    "    restrict=[(my_run.ts_bldgid_column, (1, 2, 3))],\n",
    "    collapse_ts=True,\n",
    ")\n",
    "print(df)"
   ]
  },
  {
   "cell_type": "code",
   "execution_count": 5,
   "id": "11378b2d",
   "metadata": {},
   "outputs": [
    {
     "name": "stderr",
     "output_type": "stream",
     "text": [
      "INFO:buildstock_query.query_core:17 queries cache saved to res_n550k_15min_v19_query_cache.pkl\n"
     ]
    }
   ],
   "source": [
    "my_run.save_cache()"
   ]
  },
  {
   "cell_type": "code",
   "execution_count": null,
   "id": "b784d674",
   "metadata": {},
   "outputs": [],
   "source": []
  }
 ],
 "metadata": {
  "kernelspec": {
   "display_name": "myproject",
   "language": "python",
   "name": "python3"
  },
  "language_info": {
   "codemirror_mode": {
    "name": "ipython",
    "version": 3
   },
   "file_extension": ".py",
   "mimetype": "text/x-python",
   "name": "python",
   "nbconvert_exporter": "python",
   "pygments_lexer": "ipython3",
   "version": "3.10.6"
  },
  "vscode": {
   "interpreter": {
    "hash": "3a57d1f596c9ff9c21fe2833ccf65af76902e525ab80c4cb66d19dbf82ca6dce"
   }
  }
 },
 "nbformat": 4,
 "nbformat_minor": 5
}
